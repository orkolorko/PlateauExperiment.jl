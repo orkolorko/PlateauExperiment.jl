{
 "cells": [
  {
   "cell_type": "markdown",
   "metadata": {},
   "source": [
    "In this notebook we compute the enclosure for the Lyapunov exponent as $\\alpha$ varies and $\\sigma$ varies."
   ]
  },
  {
   "cell_type": "code",
<<<<<<< HEAD
   "execution_count": 7,
   "metadata": {},
   "outputs": [
    {
     "name": "stderr",
     "output_type": "stream",
     "text": [
      "\u001b[32m\u001b[1m  Activating\u001b[22m\u001b[39m project at `~/Labile/PlateauExperiment.jl`\n"
     ]
    }
   ],
=======
   "execution_count": null,
   "metadata": {},
   "outputs": [],
>>>>>>> e600f4d (In experiment, adapted to interval)
   "source": [
    "import Pkg; Pkg.activate(\"../\")\n",
    "Pkg.instantiate()"
   ]
  },
  {
   "cell_type": "code",
   "execution_count": 8,
   "metadata": {},
   "outputs": [],
   "source": [
    "using PlateauExperiment, IntervalArithmetic"
   ]
  },
  {
   "cell_type": "code",
   "execution_count": null,
   "metadata": {},
   "outputs": [],
   "source": [
    "using Plots"
   ]
  },
  {
   "cell_type": "code",
   "execution_count": null,
   "metadata": {},
   "outputs": [],
   "source": [
    "# plt = plot()\n",
    "# K = 10 #896\n",
    "# steps = 10\n",
    "\n",
    "# for j in range(start = 0, step = 1, stop = K)\n",
    "#     β = 51/64+(7*j)/(64*K)\n",
    "#     lambda = MultipleExperiments(interval(3), interval(β), 128, [interval(x) for x in range(0.1, 1, steps)])\n",
    "#     maskpos = lambda .> 0.0\n",
    "#     vpos = range(0.1, 1, steps)[maskpos]\n",
    "#     scatter!(plt, vpos, fill(β, length(vpos)), markersize = 1 , markerstrokewidth = 0, color = :blue, label = \"\")\n",
    "#     maskneg = lambda .< 0.0\n",
    "#     vneg = range(0.1, 1, steps)[maskneg]\n",
    "#     scatter!(plt, vneg, fill(β, length(vneg)), markersize = 1 , markerstrokewidth = 0 , color = :red, label = \"\")\n",
    "# end"
   ]
  },
  {
   "cell_type": "code",
   "execution_count": null,
   "metadata": {},
   "outputs": [],
   "source": [
    "σ_list = [0.2; 0.2; 0.4; 0.4] \n",
    "β_list = [0.875; 0.9; 0.875; 0.9]"
   ]
  },
  {
   "cell_type": "code",
   "execution_count": null,
   "metadata": {},
   "outputs": [],
   "source": [
    "K = 128\n",
    "out = []\n",
    "for i in 1:4\n",
    "    β = β_list[i]\n",
    "    push!(out, Experiment(interval(3), interval(β), interval(σ_list[i]), K))\n",
    "end "
   ]
  },
  {
   "cell_type": "code",
   "execution_count": null,
   "metadata": {},
   "outputs": [],
   "source": [
    "out[4].lo"
   ]
  },
  {
   "cell_type": "code",
   "execution_count": null,
   "metadata": {},
   "outputs": [],
   "source": [
    "using LaTeXStrings"
   ]
  },
  {
   "cell_type": "code",
   "execution_count": null,
   "metadata": {},
   "outputs": [],
   "source": [
    "scatter!(plt, σ_list, β_list , markershape = :xcross,  color = :black, label = \"\")\n",
    "for i in 1:4\n",
    "    annotate!(plt, σ_list[i]+0.005, β_list[i]-0.025/4, L\"x_%$i\")\n",
    "end"
   ]
  },
  {
   "cell_type": "code",
   "execution_count": null,
   "metadata": {},
   "outputs": [],
   "source": [
    "savefig(\"new_NIC_cross_annotated.png\")"
   ]
  }
 ],
 "metadata": {
  "kernelspec": {
   "display_name": "Julia 1.11.5",
   "language": "julia",
   "name": "julia-1.11"
  },
  "language_info": {
   "file_extension": ".jl",
   "mimetype": "application/julia",
   "name": "julia",
   "version": "1.11.5"
  }
 },
 "nbformat": 4,
 "nbformat_minor": 2
}
