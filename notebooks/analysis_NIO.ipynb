{
 "cells": [
  {
   "cell_type": "code",
   "execution_count": null,
   "id": "f6894ff6",
   "metadata": {},
   "outputs": [],
   "source": [
    "import Pkg; Pkg.activate(\"../scripts/\")\n",
    "Pkg.instantiate()"
   ]
  },
  {
   "cell_type": "code",
   "execution_count": null,
   "id": "667ccee2",
   "metadata": {},
   "outputs": [],
   "source": [
    "using DataFrames, JLD2, IntervalArithmetic"
   ]
  },
  {
   "cell_type": "code",
   "execution_count": null,
   "id": "3d6facca",
   "metadata": {},
   "outputs": [],
   "source": [
    "JLD2.@load \"/home/isaia/Code/PlateauExperiment.jl/scripts/results_NIO.jld2\" df"
   ]
  },
  {
   "cell_type": "code",
   "execution_count": null,
   "id": "d55a8566",
   "metadata": {},
   "outputs": [],
   "source": [
    "using DataFrames, IntervalArithmetic\n",
    "\n",
    "function detect_Lyapunov_crossings(df::DataFrame)\n",
    "    result = DataFrame(alpha1=Float64[], sigma1=Float64[], lambda1=Interval[],\n",
    "                       alpha2=Float64[], sigma2=Float64[], lambda2=Interval[])\n",
    "\n",
    "    for α in unique(df.alpha)\n",
    "        rows = filter(row -> row.alpha == α, df)\n",
    "        sorted_rows = sort(rows, :sigma)\n",
    "\n",
    "        for i in 1:(nrow(sorted_rows)-1)\n",
    "            λ1 = sorted_rows.lambda[i]\n",
    "            λ2 = sorted_rows.lambda[i+1]\n",
    "\n",
    "            if sup(λ1) > 0 && inf(λ2) < 0\n",
    "                push!(result, (\n",
    "                    alpha1 = α,\n",
    "                    sigma1 = sorted_rows.sigma[i],\n",
    "                    lambda1 = λ1,\n",
    "                    alpha2 = α,\n",
    "                    sigma2 = sorted_rows.sigma[i+1],\n",
    "                    lambda2 = λ2\n",
    "                ))\n",
    "            end\n",
    "        end\n",
    "    end\n",
    "    return result\n",
    "end"
   ]
  },
  {
   "cell_type": "code",
   "execution_count": null,
   "id": "1df60a74",
   "metadata": {},
   "outputs": [],
   "source": [
    "result = detect_Lyapunov_crossings(df)"
   ]
  },
  {
   "cell_type": "code",
   "execution_count": null,
   "id": "1e168075",
   "metadata": {},
   "outputs": [],
   "source": [
    "Pkg.add(\"Plots\")\n",
    "using Plots"
   ]
  },
  {
   "cell_type": "code",
   "execution_count": null,
   "id": "d2efc3d7",
   "metadata": {},
   "outputs": [],
   "source": [
    "function plot_lyapunov_transitions(crossings_df::DataFrame)\n",
    "    λ1_mids = mid.(crossings_df.lambda1)\n",
    "    α_mids = mid.(crossings_df.alpha1)\n",
    "    σ_mids = mid.(crossings_df.sigma1)\n",
    "\n",
    "    scatter(\n",
    "        α_mids,\n",
    "        σ_mids;\n",
    "        markercolor = :blue,\n",
    "        xlabel = \"α\",\n",
    "        label = \"σ_low\",\n",
    "        title = \"Noise-Induced Order Transitions\",\n",
    "        markersize = 1,\n",
    "        markerstrokewidth = 0,\n",
    "        legend = false,\n",
    "    )\n",
    "    α_mids = mid.(crossings_df.alpha2)\n",
    "    σ_mids = mid.(crossings_df.sigma2)\n",
    "    scatter!(\n",
    "        α_mids,\n",
    "        σ_mids;\n",
    "        markercolor = :red,\n",
    "        xlabel = \"α\",\n",
    "        label = \"σ_up\",\n",
    "        markersize = 1,\n",
    "        markerstrokewidth = 0,\n",
    "        legend = false,\n",
    "    )\n",
    "end"
   ]
  },
  {
   "cell_type": "code",
   "execution_count": null,
   "id": "2939d419",
   "metadata": {},
   "outputs": [],
   "source": [
    "plot_lyapunov_transitions(result)"
   ]
  },
  {
   "cell_type": "code",
   "execution_count": null,
   "id": "1c82ff7b",
   "metadata": {},
   "outputs": [],
   "source": [
    "savefig(\"lyapunov_transitions.png\")"
   ]
  },
  {
   "cell_type": "code",
   "execution_count": null,
   "id": "d0caabcf",
   "metadata": {},
   "outputs": [],
   "source": [
    "function plot_lambda_signs(df::DataFrame)\n",
    "    α_vals = mid.(df.alpha)\n",
    "    σ_vals = mid.(df.sigma)\n",
    "    λ_vals = mid.(df.lambda)\n",
    "\n",
    "    # Build color vector: red if λ > 0, blue if λ < 0\n",
    "    colors = map(λ -> λ > 0 ? :red : :blue, λ_vals)\n",
    "\n",
    "    scatter(\n",
    "        σ_vals,\n",
    "        α_vals;\n",
    "        markercolor = colors,\n",
    "        markersize = 1,\n",
    "        markerstrokewidth = 0,\n",
    "        xlabel = \"α\",\n",
    "        ylabel = \"σ\",\n",
    "        legend = false,\n",
    "        title = \"Lyapunov Sign: Red = Positive, Blue = Negative\"\n",
    "    )\n",
    "end"
   ]
  },
  {
   "cell_type": "code",
   "execution_count": null,
   "id": "34f1a564",
   "metadata": {},
   "outputs": [],
   "source": [
    "plot_lambda_signs(df)"
   ]
  },
  {
   "cell_type": "code",
   "execution_count": null,
   "id": "a3eb7bd5",
   "metadata": {},
   "outputs": [],
   "source": [
    "Pkg.rm(\"Plots\")"
   ]
  }
 ],
 "metadata": {
  "kernelspec": {
   "display_name": "Julia 1.11.6",
   "language": "julia",
   "name": "julia-1.11"
  },
  "language_info": {
   "file_extension": ".jl",
   "mimetype": "application/julia",
   "name": "julia",
   "version": "1.11.6"
  }
 },
 "nbformat": 4,
 "nbformat_minor": 5
}
