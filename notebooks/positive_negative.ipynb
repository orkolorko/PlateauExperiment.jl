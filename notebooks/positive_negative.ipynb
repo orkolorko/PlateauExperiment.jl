{
 "cells": [
  {
   "cell_type": "code",
   "execution_count": null,
   "metadata": {},
   "outputs": [],
   "source": [
    "import Pkg; Pkg.activate(\"../\")\n",
    "Pkg.status()"
   ]
  },
  {
   "cell_type": "code",
   "execution_count": null,
   "metadata": {},
   "outputs": [],
   "source": [
    "using PlateauExperiment, IntervalArithmetic"
   ]
  },
  {
   "cell_type": "code",
   "execution_count": null,
   "metadata": {},
   "outputs": [],
   "source": [
    "lambda31 = MultipleExperiments(interval(3), interval(1), 128, [interval(x) for x in range(0.1, 1, 100)])"
   ]
  },
  {
   "cell_type": "code",
   "execution_count": null,
   "metadata": {},
   "outputs": [],
   "source": [
    "mask31pos = lambda31 .> 0.0"
   ]
  },
  {
   "cell_type": "code",
   "execution_count": null,
   "metadata": {},
   "outputs": [],
   "source": [
    "mask31neg = lambda31 .< 0"
   ]
  },
  {
   "cell_type": "code",
   "execution_count": null,
   "metadata": {},
   "outputs": [],
   "source": [
    "using Plots"
   ]
  },
  {
   "cell_type": "code",
   "execution_count": null,
   "metadata": {},
   "outputs": [],
   "source": [
    "vpos = range(0.1, 1, 100)[mask31pos]\n",
    "scatter(vpos, fill(3.0, length(vpos)), markershape = :+, color = :blue, label = \"\")\n",
    "vneg = range(0.1, 1, 100)[.!mask31pos]\n",
    "scatter!(vneg, fill(3.0, length(vneg)), markershape = :hline, color = :blue, label = \"\")"
   ]
  },
  {
   "cell_type": "code",
   "execution_count": null,
   "metadata": {},
   "outputs": [],
   "source": [
    "plt = plot()"
   ]
  },
  {
   "cell_type": "code",
   "execution_count": null,
   "metadata": {},
   "outputs": [],
   "source": [
    "plot!(plt, [1; 0], [1; 0], label = \"\");\n",
    "display(plt)"
   ]
  },
  {
   "cell_type": "code",
   "execution_count": null,
   "metadata": {},
   "outputs": [],
   "source": [
    "plt = plot()\n",
    "\n",
    "for α in range(3.0, 4, 10)\n",
    "    lambda = MultipleExperiments(interval(α), interval(1), 128, [interval(x) for x in range(0.1, 1, 100)])\n",
    "    maskpos = lambda .> 0.0\n",
    "    vpos = range(0.1, 1, 100)[maskpos]\n",
    "    scatter!(plt, vpos, fill(α, length(vpos)), markershape = :+, color = :blue, label = \"\")\n",
    "    maskneg = lambda .< 0.0\n",
    "    vneg = range(0.1, 1, 100)[maskneg]\n",
    "    scatter!(plt, vneg, fill(α, length(vneg)), markershape = :hline, color = :blue, label = \"\")\n",
    "end"
   ]
  },
  {
   "cell_type": "code",
   "execution_count": null,
   "metadata": {},
   "outputs": [],
   "source": [
    "display(plt)"
   ]
  },
  {
   "cell_type": "code",
   "execution_count": null,
   "metadata": {},
   "outputs": [],
   "source": []
  }
 ],
 "metadata": {
  "kernelspec": {
   "display_name": "Julia 1.11.1",
   "language": "julia",
   "name": "julia-1.11"
  },
  "language_info": {
   "file_extension": ".jl",
   "mimetype": "application/julia",
   "name": "julia",
   "version": "1.11.1"
  }
 },
 "nbformat": 4,
 "nbformat_minor": 2
}
