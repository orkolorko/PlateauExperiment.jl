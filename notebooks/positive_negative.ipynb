{
 "cells": [
  {
   "cell_type": "markdown",
   "metadata": {},
   "source": [
    "In this notebook we compute the enclosure for the Lyapunov exponent as $\\alpha$ varies and $\\sigma$ varies."
   ]
  },
  {
   "cell_type": "code",
   "execution_count": null,
   "metadata": {},
   "outputs": [],
   "source": [
    "import Pkg; Pkg.activate(\"../\")\n",
    "Pkg.instantiate()"
   ]
  },
  {
   "cell_type": "code",
   "execution_count": null,
   "metadata": {},
   "outputs": [],
   "source": [
    "using PlateauExperiment, IntervalArithmetic"
   ]
  },
  {
   "cell_type": "code",
   "execution_count": null,
   "metadata": {},
   "outputs": [],
   "source": [
    "using Plots"
   ]
  },
  {
   "cell_type": "code",
   "execution_count": null,
   "metadata": {},
   "outputs": [],
   "source": [
    "K = 128\n",
    "\n",
    "plt = plot()\n",
    "\n",
    "for i in 0:1:128\n",
    "    α = (interval(3) + i)/K\n",
    "    lambda = MultipleExperiments(α, interval(1), 128, [interval(x) for x in range(0.1, 1, 100)])\n",
    "    maskpos = lambda .> 0.0\n",
    "    vpos = range(0.1, 1, 100)[maskpos]\n",
    "    scatter!(plt, vpos, fill(mid(α), length(vpos)), markershape = :+, color = :blue, label = \"\")\n",
    "    maskneg = lambda .< 0.0\n",
    "    vneg = range(0.1, 1, 100)[maskneg]\n",
    "    scatter!(plt, vneg, fill(mid(α), length(vneg)), markershape = :hline, color = :blue, label = \"\")\n",
    "end"
   ]
  },
  {
   "cell_type": "code",
   "execution_count": null,
   "metadata": {},
   "outputs": [],
   "source": [
    "display(plt)"
   ]
  },
  {
   "cell_type": "code",
   "execution_count": null,
   "metadata": {},
   "outputs": [],
   "source": []
  }
 ],
 "metadata": {
  "kernelspec": {
   "display_name": "Julia 1.11.1",
   "language": "julia",
   "name": "julia-1.11"
  },
  "language_info": {
   "file_extension": ".jl",
   "mimetype": "application/julia",
   "name": "julia",
   "version": "1.11.1"
  }
 },
 "nbformat": 4,
 "nbformat_minor": 2
}
