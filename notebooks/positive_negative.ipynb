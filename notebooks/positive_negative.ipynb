{
 "cells": [
  {
   "cell_type": "markdown",
   "metadata": {},
   "source": [
    "In this notebook we compute the enclosure for the Lyapunov exponent as $\\alpha$ varies and $\\sigma$ varies."
   ]
  },
  {
   "cell_type": "code",
   "execution_count": null,
<<<<<<< HEAD
   "metadata": {},
   "outputs": [],
   "source": [
    "import Pkg; Pkg.activate(\"../\")\n",
    "Pkg.instantiate()"
   ]
  },
  {
   "cell_type": "code",
   "execution_count": null,
=======
>>>>>>> e600f4d (In experiment, adapted to interval)
   "metadata": {},
   "outputs": [],
   "source": [
    "using PlateauExperiment, IntervalArithmetic"
   ]
  },
  {
   "cell_type": "code",
   "execution_count": null,
   "metadata": {},
   "outputs": [],
   "source": [
    "using Plots"
   ]
  },
  {
   "cell_type": "code",
   "execution_count": null,
   "metadata": {},
   "outputs": [],
   "source": [
    "# K = 10\n",
    "# steps = 10\n",
    "\n",
    "# plt = plot()\n",
    "\n",
<<<<<<< HEAD
    "for i in 0:1:128\n",
    "    α = (interval(3) + i)/K\n",
    "    lambda = MultipleExperiments(α, interval(1), 128, [interval(x) for x in range(0.1, 1, 100)])\n",
    "    maskpos = lambda .> 0.0\n",
    "    vpos = range(0.1, 1, 100)[maskpos]\n",
    "    scatter!(plt, vpos, fill(mid(α), length(vpos)), markershape = :+, color = :blue, label = \"\")\n",
    "    maskneg = lambda .< 0.0\n",
    "    vneg = range(0.1, 1, 100)[maskneg]\n",
    "    scatter!(plt, vneg, fill(mid(α), length(vneg)), markershape = :hline, color = :blue, label = \"\")\n",
    "end"
   ]
  },
  {
   "cell_type": "code",
   "execution_count": null,
   "metadata": {},
   "outputs": [],
   "source": [
    "display(plt)"
=======
    "\n",
    "# for i in 0:1:K\n",
    "#     α = interval(3) + i/K\n",
    "#     lambda = MultipleExperiments(α, interval(1), 128, [interval(x) for x in range(0.1, 1, steps)])\n",
    "#     maskpos = lambda .> 0.0\n",
    "#     vpos = range(0.1, 1, steps)[maskpos]\n",
    "#     scatter!(plt, vpos, fill(mid(α), length(vpos)), markersize = 1 , markerstrokewidth = 0, color = :red, label = \"\")\n",
    "#     maskneg = lambda .< 0.0\n",
    "#     vneg = range(0.1, 1,  steps)[maskneg]\n",
    "#     scatter!(plt, vneg, fill(mid(α), length(vneg)), markersize = 1 , markerstrokewidth = 0,  color = :blue, label = \"\")\n",
    "# end"
>>>>>>> e600f4d (In experiment, adapted to interval)
   ]
  },
  {
   "cell_type": "code",
   "execution_count": null,
   "metadata": {},
   "outputs": [],
   "source": [
    "α_list = [3.25; 3.5; 3.5; 3.8]\n",
    "σ_list = [0.2; 0.2; 0.4; 0.4] "
   ]
  },
  {
   "cell_type": "code",
   "execution_count": null,
   "metadata": {},
   "outputs": [],
   "source": [
    "t1 = @elapsed begin\n",
    "    K = 128\n",
    "    out = []\n",
    "    for i in 1:4\n",
    "        α   = α_list[i]\n",
    "        push!(out, Experiment(interval(α), interval(1), interval(σ_list[i]), K))\n",
    "    end\n",
    "end "
   ]
  },
  {
   "cell_type": "code",
   "execution_count": null,
   "metadata": {},
   "outputs": [],
   "source": [
    "t1"
   ]
  },
  {
   "cell_type": "code",
   "execution_count": null,
   "metadata": {},
   "outputs": [],
   "source": [
    "out[4].lo"
   ]
  },
  {
   "cell_type": "code",
   "execution_count": null,
   "metadata": {},
   "outputs": [],
   "source": [
    "#using LaTeXStrings"
   ]
  },
  {
   "cell_type": "code",
   "execution_count": null,
   "metadata": {},
   "outputs": [],
   "source": [
    "# scatter!(plt, σ_list, α_list , markershape = :xcross,  color = :black, label = \"\")\n",
    "# for i in 1:4\n",
    "#     annotate!(plt, σ_list[i]+0.005, α_list[i]-0.25/4, L\"x_%$i\")\n",
    "# end"
   ]
  },
  {
   "cell_type": "code",
   "execution_count": null,
   "metadata": {},
   "outputs": [],
   "source": [
    "#savefig(\"new_NIO_cross_annotated.png\")"
   ]
  },
  {
   "cell_type": "code",
   "execution_count": null,
   "metadata": {},
   "outputs": [],
   "source": [
    "#display(plt)"
   ]
  },
  {
   "cell_type": "code",
   "execution_count": null,
   "metadata": {},
   "outputs": [],
   "source": [
    "savefig(\"new_NIO.png\")"
   ]
  },
  {
   "cell_type": "code",
   "execution_count": null,
   "metadata": {},
   "outputs": [],
   "source": [
    "savefig(\"new_NIO.pdf\")"
   ]
  },
  {
   "cell_type": "code",
   "execution_count": null,
   "metadata": {},
   "outputs": [],
   "source": [
    "α = 3.5\n",
    "σ = 0.2"
   ]
  },
  {
   "cell_type": "code",
   "execution_count": null,
   "metadata": {},
   "outputs": [],
   "source": [
    "bPK = PlateauExperiment.deterministic_discretized(α, β, K)"
   ]
  }
 ],
 "metadata": {
  "kernelspec": {
   "display_name": "Julia 1.11.5",
   "language": "julia",
   "name": "julia-1.11"
  },
  "language_info": {
   "file_extension": ".jl",
   "mimetype": "application/julia",
   "name": "julia",
   "version": "1.11.5"
  }
 },
 "nbformat": 4,
 "nbformat_minor": 2
}
