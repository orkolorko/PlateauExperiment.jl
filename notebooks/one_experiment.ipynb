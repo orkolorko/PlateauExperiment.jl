{
 "cells": [
  {
   "cell_type": "code",
   "execution_count": null,
   "metadata": {},
   "outputs": [],
   "source": [
    "import Pkg; Pkg.activate(\"../\")\n",
    "Pkg.instantiate()"
   ]
  },
  {
   "attachments": {},
   "cell_type": "markdown",
   "metadata": {},
   "source": [
    "We will work with the following family of functions\n",
    "\\begin{align}\n",
    "T_{\\alpha,\\beta}(x)=T(x,\\alpha,\\beta)&=\\beta - (1+\\beta)|x|^{\\alpha},\n",
    "\\end{align}\n",
    "where $\\alpha\\geq 1$, $\\beta\\in (-1,1]$ and $x\\in [-1,1]$.\n",
    "We will study the random dynamical system the family with Gaussian additive noise with variance $\\sigma$ i.e\n",
    "\\begin{align*}\n",
    "    X_{n+1}=\\tau(T_{\\alpha,\\beta}(X_n)+\\Omega_{\\sigma}(n))\n",
    "\\end{align*}\n",
    "where $\\Omega_{\\sigma}(n)$ are random variables i.i.d with Gaussian distribution and $\\tau:\\mathbb{R}\\rightarrow [-1,1]$ boundary condition map $\\tau(x)=\\lfloor x \\rfloor-1$, is the representative in $[0.2)$ of $x$ with repect to $x \\sim y$ if $x-y=2k$, $k\\in \\mathbb{Z}$.\n",
    "We want computing rigorously the Lyapunov exponent for these random dynamical systems\n",
    "\\begin{align*}\n",
    "\t\\lambda(\\alpha,\\beta,\\sigma)=\\int _{-1}^{1}\\ln |T'_{\\alpha,\\beta}|f_{\\sigma}dm,\n",
    "\\end{align*}\n",
    "where $T'_{\\alpha,\\beta}(x)=-\\alpha (1+\\beta)|x|^{\\alpha-2}x$."
   ]
  },
  {
   "cell_type": "code",
   "execution_count": null,
   "metadata": {},
   "outputs": [],
   "source": [
    "using RigorousInvariantMeasures, IntervalArithmetic, BallArithmetic\n",
    "α = interval(3.5)\n",
    "β = interval(1)\n",
    "K = 128\n",
    "FFTNx = 1024\n",
    "\n",
    "# this builds a fourier basis truncated at frequences [-K, K]\n",
    "B = FourierAdjoint(K, FFTNx)                          \n",
    "\n",
    "# this dynamics is defined on [-1, 1]\n",
    "function T_alpha_beta_zeroone(α, β, x)                \n",
    "    return β - (1 + β) * abs(x)^α\n",
    "end\n",
    "\n",
    "# coordinate change from [-1, 1] to [0, 1]\n",
    "function τ_1(x)       \n",
    "    return (x + 1) / 2\n",
    "end\n",
    "\n",
    "# coordinate change from [0, 1] to [-1, 1] \n",
    "\n",
    "function τ_2(x)     \n",
    "    return 2 * x - 1\n",
    "end\n",
    "\n",
    "T_zeroone(x) = T_alpha_beta_zeroone(α, β, x)   # closure, fixing α and β\n",
    "\n",
    "# dynamics on [0, 1]\n",
    "T(x) = τ_1(T_zeroone(τ_2(x)))             "
   ]
  },
  {
   "attachments": {},
   "cell_type": "markdown",
   "metadata": {},
   "source": [
    "We will use the following approximation to find the value of the lyaponov exponent $λ(\\alpha,\\beta,σ)$.\n",
    "Let $\\alpha$ and $\\beta$ be fixed, then\n",
    "\\begin{align*}\n",
    "\t|\\lambda(\\alpha,\\beta,\\sigma)-\\lambda(\\alpha,\\beta,\\sigma,k,s)|\\leq \\Upsilon \\|f_{\\sigma}-f_{\\sigma,k,s}\\|_{L^2}.\n",
    "\\end{align*}\n",
    "where $f_{\\sigma,k,s}$ is a symmetric trigonometric polynomial that approximates the fixed point of $P_{\\sigma, K}$ and $\\Upsilon = \\sqrt{2}((\\ln((1+\\beta)\\alpha)-(\\alpha-1))^2+(\\alpha-1)^2)^{\\frac{1}{2}}$."
   ]
  },
  {
   "cell_type": "code",
   "execution_count": null,
   "metadata": {},
   "outputs": [],
   "source": [
    "Υ = sqrt(interval(2)) * ((log2((β + 1) * α) - (α - 1))^2 + (α - 1)^2)^(1 / 2)"
   ]
  },
  {
   "cell_type": "markdown",
   "metadata": {},
   "source": [
    "To calculate $\\lambda(\\alpha,\\beta,\\sigma,k,s)$ we need $f_{\\sigma,k,s}$ and therefore $f_{\\sigma,k}$."
   ]
  },
  {
   "cell_type": "code",
   "execution_count": null,
   "metadata": {},
   "outputs": [],
   "source": [
    "Iπ = interval(π)"
   ]
  },
  {
   "cell_type": "code",
   "execution_count": null,
   "metadata": {},
   "outputs": [],
   "source": [
    "using LinearAlgebra\n",
    "# D é a matri que vai multiplicar a matriz do operador de tranferencia P para obter a matriz do operador de tranferecia com ruido (obs que D ja está trucanda)\n",
    "\n",
    "σ = interval(0.1)\n",
    "\n",
    "D = Diagonal([[exp((-σ^2 * π^2 * interval(k)^2) / 2) for k in 0:K]; [exp((-σ^2 * π^2 * interval(k)^2) / 2) for k in -K:-1]])\n",
    "Dc, Dr = IntervalArithmetic.mid.(D), IntervalArithmetic.radius.(D)\n",
    "bD = BallMatrix(Dc, Dr)"
   ]
  },
  {
   "cell_type": "markdown",
   "metadata": {},
   "source": [
    "$P_{K}$ is the Galerkin truncation of the Perron-Frobenius operator (without noise)"
   ]
  },
  {
   "cell_type": "code",
   "execution_count": null,
   "metadata": {},
   "outputs": [],
   "source": [
    "PK = assemble(B, T)        #aqui esta calculando el operador de transferencia finito de T, note que usa a matriz B que é a que converte o operador numa matriz na base de fourier                   #matriz de tranferencia com ruido y es finito, está en la base de Fourier"
   ]
  },
  {
   "cell_type": "code",
   "execution_count": null,
   "metadata": {},
   "outputs": [],
   "source": [
    "# we convert this to a BallMatrix\n",
    "\n",
    "\n",
    "center = IntervalArithmetic.mid.(real.(PK)) + im * IntervalArithmetic.mid.(imag.(PK))\n",
    "radius = sqrt.(IntervalArithmetic.radius.(real.(PK)) .^ 2 + IntervalArithmetic.radius.(imag.(PK)) .^ 2)\n",
    "\n",
    "bPK = BallMatrix(center, radius)"
   ]
  },
  {
   "cell_type": "markdown",
   "metadata": {},
   "source": [
    "We compute now the annealed Perron-Frobenius operator"
   ]
  },
  {
   "cell_type": "code",
   "execution_count": null,
   "metadata": {},
   "outputs": [],
   "source": [
    "PσK = bD * bPK"
   ]
  },
  {
   "cell_type": "markdown",
   "metadata": {},
   "source": [
    "To calculate an approximation of the fixed point of the complex matrix of intervals $P\\sigma K$, we take the matrix of the centers $A$\n",
    "$$(A)_{ij}=mid(real(P_{ij}))+mid(im(P_{ij}))$$\n",
    "where $mid$ takes the mid point of the interval. Now we use a numerical algorithm to compute an approximation of the fixed point of $A$.\n",
    "Later, we are going to compute the residual of this fixed point."
   ]
  },
  {
   "cell_type": "code",
   "execution_count": null,
   "metadata": {},
   "outputs": [],
   "source": [
    "using LinearAlgebra\n",
    "\n",
    "A = PσK.c \n",
    "F = eigen(A)                         "
   ]
  },
  {
   "cell_type": "markdown",
   "metadata": {},
   "source": [
    "We plot the eigenvalues of the matrix $A$."
   ]
  },
  {
   "cell_type": "code",
   "execution_count": null,
   "metadata": {},
   "outputs": [],
   "source": [
    "using Plots\n",
    "scatter(F.values, label = \"Eigenvalues of A\")\n",
    "plot!([cos(x) for x in 0:0.01:2*pi], [sin(x) for x in 0:0.01:2*pi], label = \"Unit circle\")"
   ]
  },
  {
   "cell_type": "markdown",
   "metadata": {},
   "source": [
    "The matrix F.vectors contains numerical approximations, not verified of the eigenvalues of $A$"
   ]
  },
  {
   "cell_type": "code",
   "execution_count": null,
   "metadata": {},
   "outputs": [],
   "source": [
    "F.vectors               "
   ]
  },
  {
   "cell_type": "code",
   "execution_count": null,
   "metadata": {},
   "outputs": [],
   "source": [
    "fσK = F.vectors[:, 257]   # this is going to be an approximation of our fixed point"
   ]
  },
  {
   "cell_type": "markdown",
   "metadata": {},
   "source": [
    "$f_{\\sigma,k}$ is fixed point of $A$"
   ]
  },
  {
   "cell_type": "code",
   "execution_count": null,
   "metadata": {},
   "outputs": [],
   "source": [
    "fσK /= fσK[1] # we normalize it"
   ]
  },
  {
   "cell_type": "markdown",
   "metadata": {},
   "source": [
    "In the computer calculations, the symmetry of the point was lost. Now let's symmetrize the fixed point"
   ]
  },
  {
   "cell_type": "code",
   "execution_count": null,
   "metadata": {},
   "outputs": [],
   "source": [
    "fσKs = zeros(257) + zeros(257) * im\n",
    "for i in 1:129\n",
    "    fσKs[i] = fσK[i]\n",
    "end\n",
    "\n",
    "for i in 1:128\n",
    "    fσKs[258-i] = conj(fσK[i+1])\n",
    "end\n",
    "fσKs                                "
   ]
  },
  {
   "attachments": {},
   "cell_type": "markdown",
   "metadata": {},
   "source": [
    "\n",
    "Note that\n",
    "\\begin{align*}\n",
    "f_{\\sigma,k,s}=(\\mathcal{F}(f_{\\sigma,k,s})[0],\\mathcal{F}(f_{\\sigma,k,s})[1],\\ldots,\\mathcal{F}(f_{\\sigma,k,s})[K],\\mathcal{F}(f_{\\sigma,k,s})[-K],\\ldots,\\mathcal{F}(f_{\\sigma,k,s})[-1])\n",
    "\\end{align*}\n"
   ]
  },
  {
   "cell_type": "code",
   "execution_count": null,
   "metadata": {},
   "outputs": [],
   "source": [
    "bfσKs = BallVector(fσKs)"
   ]
  },
  {
   "cell_type": "markdown",
   "metadata": {},
   "source": [
    "We compute now the residuals of the fixed point with respect to all the matrices in the BallMatrix"
   ]
  },
  {
   "cell_type": "code",
   "execution_count": null,
   "metadata": {},
   "outputs": [],
   "source": [
    "residual = PσK * bfσKs - bfσKs"
   ]
  },
  {
   "cell_type": "code",
   "execution_count": null,
   "metadata": {},
   "outputs": [],
   "source": [
    "ϵ = norm(residual.c, 2) + norm(residual.r, 2)"
   ]
  },
  {
   "cell_type": "markdown",
   "metadata": {},
   "source": [
    "To compute the value of the Lyapunov exponent we need to find an enclosure of the Fourier coefficients of \n",
    "$$\n",
    "\\ln|T'_{\\alpha,\\beta}|\n",
    "$$"
   ]
  },
  {
   "cell_type": "markdown",
   "metadata": {},
   "source": [
    "I already have bounded $|\\lambda(\\alpha,\\beta,\\sigma)-\\lambda(\\alpha,\\beta,\\sigma,k,s)|$, it remains to find $\\lambda(\\alpha,\\beta,\\sigma,k,s)$ but \n",
    "\\begin{align*}\n",
    "\\lambda (\\alpha,\\beta,\\sigma,k,s)&=\\int_{-1}^{1}\\ln|T'_{\\alpha,\\beta}|f_{\\sigma,k,s}dm\\\\\n",
    "&=\\langle \\ln|T'_{\\alpha,\\beta}|,f_{\\sigma,k,s} \\rangle\\\\\n",
    "&=\\displaystyle \\sum_{j=-k}^{k}\\mathcal{F}(\\ln|T'_{\\alpha,\\beta}|)[j]\\mathcal{F}(f_{\\sigma,k,s})[j].\n",
    "\\end{align*}\n",
    "$\\mathcal{F}(f_{\\sigma,k})[j]$ we have already calculated it, let's calculate $\\mathcal{F}(\\ln|T'_{\\alpha,\\beta}|)[j]$.\n",
    "\n",
    "We now that\n",
    "\n",
    "\\begin{align*}\n",
    "\\mathcal{F}(ln|T'_{\\alpha,\\beta}|)[0]&=\\ln (2\\alpha \\beta)-(\\alpha-1)\\\\\n",
    "\\mathcal{F}(ln|T'_{\\alpha,\\beta}|)[j]&=-\\frac{(\\alpha-1)}{j\\pi}\\int_{0}^{1}\\frac{1}{x}sen(j\\pi x)dx\\\\\n",
    "&=-\\frac{(\\alpha-1)}{j\\pi}\\int _{0}^{j\\pi}\\frac{sen(x)}{x}dx.\n",
    "\\end{align*}"
   ]
  },
  {
   "attachments": {},
   "cell_type": "markdown",
   "metadata": {},
   "source": [
    "We want to compute\n",
    "$$\n",
    "\\frac{1}{j\\pi}\\int_0^{j\\pi} \\frac{sin(t)}{t}dt\n",
    "$$\n",
    "for $j\\geq 1$ by using Taylor Models integration for $[\\pi, j\\pi]$.\n",
    "\n",
    "To make the computation more efficient, we will \n",
    "compute \n",
    "$$\n",
    "I_i = \\int_{i\\pi}^{(i+1)\\pi}\\frac{sin(t)}{t}dt\n",
    "$$"
   ]
  },
  {
   "cell_type": "code",
   "execution_count": null,
   "metadata": {},
   "outputs": [],
   "source": [
    "f(t) = sin(t) / t"
   ]
  },
  {
   "attachments": {},
   "cell_type": "markdown",
   "metadata": {},
   "source": [
    "The  power series for $f$ at $x=0$ is\n",
    "$$\n",
    "f(x) = \\sum_{i=0}^{+\\infty}(-1)^i\\frac{x^{2i}}{(2i+1)!}\n",
    "$$\n",
    "Then, the power series for the primitive is \n",
    "$$\n",
    "F(x) = \\sum_{i=0}^{+\\infty}(-1)^i\\frac{x^{2i+1}}{(2i+1)!(2i+1)}.\n",
    "$$\n",
    "We are going to use this Taylor series to approximate the integral only in the interval $[0, \\pi]$.\n",
    "\n",
    "We will bound the remainder of the series by using the alternating series remainder."
   ]
  },
  {
   "cell_type": "code",
   "execution_count": null,
   "metadata": {},
   "outputs": [],
   "source": [
    "function coeff_eval_at_0(i, x)\n",
    "    return x^(2i + 1) / (factorial(big(2i + 1)) * (2i + 1))\n",
    "end"
   ]
  },
  {
   "cell_type": "code",
   "execution_count": null,
   "metadata": {},
   "outputs": [],
   "source": [
    "using IntervalArithmetic                                #No usa aqui Taylor Model porque no existe su serie de taylor pues la serie de taylor lo hace sacando la derivada y evaluando a en nuestro caro a=0, pero nosotros tenemos sen(t)/t el cual al derivar siempre tendra dividido por t^n y no se va poder remprazar para t=0\n",
    "N = 1000\n",
    "\n",
    "Pi = @biginterval π                                     # @interval(1)=[1,1], @interval(0.1)=[0.1,0.100001], @interval(x)= um intervalo fechado pequeno que contega x, @interval(1,2)=[1,2],@biginterval(1,2)=[1,2]_256 creo que va aceptar por ejemplo un decimal hasta la cifra 256\n",
    "v = [(-1)^i * coeff_eval_at_0(i, Pi) for i in 0:N]        # como ja integro agora tem que valiar em \\pi e 0, em verdad seria em jπ, mas ta tomando no intervalo [0,π] de momento\n",
    "# i.e esta achando (-1)^{i}a_K, e os vota emcada coordenada de v, note que cada coordenadas é um intervalo pois Pi\n",
    "error = Interval(-1, 1) * abs(coeff_eval_at_0(N + 1, Pi))   # error=[-a_{K+1},a_{K+1}], esto se tiene de Alternating series estimation theorem\n",
    "@info error\n",
    "\n",
    "integral_with_error = sum(v) + error                      # aqui esta sumando os primeros (-1)a_K + error e vai me sair um inervalo\n",
    "integral_with_error, diam(integral_with_error)          # o diametri do intervalo que tem que ser muito pequeno"
   ]
  },
  {
   "attachments": {},
   "cell_type": "markdown",
   "metadata": {},
   "source": [
    "Therefore, we have computed $I_0$. We will now use \n",
    "Taylormodels to compute the value of the integrals\n",
    "$$\n",
    "\\int_{i\\pi}^{(i+1)\\pi}\\frac{sin(t)}{t}dt\n",
    "$$\n",
    "for $i>0$."
   ]
  },
  {
   "cell_type": "code",
   "execution_count": null,
   "metadata": {},
   "outputs": [],
   "source": [
    "#import Pkg; Pkg.add(\"TaylorModels\")\n",
    "using TaylorModels"
   ]
  },
  {
   "cell_type": "code",
   "execution_count": null,
   "metadata": {},
   "outputs": [],
   "source": [
    "function integrate_i_i_plus_1(f, i; degree=40)            #aqui puede usar porque evalua las derivadas em m que es diferente de 0\n",
    "    I = (@interval i * π (i + 1) * π)                             #esto es el intervalo [i*π,(i+1)*π], i>0\n",
    "    m = Interval(IntervalArithmetic.mid(I))                                    #mid(I) ponto medio do intervalo I, Interval(mid(I))=un intervalo pequenho que contenga mid(I)\n",
    "    tm = TaylorModel1(degree, m, I)                         #ese m es el valor que será evaluada en la serie de Taylos i.e f(m)+f'(m)t/1!+...+f^{(400)}(m)t^{400}/400!+erro\n",
    "    prim = TaylorSeries.integrate(f(tm))                    #esto es la primitiva de f, al poner f(tm), recien esta diciendo quien va ser la función f para la cual voy hacer el polinomi de taylor i.e. para obtener la sumatoria que esta en la linea de arriba\n",
    "    return prim(I.hi - m) - prim(I.lo - m)                        #I.hi, I.lo parte superior e inferior do intervalo I respectivamente, como m é um intervalo, vai ficar o intevalo prim([I.hi-m1,I.hi-m2])-prim([I.lo-m1,I.lo-m2]) where denotamos m=[m1,m2]\n",
    "end"
   ]
  },
  {
   "attachments": {},
   "cell_type": "markdown",
   "metadata": {},
   "source": [
    "The vector `val` is containing at index $i$\n",
    "the value of the integral\n",
    "$$\n",
    "\\int_{i\\pi}^{(i+1)\\pi} \\frac{\\sin(t)}{t}dt\n",
    "$$"
   ]
  },
  {
   "cell_type": "code",
   "execution_count": null,
   "metadata": {},
   "outputs": [],
   "source": [
    "val = [integral_with_error; [integrate_i_i_plus_1(f, i) for i in 1:K-1]] #aqui junta I_0+el resultado de la integrales [π,2π],[2π,3π],...,[2000π,2001π], en un vector"
   ]
  },
  {
   "cell_type": "code",
   "execution_count": null,
   "metadata": {},
   "outputs": [],
   "source": [
    "maximum(diam.(val))"
   ]
  },
  {
   "attachments": {},
   "cell_type": "markdown",
   "metadata": {},
   "source": [
    "The cumulative sum vector below contains at the $i$-th index the value of the integral\n",
    "$$\n",
    "\\int_0^{i\\pi}\\frac{\\sin(t)}{t}dt\n",
    "$$"
   ]
  },
  {
   "cell_type": "code",
   "execution_count": null,
   "metadata": {},
   "outputs": [],
   "source": [
    "cum_sum = cumsum(val)               #cumsum en cada coornenada suma lo anterior y lo pone ahí ejemplo v=(v_1,v_2,v_3,v_4)=(v_1,v_1+v_2,v_1+v_2+v_3,v_1+v_2+v_3+v_4)"
   ]
  },
  {
   "attachments": {},
   "cell_type": "markdown",
   "metadata": {},
   "source": [
    "The vector `coeff` contains at the index $i$ the value of\n",
    "$$\n",
    "\\frac{1}{i\\pi}\\int_0^{i\\pi} \\frac{\\sin(t)}{t}dt.\n",
    "$$"
   ]
  },
  {
   "cell_type": "code",
   "execution_count": null,
   "metadata": {},
   "outputs": [],
   "source": [
    "coeff = cum_sum ./ ([i * @interval π for i in 1:K])         #aqui solo le esta dividiendo por iπ a cada integral"
   ]
  },
  {
   "attachments": {},
   "cell_type": "markdown",
   "metadata": {},
   "source": [
    "I want\n",
    "\\begin{align*}\n",
    "\\mathcal{F}(ln|T'_{\\alpha,\\beta}|)[0]&=\\ln ((1+\\beta)\\alpha)-(\\alpha-1)\\\\\n",
    "\\mathcal{F}(ln|T'_{\\alpha,\\beta}|)[j]&=-\\frac{(\\alpha-1)}{j\\pi}\\int_{0}^{1}\\frac{1}{x}sen(j\\pi x)dx\\\\\n",
    "&=-\\frac{(\\alpha-1)}{j\\pi}\\int _{0}^{j\\pi}\\frac{sen(x)}{x}dx.\n",
    "\\end{align*}\n",
    "then"
   ]
  },
  {
   "attachments": {},
   "cell_type": "markdown",
   "metadata": {},
   "source": [
    "These are only the positive frequencies, so, we need to \n",
    "think about how to complete the vectore before taking the IFFT. "
   ]
  },
  {
   "cell_type": "code",
   "execution_count": null,
   "metadata": {},
   "outputs": [],
   "source": [
    "coeff_fft = [coeff; reverse(coeff[1:end])] #hallamos la mitad, ahora como es simetrico tamos escribiendo la otra mitad que falta ussando lo que ya tenemos"
   ]
  },
  {
   "cell_type": "markdown",
   "metadata": {},
   "source": [
    "We need now to take into account the constants $\\alpha$ and $\\beta$"
   ]
  },
  {
   "cell_type": "code",
   "execution_count": null,
   "metadata": {},
   "outputs": [],
   "source": [
    "ln = [log((1 + β) * α) - (α - 1); -(α - 1) * coeff_fft]  "
   ]
  },
  {
   "cell_type": "markdown",
   "metadata": {},
   "source": [
    "Since these were the coefficients computed on the Fourier basis of $[-1,1]$ we need to convert them to the coefficients in the Fourier Basis of $[0,1]$,\n",
    "i.e., we need to apply the coordinate change."
   ]
  },
  {
   "cell_type": "code",
   "execution_count": null,
   "metadata": {},
   "outputs": [],
   "source": [
    "lnn = zeros(Interval, 257) #2*K+1\n",
    "lnn[1] = ln[1]\n",
    "for i in 2:129\n",
    "    lnn[i] = (-1)^(i + 1) * ln[i]\n",
    "end\n",
    "for i in 130:257\n",
    "    lnn[i] = (-1)^(i) * ln[i]\n",
    "end\n",
    "IntervalArithmetic.mid.(lnn[1:10])"
   ]
  },
  {
   "attachments": {},
   "cell_type": "markdown",
   "metadata": {},
   "source": [
    "\\begin{align*}\n",
    "ln=(\\mathcal{F}(\\ln|T'_{\\alpha,\\beta}|)[0],\\mathcal{F}(\\ln|T'_{\\alpha,\\beta}|)[1],\\ldots,\\mathcal{F}(\\ln|T'_{\\alpha,\\beta}|)[K],\\mathcal{F}(\\ln|T'_{\\alpha,\\beta}|)[-K],\\ldots,\\mathcal{F}(\\ln|T'_{\\alpha,\\beta}|)[-1])\n",
    "\\end{align*}"
   ]
  },
  {
   "attachments": {},
   "cell_type": "markdown",
   "metadata": {},
   "source": [
    "Finally\n",
    "\\begin{align*}\n",
    "\\lambda (\\alpha,\\beta,\\sigma,k)=\\displaystyle \\sum_{j=-k}^{k}\\mathcal{F}(\\ln|T'_{\\alpha,\\beta}|)[j]\\mathcal{F}(f_{\\sigma,k})[j].\n",
    "\\end{align*}\n"
   ]
  },
  {
   "cell_type": "code",
   "execution_count": null,
   "metadata": {},
   "outputs": [],
   "source": [
    "λ_k = 0 + im * 0\n",
    "for i in 1:2*K+1\n",
    "    λ_k = lnn[i] * fσKs[i] + λ_k\n",
    "end\n",
    "λ_k  "
   ]
  },
  {
   "attachments": {},
   "cell_type": "markdown",
   "metadata": {},
   "source": [
    "Now to limit $\\|f_{\\sigma}-f_{\\sigma,k,s}\\|$ we use the following result\n",
    "\n",
    "Let $f_{\\sigma}$ be the unique fixed point of $L_{\\sigma}$ and $f_{\\sigma,k}$ be the unique fixed point of $L_{\\sigma,k}$ and $f_{\\sigma,k,s}$ symmetrization of $f_{k,s}$. Suppose that there exists $n \\in \\mathbb{N}$ and $\\eta>0$ such that \n",
    "\\begin{align*}\n",
    "\\|L_{\\sigma,k }^{n}|_{V}\\|_{L^{2}\\rightarrow L^{2}}\\leq \\eta <1,\t\n",
    "\\end{align*}\n",
    "where $V$ be the zero average subspace of $L^{2}$, then if $1\\leq C_i $ are such that $\\|L^i_{\\sigma,k}|_V\\|_{L^{2}\\rightarrow L^{2}}\\leq C_i$ for $1\\leq i \\leq n-1$, we have\n",
    "\\begin{align*}\n",
    "\\|f_{\\sigma}-f_{\\sigma,k,s}\\|_{L^{2}}\\leq \\frac{1}{1-\\eta}\\displaystyle \\sum _{i=0}^{n-1}C_i((1+\\Gamma_{\\sigma,k}+\\|\\rho_{\\sigma}\\|_{L^{2}})\\Gamma_{\\sigma,k}\\|f_{\\sigma}\\|_{L^1}+\\epsilon).\n",
    "\\end{align*}"
   ]
  },
  {
   "cell_type": "markdown",
   "metadata": {},
   "source": [
    "Remark that $\\epsilon$ is the residual with respect to the approximation of the fixed point."
   ]
  },
  {
   "cell_type": "code",
   "execution_count": null,
   "metadata": {},
   "outputs": [],
   "source": [
    "σ = interval(σ)\n",
    "Γ = ((1 / (sqrt(σ^2 * 2 * interval(π))))exp((-σ^2 * K^2 * interval(π)^2) / 2))   #para σ=0,1 e K=128, Γ=3.03*10^(-702)"
   ]
  },
  {
   "cell_type": "markdown",
   "metadata": {},
   "source": [
    "We apply now the Theorem, by computing bounds for the norm of the operator restricted to the space of average $0$ measures."
   ]
  },
  {
   "cell_type": "code",
   "execution_count": null,
   "metadata": {},
   "outputs": [],
   "source": [
    "A = PσK[2:end, 2:end]\n",
    "\n",
    "Aiter = A\n",
    "\n",
    "C = zeros(10)\n",
    "η = 0\n",
    "n_0 = 0\n",
    "for n in 1:10\n",
    "    θ = BallArithmetic.svd_bound_L2_opnorm(Aiter)\n",
    "    if θ > 1\n",
    "        C[n] = θ\n",
    "    else\n",
    "        global η = θ\n",
    "        global n_1 = n                                    #usso n_1 porque mas adelante usso n_0\n",
    "        break                                           #para que pare y no siga corriendo n, sino el η me va salir más chico\n",
    "    end\n",
    "    Aiter *= A \n",
    "end\n",
    "η, C"
   ]
  },
  {
   "cell_type": "code",
   "execution_count": null,
   "metadata": {},
   "outputs": [],
   "source": [
    "ρ1 = 1 / (sqrt(σ^2 * 2 * interval(π)))\n",
    "ρn = sqrt(ρ1)\n"
   ]
  },
  {
   "cell_type": "code",
   "execution_count": null,
   "metadata": {},
   "outputs": [],
   "source": [
    "#ya tenho ϵ, os C_i, η,h, n_1 é dizer ate onde vai asumatoria, |u|=1, e usei PK o operador de tranferencia finito, pero creo que tiene que ser el operador de transferencia infinito, só me falta K\n",
    "R_1 = 0                                             #ja tenho todos os valos que preciso ahora só resta fazer a sumatoria\n",
    "for i in 1:n_1-1\n",
    "    global R_1 = R_1 + C[i] * ((1 + Γ + ρn)Γ + ϵ)\n",
    "end\n",
    "R_1 = (1 / (1 - η)) * R_1"
   ]
  },
  {
   "cell_type": "code",
   "execution_count": null,
   "metadata": {},
   "outputs": [],
   "source": [
    "#el intervalo donde estaria λ seria\n",
    "@biginterval(real.(λ_k) - Υ * R_1, real.(λ_k) + Υ * R_1) + im * @biginterval(imag.(λ_k) - Υ * R_1, imag.(λ_k) + Υ * R_1)"
   ]
  },
  {
   "cell_type": "markdown",
   "metadata": {},
   "source": [
    "We can observe that the integral must be a real number, so, we can restrict the enclosure to the real line"
   ]
  },
  {
   "cell_type": "code",
   "execution_count": null,
   "metadata": {},
   "outputs": [],
   "source": [
    "@biginterval(real.(λ_k) - Υ * R_1, real.(λ_k) + Υ * R_1)"
   ]
  }
 ],
 "metadata": {
  "kernelspec": {
   "display_name": "Julia 1.11.5",
   "language": "julia",
   "name": "julia-1.11"
  },
  "language_info": {
   "file_extension": ".jl",
   "mimetype": "application/julia",
   "name": "julia",
   "version": "1.11.5"
  },
  "vscode": {
   "interpreter": {
    "hash": "916dbcbb3f70747c44a77c7bcd40155683ae19c65e1c03b4aa3499c5328201f1"
   }
  }
 },
 "nbformat": 4,
 "nbformat_minor": 2
}
