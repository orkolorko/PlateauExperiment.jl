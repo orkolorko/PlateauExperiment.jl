{
 "cells": [
  {
   "cell_type": "code",
   "execution_count": 3,
   "metadata": {},
   "outputs": [
    {
     "name": "stderr",
     "output_type": "stream",
     "text": [
      "\u001b[32m\u001b[1m  Activating\u001b[22m\u001b[39m project at `~/Labile/PlateauExperiment.jl`\n"
     ]
    }
   ],
   "source": [
    "import Pkg; Pkg.activate(\"../\")\n",
    "Pkg.instantiate()"
   ]
  },
  {
   "attachments": {},
   "cell_type": "markdown",
   "metadata": {},
   "source": [
    "We will work with the following family of functions\n",
    "\\begin{align}\n",
    "T_{\\alpha,\\beta}(x)=T(x,\\alpha,\\beta)&=\\beta - (1+\\beta)|x|^{\\alpha},\n",
    "\\end{align}\n",
    "where $\\alpha\\geq 1$, $\\beta\\in (-1,1]$ and $x\\in [-1,1]$.\n",
    "We will study the random dynamical system the family with Gaussian additive noise with variance $\\sigma$ i.e\n",
    "\\begin{align*}\n",
    "    X_{n+1}=\\tau(T_{\\alpha,\\beta}(X_n)+\\Omega_{\\sigma}(n))\n",
    "\\end{align*}\n",
    "where $\\Omega_{\\sigma}(n)$ are random variables i.i.d with Gaussian distribution and $\\tau:\\mathbb{R}\\rightarrow [-1,1]$ boundary condition map $\\tau(x)=\\lfloor x \\rfloor-1$, is the representative in $[0.2)$ of $x$ with repect to $x \\sim y$ if $x-y=2k$, $k\\in \\mathbb{Z}$.\n",
    "We want computing rigorously the Lyapunov exponent for these random dynamical systems\n",
    "\\begin{align*}\n",
    "\t\\lambda(\\alpha,\\beta,\\sigma)=\\int _{-1}^{1}\\ln |T'_{\\alpha,\\beta}|f_{\\sigma}dm,\n",
    "\\end{align*}\n",
    "where $T'_{\\alpha,\\beta}(x)=-\\alpha (1+\\beta)|x|^{\\alpha-2}x$."
   ]
  },
  {
   "cell_type": "code",
   "execution_count": 4,
   "metadata": {},
   "outputs": [
    {
     "name": "stderr",
     "output_type": "stream",
     "text": [
      "┌ Info: Switching to OpenBLAS with ConsistentFPCSR = 1 flag enabled, guarantees\n",
      "│         correct floating point rounding mode over all threads.\n",
      "└ @ BallArithmetic /home/isaia/.julia/packages/BallArithmetic/aiclr/src/BallArithmetic.jl:20\n",
      "┌ Info: OpenBLAS is giving correct rounding on a (1024,1024) test matrix on 6 threads\n",
      "└ @ BallArithmetic /home/isaia/.julia/packages/BallArithmetic/aiclr/src/BallArithmetic.jl:27\n"
     ]
    },
    {
     "name": "stdout",
     "output_type": "stream",
     "text": [
      "Generating forwards to /home/isaia/.julia/artifacts/7e6d3d1a151a3d510c0e5a4c8f2c792f53e39777/lib/libopenblas64_.so (clear: 0, verbose: 1, suffix_hint: '(null)')\n",
      " -> Autodetected symbol suffix \"64_\"\n",
      " -> Autodetected interface ILP64 (64-bit)\n",
      " -> Autodetected normal complex return style\n",
      " -> Autodetected gfortran calling convention\n",
      " -> CBLAS detected\n",
      "Processed 5123 symbols; forwarded 4922 symbols with 64-bit interface and mangling to a suffix of \"64_\"\n"
     ]
    },
    {
     "name": "stderr",
     "output_type": "stream",
     "text": [
      "┌ Warning: This basis breaks the usual interface of the package, i.e., \n",
      "│     the dynamic is input as a function instead than a PwMap\n",
      "└ @ RigorousInvariantMeasures /home/isaia/.julia/packages/RigorousInvariantMeasures/xFVMn/src/Basis/Fourier/FourierAdjoint.jl:21\n"
     ]
    },
    {
     "data": {
      "text/plain": [
       "T (generic function with 1 method)"
      ]
     },
     "metadata": {},
     "output_type": "display_data"
    }
   ],
   "source": [
    "using RigorousInvariantMeasures, IntervalArithmetic, BallArithmetic\n",
    "α = interval(3.5)\n",
    "β = interval(1)\n",
    "K = 128\n",
    "FFTNx = 1024\n",
    "\n",
    "# this builds a fourier basis truncated at frequences [-K, K]\n",
    "B = FourierAdjoint(K, FFTNx)                          \n",
    "\n",
    "# this dynamics is defined on [-1, 1]\n",
    "function T_alpha_beta_zeroone(α, β, x)                \n",
    "    return β - (1 + β) * abs(x)^α\n",
    "end\n",
    "\n",
    "# coordinate change from [-1, 1] to [0, 1]\n",
    "function τ_1(x)       \n",
    "    return (x + 1) / 2\n",
    "end\n",
    "\n",
    "# coordinate change from [0, 1] to [-1, 1] \n",
    "\n",
    "function τ_2(x)     \n",
    "    return 2 * x - 1\n",
    "end\n",
    "\n",
    "T_zeroone(x) = T_alpha_beta_zeroone(α, β, x)   # closure, fixing α and β\n",
    "\n",
    "# dynamics on [0, 1]\n",
    "T(x) = τ_1(T_zeroone(τ_2(x)))             "
   ]
  },
  {
   "attachments": {},
   "cell_type": "markdown",
   "metadata": {},
   "source": [
    "We will use the following approximation to find the value of the lyaponov exponent $λ(\\alpha,\\beta,σ)$.\n",
    "Let $\\alpha$ and $\\beta$ be fixed, then\n",
    "\\begin{align*}\n",
    "\t|\\lambda(\\alpha,\\beta,\\sigma)-\\lambda(\\alpha,\\beta,\\sigma,k,s)|\\leq \\Upsilon \\|f_{\\sigma}-f_{\\sigma,k,s}\\|_{L^2}.\n",
    "\\end{align*}\n",
    "where $f_{\\sigma,k,s}$ is a symmetric trigonometric polynomial that approximates the fixed point of $P_{\\sigma, K}$ and $\\Upsilon = \\sqrt{2}((\\ln((1+\\beta)\\alpha)-(\\alpha-1))^2+(\\alpha-1)^2)^{\\frac{1}{2}}$."
   ]
  },
  {
   "cell_type": "code",
   "execution_count": 11,
   "metadata": {},
   "outputs": [
    {
     "data": {
      "text/plain": [
       "[3.56215, 3.56216]"
      ]
     },
     "metadata": {},
     "output_type": "display_data"
    }
   ],
   "source": [
    "Υ = sqrt(interval(2)) * ((log2((β + 1) * α) - (α - 1))^2 + (α - 1)^2)^(1 / 2)"
   ]
  },
  {
   "cell_type": "markdown",
   "metadata": {},
   "source": [
    "To calculate $\\lambda(\\alpha,\\beta,\\sigma,k,s)$ we need $f_{\\sigma,k,s}$ and therefore $f_{\\sigma,k}$."
   ]
  },
  {
   "cell_type": "code",
   "execution_count": 14,
   "metadata": {},
   "outputs": [
    {
     "data": {
      "text/plain": [
       "[3.14159, 3.1416]"
      ]
     },
     "metadata": {},
     "output_type": "display_data"
    }
   ],
   "source": [
    "Iπ = interval(π)"
   ]
  },
  {
   "cell_type": "code",
   "execution_count": 15,
   "metadata": {},
   "outputs": [
    {
     "data": {
      "text/plain": [
       "257×257 BallMatrix{Float64, Float64, Ball{Float64, Float64}, Diagonal{Float64, Vector{Float64}}, Diagonal{Float64, Vector{Float64}}}:\n",
       " 1.0 ± 0.0  …              0.0 ± 0.0\n",
       " 0.0 ± 0.0                 0.0 ± 0.0\n",
       " 0.0 ± 0.0                 0.0 ± 0.0\n",
       " 0.0 ± 0.0                 0.0 ± 0.0\n",
       " 0.0 ± 0.0                 0.0 ± 0.0\n",
       " 0.0 ± 0.0  …              0.0 ± 0.0\n",
       " 0.0 ± 0.0                 0.0 ± 0.0\n",
       " 0.0 ± 0.0                 0.0 ± 0.0\n",
       " 0.0 ± 0.0                 0.0 ± 0.0\n",
       " 0.0 ± 0.0                 0.0 ± 0.0\n",
       "                                ⋮  ⋱  \n",
       " 0.0 ± 0.0                 0.0 ± 0.0\n",
       " 0.0 ± 0.0                 0.0 ± 0.0\n",
       " 0.0 ± 0.0  …              0.0 ± 0.0\n",
       " 0.0 ± 0.0                 0.0 ± 0.0\n",
       " 0.0 ± 0.0                 0.0 ± 0.0\n",
       " 0.0 ± 0.0                 0.0 ± 0.0\n",
       " 0.0 ± 0.0                 0.0 ± 0.0\n",
       " 0.0 ± 0.0  …              0.0 ± 0.0\n",
       " 0.0 ± 0.0     0.95185 ± 1.11022e-16"
      ]
     },
     "metadata": {},
     "output_type": "display_data"
    }
   ],
   "source": [
    "using LinearAlgebra\n",
    "# D é a matri que vai multiplicar a matriz do operador de tranferencia P para obter a matriz do operador de tranferecia com ruido (obs que D ja está trucanda)\n",
    "\n",
    "σ = interval(0.1)\n",
    "\n",
    "D = Diagonal([[exp((-σ^2 * π^2 * interval(k)^2) / 2) for k in 0:K]; [exp((-σ^2 * π^2 * interval(k)^2) / 2) for k in -K:-1]])\n",
    "Dc, Dr = IntervalArithmetic.mid.(D), IntervalArithmetic.radius.(D)\n",
    "bD = BallMatrix(Dc, Dr)"
   ]
  },
  {
   "cell_type": "markdown",
   "metadata": {},
   "source": [
    "$P_{K}$ is the Galerkin truncation of the Perron-Frobenius operator (without noise)"
   ]
  },
  {
   "cell_type": "code",
   "execution_count": 18,
   "metadata": {},
   "outputs": [
    {
     "name": "stderr",
     "output_type": "stream",
     "text": [
      "┌ Info: 257\n",
      "└ @ RigorousInvariantMeasures /home/isaia/Code/RigorousInvariantMeasures.jl/src/Basis/Fourier/FourierCommon.jl:78\n",
      "┌ Info: 128\n",
      "└ @ RigorousInvariantMeasures /home/isaia/Code/RigorousInvariantMeasures.jl/src/Basis/Fourier/FourierCommon.jl:82\n",
      "\u001b[32mProgress: 100%|█████████████████████████████████████████| Time: 0:00:00\u001b[39m\u001b[K\n"
     ]
    },
    {
     "data": {
      "text/plain": [
       "257×257 adjoint(::Matrix{Complex{Interval{Float64}}}) with eltype Complex{Interval{Float64}}:\n",
       "             [0.999999, 1.00001] + [-1.47812e-14, 1.47812e-14]im  …         [-1.47812e-14, 1.47812e-14] + [-1.47812e-14, 1.47812e-14]im\n",
       "               [0.474773, 0.474774] + [0.186617, 0.186618]im         [-0.375593, -0.375592] + [-0.0188692, -0.0188691]im\n",
       "               [0.392084, 0.392085] + [0.166867, 0.166868]im         [-0.340098, -0.340097] + [-0.0599438, -0.0599437]im\n",
       "               [0.349747, 0.349748] + [0.153616, 0.153617]im          [-0.31428, -0.314279] + [-0.0732259, -0.0732258]im\n",
       "               [0.322351, 0.322352] + [0.144072, 0.144073]im          [-0.295305, -0.295304] + [-0.078874, -0.0788739]im\n",
       "               [0.302536, 0.302537] + [0.136744, 0.136745]im      …  [-0.280603, -0.280602] + [-0.0815037, -0.0815036]im\n",
       "               [0.287232, 0.287233] + [0.130862, 0.130863]im          [-0.26874, -0.268739] + [-0.0827021, -0.082702]im\n",
       "               [0.274888, 0.274889] + [0.125986, 0.125987]im         [-0.258872, -0.258871] + [-0.0831447, -0.0831446]im\n",
       "               [0.264618, 0.264619] + [0.121847, 0.121848]im         [-0.250473, -0.250472] + [-0.0831604, -0.0831603]im\n",
       "               [0.255876, 0.255877] + [0.118266, 0.118267]im         [-0.243194, -0.243193] + [-0.0829243, -0.0829242]im\n",
       "                                    ⋮                             ⋱  \n",
       " [0.255876, 0.255877] + [-0.118267, -0.118266]im                                    [-0.243194, -0.243193] + [0.0829242, 0.0829243]im\n",
       " [0.264618, 0.264619] + [-0.121848, -0.121847]im                                    [-0.250473, -0.250472] + [0.0831603, 0.0831604]im\n",
       " [0.274888, 0.274889] + [-0.125987, -0.125986]im                  …                 [-0.258872, -0.258871] + [0.0831446, 0.0831447]im\n",
       " [0.287232, 0.287233] + [-0.130863, -0.130862]im                                     [-0.26874, -0.268739] + [0.082702, 0.0827021]im\n",
       " [0.302536, 0.302537] + [-0.136745, -0.136744]im                                    [-0.280603, -0.280602] + [0.0815036, 0.0815037]im\n",
       " [0.322351, 0.322352] + [-0.144073, -0.144072]im                                    [-0.295305, -0.295304] + [0.0788739, 0.078874]im\n",
       " [0.349747, 0.349748] + [-0.153617, -0.153616]im                                     [-0.31428, -0.314279] + [0.0732258, 0.0732259]im\n",
       " [0.392084, 0.392085] + [-0.166868, -0.166867]im                  …                 [-0.340098, -0.340097] + [0.0599437, 0.0599438]im\n",
       " [0.474773, 0.474774] + [-0.186618, -0.186617]im                                    [-0.375593, -0.375592] + [0.0188691, 0.0188692]im"
      ]
     },
     "metadata": {},
     "output_type": "display_data"
    }
   ],
   "source": [
    "PK = assemble(B, T)        #aqui esta calculando el operador de transferencia finito de T, note que usa a matriz B que é a que converte o operador numa matriz na base de fourier                   #matriz de tranferencia com ruido y es finito, está en la base de Fourier"
   ]
  },
  {
   "cell_type": "code",
   "execution_count": 20,
   "metadata": {},
   "outputs": [
    {
     "data": {
      "text/plain": [
       "257×257 Matrix{Ball{Float64, ComplexF64}}:\n",
       "           1.0+0.0im ± 2.09716e-14  …              0.0+0.0im ± 2.09038e-14\n",
       " 0.474773+0.186618im ± 2.20598e-14     -0.375593-0.0188691im ± 2.20426e-14\n",
       " 0.392084+0.166868im ± 2.30804e-14     -0.340098-0.0599438im ± 2.30755e-14\n",
       " 0.349748+0.153617im ± 2.45719e-14     -0.314279-0.0732258im ± 2.45621e-14\n",
       "    0.322352+0.144072im ± 2.52e-14     -0.295304-0.0788739im ± 2.51902e-14\n",
       " 0.302537+0.136745im ± 2.57299e-14  …  -0.280603-0.0815036im ± 2.57201e-14\n",
       " 0.287233+0.130862im ± 2.81047e-14       -0.26874-0.082702im ± 2.81047e-14\n",
       " 0.274888+0.125987im ± 2.88701e-14     -0.258872-0.0831447im ± 2.88701e-14\n",
       " 0.264619+0.121847im ± 2.93607e-14     -0.250472-0.0831604im ± 2.93607e-14\n",
       " 0.255876+0.118267im ± 2.98906e-14      -0.243193-0.0829243im ± 2.9871e-14\n",
       "                                                           ⋮  ⋱  \n",
       " 0.255876-0.118267im ± 2.98906e-14      -0.243193+0.0829243im ± 2.9871e-14\n",
       " 0.264619-0.121847im ± 2.93607e-14     -0.250472+0.0831604im ± 2.93607e-14\n",
       " 0.274888-0.125987im ± 2.88701e-14  …  -0.258872+0.0831447im ± 2.88701e-14\n",
       " 0.287233-0.130862im ± 2.81047e-14       -0.26874+0.082702im ± 2.81047e-14\n",
       " 0.302537-0.136745im ± 2.57299e-14     -0.280603+0.0815036im ± 2.57201e-14\n",
       "    0.322352-0.144072im ± 2.52e-14     -0.295304+0.0788739im ± 2.51902e-14\n",
       " 0.349748-0.153617im ± 2.45719e-14     -0.314279+0.0732258im ± 2.45621e-14\n",
       " 0.392084-0.166868im ± 2.30804e-14  …  -0.340098+0.0599438im ± 2.30755e-14\n",
       " 0.474773-0.186618im ± 2.20598e-14     -0.375593+0.0188691im ± 2.20426e-14"
      ]
     },
     "metadata": {},
     "output_type": "display_data"
    }
   ],
   "source": [
    "# we convert this to a BallMatrix\n",
    "\n",
    "\n",
    "center = IntervalArithmetic.mid.(real.(PK)) + im * IntervalArithmetic.mid.(imag.(PK))\n",
    "radius = sqrt.(IntervalArithmetic.radius.(real.(PK)) .^ 2 + IntervalArithmetic.radius.(imag.(PK)) .^ 2)\n",
    "\n",
    "bPK = BallMatrix(center, radius)"
   ]
  },
  {
   "cell_type": "markdown",
   "metadata": {},
   "source": [
    "We compute now the annealed Perron-Frobenius operator"
   ]
  },
  {
   "cell_type": "code",
   "execution_count": 22,
   "metadata": {},
   "outputs": [
    {
     "data": {
      "text/plain": [
       "257×257 Matrix{Ball{Float64, ComplexF64}}:\n",
       "               1.0+0.0im ± 7.84812e-14  …                 0.0+0.0im ± 2.09038e-14\n",
       "     0.451913+0.177632im ± 4.89792e-14        -0.357508-0.0179606im ± 4.16091e-14\n",
       "      0.32185+0.136976im ± 3.91092e-14          -0.279175-0.049206im ± 3.5283e-14\n",
       "    0.224321+0.0985269im ± 2.98925e-14        -0.201573-0.0469656im ± 2.76924e-14\n",
       "     0.146361+0.0654147im ± 2.0681e-14          -0.13408-0.035812im ± 1.94355e-14\n",
       "     0.0881025+0.0398218im ± 1.309e-14  …    -0.0817152-0.0237349im ± 1.24161e-14\n",
       "   0.0486068+0.0221451im ± 7.85408e-15       -0.0454773-0.0139952im ± 7.51583e-15\n",
       "   0.0244911+0.0112248im ± 4.13832e-15      -0.0230642-0.00740777im ± 3.98042e-15\n",
       "  0.0112461+0.00517839im ± 1.96792e-15      -0.0106448-0.00353424im ± 1.90017e-15\n",
       " 0.00469973+0.00217223im ± 8.50672e-16     -0.00446677-0.00152309im ± 8.23617e-16\n",
       "                                                               ⋮  ⋱  \n",
       " 0.00469973-0.00217223im ± 8.50672e-16     -0.00446677+0.00152309im ± 8.23617e-16\n",
       "  0.0112461-0.00517839im ± 1.96792e-15      -0.0106448+0.00353424im ± 1.90017e-15\n",
       "   0.0244911-0.0112248im ± 4.13832e-15  …   -0.0230642+0.00740777im ± 3.98042e-15\n",
       "   0.0486068-0.0221451im ± 7.85408e-15       -0.0454773+0.0139952im ± 7.51583e-15\n",
       "     0.0881025-0.0398218im ± 1.309e-14       -0.0817152+0.0237349im ± 1.24161e-14\n",
       "     0.146361-0.0654147im ± 2.0681e-14          -0.13408+0.035812im ± 1.94355e-14\n",
       "    0.224321-0.0985269im ± 2.98925e-14        -0.201573+0.0469656im ± 2.76924e-14\n",
       "      0.32185-0.136976im ± 3.91092e-14  …       -0.279175+0.049206im ± 3.5283e-14\n",
       "     0.451913-0.177632im ± 4.89792e-14        -0.357508+0.0179606im ± 4.16091e-14"
      ]
     },
     "metadata": {},
     "output_type": "display_data"
    }
   ],
   "source": [
    "PσK = bD * bPK"
   ]
  },
  {
   "cell_type": "markdown",
   "metadata": {},
   "source": [
    "To calculate an approximation of the fixed point of the complex matrix of intervals $P\\sigma K$, we take the matrix of the centers $A$\n",
    "$$(A)_{ij}=mid(real(P_{ij}))+mid(im(P_{ij}))$$\n",
    "where $mid$ takes the mid point of the interval. Now we use a numerical algorithm to compute an approximation of the fixed point of $A$.\n",
    "Later, we are going to compute the residual of this fixed point."
   ]
  },
  {
   "cell_type": "code",
   "execution_count": 30,
   "metadata": {},
   "outputs": [
    {
     "data": {
      "text/plain": [
       "Eigen{ComplexF64, ComplexF64, Matrix{ComplexF64}, Vector{ComplexF64}}\n",
       "values:\n",
       "257-element Vector{ComplexF64}:\n",
       "   -0.49002315497262294 + 2.7755575615628914e-17im\n",
       "  -0.024028583179912747 - 0.14996656065810188im\n",
       "  -0.024028583179911554 + 0.1499665606581013im\n",
       " -0.0007616768229320678 + 2.7195447793519243e-12im\n",
       "  -5.275227361093307e-5 - 1.8982225615998938e-10im\n",
       " -1.6030174295055954e-6 - 8.086202981312755e-10im\n",
       "  -2.466360428627987e-7 + 2.7901569219001353e-8im\n",
       "   -7.10744877790595e-9 - 3.7790852051640536e-10im\n",
       " -5.123696386859629e-10 - 7.297500801951038e-10im\n",
       " -2.655110963906517e-10 + 1.0181458455824008e-10im\n",
       "                        ⋮\n",
       "  2.0274845016593728e-8 + 1.3594267562230457e-7im\n",
       "    2.35869092855471e-8 - 1.7381154602627863e-7im\n",
       "   1.005514145478987e-6 + 1.2180228108704837e-8im\n",
       "  2.7581669319830885e-5 - 4.516641966592563e-10im\n",
       " 0.00044984882322362114 - 1.666219940238105e-12im\n",
       "  0.0005242102860686427 - 0.008380805862281937im\n",
       "  0.0005242102860964582 + 0.008380805862795337im\n",
       "    0.01010293483557919 - 7.641196703156439e-14im\n",
       "                    1.0 + 0.0im\n",
       "vectors:\n",
       "257×257 Matrix{ComplexF64}:\n",
       "         0.0+0.0im         …    0.862162+0.0im\n",
       "    0.565836+0.0im              0.259411+0.000287363im\n",
       "    0.312697-0.0901638im        0.174787+0.0509537im\n",
       "    0.204878-0.0656197im        0.122907+0.0413455im\n",
       "    0.128757-0.0449061im        0.080324+0.0293197im\n",
       "   0.0756839-0.0279271im   …   0.0483626+0.0185373im\n",
       "   0.0410568-0.0157715im       0.0266803+0.0105686im\n",
       "   0.0204248-0.00808853im      0.0134412+0.00545314im\n",
       "  0.00928487-0.00376644im     0.00617095+0.0025498im\n",
       "  0.00384845-0.00159201im     0.00257838+0.00108097im\n",
       "            ⋮              ⋱  \n",
       " 0.000441255-0.0041413im      0.00257838-0.00108097im\n",
       " 0.000993121-0.00997038im     0.00617095-0.0025498im\n",
       "  0.00199581-0.0218772im   …   0.0134412-0.00545314im\n",
       "  0.00354405-0.0438388im       0.0266803-0.0105686im\n",
       "  0.00543371-0.0804888im       0.0483626-0.0185373im\n",
       "  0.00674515-0.136196im         0.080324-0.0293197im\n",
       "  0.00513528-0.215068im         0.122907-0.0413455im\n",
       "  -0.0017452-0.325432im    …    0.174787-0.0509537im\n",
       "   -0.159681-0.542837im         0.259411-0.000287363im"
      ]
     },
     "metadata": {},
     "output_type": "display_data"
    }
   ],
   "source": [
    "using LinearAlgebra\n",
    "\n",
    "A = PσK.c \n",
    "F = eigen(A)                         "
   ]
  },
  {
   "cell_type": "markdown",
   "metadata": {},
   "source": [
    "We plot the eigenvalues of the matrix $A$."
   ]
  },
  {
   "cell_type": "code",
   "execution_count": 34,
   "metadata": {},
   "outputs": [
    {
     "data": {
      "image/png": "[encoded data removed]",
      "image/svg+xml": [
       "<?xml version=\"1.0\" encoding=\"utf-8\"?>\n",
       "<svg xmlns=\"http://www.w3.org/2000/svg\" xmlns:xlink=\"http://www.w3.org/1999/xlink\" width=\"600\" height=\"400\" viewBox=\"0 0 2400 1600\">\n",
       "<defs>\n",
       "  <clipPath id=\"clip200\">\n",
       "    <rect x=\"0\" y=\"0\" width=\"2400\" height=\"1600\"/>\n",
       "  </clipPath>\n",
       "</defs>\n",
       "<path clip-path=\"url(#clip200)\" d=\"M0 1600 L2400 1600 L2400 0 L0 0  Z\" fill=\"#ffffff\" fill-rule=\"evenodd\" fill-opacity=\"1\"/>\n",
       "<defs>\n",
       "  <clipPath id=\"clip201\">\n",
       "    <rect x=\"480\" y=\"0\" width=\"1681\" height=\"1600\"/>\n",
       "  </clipPath>\n",
       "</defs>\n",
       "<path clip-path=\"url(#clip200)\" d=\"M257.204 1423.18 L2352.76 1423.18 L2352.76 47.2441 L257.204 47.2441  Z\" fill=\"#ffffff\" fill-rule=\"evenodd\" fill-opacity=\"1\"/>\n",
       "<defs>\n",
       "  <clipPath id=\"clip202\">\n",
       "    <rect x=\"257\" y=\"47\" width=\"2097\" height=\"1377\"/>\n",
       "  </clipPath>\n",
       "</defs>\n",
       "<polyline clip-path=\"url(#clip202)\" style=\"stroke:#000000; stroke-linecap:round; stroke-linejoin:round; stroke-width:2; stroke-opacity:0.1; fill:none\" points=\"316.511,1423.18 316.511,47.2441 \"/>\n",
       "<polyline clip-path=\"url(#clip202)\" style=\"stroke:#000000; stroke-linecap:round; stroke-linejoin:round; stroke-width:2; stroke-opacity:0.1; fill:none\" points=\"810.745,1423.18 810.745,47.2441 \"/>\n",
       "<polyline clip-path=\"url(#clip202)\" style=\"stroke:#000000; stroke-linecap:round; stroke-linejoin:round; stroke-width:2; stroke-opacity:0.1; fill:none\" points=\"1304.98,1423.18 1304.98,47.2441 \"/>\n",
       "<polyline clip-path=\"url(#clip202)\" style=\"stroke:#000000; stroke-linecap:round; stroke-linejoin:round; stroke-width:2; stroke-opacity:0.1; fill:none\" points=\"1799.21,1423.18 1799.21,47.2441 \"/>\n",
       "<polyline clip-path=\"url(#clip202)\" style=\"stroke:#000000; stroke-linecap:round; stroke-linejoin:round; stroke-width:2; stroke-opacity:0.1; fill:none\" points=\"2293.45,1423.18 2293.45,47.2441 \"/>\n",
       "<polyline clip-path=\"url(#clip202)\" style=\"stroke:#000000; stroke-linecap:round; stroke-linejoin:round; stroke-width:2; stroke-opacity:0.1; fill:none\" points=\"257.204,1384.24 2352.76,1384.24 \"/>\n",
       "<polyline clip-path=\"url(#clip202)\" style=\"stroke:#000000; stroke-linecap:round; stroke-linejoin:round; stroke-width:2; stroke-opacity:0.1; fill:none\" points=\"257.204,1059.73 2352.76,1059.73 \"/>\n",
       "<polyline clip-path=\"url(#clip202)\" style=\"stroke:#000000; stroke-linecap:round; stroke-linejoin:round; stroke-width:2; stroke-opacity:0.1; fill:none\" points=\"257.204,735.213 2352.76,735.213 \"/>\n",
       "<polyline clip-path=\"url(#clip202)\" style=\"stroke:#000000; stroke-linecap:round; stroke-linejoin:round; stroke-width:2; stroke-opacity:0.1; fill:none\" points=\"257.204,410.699 2352.76,410.699 \"/>\n",
       "<polyline clip-path=\"url(#clip202)\" style=\"stroke:#000000; stroke-linecap:round; stroke-linejoin:round; stroke-width:2; stroke-opacity:0.1; fill:none\" points=\"257.204,86.1855 2352.76,86.1855 \"/>\n",
       "<polyline clip-path=\"url(#clip200)\" style=\"stroke:#000000; stroke-linecap:round; stroke-linejoin:round; stroke-width:4; stroke-opacity:1; fill:none\" points=\"257.204,1423.18 2352.76,1423.18 \"/>\n",
       "<polyline clip-path=\"url(#clip200)\" style=\"stroke:#000000; stroke-linecap:round; stroke-linejoin:round; stroke-width:4; stroke-opacity:1; fill:none\" points=\"316.511,1423.18 316.511,1404.28 \"/>\n",
       "<polyline clip-path=\"url(#clip200)\" style=\"stroke:#000000; stroke-linecap:round; stroke-linejoin:round; stroke-width:4; stroke-opacity:1; fill:none\" points=\"810.745,1423.18 810.745,1404.28 \"/>\n",
       "<polyline clip-path=\"url(#clip200)\" style=\"stroke:#000000; stroke-linecap:round; stroke-linejoin:round; stroke-width:4; stroke-opacity:1; fill:none\" points=\"1304.98,1423.18 1304.98,1404.28 \"/>\n",
       "<polyline clip-path=\"url(#clip200)\" style=\"stroke:#000000; stroke-linecap:round; stroke-linejoin:round; stroke-width:4; stroke-opacity:1; fill:none\" points=\"1799.21,1423.18 1799.21,1404.28 \"/>\n",
       "<polyline clip-path=\"url(#clip200)\" style=\"stroke:#000000; stroke-linecap:round; stroke-linejoin:round; stroke-width:4; stroke-opacity:1; fill:none\" points=\"2293.45,1423.18 2293.45,1404.28 \"/>\n",
       "<path clip-path=\"url(#clip200)\" d=\"M263.039 1468.75 L292.715 1468.75 L292.715 1472.69 L263.039 1472.69 L263.039 1468.75 Z\" fill=\"#000000\" fill-rule=\"nonzero\" fill-opacity=\"1\" /><path clip-path=\"url(#clip200)\" d=\"M303.617 1481.64 L311.256 1481.64 L311.256 1455.28 L302.946 1456.95 L302.946 1452.69 L311.21 1451.02 L315.886 1451.02 L315.886 1481.64 L323.525 1481.64 L323.525 1485.58 L303.617 1485.58 L303.617 1481.64 Z\" fill=\"#000000\" fill-rule=\"nonzero\" fill-opacity=\"1\" /><path clip-path=\"url(#clip200)\" d=\"M332.969 1479.7 L337.853 1479.7 L337.853 1485.58 L332.969 1485.58 L332.969 1479.7 Z\" fill=\"#000000\" fill-rule=\"nonzero\" fill-opacity=\"1\" /><path clip-path=\"url(#clip200)\" d=\"M358.038 1454.1 Q354.427 1454.1 352.599 1457.66 Q350.793 1461.2 350.793 1468.33 Q350.793 1475.44 352.599 1479.01 Q354.427 1482.55 358.038 1482.55 Q361.673 1482.55 363.478 1479.01 Q365.307 1475.44 365.307 1468.33 Q365.307 1461.2 363.478 1457.66 Q361.673 1454.1 358.038 1454.1 M358.038 1450.39 Q363.849 1450.39 366.904 1455 Q369.983 1459.58 369.983 1468.33 Q369.983 1477.06 366.904 1481.67 Q363.849 1486.25 358.038 1486.25 Q352.228 1486.25 349.15 1481.67 Q346.094 1477.06 346.094 1468.33 Q346.094 1459.58 349.15 1455 Q352.228 1450.39 358.038 1450.39 Z\" fill=\"#000000\" fill-rule=\"nonzero\" fill-opacity=\"1\" /><path clip-path=\"url(#clip200)\" d=\"M757.771 1468.75 L787.447 1468.75 L787.447 1472.69 L757.771 1472.69 L757.771 1468.75 Z\" fill=\"#000000\" fill-rule=\"nonzero\" fill-opacity=\"1\" /><path clip-path=\"url(#clip200)\" d=\"M807.539 1454.1 Q803.928 1454.1 802.099 1457.66 Q800.294 1461.2 800.294 1468.33 Q800.294 1475.44 802.099 1479.01 Q803.928 1482.55 807.539 1482.55 Q811.173 1482.55 812.979 1479.01 Q814.808 1475.44 814.808 1468.33 Q814.808 1461.2 812.979 1457.66 Q811.173 1454.1 807.539 1454.1 M807.539 1450.39 Q813.349 1450.39 816.405 1455 Q819.483 1459.58 819.483 1468.33 Q819.483 1477.06 816.405 1481.67 Q813.349 1486.25 807.539 1486.25 Q801.729 1486.25 798.65 1481.67 Q795.595 1477.06 795.595 1468.33 Q795.595 1459.58 798.65 1455 Q801.729 1450.39 807.539 1450.39 Z\" fill=\"#000000\" fill-rule=\"nonzero\" fill-opacity=\"1\" /><path clip-path=\"url(#clip200)\" d=\"M827.701 1479.7 L832.585 1479.7 L832.585 1485.58 L827.701 1485.58 L827.701 1479.7 Z\" fill=\"#000000\" fill-rule=\"nonzero\" fill-opacity=\"1\" /><path clip-path=\"url(#clip200)\" d=\"M842.817 1451.02 L861.173 1451.02 L861.173 1454.96 L847.099 1454.96 L847.099 1463.43 Q848.118 1463.08 849.136 1462.92 Q850.155 1462.73 851.173 1462.73 Q856.96 1462.73 860.34 1465.9 Q863.719 1469.08 863.719 1474.49 Q863.719 1480.07 860.247 1483.17 Q856.775 1486.25 850.456 1486.25 Q848.28 1486.25 846.011 1485.88 Q843.766 1485.51 841.358 1484.77 L841.358 1480.07 Q843.442 1481.2 845.664 1481.76 Q847.886 1482.32 850.363 1482.32 Q854.368 1482.32 856.705 1480.21 Q859.043 1478.1 859.043 1474.49 Q859.043 1470.88 856.705 1468.77 Q854.368 1466.67 850.363 1466.67 Q848.488 1466.67 846.613 1467.08 Q844.761 1467.5 842.817 1468.38 L842.817 1451.02 Z\" fill=\"#000000\" fill-rule=\"nonzero\" fill-opacity=\"1\" /><path clip-path=\"url(#clip200)\" d=\"M1282.36 1454.1 Q1278.75 1454.1 1276.92 1457.66 Q1275.12 1461.2 1275.12 1468.33 Q1275.12 1475.44 1276.92 1479.01 Q1278.75 1482.55 1282.36 1482.55 Q1286 1482.55 1287.8 1479.01 Q1289.63 1475.44 1289.63 1468.33 Q1289.63 1461.2 1287.8 1457.66 Q1286 1454.1 1282.36 1454.1 M1282.36 1450.39 Q1288.17 1450.39 1291.23 1455 Q1294.31 1459.58 1294.31 1468.33 Q1294.31 1477.06 1291.23 1481.67 Q1288.17 1486.25 1282.36 1486.25 Q1276.55 1486.25 1273.47 1481.67 Q1270.42 1477.06 1270.42 1468.33 Q1270.42 1459.58 1273.47 1455 Q1276.55 1450.39 1282.36 1450.39 Z\" fill=\"#000000\" fill-rule=\"nonzero\" fill-opacity=\"1\" /><path clip-path=\"url(#clip200)\" d=\"M1302.53 1479.7 L1307.41 1479.7 L1307.41 1485.58 L1302.53 1485.58 L1302.53 1479.7 Z\" fill=\"#000000\" fill-rule=\"nonzero\" fill-opacity=\"1\" /><path clip-path=\"url(#clip200)\" d=\"M1327.59 1454.1 Q1323.98 1454.1 1322.16 1457.66 Q1320.35 1461.2 1320.35 1468.33 Q1320.35 1475.44 1322.16 1479.01 Q1323.98 1482.55 1327.59 1482.55 Q1331.23 1482.55 1333.03 1479.01 Q1334.86 1475.44 1334.86 1468.33 Q1334.86 1461.2 1333.03 1457.66 Q1331.23 1454.1 1327.59 1454.1 M1327.59 1450.39 Q1333.41 1450.39 1336.46 1455 Q1339.54 1459.58 1339.54 1468.33 Q1339.54 1477.06 1336.46 1481.67 Q1333.41 1486.25 1327.59 1486.25 Q1321.78 1486.25 1318.71 1481.67 Q1315.65 1477.06 1315.65 1468.33 Q1315.65 1459.58 1318.71 1455 Q1321.78 1450.39 1327.59 1450.39 Z\" fill=\"#000000\" fill-rule=\"nonzero\" fill-opacity=\"1\" /><path clip-path=\"url(#clip200)\" d=\"M1777.1 1454.1 Q1773.48 1454.1 1771.66 1457.66 Q1769.85 1461.2 1769.85 1468.33 Q1769.85 1475.44 1771.66 1479.01 Q1773.48 1482.55 1777.1 1482.55 Q1780.73 1482.55 1782.54 1479.01 Q1784.36 1475.44 1784.36 1468.33 Q1784.36 1461.2 1782.54 1457.66 Q1780.73 1454.1 1777.1 1454.1 M1777.1 1450.39 Q1782.91 1450.39 1785.96 1455 Q1789.04 1459.58 1789.04 1468.33 Q1789.04 1477.06 1785.96 1481.67 Q1782.91 1486.25 1777.1 1486.25 Q1771.29 1486.25 1768.21 1481.67 Q1765.15 1477.06 1765.15 1468.33 Q1765.15 1459.58 1768.21 1455 Q1771.29 1450.39 1777.1 1450.39 Z\" fill=\"#000000\" fill-rule=\"nonzero\" fill-opacity=\"1\" /><path clip-path=\"url(#clip200)\" d=\"M1797.26 1479.7 L1802.14 1479.7 L1802.14 1485.58 L1797.26 1485.58 L1797.26 1479.7 Z\" fill=\"#000000\" fill-rule=\"nonzero\" fill-opacity=\"1\" /><path clip-path=\"url(#clip200)\" d=\"M1812.37 1451.02 L1830.73 1451.02 L1830.73 1454.96 L1816.66 1454.96 L1816.66 1463.43 Q1817.67 1463.08 1818.69 1462.92 Q1819.71 1462.73 1820.73 1462.73 Q1826.52 1462.73 1829.9 1465.9 Q1833.28 1469.08 1833.28 1474.49 Q1833.28 1480.07 1829.8 1483.17 Q1826.33 1486.25 1820.01 1486.25 Q1817.84 1486.25 1815.57 1485.88 Q1813.32 1485.51 1810.91 1484.77 L1810.91 1480.07 Q1813 1481.2 1815.22 1481.76 Q1817.44 1482.32 1819.92 1482.32 Q1823.92 1482.32 1826.26 1480.21 Q1828.6 1478.1 1828.6 1474.49 Q1828.6 1470.88 1826.26 1468.77 Q1823.92 1466.67 1819.92 1466.67 Q1818.04 1466.67 1816.17 1467.08 Q1814.32 1467.5 1812.37 1468.38 L1812.37 1451.02 Z\" fill=\"#000000\" fill-rule=\"nonzero\" fill-opacity=\"1\" /><path clip-path=\"url(#clip200)\" d=\"M2260.6 1481.64 L2268.24 1481.64 L2268.24 1455.28 L2259.93 1456.95 L2259.93 1452.69 L2268.19 1451.02 L2272.87 1451.02 L2272.87 1481.64 L2280.51 1481.64 L2280.51 1485.58 L2260.6 1485.58 L2260.6 1481.64 Z\" fill=\"#000000\" fill-rule=\"nonzero\" fill-opacity=\"1\" /><path clip-path=\"url(#clip200)\" d=\"M2289.95 1479.7 L2294.84 1479.7 L2294.84 1485.58 L2289.95 1485.58 L2289.95 1479.7 Z\" fill=\"#000000\" fill-rule=\"nonzero\" fill-opacity=\"1\" /><path clip-path=\"url(#clip200)\" d=\"M2315.02 1454.1 Q2311.41 1454.1 2309.58 1457.66 Q2307.78 1461.2 2307.78 1468.33 Q2307.78 1475.44 2309.58 1479.01 Q2311.41 1482.55 2315.02 1482.55 Q2318.66 1482.55 2320.46 1479.01 Q2322.29 1475.44 2322.29 1468.33 Q2322.29 1461.2 2320.46 1457.66 Q2318.66 1454.1 2315.02 1454.1 M2315.02 1450.39 Q2320.83 1450.39 2323.89 1455 Q2326.97 1459.58 2326.97 1468.33 Q2326.97 1477.06 2323.89 1481.67 Q2320.83 1486.25 2315.02 1486.25 Q2309.21 1486.25 2306.13 1481.67 Q2303.08 1477.06 2303.08 1468.33 Q2303.08 1459.58 2306.13 1455 Q2309.21 1450.39 2315.02 1450.39 Z\" fill=\"#000000\" fill-rule=\"nonzero\" fill-opacity=\"1\" /><path clip-path=\"url(#clip200)\" d=\"M1247.56 1545.76 Q1249.63 1546.46 1251.57 1548.76 Q1253.55 1551.05 1255.52 1555.06 L1262.04 1568.04 L1255.14 1568.04 L1249.06 1555.85 Q1246.7 1551.08 1244.47 1549.52 Q1242.28 1547.96 1238.46 1547.96 L1231.46 1547.96 L1231.46 1568.04 L1225.03 1568.04 L1225.03 1520.52 L1239.54 1520.52 Q1247.69 1520.52 1251.7 1523.93 Q1255.71 1527.34 1255.71 1534.21 Q1255.71 1538.7 1253.61 1541.66 Q1251.54 1544.62 1247.56 1545.76 M1231.46 1525.81 L1231.46 1542.68 L1239.54 1542.68 Q1244.19 1542.68 1246.54 1540.54 Q1248.93 1538.38 1248.93 1534.21 Q1248.93 1530.04 1246.54 1527.94 Q1244.19 1525.81 1239.54 1525.81 L1231.46 1525.81 Z\" fill=\"#000000\" fill-rule=\"nonzero\" fill-opacity=\"1\" /><path clip-path=\"url(#clip200)\" d=\"M1297.63 1548.76 L1297.63 1551.62 L1270.7 1551.62 Q1271.08 1557.67 1274.33 1560.85 Q1277.61 1564 1283.43 1564 Q1286.81 1564 1289.96 1563.17 Q1293.14 1562.35 1296.26 1560.69 L1296.26 1566.23 Q1293.11 1567.57 1289.8 1568.27 Q1286.49 1568.97 1283.08 1568.97 Q1274.55 1568.97 1269.55 1564 Q1264.59 1559.04 1264.59 1550.57 Q1264.59 1541.82 1269.3 1536.69 Q1274.04 1531.54 1282.06 1531.54 Q1289.26 1531.54 1293.43 1536.18 Q1297.63 1540.8 1297.63 1548.76 M1291.77 1547.04 Q1291.71 1542.23 1289.07 1539.37 Q1286.46 1536.5 1282.13 1536.5 Q1277.23 1536.5 1274.27 1539.27 Q1271.34 1542.04 1270.89 1547.07 L1291.77 1547.04 Z\" fill=\"#000000\" fill-rule=\"nonzero\" fill-opacity=\"1\" /><path clip-path=\"url(#clip200)\" d=\"M1321.31 1518.58 Q1317.04 1525.9 1314.97 1533.06 Q1312.91 1540.23 1312.91 1547.58 Q1312.91 1554.93 1314.97 1562.16 Q1317.07 1569.35 1321.31 1576.64 L1316.22 1576.64 Q1311.44 1569.16 1309.05 1561.93 Q1306.7 1554.71 1306.7 1547.58 Q1306.7 1540.48 1309.05 1533.29 Q1311.41 1526.09 1316.22 1518.58 L1321.31 1518.58 Z\" fill=\"#000000\" fill-rule=\"nonzero\" fill-opacity=\"1\" /><path clip-path=\"url(#clip200)\" d=\"M1362.3 1532.4 L1349.41 1549.74 L1362.97 1568.04 L1356.06 1568.04 L1345.69 1554.04 L1335.31 1568.04 L1328.41 1568.04 L1342.25 1549.39 L1329.58 1532.4 L1336.49 1532.4 L1345.94 1545.1 L1355.4 1532.4 L1362.3 1532.4 Z\" fill=\"#000000\" fill-rule=\"nonzero\" fill-opacity=\"1\" /><path clip-path=\"url(#clip200)\" d=\"M1370.32 1518.58 L1375.42 1518.58 Q1380.19 1526.09 1382.55 1533.29 Q1384.93 1540.48 1384.93 1547.58 Q1384.93 1554.71 1382.55 1561.93 Q1380.19 1569.16 1375.42 1576.64 L1370.32 1576.64 Q1374.56 1569.35 1376.63 1562.16 Q1378.73 1554.93 1378.73 1547.58 Q1378.73 1540.23 1376.63 1533.06 Q1374.56 1525.9 1370.32 1518.58 Z\" fill=\"#000000\" fill-rule=\"nonzero\" fill-opacity=\"1\" /><polyline clip-path=\"url(#clip200)\" style=\"stroke:#000000; stroke-linecap:round; stroke-linejoin:round; stroke-width:4; stroke-opacity:1; fill:none\" points=\"257.204,1423.18 257.204,47.2441 \"/>\n",
       "<polyline clip-path=\"url(#clip200)\" style=\"stroke:#000000; stroke-linecap:round; stroke-linejoin:round; stroke-width:4; stroke-opacity:1; fill:none\" points=\"257.204,1384.24 276.102,1384.24 \"/>\n",
       "<polyline clip-path=\"url(#clip200)\" style=\"stroke:#000000; stroke-linecap:round; stroke-linejoin:round; stroke-width:4; stroke-opacity:1; fill:none\" points=\"257.204,1059.73 276.102,1059.73 \"/>\n",
       "<polyline clip-path=\"url(#clip200)\" style=\"stroke:#000000; stroke-linecap:round; stroke-linejoin:round; stroke-width:4; stroke-opacity:1; fill:none\" points=\"257.204,735.213 276.102,735.213 \"/>\n",
       "<polyline clip-path=\"url(#clip200)\" style=\"stroke:#000000; stroke-linecap:round; stroke-linejoin:round; stroke-width:4; stroke-opacity:1; fill:none\" points=\"257.204,410.699 276.102,410.699 \"/>\n",
       "<polyline clip-path=\"url(#clip200)\" style=\"stroke:#000000; stroke-linecap:round; stroke-linejoin:round; stroke-width:4; stroke-opacity:1; fill:none\" points=\"257.204,86.1855 276.102,86.1855 \"/>\n",
       "<path clip-path=\"url(#clip200)\" d=\"M114.26 1384.69 L143.936 1384.69 L143.936 1388.63 L114.26 1388.63 L114.26 1384.69 Z\" fill=\"#000000\" fill-rule=\"nonzero\" fill-opacity=\"1\" /><path clip-path=\"url(#clip200)\" d=\"M154.839 1397.58 L162.477 1397.58 L162.477 1371.22 L154.167 1372.89 L154.167 1368.63 L162.431 1366.96 L167.107 1366.96 L167.107 1397.58 L174.746 1397.58 L174.746 1401.52 L154.839 1401.52 L154.839 1397.58 Z\" fill=\"#000000\" fill-rule=\"nonzero\" fill-opacity=\"1\" /><path clip-path=\"url(#clip200)\" d=\"M184.19 1395.64 L189.075 1395.64 L189.075 1401.52 L184.19 1401.52 L184.19 1395.64 Z\" fill=\"#000000\" fill-rule=\"nonzero\" fill-opacity=\"1\" /><path clip-path=\"url(#clip200)\" d=\"M209.26 1370.04 Q205.649 1370.04 203.82 1373.6 Q202.014 1377.15 202.014 1384.27 Q202.014 1391.38 203.82 1394.95 Q205.649 1398.49 209.26 1398.49 Q212.894 1398.49 214.699 1394.95 Q216.528 1391.38 216.528 1384.27 Q216.528 1377.15 214.699 1373.6 Q212.894 1370.04 209.26 1370.04 M209.26 1366.34 Q215.07 1366.34 218.125 1370.94 Q221.204 1375.52 221.204 1384.27 Q221.204 1393 218.125 1397.61 Q215.07 1402.19 209.26 1402.19 Q203.449 1402.19 200.371 1397.61 Q197.315 1393 197.315 1384.27 Q197.315 1375.52 200.371 1370.94 Q203.449 1366.34 209.26 1366.34 Z\" fill=\"#000000\" fill-rule=\"nonzero\" fill-opacity=\"1\" /><path clip-path=\"url(#clip200)\" d=\"M115.256 1060.18 L144.931 1060.18 L144.931 1064.11 L115.256 1064.11 L115.256 1060.18 Z\" fill=\"#000000\" fill-rule=\"nonzero\" fill-opacity=\"1\" /><path clip-path=\"url(#clip200)\" d=\"M165.024 1045.53 Q161.413 1045.53 159.584 1049.09 Q157.778 1052.63 157.778 1059.76 Q157.778 1066.87 159.584 1070.43 Q161.413 1073.97 165.024 1073.97 Q168.658 1073.97 170.464 1070.43 Q172.292 1066.87 172.292 1059.76 Q172.292 1052.63 170.464 1049.09 Q168.658 1045.53 165.024 1045.53 M165.024 1041.82 Q170.834 1041.82 173.889 1046.43 Q176.968 1051.01 176.968 1059.76 Q176.968 1068.49 173.889 1073.09 Q170.834 1077.68 165.024 1077.68 Q159.214 1077.68 156.135 1073.09 Q153.079 1068.49 153.079 1059.76 Q153.079 1051.01 156.135 1046.43 Q159.214 1041.82 165.024 1041.82 Z\" fill=\"#000000\" fill-rule=\"nonzero\" fill-opacity=\"1\" /><path clip-path=\"url(#clip200)\" d=\"M185.186 1071.13 L190.07 1071.13 L190.07 1077.01 L185.186 1077.01 L185.186 1071.13 Z\" fill=\"#000000\" fill-rule=\"nonzero\" fill-opacity=\"1\" /><path clip-path=\"url(#clip200)\" d=\"M200.301 1042.45 L218.658 1042.45 L218.658 1046.38 L204.584 1046.38 L204.584 1054.85 Q205.602 1054.51 206.621 1054.34 Q207.639 1054.16 208.658 1054.16 Q214.445 1054.16 217.824 1057.33 Q221.204 1060.5 221.204 1065.92 Q221.204 1071.5 217.732 1074.6 Q214.26 1077.68 207.94 1077.68 Q205.764 1077.68 203.496 1077.31 Q201.25 1076.94 198.843 1076.2 L198.843 1071.5 Q200.926 1072.63 203.149 1073.19 Q205.371 1073.74 207.848 1073.74 Q211.852 1073.74 214.19 1071.64 Q216.528 1069.53 216.528 1065.92 Q216.528 1062.31 214.19 1060.2 Q211.852 1058.09 207.848 1058.09 Q205.973 1058.09 204.098 1058.51 Q202.246 1058.93 200.301 1059.81 L200.301 1042.45 Z\" fill=\"#000000\" fill-rule=\"nonzero\" fill-opacity=\"1\" /><path clip-path=\"url(#clip200)\" d=\"M164.028 721.011 Q160.417 721.011 158.589 724.576 Q156.783 728.118 156.783 735.248 Q156.783 742.354 158.589 745.919 Q160.417 749.46 164.028 749.46 Q167.663 749.46 169.468 745.919 Q171.297 742.354 171.297 735.248 Q171.297 728.118 169.468 724.576 Q167.663 721.011 164.028 721.011 M164.028 717.308 Q169.839 717.308 172.894 721.914 Q175.973 726.498 175.973 735.248 Q175.973 743.974 172.894 748.581 Q169.839 753.164 164.028 753.164 Q158.218 753.164 155.14 748.581 Q152.084 743.974 152.084 735.248 Q152.084 726.498 155.14 721.914 Q158.218 717.308 164.028 717.308 Z\" fill=\"#000000\" fill-rule=\"nonzero\" fill-opacity=\"1\" /><path clip-path=\"url(#clip200)\" d=\"M184.19 746.613 L189.075 746.613 L189.075 752.493 L184.19 752.493 L184.19 746.613 Z\" fill=\"#000000\" fill-rule=\"nonzero\" fill-opacity=\"1\" /><path clip-path=\"url(#clip200)\" d=\"M209.26 721.011 Q205.649 721.011 203.82 724.576 Q202.014 728.118 202.014 735.248 Q202.014 742.354 203.82 745.919 Q205.649 749.46 209.26 749.46 Q212.894 749.46 214.699 745.919 Q216.528 742.354 216.528 735.248 Q216.528 728.118 214.699 724.576 Q212.894 721.011 209.26 721.011 M209.26 717.308 Q215.07 717.308 218.125 721.914 Q221.204 726.498 221.204 735.248 Q221.204 743.974 218.125 748.581 Q215.07 753.164 209.26 753.164 Q203.449 753.164 200.371 748.581 Q197.315 743.974 197.315 735.248 Q197.315 726.498 200.371 721.914 Q203.449 717.308 209.26 717.308 Z\" fill=\"#000000\" fill-rule=\"nonzero\" fill-opacity=\"1\" /><path clip-path=\"url(#clip200)\" d=\"M165.024 396.498 Q161.413 396.498 159.584 400.063 Q157.778 403.604 157.778 410.734 Q157.778 417.84 159.584 421.405 Q161.413 424.947 165.024 424.947 Q168.658 424.947 170.464 421.405 Q172.292 417.84 172.292 410.734 Q172.292 403.604 170.464 400.063 Q168.658 396.498 165.024 396.498 M165.024 392.794 Q170.834 392.794 173.889 397.401 Q176.968 401.984 176.968 410.734 Q176.968 419.461 173.889 424.067 Q170.834 428.65 165.024 428.65 Q159.214 428.65 156.135 424.067 Q153.079 419.461 153.079 410.734 Q153.079 401.984 156.135 397.401 Q159.214 392.794 165.024 392.794 Z\" fill=\"#000000\" fill-rule=\"nonzero\" fill-opacity=\"1\" /><path clip-path=\"url(#clip200)\" d=\"M185.186 422.1 L190.07 422.1 L190.07 427.979 L185.186 427.979 L185.186 422.1 Z\" fill=\"#000000\" fill-rule=\"nonzero\" fill-opacity=\"1\" /><path clip-path=\"url(#clip200)\" d=\"M200.301 393.419 L218.658 393.419 L218.658 397.354 L204.584 397.354 L204.584 405.826 Q205.602 405.479 206.621 405.317 Q207.639 405.132 208.658 405.132 Q214.445 405.132 217.824 408.303 Q221.204 411.475 221.204 416.891 Q221.204 422.47 217.732 425.572 Q214.26 428.65 207.94 428.65 Q205.764 428.65 203.496 428.28 Q201.25 427.91 198.843 427.169 L198.843 422.47 Q200.926 423.604 203.149 424.16 Q205.371 424.715 207.848 424.715 Q211.852 424.715 214.19 422.609 Q216.528 420.502 216.528 416.891 Q216.528 413.28 214.19 411.174 Q211.852 409.067 207.848 409.067 Q205.973 409.067 204.098 409.484 Q202.246 409.901 200.301 410.78 L200.301 393.419 Z\" fill=\"#000000\" fill-rule=\"nonzero\" fill-opacity=\"1\" /><path clip-path=\"url(#clip200)\" d=\"M154.839 99.5303 L162.477 99.5303 L162.477 73.1647 L154.167 74.8314 L154.167 70.5721 L162.431 68.9055 L167.107 68.9055 L167.107 99.5303 L174.746 99.5303 L174.746 103.465 L154.839 103.465 L154.839 99.5303 Z\" fill=\"#000000\" fill-rule=\"nonzero\" fill-opacity=\"1\" /><path clip-path=\"url(#clip200)\" d=\"M184.19 97.5859 L189.075 97.5859 L189.075 103.465 L184.19 103.465 L184.19 97.5859 Z\" fill=\"#000000\" fill-rule=\"nonzero\" fill-opacity=\"1\" /><path clip-path=\"url(#clip200)\" d=\"M209.26 71.9842 Q205.649 71.9842 203.82 75.5489 Q202.014 79.0906 202.014 86.2202 Q202.014 93.3266 203.82 96.8914 Q205.649 100.433 209.26 100.433 Q212.894 100.433 214.699 96.8914 Q216.528 93.3266 216.528 86.2202 Q216.528 79.0906 214.699 75.5489 Q212.894 71.9842 209.26 71.9842 M209.26 68.2805 Q215.07 68.2805 218.125 72.8869 Q221.204 77.4702 221.204 86.2202 Q221.204 94.947 218.125 99.5535 Q215.07 104.137 209.26 104.137 Q203.449 104.137 200.371 99.5535 Q197.315 94.947 197.315 86.2202 Q197.315 77.4702 200.371 72.8869 Q203.449 68.2805 209.26 68.2805 Z\" fill=\"#000000\" fill-rule=\"nonzero\" fill-opacity=\"1\" /><path clip-path=\"url(#clip200)\" d=\"M16.4842 815.293 L16.4842 808.863 L64.0042 808.863 L64.0042 815.293 L16.4842 815.293 Z\" fill=\"#000000\" fill-rule=\"nonzero\" fill-opacity=\"1\" /><path clip-path=\"url(#clip200)\" d=\"M35.1993 768.568 Q31.2526 766.372 29.3747 763.317 Q27.4968 760.261 27.4968 756.123 Q27.4968 750.553 31.4117 747.53 Q35.2948 744.506 42.4881 744.506 L64.0042 744.506 L64.0042 750.394 L42.679 750.394 Q37.5546 750.394 35.072 752.208 Q32.5894 754.023 32.5894 757.747 Q32.5894 762.298 35.6131 764.94 Q38.6368 767.582 43.8567 767.582 L64.0042 767.582 L64.0042 773.47 L42.679 773.47 Q37.5228 773.47 35.072 775.284 Q32.5894 777.098 32.5894 780.886 Q32.5894 785.374 35.6449 788.016 Q38.6686 790.657 43.8567 790.657 L64.0042 790.657 L64.0042 796.546 L28.3562 796.546 L28.3562 790.657 L33.8944 790.657 Q30.616 788.652 29.0564 785.851 Q27.4968 783.05 27.4968 779.199 Q27.4968 775.316 29.4702 772.61 Q31.4436 769.873 35.1993 768.568 Z\" fill=\"#000000\" fill-rule=\"nonzero\" fill-opacity=\"1\" /><path clip-path=\"url(#clip200)\" d=\"M14.5426 718.757 Q21.8632 723.022 29.0246 725.09 Q36.186 727.159 43.5384 727.159 Q50.8908 727.159 58.1159 725.09 Q65.3091 722.99 72.5979 718.757 L72.5979 723.849 Q65.1182 728.623 57.8931 731.011 Q50.668 733.366 43.5384 733.366 Q36.4406 733.366 29.2474 731.011 Q22.0542 728.655 14.5426 723.849 L14.5426 718.757 Z\" fill=\"#000000\" fill-rule=\"nonzero\" fill-opacity=\"1\" /><path clip-path=\"url(#clip200)\" d=\"M28.3562 677.761 L45.7028 690.652 L64.0042 677.093 L64.0042 684 L49.9996 694.376 L64.0042 704.752 L64.0042 711.659 L45.3526 697.813 L28.3562 710.481 L28.3562 703.574 L41.0558 694.121 L28.3562 684.668 L28.3562 677.761 Z\" fill=\"#000000\" fill-rule=\"nonzero\" fill-opacity=\"1\" /><path clip-path=\"url(#clip200)\" d=\"M14.5426 669.741 L14.5426 664.648 Q22.0542 659.874 29.2474 657.519 Q36.4406 655.131 43.5384 655.131 Q50.668 655.131 57.8931 657.519 Q65.1182 659.874 72.5979 664.648 L72.5979 669.741 Q65.3091 665.507 58.1159 663.439 Q50.8908 661.338 43.5384 661.338 Q36.186 661.338 29.0246 663.439 Q21.8632 665.507 14.5426 669.741 Z\" fill=\"#000000\" fill-rule=\"nonzero\" fill-opacity=\"1\" /><circle clip-path=\"url(#clip202)\" cx=\"820.607\" cy=\"735.213\" r=\"14.4\" fill=\"#009af9\" fill-rule=\"evenodd\" fill-opacity=\"1\" stroke=\"#000000\" stroke-opacity=\"1\" stroke-width=\"3.2\"/>\n",
       "<circle clip-path=\"url(#clip202)\" cx=\"1281.23\" cy=\"832.545\" r=\"14.4\" fill=\"#009af9\" fill-rule=\"evenodd\" fill-opacity=\"1\" stroke=\"#000000\" stroke-opacity=\"1\" stroke-width=\"3.2\"/>\n",
       "<circle clip-path=\"url(#clip202)\" cx=\"1281.23\" cy=\"637.88\" r=\"14.4\" fill=\"#009af9\" fill-rule=\"evenodd\" fill-opacity=\"1\" stroke=\"#000000\" stroke-opacity=\"1\" stroke-width=\"3.2\"/>\n",
       "<circle clip-path=\"url(#clip202)\" cx=\"1304.23\" cy=\"735.213\" r=\"14.4\" fill=\"#009af9\" fill-rule=\"evenodd\" fill-opacity=\"1\" stroke=\"#000000\" stroke-opacity=\"1\" stroke-width=\"3.2\"/>\n",
       "<circle clip-path=\"url(#clip202)\" cx=\"1304.93\" cy=\"735.213\" r=\"14.4\" fill=\"#009af9\" fill-rule=\"evenodd\" fill-opacity=\"1\" stroke=\"#000000\" stroke-opacity=\"1\" stroke-width=\"3.2\"/>\n",
       "<circle clip-path=\"url(#clip202)\" cx=\"1304.98\" cy=\"735.213\" r=\"14.4\" fill=\"#009af9\" fill-rule=\"evenodd\" fill-opacity=\"1\" stroke=\"#000000\" stroke-opacity=\"1\" stroke-width=\"3.2\"/>\n",
       "<circle clip-path=\"url(#clip202)\" cx=\"1304.98\" cy=\"735.213\" r=\"14.4\" fill=\"#009af9\" fill-rule=\"evenodd\" fill-opacity=\"1\" stroke=\"#000000\" stroke-opacity=\"1\" stroke-width=\"3.2\"/>\n",
       "<circle clip-path=\"url(#clip202)\" cx=\"1304.98\" cy=\"735.213\" r=\"14.4\" fill=\"#009af9\" fill-rule=\"evenodd\" fill-opacity=\"1\" stroke=\"#000000\" stroke-opacity=\"1\" stroke-width=\"3.2\"/>\n",
       "<circle clip-path=\"url(#clip202)\" cx=\"1304.98\" cy=\"735.213\" r=\"14.4\" fill=\"#009af9\" fill-rule=\"evenodd\" fill-opacity=\"1\" stroke=\"#000000\" stroke-opacity=\"1\" stroke-width=\"3.2\"/>\n",
       "<circle clip-path=\"url(#clip202)\" cx=\"1304.98\" cy=\"735.213\" r=\"14.4\" fill=\"#009af9\" fill-rule=\"evenodd\" fill-opacity=\"1\" stroke=\"#000000\" stroke-opacity=\"1\" stroke-width=\"3.2\"/>\n",
       "<circle clip-path=\"url(#clip202)\" cx=\"1304.98\" cy=\"735.213\" r=\"14.4\" fill=\"#009af9\" fill-rule=\"evenodd\" fill-opacity=\"1\" stroke=\"#000000\" stroke-opacity=\"1\" stroke-width=\"3.2\"/>\n",
       "<circle clip-path=\"url(#clip202)\" cx=\"1304.98\" cy=\"735.213\" r=\"14.4\" fill=\"#009af9\" fill-rule=\"evenodd\" fill-opacity=\"1\" stroke=\"#000000\" stroke-opacity=\"1\" stroke-width=\"3.2\"/>\n",
       "<circle clip-path=\"url(#clip202)\" cx=\"1304.98\" cy=\"735.213\" r=\"14.4\" fill=\"#009af9\" fill-rule=\"evenodd\" fill-opacity=\"1\" stroke=\"#000000\" stroke-opacity=\"1\" stroke-width=\"3.2\"/>\n",
       "<circle clip-path=\"url(#clip202)\" cx=\"1304.98\" cy=\"735.213\" r=\"14.4\" fill=\"#009af9\" fill-rule=\"evenodd\" fill-opacity=\"1\" stroke=\"#000000\" stroke-opacity=\"1\" stroke-width=\"3.2\"/>\n",
       "<circle clip-path=\"url(#clip202)\" cx=\"1304.98\" cy=\"735.213\" r=\"14.4\" fill=\"#009af9\" fill-rule=\"evenodd\" fill-opacity=\"1\" stroke=\"#000000\" stroke-opacity=\"1\" stroke-width=\"3.2\"/>\n",
       "<circle clip-path=\"url(#clip202)\" cx=\"1304.98\" cy=\"735.213\" r=\"14.4\" fill=\"#009af9\" fill-rule=\"evenodd\" fill-opacity=\"1\" stroke=\"#000000\" stroke-opacity=\"1\" stroke-width=\"3.2\"/>\n",
       "<circle clip-path=\"url(#clip202)\" cx=\"1304.98\" cy=\"735.213\" r=\"14.4\" fill=\"#009af9\" fill-rule=\"evenodd\" fill-opacity=\"1\" stroke=\"#000000\" stroke-opacity=\"1\" stroke-width=\"3.2\"/>\n",
       "<circle clip-path=\"url(#clip202)\" cx=\"1304.98\" cy=\"735.213\" r=\"14.4\" fill=\"#009af9\" fill-rule=\"evenodd\" fill-opacity=\"1\" stroke=\"#000000\" stroke-opacity=\"1\" stroke-width=\"3.2\"/>\n",
       "<circle clip-path=\"url(#clip202)\" cx=\"1304.98\" cy=\"735.213\" r=\"14.4\" fill=\"#009af9\" fill-rule=\"evenodd\" fill-opacity=\"1\" stroke=\"#000000\" stroke-opacity=\"1\" stroke-width=\"3.2\"/>\n",
       "<circle clip-path=\"url(#clip202)\" cx=\"1304.98\" cy=\"735.213\" r=\"14.4\" fill=\"#009af9\" fill-rule=\"evenodd\" fill-opacity=\"1\" stroke=\"#000000\" stroke-opacity=\"1\" stroke-width=\"3.2\"/>\n",
       "<circle clip-path=\"url(#clip202)\" cx=\"1304.98\" cy=\"735.213\" r=\"14.4\" fill=\"#009af9\" fill-rule=\"evenodd\" fill-opacity=\"1\" stroke=\"#000000\" stroke-opacity=\"1\" stroke-width=\"3.2\"/>\n",
       "<circle clip-path=\"url(#clip202)\" cx=\"1304.98\" cy=\"735.213\" r=\"14.4\" fill=\"#009af9\" fill-rule=\"evenodd\" fill-opacity=\"1\" stroke=\"#000000\" stroke-opacity=\"1\" stroke-width=\"3.2\"/>\n",
       "<circle clip-path=\"url(#clip202)\" cx=\"1304.98\" cy=\"735.213\" r=\"14.4\" fill=\"#009af9\" fill-rule=\"evenodd\" fill-opacity=\"1\" stroke=\"#000000\" stroke-opacity=\"1\" stroke-width=\"3.2\"/>\n",
       "<circle clip-path=\"url(#clip202)\" cx=\"1304.98\" cy=\"735.213\" r=\"14.4\" fill=\"#009af9\" fill-rule=\"evenodd\" fill-opacity=\"1\" stroke=\"#000000\" stroke-opacity=\"1\" stroke-width=\"3.2\"/>\n",
       "<circle clip-path=\"url(#clip202)\" cx=\"1304.98\" cy=\"735.213\" r=\"14.4\" fill=\"#009af9\" fill-rule=\"evenodd\" fill-opacity=\"1\" stroke=\"#000000\" stroke-opacity=\"1\" stroke-width=\"3.2\"/>\n",
       "<circle clip-path=\"url(#clip202)\" cx=\"1304.98\" cy=\"735.213\" r=\"14.4\" fill=\"#009af9\" fill-rule=\"evenodd\" fill-opacity=\"1\" stroke=\"#000000\" stroke-opacity=\"1\" stroke-width=\"3.2\"/>\n",
       "<circle clip-path=\"url(#clip202)\" cx=\"1304.98\" cy=\"735.213\" r=\"14.4\" fill=\"#009af9\" fill-rule=\"evenodd\" fill-opacity=\"1\" stroke=\"#000000\" stroke-opacity=\"1\" stroke-width=\"3.2\"/>\n",
       "<circle clip-path=\"url(#clip202)\" cx=\"1304.98\" cy=\"735.213\" r=\"14.4\" fill=\"#009af9\" fill-rule=\"evenodd\" fill-opacity=\"1\" stroke=\"#000000\" stroke-opacity=\"1\" stroke-width=\"3.2\"/>\n",
       "<circle clip-path=\"url(#clip202)\" cx=\"1304.98\" cy=\"735.213\" r=\"14.4\" fill=\"#009af9\" fill-rule=\"evenodd\" fill-opacity=\"1\" stroke=\"#000000\" stroke-opacity=\"1\" stroke-width=\"3.2\"/>\n",
       "<circle clip-path=\"url(#clip202)\" cx=\"1304.98\" cy=\"735.213\" r=\"14.4\" fill=\"#009af9\" fill-rule=\"evenodd\" fill-opacity=\"1\" stroke=\"#000000\" stroke-opacity=\"1\" stroke-width=\"3.2\"/>\n",
       "<circle clip-path=\"url(#clip202)\" cx=\"1304.98\" cy=\"735.213\" r=\"14.4\" fill=\"#009af9\" fill-rule=\"evenodd\" fill-opacity=\"1\" stroke=\"#000000\" stroke-opacity=\"1\" stroke-width=\"3.2\"/>\n",
       "<circle clip-path=\"url(#clip202)\" cx=\"1304.98\" cy=\"735.213\" r=\"14.4\" fill=\"#009af9\" fill-rule=\"evenodd\" fill-opacity=\"1\" stroke=\"#000000\" stroke-opacity=\"1\" stroke-width=\"3.2\"/>\n",
       "<circle clip-path=\"url(#clip202)\" cx=\"1304.98\" cy=\"735.213\" r=\"14.4\" fill=\"#009af9\" fill-rule=\"evenodd\" fill-opacity=\"1\" stroke=\"#000000\" stroke-opacity=\"1\" stroke-width=\"3.2\"/>\n",
       "<circle clip-path=\"url(#clip202)\" cx=\"1304.98\" cy=\"735.213\" r=\"14.4\" fill=\"#009af9\" fill-rule=\"evenodd\" fill-opacity=\"1\" stroke=\"#000000\" stroke-opacity=\"1\" stroke-width=\"3.2\"/>\n",
       "<circle clip-path=\"url(#clip202)\" cx=\"1304.98\" cy=\"735.213\" r=\"14.4\" fill=\"#009af9\" fill-rule=\"evenodd\" fill-opacity=\"1\" stroke=\"#000000\" stroke-opacity=\"1\" stroke-width=\"3.2\"/>\n",
       "<circle clip-path=\"url(#clip202)\" cx=\"1304.98\" cy=\"735.213\" r=\"14.4\" fill=\"#009af9\" fill-rule=\"evenodd\" fill-opacity=\"1\" stroke=\"#000000\" stroke-opacity=\"1\" stroke-width=\"3.2\"/>\n",
       "<circle clip-path=\"url(#clip202)\" cx=\"1304.98\" cy=\"735.213\" r=\"14.4\" fill=\"#009af9\" fill-rule=\"evenodd\" fill-opacity=\"1\" stroke=\"#000000\" stroke-opacity=\"1\" stroke-width=\"3.2\"/>\n",
       "<circle clip-path=\"url(#clip202)\" cx=\"1304.98\" cy=\"735.213\" r=\"14.4\" fill=\"#009af9\" fill-rule=\"evenodd\" fill-opacity=\"1\" stroke=\"#000000\" stroke-opacity=\"1\" stroke-width=\"3.2\"/>\n",
       "<circle clip-path=\"url(#clip202)\" cx=\"1304.98\" cy=\"735.213\" r=\"14.4\" fill=\"#009af9\" fill-rule=\"evenodd\" fill-opacity=\"1\" stroke=\"#000000\" stroke-opacity=\"1\" stroke-width=\"3.2\"/>\n",
       "<circle clip-path=\"url(#clip202)\" cx=\"1304.98\" cy=\"735.213\" r=\"14.4\" fill=\"#009af9\" fill-rule=\"evenodd\" fill-opacity=\"1\" stroke=\"#000000\" stroke-opacity=\"1\" stroke-width=\"3.2\"/>\n",
       "<circle clip-path=\"url(#clip202)\" cx=\"1304.98\" cy=\"735.213\" r=\"14.4\" fill=\"#009af9\" fill-rule=\"evenodd\" fill-opacity=\"1\" stroke=\"#000000\" stroke-opacity=\"1\" stroke-width=\"3.2\"/>\n",
       "<circle clip-path=\"url(#clip202)\" cx=\"1304.98\" cy=\"735.213\" r=\"14.4\" fill=\"#009af9\" fill-rule=\"evenodd\" fill-opacity=\"1\" stroke=\"#000000\" stroke-opacity=\"1\" stroke-width=\"3.2\"/>\n",
       "<circle clip-path=\"url(#clip202)\" cx=\"1304.98\" cy=\"735.213\" r=\"14.4\" fill=\"#009af9\" fill-rule=\"evenodd\" fill-opacity=\"1\" stroke=\"#000000\" stroke-opacity=\"1\" stroke-width=\"3.2\"/>\n",
       "<circle clip-path=\"url(#clip202)\" cx=\"1304.98\" cy=\"735.213\" r=\"14.4\" fill=\"#009af9\" fill-rule=\"evenodd\" fill-opacity=\"1\" stroke=\"#000000\" stroke-opacity=\"1\" stroke-width=\"3.2\"/>\n",
       "<circle clip-path=\"url(#clip202)\" cx=\"1304.98\" cy=\"735.213\" r=\"14.4\" fill=\"#009af9\" fill-rule=\"evenodd\" fill-opacity=\"1\" stroke=\"#000000\" stroke-opacity=\"1\" stroke-width=\"3.2\"/>\n",
       "<circle clip-path=\"url(#clip202)\" cx=\"1304.98\" cy=\"735.213\" r=\"14.4\" fill=\"#009af9\" fill-rule=\"evenodd\" fill-opacity=\"1\" stroke=\"#000000\" stroke-opacity=\"1\" stroke-width=\"3.2\"/>\n",
       "<circle clip-path=\"url(#clip202)\" cx=\"1304.98\" cy=\"735.213\" r=\"14.4\" fill=\"#009af9\" fill-rule=\"evenodd\" fill-opacity=\"1\" stroke=\"#000000\" stroke-opacity=\"1\" stroke-width=\"3.2\"/>\n",
       "<circle clip-path=\"url(#clip202)\" cx=\"1304.98\" cy=\"735.213\" r=\"14.4\" fill=\"#009af9\" fill-rule=\"evenodd\" fill-opacity=\"1\" stroke=\"#000000\" stroke-opacity=\"1\" stroke-width=\"3.2\"/>\n",
       "<circle clip-path=\"url(#clip202)\" cx=\"1304.98\" cy=\"735.213\" r=\"14.4\" fill=\"#009af9\" fill-rule=\"evenodd\" fill-opacity=\"1\" stroke=\"#000000\" stroke-opacity=\"1\" stroke-width=\"3.2\"/>\n",
       "<circle clip-path=\"url(#clip202)\" cx=\"1304.98\" cy=\"735.213\" r=\"14.4\" fill=\"#009af9\" fill-rule=\"evenodd\" fill-opacity=\"1\" stroke=\"#000000\" stroke-opacity=\"1\" stroke-width=\"3.2\"/>\n",
       "<circle clip-path=\"url(#clip202)\" cx=\"1304.98\" cy=\"735.213\" r=\"14.4\" fill=\"#009af9\" fill-rule=\"evenodd\" fill-opacity=\"1\" stroke=\"#000000\" stroke-opacity=\"1\" stroke-width=\"3.2\"/>\n",
       "<circle clip-path=\"url(#clip202)\" cx=\"1304.98\" cy=\"735.213\" r=\"14.4\" fill=\"#009af9\" fill-rule=\"evenodd\" fill-opacity=\"1\" stroke=\"#000000\" stroke-opacity=\"1\" stroke-width=\"3.2\"/>\n",
       "<circle clip-path=\"url(#clip202)\" cx=\"1304.98\" cy=\"735.213\" r=\"14.4\" fill=\"#009af9\" fill-rule=\"evenodd\" fill-opacity=\"1\" stroke=\"#000000\" stroke-opacity=\"1\" stroke-width=\"3.2\"/>\n",
       "<circle clip-path=\"url(#clip202)\" cx=\"1304.98\" cy=\"735.213\" r=\"14.4\" fill=\"#009af9\" fill-rule=\"evenodd\" fill-opacity=\"1\" stroke=\"#000000\" stroke-opacity=\"1\" stroke-width=\"3.2\"/>\n",
       "<circle clip-path=\"url(#clip202)\" cx=\"1304.98\" cy=\"735.213\" r=\"14.4\" fill=\"#009af9\" fill-rule=\"evenodd\" fill-opacity=\"1\" stroke=\"#000000\" stroke-opacity=\"1\" stroke-width=\"3.2\"/>\n",
       "<circle clip-path=\"url(#clip202)\" cx=\"1304.98\" cy=\"735.213\" r=\"14.4\" fill=\"#009af9\" fill-rule=\"evenodd\" fill-opacity=\"1\" stroke=\"#000000\" stroke-opacity=\"1\" stroke-width=\"3.2\"/>\n",
       "<circle clip-path=\"url(#clip202)\" cx=\"1304.98\" cy=\"735.213\" r=\"14.4\" fill=\"#009af9\" fill-rule=\"evenodd\" fill-opacity=\"1\" stroke=\"#000000\" stroke-opacity=\"1\" stroke-width=\"3.2\"/>\n",
       "<circle clip-path=\"url(#clip202)\" cx=\"1304.98\" cy=\"735.213\" r=\"14.4\" fill=\"#009af9\" fill-rule=\"evenodd\" fill-opacity=\"1\" stroke=\"#000000\" stroke-opacity=\"1\" stroke-width=\"3.2\"/>\n",
       "<circle clip-path=\"url(#clip202)\" cx=\"1304.98\" cy=\"735.213\" r=\"14.4\" fill=\"#009af9\" fill-rule=\"evenodd\" fill-opacity=\"1\" stroke=\"#000000\" stroke-opacity=\"1\" stroke-width=\"3.2\"/>\n",
       "<circle clip-path=\"url(#clip202)\" cx=\"1304.98\" cy=\"735.213\" r=\"14.4\" fill=\"#009af9\" fill-rule=\"evenodd\" fill-opacity=\"1\" stroke=\"#000000\" stroke-opacity=\"1\" stroke-width=\"3.2\"/>\n",
       "<circle clip-path=\"url(#clip202)\" cx=\"1304.98\" cy=\"735.213\" r=\"14.4\" fill=\"#009af9\" fill-rule=\"evenodd\" fill-opacity=\"1\" stroke=\"#000000\" stroke-opacity=\"1\" stroke-width=\"3.2\"/>\n",
       "<circle clip-path=\"url(#clip202)\" cx=\"1304.98\" cy=\"735.213\" r=\"14.4\" fill=\"#009af9\" fill-rule=\"evenodd\" fill-opacity=\"1\" stroke=\"#000000\" stroke-opacity=\"1\" stroke-width=\"3.2\"/>\n",
       "<circle clip-path=\"url(#clip202)\" cx=\"1304.98\" cy=\"735.213\" r=\"14.4\" fill=\"#009af9\" fill-rule=\"evenodd\" fill-opacity=\"1\" stroke=\"#000000\" stroke-opacity=\"1\" stroke-width=\"3.2\"/>\n",
       "<circle clip-path=\"url(#clip202)\" cx=\"1304.98\" cy=\"735.213\" r=\"14.4\" fill=\"#009af9\" fill-rule=\"evenodd\" fill-opacity=\"1\" stroke=\"#000000\" stroke-opacity=\"1\" stroke-width=\"3.2\"/>\n",
       "<circle clip-path=\"url(#clip202)\" cx=\"1304.98\" cy=\"735.213\" r=\"14.4\" fill=\"#009af9\" fill-rule=\"evenodd\" fill-opacity=\"1\" stroke=\"#000000\" stroke-opacity=\"1\" stroke-width=\"3.2\"/>\n",
       "<circle clip-path=\"url(#clip202)\" cx=\"1304.98\" cy=\"735.213\" r=\"14.4\" fill=\"#009af9\" fill-rule=\"evenodd\" fill-opacity=\"1\" stroke=\"#000000\" stroke-opacity=\"1\" stroke-width=\"3.2\"/>\n",
       "<circle clip-path=\"url(#clip202)\" cx=\"1304.98\" cy=\"735.213\" r=\"14.4\" fill=\"#009af9\" fill-rule=\"evenodd\" fill-opacity=\"1\" stroke=\"#000000\" stroke-opacity=\"1\" stroke-width=\"3.2\"/>\n",
       "<circle clip-path=\"url(#clip202)\" cx=\"1304.98\" cy=\"735.213\" r=\"14.4\" fill=\"#009af9\" fill-rule=\"evenodd\" fill-opacity=\"1\" stroke=\"#000000\" stroke-opacity=\"1\" stroke-width=\"3.2\"/>\n",
       "<circle clip-path=\"url(#clip202)\" cx=\"1304.98\" cy=\"735.213\" r=\"14.4\" fill=\"#009af9\" fill-rule=\"evenodd\" fill-opacity=\"1\" stroke=\"#000000\" stroke-opacity=\"1\" stroke-width=\"3.2\"/>\n",
       "<circle clip-path=\"url(#clip202)\" cx=\"1304.98\" cy=\"735.213\" r=\"14.4\" fill=\"#009af9\" fill-rule=\"evenodd\" fill-opacity=\"1\" stroke=\"#000000\" stroke-opacity=\"1\" stroke-width=\"3.2\"/>\n",
       "<circle clip-path=\"url(#clip202)\" cx=\"1304.98\" cy=\"735.213\" r=\"14.4\" fill=\"#009af9\" fill-rule=\"evenodd\" fill-opacity=\"1\" stroke=\"#000000\" stroke-opacity=\"1\" stroke-width=\"3.2\"/>\n",
       "<circle clip-path=\"url(#clip202)\" cx=\"1304.98\" cy=\"735.213\" r=\"14.4\" fill=\"#009af9\" fill-rule=\"evenodd\" fill-opacity=\"1\" stroke=\"#000000\" stroke-opacity=\"1\" stroke-width=\"3.2\"/>\n",
       "<circle clip-path=\"url(#clip202)\" cx=\"1304.98\" cy=\"735.213\" r=\"14.4\" fill=\"#009af9\" fill-rule=\"evenodd\" fill-opacity=\"1\" stroke=\"#000000\" stroke-opacity=\"1\" stroke-width=\"3.2\"/>\n",
       "<circle clip-path=\"url(#clip202)\" cx=\"1304.98\" cy=\"735.213\" r=\"14.4\" fill=\"#009af9\" fill-rule=\"evenodd\" fill-opacity=\"1\" stroke=\"#000000\" stroke-opacity=\"1\" stroke-width=\"3.2\"/>\n",
       "<circle clip-path=\"url(#clip202)\" cx=\"1304.98\" cy=\"735.213\" r=\"14.4\" fill=\"#009af9\" fill-rule=\"evenodd\" fill-opacity=\"1\" stroke=\"#000000\" stroke-opacity=\"1\" stroke-width=\"3.2\"/>\n",
       "<circle clip-path=\"url(#clip202)\" cx=\"1304.98\" cy=\"735.213\" r=\"14.4\" fill=\"#009af9\" fill-rule=\"evenodd\" fill-opacity=\"1\" stroke=\"#000000\" stroke-opacity=\"1\" stroke-width=\"3.2\"/>\n",
       "<circle clip-path=\"url(#clip202)\" cx=\"1304.98\" cy=\"735.213\" r=\"14.4\" fill=\"#009af9\" fill-rule=\"evenodd\" fill-opacity=\"1\" stroke=\"#000000\" stroke-opacity=\"1\" stroke-width=\"3.2\"/>\n",
       "<circle clip-path=\"url(#clip202)\" cx=\"1304.98\" cy=\"735.213\" r=\"14.4\" fill=\"#009af9\" fill-rule=\"evenodd\" fill-opacity=\"1\" stroke=\"#000000\" stroke-opacity=\"1\" stroke-width=\"3.2\"/>\n",
       "<circle clip-path=\"url(#clip202)\" cx=\"1304.98\" cy=\"735.213\" r=\"14.4\" fill=\"#009af9\" fill-rule=\"evenodd\" fill-opacity=\"1\" stroke=\"#000000\" stroke-opacity=\"1\" stroke-width=\"3.2\"/>\n",
       "<circle clip-path=\"url(#clip202)\" cx=\"1304.98\" cy=\"735.213\" r=\"14.4\" fill=\"#009af9\" fill-rule=\"evenodd\" fill-opacity=\"1\" stroke=\"#000000\" stroke-opacity=\"1\" stroke-width=\"3.2\"/>\n",
       "<circle clip-path=\"url(#clip202)\" cx=\"1304.98\" cy=\"735.213\" r=\"14.4\" fill=\"#009af9\" fill-rule=\"evenodd\" fill-opacity=\"1\" stroke=\"#000000\" stroke-opacity=\"1\" stroke-width=\"3.2\"/>\n",
       "<circle clip-path=\"url(#clip202)\" cx=\"1304.98\" cy=\"735.213\" r=\"14.4\" fill=\"#009af9\" fill-rule=\"evenodd\" fill-opacity=\"1\" stroke=\"#000000\" stroke-opacity=\"1\" stroke-width=\"3.2\"/>\n",
       "<circle clip-path=\"url(#clip202)\" cx=\"1304.98\" cy=\"735.213\" r=\"14.4\" fill=\"#009af9\" fill-rule=\"evenodd\" fill-opacity=\"1\" stroke=\"#000000\" stroke-opacity=\"1\" stroke-width=\"3.2\"/>\n",
       "<circle clip-path=\"url(#clip202)\" cx=\"1304.98\" cy=\"735.213\" r=\"14.4\" fill=\"#009af9\" fill-rule=\"evenodd\" fill-opacity=\"1\" stroke=\"#000000\" stroke-opacity=\"1\" stroke-width=\"3.2\"/>\n",
       "<circle clip-path=\"url(#clip202)\" cx=\"1304.98\" cy=\"735.213\" r=\"14.4\" fill=\"#009af9\" fill-rule=\"evenodd\" fill-opacity=\"1\" stroke=\"#000000\" stroke-opacity=\"1\" stroke-width=\"3.2\"/>\n",
       "<circle clip-path=\"url(#clip202)\" cx=\"1304.98\" cy=\"735.213\" r=\"14.4\" fill=\"#009af9\" fill-rule=\"evenodd\" fill-opacity=\"1\" stroke=\"#000000\" stroke-opacity=\"1\" stroke-width=\"3.2\"/>\n",
       "<circle clip-path=\"url(#clip202)\" cx=\"1304.98\" cy=\"735.213\" r=\"14.4\" fill=\"#009af9\" fill-rule=\"evenodd\" fill-opacity=\"1\" stroke=\"#000000\" stroke-opacity=\"1\" stroke-width=\"3.2\"/>\n",
       "<circle clip-path=\"url(#clip202)\" cx=\"1304.98\" cy=\"735.213\" r=\"14.4\" fill=\"#009af9\" fill-rule=\"evenodd\" fill-opacity=\"1\" stroke=\"#000000\" stroke-opacity=\"1\" stroke-width=\"3.2\"/>\n",
       "<circle clip-path=\"url(#clip202)\" cx=\"1304.98\" cy=\"735.213\" r=\"14.4\" fill=\"#009af9\" fill-rule=\"evenodd\" fill-opacity=\"1\" stroke=\"#000000\" stroke-opacity=\"1\" stroke-width=\"3.2\"/>\n",
       "<circle clip-path=\"url(#clip202)\" cx=\"1304.98\" cy=\"735.213\" r=\"14.4\" fill=\"#009af9\" fill-rule=\"evenodd\" fill-opacity=\"1\" stroke=\"#000000\" stroke-opacity=\"1\" stroke-width=\"3.2\"/>\n",
       "<circle clip-path=\"url(#clip202)\" cx=\"1304.98\" cy=\"735.213\" r=\"14.4\" fill=\"#009af9\" fill-rule=\"evenodd\" fill-opacity=\"1\" stroke=\"#000000\" stroke-opacity=\"1\" stroke-width=\"3.2\"/>\n",
       "<circle clip-path=\"url(#clip202)\" cx=\"1304.98\" cy=\"735.213\" r=\"14.4\" fill=\"#009af9\" fill-rule=\"evenodd\" fill-opacity=\"1\" stroke=\"#000000\" stroke-opacity=\"1\" stroke-width=\"3.2\"/>\n",
       "<circle clip-path=\"url(#clip202)\" cx=\"1304.98\" cy=\"735.213\" r=\"14.4\" fill=\"#009af9\" fill-rule=\"evenodd\" fill-opacity=\"1\" stroke=\"#000000\" stroke-opacity=\"1\" stroke-width=\"3.2\"/>\n",
       "<circle clip-path=\"url(#clip202)\" cx=\"1304.98\" cy=\"735.213\" r=\"14.4\" fill=\"#009af9\" fill-rule=\"evenodd\" fill-opacity=\"1\" stroke=\"#000000\" stroke-opacity=\"1\" stroke-width=\"3.2\"/>\n",
       "<circle clip-path=\"url(#clip202)\" cx=\"1304.98\" cy=\"735.213\" r=\"14.4\" fill=\"#009af9\" fill-rule=\"evenodd\" fill-opacity=\"1\" stroke=\"#000000\" stroke-opacity=\"1\" stroke-width=\"3.2\"/>\n",
       "<circle clip-path=\"url(#clip202)\" cx=\"1304.98\" cy=\"735.213\" r=\"14.4\" fill=\"#009af9\" fill-rule=\"evenodd\" fill-opacity=\"1\" stroke=\"#000000\" stroke-opacity=\"1\" stroke-width=\"3.2\"/>\n",
       "<circle clip-path=\"url(#clip202)\" cx=\"1304.98\" cy=\"735.213\" r=\"14.4\" fill=\"#009af9\" fill-rule=\"evenodd\" fill-opacity=\"1\" stroke=\"#000000\" stroke-opacity=\"1\" stroke-width=\"3.2\"/>\n",
       "<circle clip-path=\"url(#clip202)\" cx=\"1304.98\" cy=\"735.213\" r=\"14.4\" fill=\"#009af9\" fill-rule=\"evenodd\" fill-opacity=\"1\" stroke=\"#000000\" stroke-opacity=\"1\" stroke-width=\"3.2\"/>\n",
       "<circle clip-path=\"url(#clip202)\" cx=\"1304.98\" cy=\"735.213\" r=\"14.4\" fill=\"#009af9\" fill-rule=\"evenodd\" fill-opacity=\"1\" stroke=\"#000000\" stroke-opacity=\"1\" stroke-width=\"3.2\"/>\n",
       "<circle clip-path=\"url(#clip202)\" cx=\"1304.98\" cy=\"735.213\" r=\"14.4\" fill=\"#009af9\" fill-rule=\"evenodd\" fill-opacity=\"1\" stroke=\"#000000\" stroke-opacity=\"1\" stroke-width=\"3.2\"/>\n",
       "<circle clip-path=\"url(#clip202)\" cx=\"1304.98\" cy=\"735.213\" r=\"14.4\" fill=\"#009af9\" fill-rule=\"evenodd\" fill-opacity=\"1\" stroke=\"#000000\" stroke-opacity=\"1\" stroke-width=\"3.2\"/>\n",
       "<circle clip-path=\"url(#clip202)\" cx=\"1304.98\" cy=\"735.213\" r=\"14.4\" fill=\"#009af9\" fill-rule=\"evenodd\" fill-opacity=\"1\" stroke=\"#000000\" stroke-opacity=\"1\" stroke-width=\"3.2\"/>\n",
       "<circle clip-path=\"url(#clip202)\" cx=\"1304.98\" cy=\"735.213\" r=\"14.4\" fill=\"#009af9\" fill-rule=\"evenodd\" fill-opacity=\"1\" stroke=\"#000000\" stroke-opacity=\"1\" stroke-width=\"3.2\"/>\n",
       "<circle clip-path=\"url(#clip202)\" cx=\"1304.98\" cy=\"735.213\" r=\"14.4\" fill=\"#009af9\" fill-rule=\"evenodd\" fill-opacity=\"1\" stroke=\"#000000\" stroke-opacity=\"1\" stroke-width=\"3.2\"/>\n",
       "<circle clip-path=\"url(#clip202)\" cx=\"1304.98\" cy=\"735.213\" r=\"14.4\" fill=\"#009af9\" fill-rule=\"evenodd\" fill-opacity=\"1\" stroke=\"#000000\" stroke-opacity=\"1\" stroke-width=\"3.2\"/>\n",
       "<circle clip-path=\"url(#clip202)\" cx=\"1304.98\" cy=\"735.213\" r=\"14.4\" fill=\"#009af9\" fill-rule=\"evenodd\" fill-opacity=\"1\" stroke=\"#000000\" stroke-opacity=\"1\" stroke-width=\"3.2\"/>\n",
       "<circle clip-path=\"url(#clip202)\" cx=\"1304.98\" cy=\"735.213\" r=\"14.4\" fill=\"#009af9\" fill-rule=\"evenodd\" fill-opacity=\"1\" stroke=\"#000000\" stroke-opacity=\"1\" stroke-width=\"3.2\"/>\n",
       "<circle clip-path=\"url(#clip202)\" cx=\"1304.98\" cy=\"735.213\" r=\"14.4\" fill=\"#009af9\" fill-rule=\"evenodd\" fill-opacity=\"1\" stroke=\"#000000\" stroke-opacity=\"1\" stroke-width=\"3.2\"/>\n",
       "<circle clip-path=\"url(#clip202)\" cx=\"1304.98\" cy=\"735.213\" r=\"14.4\" fill=\"#009af9\" fill-rule=\"evenodd\" fill-opacity=\"1\" stroke=\"#000000\" stroke-opacity=\"1\" stroke-width=\"3.2\"/>\n",
       "<circle clip-path=\"url(#clip202)\" cx=\"1304.98\" cy=\"735.213\" r=\"14.4\" fill=\"#009af9\" fill-rule=\"evenodd\" fill-opacity=\"1\" stroke=\"#000000\" stroke-opacity=\"1\" stroke-width=\"3.2\"/>\n",
       "<circle clip-path=\"url(#clip202)\" cx=\"1304.98\" cy=\"735.213\" r=\"14.4\" fill=\"#009af9\" fill-rule=\"evenodd\" fill-opacity=\"1\" stroke=\"#000000\" stroke-opacity=\"1\" stroke-width=\"3.2\"/>\n",
       "<circle clip-path=\"url(#clip202)\" cx=\"1304.98\" cy=\"735.213\" r=\"14.4\" fill=\"#009af9\" fill-rule=\"evenodd\" fill-opacity=\"1\" stroke=\"#000000\" stroke-opacity=\"1\" stroke-width=\"3.2\"/>\n",
       "<circle clip-path=\"url(#clip202)\" cx=\"1304.98\" cy=\"735.213\" r=\"14.4\" fill=\"#009af9\" fill-rule=\"evenodd\" fill-opacity=\"1\" stroke=\"#000000\" stroke-opacity=\"1\" stroke-width=\"3.2\"/>\n",
       "<circle clip-path=\"url(#clip202)\" cx=\"1304.98\" cy=\"735.213\" r=\"14.4\" fill=\"#009af9\" fill-rule=\"evenodd\" fill-opacity=\"1\" stroke=\"#000000\" stroke-opacity=\"1\" stroke-width=\"3.2\"/>\n",
       "<circle clip-path=\"url(#clip202)\" cx=\"1304.98\" cy=\"735.213\" r=\"14.4\" fill=\"#009af9\" fill-rule=\"evenodd\" fill-opacity=\"1\" stroke=\"#000000\" stroke-opacity=\"1\" stroke-width=\"3.2\"/>\n",
       "<circle clip-path=\"url(#clip202)\" cx=\"1304.98\" cy=\"735.213\" r=\"14.4\" fill=\"#009af9\" fill-rule=\"evenodd\" fill-opacity=\"1\" stroke=\"#000000\" stroke-opacity=\"1\" stroke-width=\"3.2\"/>\n",
       "<circle clip-path=\"url(#clip202)\" cx=\"1304.98\" cy=\"735.213\" r=\"14.4\" fill=\"#009af9\" fill-rule=\"evenodd\" fill-opacity=\"1\" stroke=\"#000000\" stroke-opacity=\"1\" stroke-width=\"3.2\"/>\n",
       "<circle clip-path=\"url(#clip202)\" cx=\"1304.98\" cy=\"735.213\" r=\"14.4\" fill=\"#009af9\" fill-rule=\"evenodd\" fill-opacity=\"1\" stroke=\"#000000\" stroke-opacity=\"1\" stroke-width=\"3.2\"/>\n",
       "<circle clip-path=\"url(#clip202)\" cx=\"1304.98\" cy=\"735.213\" r=\"14.4\" fill=\"#009af9\" fill-rule=\"evenodd\" fill-opacity=\"1\" stroke=\"#000000\" stroke-opacity=\"1\" stroke-width=\"3.2\"/>\n",
       "<circle clip-path=\"url(#clip202)\" cx=\"1304.98\" cy=\"735.213\" r=\"14.4\" fill=\"#009af9\" fill-rule=\"evenodd\" fill-opacity=\"1\" stroke=\"#000000\" stroke-opacity=\"1\" stroke-width=\"3.2\"/>\n",
       "<circle clip-path=\"url(#clip202)\" cx=\"1304.98\" cy=\"735.213\" r=\"14.4\" fill=\"#009af9\" fill-rule=\"evenodd\" fill-opacity=\"1\" stroke=\"#000000\" stroke-opacity=\"1\" stroke-width=\"3.2\"/>\n",
       "<circle clip-path=\"url(#clip202)\" cx=\"1304.98\" cy=\"735.213\" r=\"14.4\" fill=\"#009af9\" fill-rule=\"evenodd\" fill-opacity=\"1\" stroke=\"#000000\" stroke-opacity=\"1\" stroke-width=\"3.2\"/>\n",
       "<circle clip-path=\"url(#clip202)\" cx=\"1304.98\" cy=\"735.213\" r=\"14.4\" fill=\"#009af9\" fill-rule=\"evenodd\" fill-opacity=\"1\" stroke=\"#000000\" stroke-opacity=\"1\" stroke-width=\"3.2\"/>\n",
       "<circle clip-path=\"url(#clip202)\" cx=\"1304.98\" cy=\"735.213\" r=\"14.4\" fill=\"#009af9\" fill-rule=\"evenodd\" fill-opacity=\"1\" stroke=\"#000000\" stroke-opacity=\"1\" stroke-width=\"3.2\"/>\n",
       "<circle clip-path=\"url(#clip202)\" cx=\"1304.98\" cy=\"735.213\" r=\"14.4\" fill=\"#009af9\" fill-rule=\"evenodd\" fill-opacity=\"1\" stroke=\"#000000\" stroke-opacity=\"1\" stroke-width=\"3.2\"/>\n",
       "<circle clip-path=\"url(#clip202)\" cx=\"1304.98\" cy=\"735.213\" r=\"14.4\" fill=\"#009af9\" fill-rule=\"evenodd\" fill-opacity=\"1\" stroke=\"#000000\" stroke-opacity=\"1\" stroke-width=\"3.2\"/>\n",
       "<circle clip-path=\"url(#clip202)\" cx=\"1304.98\" cy=\"735.213\" r=\"14.4\" fill=\"#009af9\" fill-rule=\"evenodd\" fill-opacity=\"1\" stroke=\"#000000\" stroke-opacity=\"1\" stroke-width=\"3.2\"/>\n",
       "<circle clip-path=\"url(#clip202)\" cx=\"1304.98\" cy=\"735.213\" r=\"14.4\" fill=\"#009af9\" fill-rule=\"evenodd\" fill-opacity=\"1\" stroke=\"#000000\" stroke-opacity=\"1\" stroke-width=\"3.2\"/>\n",
       "<circle clip-path=\"url(#clip202)\" cx=\"1304.98\" cy=\"735.213\" r=\"14.4\" fill=\"#009af9\" fill-rule=\"evenodd\" fill-opacity=\"1\" stroke=\"#000000\" stroke-opacity=\"1\" stroke-width=\"3.2\"/>\n",
       "<circle clip-path=\"url(#clip202)\" cx=\"1304.98\" cy=\"735.213\" r=\"14.4\" fill=\"#009af9\" fill-rule=\"evenodd\" fill-opacity=\"1\" stroke=\"#000000\" stroke-opacity=\"1\" stroke-width=\"3.2\"/>\n",
       "<circle clip-path=\"url(#clip202)\" cx=\"1304.98\" cy=\"735.213\" r=\"14.4\" fill=\"#009af9\" fill-rule=\"evenodd\" fill-opacity=\"1\" stroke=\"#000000\" stroke-opacity=\"1\" stroke-width=\"3.2\"/>\n",
       "<circle clip-path=\"url(#clip202)\" cx=\"1304.98\" cy=\"735.213\" r=\"14.4\" fill=\"#009af9\" fill-rule=\"evenodd\" fill-opacity=\"1\" stroke=\"#000000\" stroke-opacity=\"1\" stroke-width=\"3.2\"/>\n",
       "<circle clip-path=\"url(#clip202)\" cx=\"1304.98\" cy=\"735.213\" r=\"14.4\" fill=\"#009af9\" fill-rule=\"evenodd\" fill-opacity=\"1\" stroke=\"#000000\" stroke-opacity=\"1\" stroke-width=\"3.2\"/>\n",
       "<circle clip-path=\"url(#clip202)\" cx=\"1304.98\" cy=\"735.213\" r=\"14.4\" fill=\"#009af9\" fill-rule=\"evenodd\" fill-opacity=\"1\" stroke=\"#000000\" stroke-opacity=\"1\" stroke-width=\"3.2\"/>\n",
       "<circle clip-path=\"url(#clip202)\" cx=\"1304.98\" cy=\"735.213\" r=\"14.4\" fill=\"#009af9\" fill-rule=\"evenodd\" fill-opacity=\"1\" stroke=\"#000000\" stroke-opacity=\"1\" stroke-width=\"3.2\"/>\n",
       "<circle clip-path=\"url(#clip202)\" cx=\"1304.98\" cy=\"735.213\" r=\"14.4\" fill=\"#009af9\" fill-rule=\"evenodd\" fill-opacity=\"1\" stroke=\"#000000\" stroke-opacity=\"1\" stroke-width=\"3.2\"/>\n",
       "<circle clip-path=\"url(#clip202)\" cx=\"1304.98\" cy=\"735.213\" r=\"14.4\" fill=\"#009af9\" fill-rule=\"evenodd\" fill-opacity=\"1\" stroke=\"#000000\" stroke-opacity=\"1\" stroke-width=\"3.2\"/>\n",
       "<circle clip-path=\"url(#clip202)\" cx=\"1304.98\" cy=\"735.213\" r=\"14.4\" fill=\"#009af9\" fill-rule=\"evenodd\" fill-opacity=\"1\" stroke=\"#000000\" stroke-opacity=\"1\" stroke-width=\"3.2\"/>\n",
       "<circle clip-path=\"url(#clip202)\" cx=\"1304.98\" cy=\"735.213\" r=\"14.4\" fill=\"#009af9\" fill-rule=\"evenodd\" fill-opacity=\"1\" stroke=\"#000000\" stroke-opacity=\"1\" stroke-width=\"3.2\"/>\n",
       "<circle clip-path=\"url(#clip202)\" cx=\"1304.98\" cy=\"735.213\" r=\"14.4\" fill=\"#009af9\" fill-rule=\"evenodd\" fill-opacity=\"1\" stroke=\"#000000\" stroke-opacity=\"1\" stroke-width=\"3.2\"/>\n",
       "<circle clip-path=\"url(#clip202)\" cx=\"1304.98\" cy=\"735.213\" r=\"14.4\" fill=\"#009af9\" fill-rule=\"evenodd\" fill-opacity=\"1\" stroke=\"#000000\" stroke-opacity=\"1\" stroke-width=\"3.2\"/>\n",
       "<circle clip-path=\"url(#clip202)\" cx=\"1304.98\" cy=\"735.213\" r=\"14.4\" fill=\"#009af9\" fill-rule=\"evenodd\" fill-opacity=\"1\" stroke=\"#000000\" stroke-opacity=\"1\" stroke-width=\"3.2\"/>\n",
       "<circle clip-path=\"url(#clip202)\" cx=\"1304.98\" cy=\"735.213\" r=\"14.4\" fill=\"#009af9\" fill-rule=\"evenodd\" fill-opacity=\"1\" stroke=\"#000000\" stroke-opacity=\"1\" stroke-width=\"3.2\"/>\n",
       "<circle clip-path=\"url(#clip202)\" cx=\"1304.98\" cy=\"735.213\" r=\"14.4\" fill=\"#009af9\" fill-rule=\"evenodd\" fill-opacity=\"1\" stroke=\"#000000\" stroke-opacity=\"1\" stroke-width=\"3.2\"/>\n",
       "<circle clip-path=\"url(#clip202)\" cx=\"1304.98\" cy=\"735.213\" r=\"14.4\" fill=\"#009af9\" fill-rule=\"evenodd\" fill-opacity=\"1\" stroke=\"#000000\" stroke-opacity=\"1\" stroke-width=\"3.2\"/>\n",
       "<circle clip-path=\"url(#clip202)\" cx=\"1304.98\" cy=\"735.213\" r=\"14.4\" fill=\"#009af9\" fill-rule=\"evenodd\" fill-opacity=\"1\" stroke=\"#000000\" stroke-opacity=\"1\" stroke-width=\"3.2\"/>\n",
       "<circle clip-path=\"url(#clip202)\" cx=\"1304.98\" cy=\"735.213\" r=\"14.4\" fill=\"#009af9\" fill-rule=\"evenodd\" fill-opacity=\"1\" stroke=\"#000000\" stroke-opacity=\"1\" stroke-width=\"3.2\"/>\n",
       "<circle clip-path=\"url(#clip202)\" cx=\"1304.98\" cy=\"735.213\" r=\"14.4\" fill=\"#009af9\" fill-rule=\"evenodd\" fill-opacity=\"1\" stroke=\"#000000\" stroke-opacity=\"1\" stroke-width=\"3.2\"/>\n",
       "<circle clip-path=\"url(#clip202)\" cx=\"1304.98\" cy=\"735.213\" r=\"14.4\" fill=\"#009af9\" fill-rule=\"evenodd\" fill-opacity=\"1\" stroke=\"#000000\" stroke-opacity=\"1\" stroke-width=\"3.2\"/>\n",
       "<circle clip-path=\"url(#clip202)\" cx=\"1304.98\" cy=\"735.213\" r=\"14.4\" fill=\"#009af9\" fill-rule=\"evenodd\" fill-opacity=\"1\" stroke=\"#000000\" stroke-opacity=\"1\" stroke-width=\"3.2\"/>\n",
       "<circle clip-path=\"url(#clip202)\" cx=\"1304.98\" cy=\"735.213\" r=\"14.4\" fill=\"#009af9\" fill-rule=\"evenodd\" fill-opacity=\"1\" stroke=\"#000000\" stroke-opacity=\"1\" stroke-width=\"3.2\"/>\n",
       "<circle clip-path=\"url(#clip202)\" cx=\"1304.98\" cy=\"735.213\" r=\"14.4\" fill=\"#009af9\" fill-rule=\"evenodd\" fill-opacity=\"1\" stroke=\"#000000\" stroke-opacity=\"1\" stroke-width=\"3.2\"/>\n",
       "<circle clip-path=\"url(#clip202)\" cx=\"1304.98\" cy=\"735.213\" r=\"14.4\" fill=\"#009af9\" fill-rule=\"evenodd\" fill-opacity=\"1\" stroke=\"#000000\" stroke-opacity=\"1\" stroke-width=\"3.2\"/>\n",
       "<circle clip-path=\"url(#clip202)\" cx=\"1304.98\" cy=\"735.213\" r=\"14.4\" fill=\"#009af9\" fill-rule=\"evenodd\" fill-opacity=\"1\" stroke=\"#000000\" stroke-opacity=\"1\" stroke-width=\"3.2\"/>\n",
       "<circle clip-path=\"url(#clip202)\" cx=\"1304.98\" cy=\"735.213\" r=\"14.4\" fill=\"#009af9\" fill-rule=\"evenodd\" fill-opacity=\"1\" stroke=\"#000000\" stroke-opacity=\"1\" stroke-width=\"3.2\"/>\n",
       "<circle clip-path=\"url(#clip202)\" cx=\"1304.98\" cy=\"735.213\" r=\"14.4\" fill=\"#009af9\" fill-rule=\"evenodd\" fill-opacity=\"1\" stroke=\"#000000\" stroke-opacity=\"1\" stroke-width=\"3.2\"/>\n",
       "<circle clip-path=\"url(#clip202)\" cx=\"1304.98\" cy=\"735.213\" r=\"14.4\" fill=\"#009af9\" fill-rule=\"evenodd\" fill-opacity=\"1\" stroke=\"#000000\" stroke-opacity=\"1\" stroke-width=\"3.2\"/>\n",
       "<circle clip-path=\"url(#clip202)\" cx=\"1304.98\" cy=\"735.213\" r=\"14.4\" fill=\"#009af9\" fill-rule=\"evenodd\" fill-opacity=\"1\" stroke=\"#000000\" stroke-opacity=\"1\" stroke-width=\"3.2\"/>\n",
       "<circle clip-path=\"url(#clip202)\" cx=\"1304.98\" cy=\"735.213\" r=\"14.4\" fill=\"#009af9\" fill-rule=\"evenodd\" fill-opacity=\"1\" stroke=\"#000000\" stroke-opacity=\"1\" stroke-width=\"3.2\"/>\n",
       "<circle clip-path=\"url(#clip202)\" cx=\"1304.98\" cy=\"735.213\" r=\"14.4\" fill=\"#009af9\" fill-rule=\"evenodd\" fill-opacity=\"1\" stroke=\"#000000\" stroke-opacity=\"1\" stroke-width=\"3.2\"/>\n",
       "<circle clip-path=\"url(#clip202)\" cx=\"1304.98\" cy=\"735.213\" r=\"14.4\" fill=\"#009af9\" fill-rule=\"evenodd\" fill-opacity=\"1\" stroke=\"#000000\" stroke-opacity=\"1\" stroke-width=\"3.2\"/>\n",
       "<circle clip-path=\"url(#clip202)\" cx=\"1304.98\" cy=\"735.213\" r=\"14.4\" fill=\"#009af9\" fill-rule=\"evenodd\" fill-opacity=\"1\" stroke=\"#000000\" stroke-opacity=\"1\" stroke-width=\"3.2\"/>\n",
       "<circle clip-path=\"url(#clip202)\" cx=\"1304.98\" cy=\"735.213\" r=\"14.4\" fill=\"#009af9\" fill-rule=\"evenodd\" fill-opacity=\"1\" stroke=\"#000000\" stroke-opacity=\"1\" stroke-width=\"3.2\"/>\n",
       "<circle clip-path=\"url(#clip202)\" cx=\"1304.98\" cy=\"735.213\" r=\"14.4\" fill=\"#009af9\" fill-rule=\"evenodd\" fill-opacity=\"1\" stroke=\"#000000\" stroke-opacity=\"1\" stroke-width=\"3.2\"/>\n",
       "<circle clip-path=\"url(#clip202)\" cx=\"1304.98\" cy=\"735.213\" r=\"14.4\" fill=\"#009af9\" fill-rule=\"evenodd\" fill-opacity=\"1\" stroke=\"#000000\" stroke-opacity=\"1\" stroke-width=\"3.2\"/>\n",
       "<circle clip-path=\"url(#clip202)\" cx=\"1304.98\" cy=\"735.213\" r=\"14.4\" fill=\"#009af9\" fill-rule=\"evenodd\" fill-opacity=\"1\" stroke=\"#000000\" stroke-opacity=\"1\" stroke-width=\"3.2\"/>\n",
       "<circle clip-path=\"url(#clip202)\" cx=\"1304.98\" cy=\"735.213\" r=\"14.4\" fill=\"#009af9\" fill-rule=\"evenodd\" fill-opacity=\"1\" stroke=\"#000000\" stroke-opacity=\"1\" stroke-width=\"3.2\"/>\n",
       "<circle clip-path=\"url(#clip202)\" cx=\"1304.98\" cy=\"735.213\" r=\"14.4\" fill=\"#009af9\" fill-rule=\"evenodd\" fill-opacity=\"1\" stroke=\"#000000\" stroke-opacity=\"1\" stroke-width=\"3.2\"/>\n",
       "<circle clip-path=\"url(#clip202)\" cx=\"1304.98\" cy=\"735.213\" r=\"14.4\" fill=\"#009af9\" fill-rule=\"evenodd\" fill-opacity=\"1\" stroke=\"#000000\" stroke-opacity=\"1\" stroke-width=\"3.2\"/>\n",
       "<circle clip-path=\"url(#clip202)\" cx=\"1304.98\" cy=\"735.213\" r=\"14.4\" fill=\"#009af9\" fill-rule=\"evenodd\" fill-opacity=\"1\" stroke=\"#000000\" stroke-opacity=\"1\" stroke-width=\"3.2\"/>\n",
       "<circle clip-path=\"url(#clip202)\" cx=\"1304.98\" cy=\"735.213\" r=\"14.4\" fill=\"#009af9\" fill-rule=\"evenodd\" fill-opacity=\"1\" stroke=\"#000000\" stroke-opacity=\"1\" stroke-width=\"3.2\"/>\n",
       "<circle clip-path=\"url(#clip202)\" cx=\"1304.98\" cy=\"735.213\" r=\"14.4\" fill=\"#009af9\" fill-rule=\"evenodd\" fill-opacity=\"1\" stroke=\"#000000\" stroke-opacity=\"1\" stroke-width=\"3.2\"/>\n",
       "<circle clip-path=\"url(#clip202)\" cx=\"1304.98\" cy=\"735.213\" r=\"14.4\" fill=\"#009af9\" fill-rule=\"evenodd\" fill-opacity=\"1\" stroke=\"#000000\" stroke-opacity=\"1\" stroke-width=\"3.2\"/>\n",
       "<circle clip-path=\"url(#clip202)\" cx=\"1304.98\" cy=\"735.213\" r=\"14.4\" fill=\"#009af9\" fill-rule=\"evenodd\" fill-opacity=\"1\" stroke=\"#000000\" stroke-opacity=\"1\" stroke-width=\"3.2\"/>\n",
       "<circle clip-path=\"url(#clip202)\" cx=\"1304.98\" cy=\"735.213\" r=\"14.4\" fill=\"#009af9\" fill-rule=\"evenodd\" fill-opacity=\"1\" stroke=\"#000000\" stroke-opacity=\"1\" stroke-width=\"3.2\"/>\n",
       "<circle clip-path=\"url(#clip202)\" cx=\"1304.98\" cy=\"735.213\" r=\"14.4\" fill=\"#009af9\" fill-rule=\"evenodd\" fill-opacity=\"1\" stroke=\"#000000\" stroke-opacity=\"1\" stroke-width=\"3.2\"/>\n",
       "<circle clip-path=\"url(#clip202)\" cx=\"1304.98\" cy=\"735.213\" r=\"14.4\" fill=\"#009af9\" fill-rule=\"evenodd\" fill-opacity=\"1\" stroke=\"#000000\" stroke-opacity=\"1\" stroke-width=\"3.2\"/>\n",
       "<circle clip-path=\"url(#clip202)\" cx=\"1304.98\" cy=\"735.213\" r=\"14.4\" fill=\"#009af9\" fill-rule=\"evenodd\" fill-opacity=\"1\" stroke=\"#000000\" stroke-opacity=\"1\" stroke-width=\"3.2\"/>\n",
       "<circle clip-path=\"url(#clip202)\" cx=\"1304.98\" cy=\"735.213\" r=\"14.4\" fill=\"#009af9\" fill-rule=\"evenodd\" fill-opacity=\"1\" stroke=\"#000000\" stroke-opacity=\"1\" stroke-width=\"3.2\"/>\n",
       "<circle clip-path=\"url(#clip202)\" cx=\"1304.98\" cy=\"735.213\" r=\"14.4\" fill=\"#009af9\" fill-rule=\"evenodd\" fill-opacity=\"1\" stroke=\"#000000\" stroke-opacity=\"1\" stroke-width=\"3.2\"/>\n",
       "<circle clip-path=\"url(#clip202)\" cx=\"1304.98\" cy=\"735.213\" r=\"14.4\" fill=\"#009af9\" fill-rule=\"evenodd\" fill-opacity=\"1\" stroke=\"#000000\" stroke-opacity=\"1\" stroke-width=\"3.2\"/>\n",
       "<circle clip-path=\"url(#clip202)\" cx=\"1304.98\" cy=\"735.213\" r=\"14.4\" fill=\"#009af9\" fill-rule=\"evenodd\" fill-opacity=\"1\" stroke=\"#000000\" stroke-opacity=\"1\" stroke-width=\"3.2\"/>\n",
       "<circle clip-path=\"url(#clip202)\" cx=\"1304.98\" cy=\"735.213\" r=\"14.4\" fill=\"#009af9\" fill-rule=\"evenodd\" fill-opacity=\"1\" stroke=\"#000000\" stroke-opacity=\"1\" stroke-width=\"3.2\"/>\n",
       "<circle clip-path=\"url(#clip202)\" cx=\"1304.98\" cy=\"735.213\" r=\"14.4\" fill=\"#009af9\" fill-rule=\"evenodd\" fill-opacity=\"1\" stroke=\"#000000\" stroke-opacity=\"1\" stroke-width=\"3.2\"/>\n",
       "<circle clip-path=\"url(#clip202)\" cx=\"1304.98\" cy=\"735.213\" r=\"14.4\" fill=\"#009af9\" fill-rule=\"evenodd\" fill-opacity=\"1\" stroke=\"#000000\" stroke-opacity=\"1\" stroke-width=\"3.2\"/>\n",
       "<circle clip-path=\"url(#clip202)\" cx=\"1304.98\" cy=\"735.213\" r=\"14.4\" fill=\"#009af9\" fill-rule=\"evenodd\" fill-opacity=\"1\" stroke=\"#000000\" stroke-opacity=\"1\" stroke-width=\"3.2\"/>\n",
       "<circle clip-path=\"url(#clip202)\" cx=\"1304.98\" cy=\"735.213\" r=\"14.4\" fill=\"#009af9\" fill-rule=\"evenodd\" fill-opacity=\"1\" stroke=\"#000000\" stroke-opacity=\"1\" stroke-width=\"3.2\"/>\n",
       "<circle clip-path=\"url(#clip202)\" cx=\"1304.98\" cy=\"735.213\" r=\"14.4\" fill=\"#009af9\" fill-rule=\"evenodd\" fill-opacity=\"1\" stroke=\"#000000\" stroke-opacity=\"1\" stroke-width=\"3.2\"/>\n",
       "<circle clip-path=\"url(#clip202)\" cx=\"1304.98\" cy=\"735.213\" r=\"14.4\" fill=\"#009af9\" fill-rule=\"evenodd\" fill-opacity=\"1\" stroke=\"#000000\" stroke-opacity=\"1\" stroke-width=\"3.2\"/>\n",
       "<circle clip-path=\"url(#clip202)\" cx=\"1304.98\" cy=\"735.213\" r=\"14.4\" fill=\"#009af9\" fill-rule=\"evenodd\" fill-opacity=\"1\" stroke=\"#000000\" stroke-opacity=\"1\" stroke-width=\"3.2\"/>\n",
       "<circle clip-path=\"url(#clip202)\" cx=\"1304.98\" cy=\"735.213\" r=\"14.4\" fill=\"#009af9\" fill-rule=\"evenodd\" fill-opacity=\"1\" stroke=\"#000000\" stroke-opacity=\"1\" stroke-width=\"3.2\"/>\n",
       "<circle clip-path=\"url(#clip202)\" cx=\"1304.98\" cy=\"735.213\" r=\"14.4\" fill=\"#009af9\" fill-rule=\"evenodd\" fill-opacity=\"1\" stroke=\"#000000\" stroke-opacity=\"1\" stroke-width=\"3.2\"/>\n",
       "<circle clip-path=\"url(#clip202)\" cx=\"1304.98\" cy=\"735.213\" r=\"14.4\" fill=\"#009af9\" fill-rule=\"evenodd\" fill-opacity=\"1\" stroke=\"#000000\" stroke-opacity=\"1\" stroke-width=\"3.2\"/>\n",
       "<circle clip-path=\"url(#clip202)\" cx=\"1304.98\" cy=\"735.213\" r=\"14.4\" fill=\"#009af9\" fill-rule=\"evenodd\" fill-opacity=\"1\" stroke=\"#000000\" stroke-opacity=\"1\" stroke-width=\"3.2\"/>\n",
       "<circle clip-path=\"url(#clip202)\" cx=\"1304.98\" cy=\"735.213\" r=\"14.4\" fill=\"#009af9\" fill-rule=\"evenodd\" fill-opacity=\"1\" stroke=\"#000000\" stroke-opacity=\"1\" stroke-width=\"3.2\"/>\n",
       "<circle clip-path=\"url(#clip202)\" cx=\"1304.98\" cy=\"735.213\" r=\"14.4\" fill=\"#009af9\" fill-rule=\"evenodd\" fill-opacity=\"1\" stroke=\"#000000\" stroke-opacity=\"1\" stroke-width=\"3.2\"/>\n",
       "<circle clip-path=\"url(#clip202)\" cx=\"1304.98\" cy=\"735.213\" r=\"14.4\" fill=\"#009af9\" fill-rule=\"evenodd\" fill-opacity=\"1\" stroke=\"#000000\" stroke-opacity=\"1\" stroke-width=\"3.2\"/>\n",
       "<circle clip-path=\"url(#clip202)\" cx=\"1304.98\" cy=\"735.213\" r=\"14.4\" fill=\"#009af9\" fill-rule=\"evenodd\" fill-opacity=\"1\" stroke=\"#000000\" stroke-opacity=\"1\" stroke-width=\"3.2\"/>\n",
       "<circle clip-path=\"url(#clip202)\" cx=\"1304.98\" cy=\"735.213\" r=\"14.4\" fill=\"#009af9\" fill-rule=\"evenodd\" fill-opacity=\"1\" stroke=\"#000000\" stroke-opacity=\"1\" stroke-width=\"3.2\"/>\n",
       "<circle clip-path=\"url(#clip202)\" cx=\"1304.98\" cy=\"735.213\" r=\"14.4\" fill=\"#009af9\" fill-rule=\"evenodd\" fill-opacity=\"1\" stroke=\"#000000\" stroke-opacity=\"1\" stroke-width=\"3.2\"/>\n",
       "<circle clip-path=\"url(#clip202)\" cx=\"1304.98\" cy=\"735.213\" r=\"14.4\" fill=\"#009af9\" fill-rule=\"evenodd\" fill-opacity=\"1\" stroke=\"#000000\" stroke-opacity=\"1\" stroke-width=\"3.2\"/>\n",
       "<circle clip-path=\"url(#clip202)\" cx=\"1304.98\" cy=\"735.213\" r=\"14.4\" fill=\"#009af9\" fill-rule=\"evenodd\" fill-opacity=\"1\" stroke=\"#000000\" stroke-opacity=\"1\" stroke-width=\"3.2\"/>\n",
       "<circle clip-path=\"url(#clip202)\" cx=\"1304.98\" cy=\"735.213\" r=\"14.4\" fill=\"#009af9\" fill-rule=\"evenodd\" fill-opacity=\"1\" stroke=\"#000000\" stroke-opacity=\"1\" stroke-width=\"3.2\"/>\n",
       "<circle clip-path=\"url(#clip202)\" cx=\"1304.98\" cy=\"735.213\" r=\"14.4\" fill=\"#009af9\" fill-rule=\"evenodd\" fill-opacity=\"1\" stroke=\"#000000\" stroke-opacity=\"1\" stroke-width=\"3.2\"/>\n",
       "<circle clip-path=\"url(#clip202)\" cx=\"1304.98\" cy=\"735.213\" r=\"14.4\" fill=\"#009af9\" fill-rule=\"evenodd\" fill-opacity=\"1\" stroke=\"#000000\" stroke-opacity=\"1\" stroke-width=\"3.2\"/>\n",
       "<circle clip-path=\"url(#clip202)\" cx=\"1304.98\" cy=\"735.213\" r=\"14.4\" fill=\"#009af9\" fill-rule=\"evenodd\" fill-opacity=\"1\" stroke=\"#000000\" stroke-opacity=\"1\" stroke-width=\"3.2\"/>\n",
       "<circle clip-path=\"url(#clip202)\" cx=\"1304.98\" cy=\"735.213\" r=\"14.4\" fill=\"#009af9\" fill-rule=\"evenodd\" fill-opacity=\"1\" stroke=\"#000000\" stroke-opacity=\"1\" stroke-width=\"3.2\"/>\n",
       "<circle clip-path=\"url(#clip202)\" cx=\"1304.98\" cy=\"735.213\" r=\"14.4\" fill=\"#009af9\" fill-rule=\"evenodd\" fill-opacity=\"1\" stroke=\"#000000\" stroke-opacity=\"1\" stroke-width=\"3.2\"/>\n",
       "<circle clip-path=\"url(#clip202)\" cx=\"1304.98\" cy=\"735.213\" r=\"14.4\" fill=\"#009af9\" fill-rule=\"evenodd\" fill-opacity=\"1\" stroke=\"#000000\" stroke-opacity=\"1\" stroke-width=\"3.2\"/>\n",
       "<circle clip-path=\"url(#clip202)\" cx=\"1304.98\" cy=\"735.213\" r=\"14.4\" fill=\"#009af9\" fill-rule=\"evenodd\" fill-opacity=\"1\" stroke=\"#000000\" stroke-opacity=\"1\" stroke-width=\"3.2\"/>\n",
       "<circle clip-path=\"url(#clip202)\" cx=\"1304.98\" cy=\"735.213\" r=\"14.4\" fill=\"#009af9\" fill-rule=\"evenodd\" fill-opacity=\"1\" stroke=\"#000000\" stroke-opacity=\"1\" stroke-width=\"3.2\"/>\n",
       "<circle clip-path=\"url(#clip202)\" cx=\"1304.98\" cy=\"735.213\" r=\"14.4\" fill=\"#009af9\" fill-rule=\"evenodd\" fill-opacity=\"1\" stroke=\"#000000\" stroke-opacity=\"1\" stroke-width=\"3.2\"/>\n",
       "<circle clip-path=\"url(#clip202)\" cx=\"1304.98\" cy=\"735.213\" r=\"14.4\" fill=\"#009af9\" fill-rule=\"evenodd\" fill-opacity=\"1\" stroke=\"#000000\" stroke-opacity=\"1\" stroke-width=\"3.2\"/>\n",
       "<circle clip-path=\"url(#clip202)\" cx=\"1304.98\" cy=\"735.213\" r=\"14.4\" fill=\"#009af9\" fill-rule=\"evenodd\" fill-opacity=\"1\" stroke=\"#000000\" stroke-opacity=\"1\" stroke-width=\"3.2\"/>\n",
       "<circle clip-path=\"url(#clip202)\" cx=\"1304.98\" cy=\"735.213\" r=\"14.4\" fill=\"#009af9\" fill-rule=\"evenodd\" fill-opacity=\"1\" stroke=\"#000000\" stroke-opacity=\"1\" stroke-width=\"3.2\"/>\n",
       "<circle clip-path=\"url(#clip202)\" cx=\"1304.98\" cy=\"735.213\" r=\"14.4\" fill=\"#009af9\" fill-rule=\"evenodd\" fill-opacity=\"1\" stroke=\"#000000\" stroke-opacity=\"1\" stroke-width=\"3.2\"/>\n",
       "<circle clip-path=\"url(#clip202)\" cx=\"1304.98\" cy=\"735.213\" r=\"14.4\" fill=\"#009af9\" fill-rule=\"evenodd\" fill-opacity=\"1\" stroke=\"#000000\" stroke-opacity=\"1\" stroke-width=\"3.2\"/>\n",
       "<circle clip-path=\"url(#clip202)\" cx=\"1304.98\" cy=\"735.213\" r=\"14.4\" fill=\"#009af9\" fill-rule=\"evenodd\" fill-opacity=\"1\" stroke=\"#000000\" stroke-opacity=\"1\" stroke-width=\"3.2\"/>\n",
       "<circle clip-path=\"url(#clip202)\" cx=\"1304.98\" cy=\"735.213\" r=\"14.4\" fill=\"#009af9\" fill-rule=\"evenodd\" fill-opacity=\"1\" stroke=\"#000000\" stroke-opacity=\"1\" stroke-width=\"3.2\"/>\n",
       "<circle clip-path=\"url(#clip202)\" cx=\"1304.98\" cy=\"735.213\" r=\"14.4\" fill=\"#009af9\" fill-rule=\"evenodd\" fill-opacity=\"1\" stroke=\"#000000\" stroke-opacity=\"1\" stroke-width=\"3.2\"/>\n",
       "<circle clip-path=\"url(#clip202)\" cx=\"1304.98\" cy=\"735.213\" r=\"14.4\" fill=\"#009af9\" fill-rule=\"evenodd\" fill-opacity=\"1\" stroke=\"#000000\" stroke-opacity=\"1\" stroke-width=\"3.2\"/>\n",
       "<circle clip-path=\"url(#clip202)\" cx=\"1304.98\" cy=\"735.213\" r=\"14.4\" fill=\"#009af9\" fill-rule=\"evenodd\" fill-opacity=\"1\" stroke=\"#000000\" stroke-opacity=\"1\" stroke-width=\"3.2\"/>\n",
       "<circle clip-path=\"url(#clip202)\" cx=\"1304.98\" cy=\"735.213\" r=\"14.4\" fill=\"#009af9\" fill-rule=\"evenodd\" fill-opacity=\"1\" stroke=\"#000000\" stroke-opacity=\"1\" stroke-width=\"3.2\"/>\n",
       "<circle clip-path=\"url(#clip202)\" cx=\"1304.98\" cy=\"735.213\" r=\"14.4\" fill=\"#009af9\" fill-rule=\"evenodd\" fill-opacity=\"1\" stroke=\"#000000\" stroke-opacity=\"1\" stroke-width=\"3.2\"/>\n",
       "<circle clip-path=\"url(#clip202)\" cx=\"1304.98\" cy=\"735.213\" r=\"14.4\" fill=\"#009af9\" fill-rule=\"evenodd\" fill-opacity=\"1\" stroke=\"#000000\" stroke-opacity=\"1\" stroke-width=\"3.2\"/>\n",
       "<circle clip-path=\"url(#clip202)\" cx=\"1304.98\" cy=\"735.213\" r=\"14.4\" fill=\"#009af9\" fill-rule=\"evenodd\" fill-opacity=\"1\" stroke=\"#000000\" stroke-opacity=\"1\" stroke-width=\"3.2\"/>\n",
       "<circle clip-path=\"url(#clip202)\" cx=\"1304.98\" cy=\"735.213\" r=\"14.4\" fill=\"#009af9\" fill-rule=\"evenodd\" fill-opacity=\"1\" stroke=\"#000000\" stroke-opacity=\"1\" stroke-width=\"3.2\"/>\n",
       "<circle clip-path=\"url(#clip202)\" cx=\"1304.98\" cy=\"735.213\" r=\"14.4\" fill=\"#009af9\" fill-rule=\"evenodd\" fill-opacity=\"1\" stroke=\"#000000\" stroke-opacity=\"1\" stroke-width=\"3.2\"/>\n",
       "<circle clip-path=\"url(#clip202)\" cx=\"1304.98\" cy=\"735.213\" r=\"14.4\" fill=\"#009af9\" fill-rule=\"evenodd\" fill-opacity=\"1\" stroke=\"#000000\" stroke-opacity=\"1\" stroke-width=\"3.2\"/>\n",
       "<circle clip-path=\"url(#clip202)\" cx=\"1304.98\" cy=\"735.213\" r=\"14.4\" fill=\"#009af9\" fill-rule=\"evenodd\" fill-opacity=\"1\" stroke=\"#000000\" stroke-opacity=\"1\" stroke-width=\"3.2\"/>\n",
       "<circle clip-path=\"url(#clip202)\" cx=\"1304.98\" cy=\"735.213\" r=\"14.4\" fill=\"#009af9\" fill-rule=\"evenodd\" fill-opacity=\"1\" stroke=\"#000000\" stroke-opacity=\"1\" stroke-width=\"3.2\"/>\n",
       "<circle clip-path=\"url(#clip202)\" cx=\"1304.98\" cy=\"735.213\" r=\"14.4\" fill=\"#009af9\" fill-rule=\"evenodd\" fill-opacity=\"1\" stroke=\"#000000\" stroke-opacity=\"1\" stroke-width=\"3.2\"/>\n",
       "<circle clip-path=\"url(#clip202)\" cx=\"1304.98\" cy=\"735.213\" r=\"14.4\" fill=\"#009af9\" fill-rule=\"evenodd\" fill-opacity=\"1\" stroke=\"#000000\" stroke-opacity=\"1\" stroke-width=\"3.2\"/>\n",
       "<circle clip-path=\"url(#clip202)\" cx=\"1304.98\" cy=\"735.213\" r=\"14.4\" fill=\"#009af9\" fill-rule=\"evenodd\" fill-opacity=\"1\" stroke=\"#000000\" stroke-opacity=\"1\" stroke-width=\"3.2\"/>\n",
       "<circle clip-path=\"url(#clip202)\" cx=\"1304.98\" cy=\"735.213\" r=\"14.4\" fill=\"#009af9\" fill-rule=\"evenodd\" fill-opacity=\"1\" stroke=\"#000000\" stroke-opacity=\"1\" stroke-width=\"3.2\"/>\n",
       "<circle clip-path=\"url(#clip202)\" cx=\"1304.98\" cy=\"735.213\" r=\"14.4\" fill=\"#009af9\" fill-rule=\"evenodd\" fill-opacity=\"1\" stroke=\"#000000\" stroke-opacity=\"1\" stroke-width=\"3.2\"/>\n",
       "<circle clip-path=\"url(#clip202)\" cx=\"1304.98\" cy=\"735.213\" r=\"14.4\" fill=\"#009af9\" fill-rule=\"evenodd\" fill-opacity=\"1\" stroke=\"#000000\" stroke-opacity=\"1\" stroke-width=\"3.2\"/>\n",
       "<circle clip-path=\"url(#clip202)\" cx=\"1304.98\" cy=\"735.213\" r=\"14.4\" fill=\"#009af9\" fill-rule=\"evenodd\" fill-opacity=\"1\" stroke=\"#000000\" stroke-opacity=\"1\" stroke-width=\"3.2\"/>\n",
       "<circle clip-path=\"url(#clip202)\" cx=\"1304.98\" cy=\"735.213\" r=\"14.4\" fill=\"#009af9\" fill-rule=\"evenodd\" fill-opacity=\"1\" stroke=\"#000000\" stroke-opacity=\"1\" stroke-width=\"3.2\"/>\n",
       "<circle clip-path=\"url(#clip202)\" cx=\"1304.98\" cy=\"735.213\" r=\"14.4\" fill=\"#009af9\" fill-rule=\"evenodd\" fill-opacity=\"1\" stroke=\"#000000\" stroke-opacity=\"1\" stroke-width=\"3.2\"/>\n",
       "<circle clip-path=\"url(#clip202)\" cx=\"1304.98\" cy=\"735.213\" r=\"14.4\" fill=\"#009af9\" fill-rule=\"evenodd\" fill-opacity=\"1\" stroke=\"#000000\" stroke-opacity=\"1\" stroke-width=\"3.2\"/>\n",
       "<circle clip-path=\"url(#clip202)\" cx=\"1304.98\" cy=\"735.213\" r=\"14.4\" fill=\"#009af9\" fill-rule=\"evenodd\" fill-opacity=\"1\" stroke=\"#000000\" stroke-opacity=\"1\" stroke-width=\"3.2\"/>\n",
       "<circle clip-path=\"url(#clip202)\" cx=\"1304.98\" cy=\"735.213\" r=\"14.4\" fill=\"#009af9\" fill-rule=\"evenodd\" fill-opacity=\"1\" stroke=\"#000000\" stroke-opacity=\"1\" stroke-width=\"3.2\"/>\n",
       "<circle clip-path=\"url(#clip202)\" cx=\"1304.98\" cy=\"735.213\" r=\"14.4\" fill=\"#009af9\" fill-rule=\"evenodd\" fill-opacity=\"1\" stroke=\"#000000\" stroke-opacity=\"1\" stroke-width=\"3.2\"/>\n",
       "<circle clip-path=\"url(#clip202)\" cx=\"1304.98\" cy=\"735.213\" r=\"14.4\" fill=\"#009af9\" fill-rule=\"evenodd\" fill-opacity=\"1\" stroke=\"#000000\" stroke-opacity=\"1\" stroke-width=\"3.2\"/>\n",
       "<circle clip-path=\"url(#clip202)\" cx=\"1304.98\" cy=\"735.213\" r=\"14.4\" fill=\"#009af9\" fill-rule=\"evenodd\" fill-opacity=\"1\" stroke=\"#000000\" stroke-opacity=\"1\" stroke-width=\"3.2\"/>\n",
       "<circle clip-path=\"url(#clip202)\" cx=\"1304.98\" cy=\"735.213\" r=\"14.4\" fill=\"#009af9\" fill-rule=\"evenodd\" fill-opacity=\"1\" stroke=\"#000000\" stroke-opacity=\"1\" stroke-width=\"3.2\"/>\n",
       "<circle clip-path=\"url(#clip202)\" cx=\"1304.98\" cy=\"735.213\" r=\"14.4\" fill=\"#009af9\" fill-rule=\"evenodd\" fill-opacity=\"1\" stroke=\"#000000\" stroke-opacity=\"1\" stroke-width=\"3.2\"/>\n",
       "<circle clip-path=\"url(#clip202)\" cx=\"1304.98\" cy=\"735.213\" r=\"14.4\" fill=\"#009af9\" fill-rule=\"evenodd\" fill-opacity=\"1\" stroke=\"#000000\" stroke-opacity=\"1\" stroke-width=\"3.2\"/>\n",
       "<circle clip-path=\"url(#clip202)\" cx=\"1304.98\" cy=\"735.213\" r=\"14.4\" fill=\"#009af9\" fill-rule=\"evenodd\" fill-opacity=\"1\" stroke=\"#000000\" stroke-opacity=\"1\" stroke-width=\"3.2\"/>\n",
       "<circle clip-path=\"url(#clip202)\" cx=\"1304.98\" cy=\"735.213\" r=\"14.4\" fill=\"#009af9\" fill-rule=\"evenodd\" fill-opacity=\"1\" stroke=\"#000000\" stroke-opacity=\"1\" stroke-width=\"3.2\"/>\n",
       "<circle clip-path=\"url(#clip202)\" cx=\"1305.01\" cy=\"735.213\" r=\"14.4\" fill=\"#009af9\" fill-rule=\"evenodd\" fill-opacity=\"1\" stroke=\"#000000\" stroke-opacity=\"1\" stroke-width=\"3.2\"/>\n",
       "<circle clip-path=\"url(#clip202)\" cx=\"1305.42\" cy=\"735.213\" r=\"14.4\" fill=\"#009af9\" fill-rule=\"evenodd\" fill-opacity=\"1\" stroke=\"#000000\" stroke-opacity=\"1\" stroke-width=\"3.2\"/>\n",
       "<circle clip-path=\"url(#clip202)\" cx=\"1305.5\" cy=\"740.652\" r=\"14.4\" fill=\"#009af9\" fill-rule=\"evenodd\" fill-opacity=\"1\" stroke=\"#000000\" stroke-opacity=\"1\" stroke-width=\"3.2\"/>\n",
       "<circle clip-path=\"url(#clip202)\" cx=\"1305.5\" cy=\"729.773\" r=\"14.4\" fill=\"#009af9\" fill-rule=\"evenodd\" fill-opacity=\"1\" stroke=\"#000000\" stroke-opacity=\"1\" stroke-width=\"3.2\"/>\n",
       "<circle clip-path=\"url(#clip202)\" cx=\"1314.97\" cy=\"735.213\" r=\"14.4\" fill=\"#009af9\" fill-rule=\"evenodd\" fill-opacity=\"1\" stroke=\"#000000\" stroke-opacity=\"1\" stroke-width=\"3.2\"/>\n",
       "<circle clip-path=\"url(#clip202)\" cx=\"2293.45\" cy=\"735.213\" r=\"14.4\" fill=\"#009af9\" fill-rule=\"evenodd\" fill-opacity=\"1\" stroke=\"#000000\" stroke-opacity=\"1\" stroke-width=\"3.2\"/>\n",
       "<polyline clip-path=\"url(#clip202)\" style=\"stroke:#e26f46; stroke-linecap:round; stroke-linejoin:round; stroke-width:4; stroke-opacity:1; fill:none\" points=\"2293.45,735.213 2293.4,728.723 2293.25,722.233 2293,715.745 2292.66,709.259 2292.21,702.775 2291.67,696.295 2291.03,689.818 2290.29,683.346 2289.45,676.879 2288.51,670.418 2287.47,663.964 2286.34,657.516 2285.11,651.077 2283.78,644.645 2282.35,638.223 2280.82,631.811 2279.2,625.409 2277.48,619.018 2275.66,612.638 2273.74,606.271 2271.73,599.917 2269.62,593.576 2267.42,587.249 2265.12,580.937 2262.72,574.641 2260.23,568.36 2257.64,562.097 2254.95,555.85 2252.17,549.622 2249.3,543.412 2246.33,537.221 2243.27,531.05 2240.11,524.9 2236.86,518.771 2233.52,512.663 2230.08,506.577 2226.56,500.514 2222.94,494.475 2219.22,488.46 2215.42,482.47 2211.52,476.504 2207.54,470.565 2203.46,464.652 2199.3,458.766 2195.04,452.908 2190.7,447.078 2186.27,441.277 2181.75,435.505 2177.14,429.764 2172.44,424.053 2167.66,418.372 2162.79,412.724 2157.84,407.108 2152.8,401.524 2147.67,395.974 2142.46,390.458 2137.17,384.977 2131.8,379.53 2126.34,374.119 2120.8,368.744 2115.18,363.406 2109.47,358.105 2103.69,352.842 2097.83,347.617 2091.88,342.43 2085.86,337.283 2079.76,332.176 2073.59,327.109 2067.33,322.083 2061,317.098 2054.6,312.155 2048.12,307.254 2041.56,302.396 2034.93,297.582 2028.23,292.811 2021.46,288.084 2014.61,283.402 2007.69,278.765 2000.71,274.174 1993.65,269.629 1986.53,265.131 1979.33,260.679 1972.07,256.275 1964.75,251.919 1957.35,247.611 1949.89,243.352 1942.37,239.142 1934.78,234.982 1927.13,230.872 1919.42,226.812 1911.65,222.803 1903.81,218.846 1895.92,214.94 1887.97,211.086 1879.95,207.284 1871.89,203.535 1863.76,199.839 1855.58,196.197 1847.34,192.609 1839.05,189.075 1830.71,185.596 1822.31,182.171 1813.86,178.802 1805.36,175.489 1796.81,172.231 1788.21,169.03 1779.57,165.886 1770.87,162.798 1762.13,159.768 1753.34,156.795 1744.51,153.88 1735.64,151.023 1726.72,148.225 1717.76,145.485 1708.76,142.804 1699.71,140.183 1690.63,137.62 1681.51,135.118 1672.35,132.676 1663.16,130.294 1653.93,127.972 1644.66,125.712 1635.36,123.512 1626.03,121.373 1616.67,119.296 1607.27,117.28 1597.84,115.326 1588.39,113.434 1578.9,111.605 1569.39,109.837 1559.86,108.132 1550.29,106.49 1540.71,104.911 1531.09,103.395 1521.46,101.942 1511.81,100.552 1502.13,99.2257 1492.43,97.963 1482.72,96.7641 1472.99,95.629 1463.24,94.5579 1453.47,93.5508 1443.69,92.6079 1433.9,91.7292 1424.09,90.9149 1414.27,90.1651 1404.44,89.4797 1394.61,88.8589 1384.76,88.3028 1374.9,87.8113 1365.04,87.3846 1355.17,87.0226 1345.29,86.7255 1335.42,86.4932 1325.53,86.3258 1315.65,86.2233 1305.77,86.1857 1295.88,86.213 1286,86.3051 1276.12,86.4622 1266.24,86.6842 1256.36,86.971 1246.49,87.3226 1236.63,87.739 1226.77,88.2201 1216.92,88.766 1207.08,89.3765 1197.25,90.0516 1187.43,90.7912 1177.62,91.5952 1167.82,92.4636 1158.04,93.3963 1148.28,94.3932 1138.52,95.4541 1128.79,96.579 1119.07,97.7678 1109.37,99.0203 1099.69,100.336 1090.03,101.716 1080.4,103.159 1070.78,104.665 1061.19,106.234 1051.62,107.867 1042.08,109.561 1032.57,111.319 1023.08,113.139 1013.62,115.021 1004.19,116.965 994.787,118.971 985.418,121.038 976.08,123.167 966.775,125.357 957.504,127.608 948.268,129.92 939.067,132.293 929.903,134.725 920.777,137.218 911.689,139.77 902.64,142.383 893.631,145.054 884.664,147.784 875.739,150.573 866.856,153.421 858.017,156.327 849.224,159.29 840.475,162.312 831.773,165.39 823.119,168.526 814.512,171.718 805.955,174.966 797.447,178.271 788.991,181.631 780.586,185.047 772.233,188.517 763.934,192.043 755.688,195.622 747.498,199.256 739.363,202.943 731.285,206.683 723.265,210.477 715.302,214.322 707.398,218.22 699.555,222.17 691.771,226.17 684.05,230.222 676.39,234.324 668.793,238.477 661.259,242.678 653.79,246.93 646.386,251.23 639.048,255.578 631.777,259.975 624.573,264.419 617.437,268.91 610.37,273.447 603.372,278.031 596.444,282.66 589.587,287.335 582.802,292.055 576.089,296.819 569.449,301.626 562.882,306.478 556.39,311.371 549.972,316.308 543.63,321.286 537.364,326.306 531.175,331.366 525.063,336.467 519.029,341.608 513.074,346.788 507.198,352.007 501.402,357.264 495.686,362.559 490.051,367.892 484.498,373.261 479.026,378.666 473.637,384.107 468.332,389.583 463.11,395.094 457.972,400.638 452.919,406.216 447.951,411.827 443.069,417.471 438.272,423.146 433.563,428.852 428.941,434.589 424.406,440.356 419.96,446.152 415.602,451.978 411.333,457.832 407.153,463.713 403.063,469.622 399.063,475.557 395.154,481.518 391.336,487.504 387.609,493.516 383.974,499.551 380.431,505.61 376.98,511.692 373.622,517.796 370.358,523.922 367.186,530.07 364.109,536.237 361.126,542.425 358.237,548.632 355.443,554.857 352.743,561.101 350.139,567.362 347.631,573.64 345.218,579.933 342.901,586.243 340.68,592.567 338.556,598.906 336.528,605.258 334.598,611.623 332.764,618.001 331.027,624.39 329.388,630.791 327.847,637.201 326.403,643.622 325.057,650.052 323.809,656.49 322.659,662.936 321.607,669.39 320.654,675.85 319.799,682.316 319.043,688.787 318.385,695.263 317.826,701.743 317.366,708.226 317.004,714.712 316.741,721.2 316.577,727.689 316.512,734.179 316.546,740.669 316.678,747.159 316.91,753.647 317.24,760.134 317.669,766.618 318.196,773.099 318.823,779.576 319.548,786.049 320.371,792.517 321.293,798.979 322.313,805.434 323.432,811.883 324.649,818.324 325.964,824.756 327.376,831.18 328.887,837.594 330.495,843.998 332.2,850.391 334.003,856.772 335.903,863.141 337.9,869.498 339.993,875.841 342.183,882.17 344.469,888.484 346.852,894.783 349.33,901.066 351.903,907.332 354.572,913.582 357.336,919.813 360.195,926.026 363.149,932.22 366.196,938.394 369.337,944.547 372.572,950.68 375.9,956.792 379.321,962.881 382.835,968.947 386.441,974.99 390.139,981.009 393.928,987.004 397.808,992.973 401.779,998.916 405.84,1004.83 409.991,1010.72 414.232,1016.59 418.562,1022.42 422.98,1028.23 427.487,1034 432.081,1039.75 436.763,1045.47 441.531,1051.15 446.386,1056.8 451.327,1062.43 456.353,1068.01 461.464,1073.57 466.659,1079.09 471.938,1084.58 477.301,1090.03 482.746,1095.45 488.273,1100.83 493.882,1106.17 499.572,1111.48 505.343,1116.75 511.194,1121.98 517.124,1127.17 523.133,1132.33 529.22,1137.44 535.384,1142.51 541.626,1147.55 547.944,1152.54 554.337,1157.49 560.806,1162.39 567.349,1167.26 573.966,1172.08 580.656,1176.86 587.418,1181.59 594.252,1186.28 601.157,1190.92 608.133,1195.52 615.178,1200.08 622.292,1204.58 629.475,1209.04 636.725,1213.45 644.042,1217.82 651.425,1222.13 658.873,1226.4 666.386,1230.62 673.963,1234.78 681.603,1238.9 689.305,1242.97 697.069,1246.99 704.893,1250.95 712.778,1254.87 720.722,1258.73 728.724,1262.54 736.784,1266.3 744.901,1270 753.073,1273.65 761.301,1277.25 769.583,1280.79 777.919,1284.28 786.308,1287.71 794.748,1291.09 803.24,1294.41 811.781,1297.68 820.372,1300.89 829.011,1304.04 837.698,1307.14 846.432,1310.18 855.211,1313.16 864.036,1316.09 872.904,1318.95 881.816,1321.76 890.77,1324.51 899.766,1327.2 908.802,1329.83 917.878,1332.4 926.992,1334.91 936.144,1337.36 945.333,1339.76 954.558,1342.09 963.818,1344.36 973.113,1346.57 982.44,1348.72 991.8,1350.8 1001.19,1352.83 1010.61,1354.79 1020.06,1356.69 1029.54,1358.53 1039.05,1360.31 1048.58,1362.03 1058.14,1363.68 1067.72,1365.27 1077.33,1366.79 1086.96,1368.26 1096.61,1369.66 1106.29,1370.99 1115.98,1372.27 1125.69,1373.47 1135.42,1374.62 1145.17,1375.7 1154.93,1376.72 1164.71,1377.67 1174.5,1378.56 1184.3,1379.39 1194.12,1380.15 1203.95,1380.84 1213.79,1381.47 1223.63,1382.04 1233.49,1382.54 1243.35,1382.98 1253.22,1383.35 1263.09,1383.66 1272.97,1383.9 1282.85,1384.08 1292.73,1384.19 1302.62,1384.24 1312.5,1384.22 1322.39,1384.14 1332.27,1383.99 1342.15,1383.78 1352.02,1383.5 1361.89,1383.16 1371.76,1382.76 1381.62,1382.29 1391.47,1381.75 1401.31,1381.15 1411.14,1380.49 1420.97,1379.76 1430.78,1378.96 1440.57,1378.1 1450.36,1377.18 1460.13,1376.2 1469.88,1375.14 1479.62,1374.03 1489.34,1372.85 1499.04,1371.61 1508.73,1370.3 1518.39,1368.93 1528.03,1367.5 1537.65,1366 1547.24,1364.45 1556.81,1362.82 1566.36,1361.14 1575.88,1359.39 1585.37,1357.58 1594.83,1355.71 1604.27,1353.77 1613.68,1351.78 1623.05,1349.72 1632.39,1347.6 1641.7,1345.42 1650.98,1343.18 1660.22,1340.88 1669.43,1338.51 1678.6,1336.09 1687.73,1333.61 1696.83,1331.07 1705.88,1328.46 1714.9,1325.8 1723.87,1323.08 1732.8,1320.3 1741.69,1317.46 1750.54,1314.57 1759.34,1311.61 1768.09,1308.6 1776.8,1305.53 1785.46,1302.4 1794.08,1299.22 1802.64,1295.98 1811.16,1292.68 1819.62,1289.33 1828.04,1285.93 1836.4,1282.46 1844.71,1278.95 1852.96,1275.38 1861.16,1271.75 1869.3,1268.07 1877.39,1264.34 1885.42,1260.56 1893.39,1256.72 1901.31,1252.83 1909.16,1248.89 1916.95,1244.9 1924.68,1240.85 1932.35,1236.76 1939.96,1232.61 1947.5,1228.42 1954.98,1224.18 1962.4,1219.88 1969.75,1215.54 1977.03,1211.15 1984.24,1206.72 1991.39,1202.23 1998.47,1197.7 2005.48,1193.13 2012.42,1188.51 2019.28,1183.84 2026.08,1179.13 2032.81,1174.37 2039.46,1169.57 2046.04,1164.72 2052.54,1159.84 2058.97,1154.91 2065.32,1149.94 2071.6,1144.92 2077.8,1139.87 2083.93,1134.77 2089.97,1129.64 2095.94,1124.47 2101.83,1119.25 2107.64,1114 2113.37,1108.71 2119.02,1103.39 2124.58,1098.02 2130.07,1092.62 2135.47,1087.19 2140.79,1081.72 2146.02,1076.21 2151.17,1070.67 2156.24,1065.1 2161.22,1059.49 2166.12,1053.86 2170.93,1048.19 2175.65,1042.48 2180.29,1036.75 2184.84,1030.99 2189.3,1025.2 2193.67,1019.38 2197.95,1013.53 2202.15,1007.65 2206.25,1001.75 2210.26,995.816 2214.19,989.859 2218.02,983.876 2221.76,977.869 2225.41,971.837 2228.97,965.782 2232.44,959.704 2235.81,953.603 2239.09,947.48 2242.27,941.336 2245.37,935.172 2248.36,928.988 2251.27,922.784 2254.08,916.561 2256.79,910.32 2259.41,904.062 2261.93,897.787 2264.36,891.496 2266.7,885.189 2268.93,878.867 2271.07,872.53 2273.11,866.18 2275.06,859.817 2276.91,853.441 2278.66,847.054 2280.32,840.655 2281.87,834.246 2283.33,827.827 2284.69,821.398 2285.96,814.961 2287.12,808.516 2288.19,802.064 2289.16,795.605 2290.03,789.14 2290.8,782.67 2291.48,776.195 2292.05,769.715 2292.53,763.233 2292.9,756.747 2293.18,750.259 2293.36,743.77 2293.44,737.28 \"/>\n",
       "<path clip-path=\"url(#clip200)\" d=\"M327.056 1377.32 L926.447 1377.32 L926.447 1221.8 L327.056 1221.8  Z\" fill=\"#ffffff\" fill-rule=\"evenodd\" fill-opacity=\"1\"/>\n",
       "<polyline clip-path=\"url(#clip200)\" style=\"stroke:#000000; stroke-linecap:round; stroke-linejoin:round; stroke-width:4; stroke-opacity:1; fill:none\" points=\"327.056,1377.32 926.447,1377.32 926.447,1221.8 327.056,1221.8 327.056,1377.32 \"/>\n",
       "<circle clip-path=\"url(#clip200)\" cx=\"420.191\" cy=\"1273.64\" r=\"20.48\" fill=\"#009af9\" fill-rule=\"evenodd\" fill-opacity=\"1\" stroke=\"#000000\" stroke-opacity=\"1\" stroke-width=\"4.55111\"/>\n",
       "<path clip-path=\"url(#clip200)\" d=\"M513.327 1256.36 L535.179 1256.36 L535.179 1260.29 L518.003 1260.29 L518.003 1270.52 L534.461 1270.52 L534.461 1274.46 L518.003 1274.46 L518.003 1286.98 L535.595 1286.98 L535.595 1290.92 L513.327 1290.92 L513.327 1256.36 Z\" fill=\"#000000\" fill-rule=\"nonzero\" fill-opacity=\"1\" /><path clip-path=\"url(#clip200)\" d=\"M543.095 1264.99 L547.355 1264.99 L547.355 1290.92 L543.095 1290.92 L543.095 1264.99 M543.095 1254.9 L547.355 1254.9 L547.355 1260.29 L543.095 1260.29 L543.095 1254.9 Z\" fill=\"#000000\" fill-rule=\"nonzero\" fill-opacity=\"1\" /><path clip-path=\"url(#clip200)\" d=\"M573.327 1277.65 Q573.327 1273.02 571.405 1270.48 Q569.507 1267.93 566.058 1267.93 Q562.632 1267.93 560.711 1270.48 Q558.813 1273.02 558.813 1277.65 Q558.813 1282.26 560.711 1284.8 Q562.632 1287.35 566.058 1287.35 Q569.507 1287.35 571.405 1284.8 Q573.327 1282.26 573.327 1277.65 M577.586 1287.7 Q577.586 1294.32 574.646 1297.54 Q571.706 1300.78 565.642 1300.78 Q563.396 1300.78 561.405 1300.43 Q559.415 1300.11 557.54 1299.41 L557.54 1295.27 Q559.415 1296.29 561.243 1296.77 Q563.072 1297.26 564.97 1297.26 Q569.16 1297.26 571.243 1295.06 Q573.327 1292.88 573.327 1288.46 L573.327 1286.36 Q572.007 1288.65 569.947 1289.78 Q567.887 1290.92 565.017 1290.92 Q560.248 1290.92 557.331 1287.28 Q554.415 1283.65 554.415 1277.65 Q554.415 1271.63 557.331 1268 Q560.248 1264.36 565.017 1264.36 Q567.887 1264.36 569.947 1265.5 Q572.007 1266.63 573.327 1268.92 L573.327 1264.99 L577.586 1264.99 L577.586 1287.7 Z\" fill=\"#000000\" fill-rule=\"nonzero\" fill-opacity=\"1\" /><path clip-path=\"url(#clip200)\" d=\"M608.535 1276.89 L608.535 1278.97 L588.952 1278.97 Q589.229 1283.37 591.591 1285.68 Q593.975 1287.98 598.211 1287.98 Q600.665 1287.98 602.956 1287.37 Q605.271 1286.77 607.539 1285.57 L607.539 1289.6 Q605.248 1290.57 602.84 1291.08 Q600.433 1291.59 597.956 1291.59 Q591.753 1291.59 588.118 1287.98 Q584.507 1284.36 584.507 1278.21 Q584.507 1271.84 587.933 1268.11 Q591.382 1264.36 597.215 1264.36 Q602.447 1264.36 605.479 1267.74 Q608.535 1271.1 608.535 1276.89 M604.276 1275.64 Q604.229 1272.14 602.308 1270.06 Q600.41 1267.98 597.262 1267.98 Q593.697 1267.98 591.544 1269.99 Q589.415 1272 589.091 1275.66 L604.276 1275.64 Z\" fill=\"#000000\" fill-rule=\"nonzero\" fill-opacity=\"1\" /><path clip-path=\"url(#clip200)\" d=\"M637.076 1275.27 L637.076 1290.92 L632.817 1290.92 L632.817 1275.41 Q632.817 1271.73 631.382 1269.9 Q629.947 1268.07 627.076 1268.07 Q623.627 1268.07 621.637 1270.27 Q619.646 1272.47 619.646 1276.26 L619.646 1290.92 L615.364 1290.92 L615.364 1264.99 L619.646 1264.99 L619.646 1269.02 Q621.174 1266.68 623.234 1265.52 Q625.317 1264.36 628.025 1264.36 Q632.493 1264.36 634.785 1267.14 Q637.076 1269.9 637.076 1275.27 Z\" fill=\"#000000\" fill-rule=\"nonzero\" fill-opacity=\"1\" /><path clip-path=\"url(#clip200)\" d=\"M642.516 1264.99 L647.03 1264.99 L655.132 1286.75 L663.234 1264.99 L667.748 1264.99 L658.025 1290.92 L652.238 1290.92 L642.516 1264.99 Z\" fill=\"#000000\" fill-rule=\"nonzero\" fill-opacity=\"1\" /><path clip-path=\"url(#clip200)\" d=\"M685.409 1277.88 Q680.247 1277.88 678.257 1279.06 Q676.266 1280.24 676.266 1283.09 Q676.266 1285.36 677.747 1286.7 Q679.252 1288.02 681.822 1288.02 Q685.363 1288.02 687.493 1285.52 Q689.646 1283 689.646 1278.83 L689.646 1277.88 L685.409 1277.88 M693.905 1276.12 L693.905 1290.92 L689.646 1290.92 L689.646 1286.98 Q688.187 1289.34 686.011 1290.48 Q683.835 1291.59 680.687 1291.59 Q676.706 1291.59 674.345 1289.36 Q672.007 1287.12 672.007 1283.37 Q672.007 1278.99 674.923 1276.77 Q677.863 1274.55 683.673 1274.55 L689.646 1274.55 L689.646 1274.13 Q689.646 1271.19 687.701 1269.6 Q685.78 1267.98 682.284 1267.98 Q680.062 1267.98 677.956 1268.51 Q675.849 1269.04 673.905 1270.11 L673.905 1266.17 Q676.243 1265.27 678.442 1264.83 Q680.641 1264.36 682.724 1264.36 Q688.349 1264.36 691.127 1267.28 Q693.905 1270.2 693.905 1276.12 Z\" fill=\"#000000\" fill-rule=\"nonzero\" fill-opacity=\"1\" /><path clip-path=\"url(#clip200)\" d=\"M702.678 1254.9 L706.937 1254.9 L706.937 1290.92 L702.678 1290.92 L702.678 1254.9 Z\" fill=\"#000000\" fill-rule=\"nonzero\" fill-opacity=\"1\" /><path clip-path=\"url(#clip200)\" d=\"M715.409 1280.68 L715.409 1264.99 L719.669 1264.99 L719.669 1280.52 Q719.669 1284.2 721.104 1286.05 Q722.539 1287.88 725.409 1287.88 Q728.858 1287.88 730.849 1285.68 Q732.863 1283.48 732.863 1279.69 L732.863 1264.99 L737.122 1264.99 L737.122 1290.92 L732.863 1290.92 L732.863 1286.93 Q731.312 1289.29 729.252 1290.45 Q727.215 1291.59 724.506 1291.59 Q720.039 1291.59 717.724 1288.81 Q715.409 1286.03 715.409 1280.68 M726.127 1264.36 L726.127 1264.36 Z\" fill=\"#000000\" fill-rule=\"nonzero\" fill-opacity=\"1\" /><path clip-path=\"url(#clip200)\" d=\"M768.071 1276.89 L768.071 1278.97 L748.488 1278.97 Q748.766 1283.37 751.127 1285.68 Q753.511 1287.98 757.747 1287.98 Q760.201 1287.98 762.492 1287.37 Q764.807 1286.77 767.076 1285.57 L767.076 1289.6 Q764.784 1290.57 762.377 1291.08 Q759.969 1291.59 757.492 1291.59 Q751.289 1291.59 747.654 1287.98 Q744.043 1284.36 744.043 1278.21 Q744.043 1271.84 747.469 1268.11 Q750.918 1264.36 756.752 1264.36 Q761.983 1264.36 765.016 1267.74 Q768.071 1271.1 768.071 1276.89 M763.812 1275.64 Q763.766 1272.14 761.844 1270.06 Q759.946 1267.98 756.798 1267.98 Q753.233 1267.98 751.08 1269.99 Q748.951 1272 748.627 1275.66 L763.812 1275.64 Z\" fill=\"#000000\" fill-rule=\"nonzero\" fill-opacity=\"1\" /><path clip-path=\"url(#clip200)\" d=\"M791.589 1265.75 L791.589 1269.78 Q789.784 1268.86 787.839 1268.39 Q785.895 1267.93 783.812 1267.93 Q780.64 1267.93 779.043 1268.9 Q777.469 1269.87 777.469 1271.82 Q777.469 1273.3 778.603 1274.16 Q779.738 1274.99 783.164 1275.75 L784.622 1276.08 Q789.159 1277.05 791.057 1278.83 Q792.978 1280.59 792.978 1283.76 Q792.978 1287.37 790.108 1289.48 Q787.261 1291.59 782.261 1291.59 Q780.177 1291.59 777.909 1291.17 Q775.664 1290.78 773.164 1289.97 L773.164 1285.57 Q775.525 1286.79 777.816 1287.42 Q780.108 1288.02 782.353 1288.02 Q785.363 1288.02 786.983 1287 Q788.603 1285.96 788.603 1284.09 Q788.603 1282.35 787.423 1281.42 Q786.265 1280.5 782.307 1279.64 L780.826 1279.3 Q776.867 1278.46 775.108 1276.75 Q773.349 1275.01 773.349 1272 Q773.349 1268.35 775.941 1266.36 Q778.534 1264.36 783.302 1264.36 Q785.664 1264.36 787.747 1264.71 Q789.83 1265.06 791.589 1265.75 Z\" fill=\"#000000\" fill-rule=\"nonzero\" fill-opacity=\"1\" /><path clip-path=\"url(#clip200)\" d=\"M824.876 1267.98 Q821.45 1267.98 819.46 1270.66 Q817.469 1273.32 817.469 1277.98 Q817.469 1282.63 819.437 1285.31 Q821.427 1287.98 824.876 1287.98 Q828.279 1287.98 830.27 1285.29 Q832.261 1282.61 832.261 1277.98 Q832.261 1273.37 830.27 1270.68 Q828.279 1267.98 824.876 1267.98 M824.876 1264.36 Q830.432 1264.36 833.603 1267.98 Q836.774 1271.59 836.774 1277.98 Q836.774 1284.34 833.603 1287.98 Q830.432 1291.59 824.876 1291.59 Q819.298 1291.59 816.126 1287.98 Q812.978 1284.34 812.978 1277.98 Q812.978 1271.59 816.126 1267.98 Q819.298 1264.36 824.876 1264.36 Z\" fill=\"#000000\" fill-rule=\"nonzero\" fill-opacity=\"1\" /><path clip-path=\"url(#clip200)\" d=\"M856.959 1254.9 L856.959 1258.44 L852.885 1258.44 Q850.594 1258.44 849.691 1259.36 Q848.811 1260.29 848.811 1262.7 L848.811 1264.99 L855.825 1264.99 L855.825 1268.3 L848.811 1268.3 L848.811 1290.92 L844.529 1290.92 L844.529 1268.3 L840.455 1268.3 L840.455 1264.99 L844.529 1264.99 L844.529 1263.18 Q844.529 1258.86 846.543 1256.89 Q848.557 1254.9 852.932 1254.9 L856.959 1254.9 Z\" fill=\"#000000\" fill-rule=\"nonzero\" fill-opacity=\"1\" /><path clip-path=\"url(#clip200)\" d=\"M887.33 1260.96 L880.987 1278.16 L893.695 1278.16 L887.33 1260.96 M884.691 1256.36 L889.992 1256.36 L903.163 1290.92 L898.302 1290.92 L895.154 1282.05 L879.575 1282.05 L876.427 1290.92 L871.496 1290.92 L884.691 1256.36 Z\" fill=\"#000000\" fill-rule=\"nonzero\" fill-opacity=\"1\" /><polyline clip-path=\"url(#clip200)\" style=\"stroke:#e26f46; stroke-linecap:round; stroke-linejoin:round; stroke-width:4; stroke-opacity:1; fill:none\" points=\"350.34,1325.48 490.043,1325.48 \"/>\n",
       "<path clip-path=\"url(#clip200)\" d=\"M513.327 1308.2 L518.026 1308.2 L518.026 1329.19 Q518.026 1334.75 520.04 1337.2 Q522.054 1339.63 526.568 1339.63 Q531.058 1339.63 533.072 1337.2 Q535.086 1334.75 535.086 1329.19 L535.086 1308.2 L539.785 1308.2 L539.785 1329.77 Q539.785 1336.53 536.429 1339.98 Q533.095 1343.43 526.568 1343.43 Q520.017 1343.43 516.66 1339.98 Q513.327 1336.53 513.327 1329.77 L513.327 1308.2 Z\" fill=\"#000000\" fill-rule=\"nonzero\" fill-opacity=\"1\" /><path clip-path=\"url(#clip200)\" d=\"M569.924 1327.11 L569.924 1342.76 L565.665 1342.76 L565.665 1327.25 Q565.665 1323.57 564.23 1321.74 Q562.794 1319.91 559.924 1319.91 Q556.475 1319.91 554.484 1322.11 Q552.493 1324.31 552.493 1328.1 L552.493 1342.76 L548.211 1342.76 L548.211 1316.83 L552.493 1316.83 L552.493 1320.86 Q554.021 1318.52 556.081 1317.36 Q558.165 1316.2 560.873 1316.2 Q565.341 1316.2 567.632 1318.98 Q569.924 1321.74 569.924 1327.11 Z\" fill=\"#000000\" fill-rule=\"nonzero\" fill-opacity=\"1\" /><path clip-path=\"url(#clip200)\" d=\"M578.419 1316.83 L582.679 1316.83 L582.679 1342.76 L578.419 1342.76 L578.419 1316.83 M578.419 1306.74 L582.679 1306.74 L582.679 1312.13 L578.419 1312.13 L578.419 1306.74 Z\" fill=\"#000000\" fill-rule=\"nonzero\" fill-opacity=\"1\" /><path clip-path=\"url(#clip200)\" d=\"M595.803 1309.47 L595.803 1316.83 L604.577 1316.83 L604.577 1320.14 L595.803 1320.14 L595.803 1334.21 Q595.803 1337.38 596.66 1338.29 Q597.54 1339.19 600.202 1339.19 L604.577 1339.19 L604.577 1342.76 L600.202 1342.76 Q595.271 1342.76 593.396 1340.93 Q591.521 1339.07 591.521 1334.21 L591.521 1320.14 L588.396 1320.14 L588.396 1316.83 L591.521 1316.83 L591.521 1309.47 L595.803 1309.47 Z\" fill=\"#000000\" fill-rule=\"nonzero\" fill-opacity=\"1\" /><path clip-path=\"url(#clip200)\" d=\"M643.905 1317.82 L643.905 1321.81 Q642.099 1320.81 640.271 1320.32 Q638.465 1319.82 636.613 1319.82 Q632.47 1319.82 630.178 1322.45 Q627.887 1325.07 627.887 1329.82 Q627.887 1334.56 630.178 1337.2 Q632.47 1339.82 636.613 1339.82 Q638.465 1339.82 640.271 1339.33 Q642.099 1338.82 643.905 1337.82 L643.905 1341.76 Q642.123 1342.59 640.201 1343.01 Q638.303 1343.43 636.15 1343.43 Q630.294 1343.43 626.845 1339.75 Q623.396 1336.07 623.396 1329.82 Q623.396 1323.47 626.868 1319.84 Q630.363 1316.2 636.428 1316.2 Q638.396 1316.2 640.271 1316.62 Q642.146 1317.01 643.905 1317.82 Z\" fill=\"#000000\" fill-rule=\"nonzero\" fill-opacity=\"1\" /><path clip-path=\"url(#clip200)\" d=\"M651.312 1316.83 L655.572 1316.83 L655.572 1342.76 L651.312 1342.76 L651.312 1316.83 M651.312 1306.74 L655.572 1306.74 L655.572 1312.13 L651.312 1312.13 L651.312 1306.74 Z\" fill=\"#000000\" fill-rule=\"nonzero\" fill-opacity=\"1\" /><path clip-path=\"url(#clip200)\" d=\"M679.507 1320.81 Q678.789 1320.39 677.933 1320.21 Q677.099 1320 676.081 1320 Q672.47 1320 670.525 1322.36 Q668.604 1324.7 668.604 1329.1 L668.604 1342.76 L664.322 1342.76 L664.322 1316.83 L668.604 1316.83 L668.604 1320.86 Q669.947 1318.5 672.099 1317.36 Q674.252 1316.2 677.331 1316.2 Q677.771 1316.2 678.303 1316.27 Q678.835 1316.32 679.484 1316.44 L679.507 1320.81 Z\" fill=\"#000000\" fill-rule=\"nonzero\" fill-opacity=\"1\" /><path clip-path=\"url(#clip200)\" d=\"M701.59 1317.82 L701.59 1321.81 Q699.784 1320.81 697.956 1320.32 Q696.15 1319.82 694.298 1319.82 Q690.155 1319.82 687.863 1322.45 Q685.571 1325.07 685.571 1329.82 Q685.571 1334.56 687.863 1337.2 Q690.155 1339.82 694.298 1339.82 Q696.15 1339.82 697.956 1339.33 Q699.784 1338.82 701.59 1337.82 L701.59 1341.76 Q699.808 1342.59 697.886 1343.01 Q695.988 1343.43 693.835 1343.43 Q687.979 1343.43 684.53 1339.75 Q681.081 1336.07 681.081 1329.82 Q681.081 1323.47 684.553 1319.84 Q688.048 1316.2 694.113 1316.2 Q696.081 1316.2 697.956 1316.62 Q699.831 1317.01 701.59 1317.82 Z\" fill=\"#000000\" fill-rule=\"nonzero\" fill-opacity=\"1\" /><path clip-path=\"url(#clip200)\" d=\"M708.997 1306.74 L713.257 1306.74 L713.257 1342.76 L708.997 1342.76 L708.997 1306.74 Z\" fill=\"#000000\" fill-rule=\"nonzero\" fill-opacity=\"1\" /><path clip-path=\"url(#clip200)\" d=\"M744.344 1328.73 L744.344 1330.81 L724.761 1330.81 Q725.039 1335.21 727.4 1337.52 Q729.784 1339.82 734.02 1339.82 Q736.474 1339.82 738.766 1339.21 Q741.08 1338.61 743.349 1337.41 L743.349 1341.44 Q741.057 1342.41 738.65 1342.92 Q736.243 1343.43 733.766 1343.43 Q727.562 1343.43 723.928 1339.82 Q720.317 1336.2 720.317 1330.05 Q720.317 1323.68 723.743 1319.95 Q727.192 1316.2 733.025 1316.2 Q738.256 1316.2 741.289 1319.58 Q744.344 1322.94 744.344 1328.73 M740.085 1327.48 Q740.039 1323.98 738.117 1321.9 Q736.219 1319.82 733.071 1319.82 Q729.506 1319.82 727.354 1321.83 Q725.224 1323.84 724.9 1327.5 L740.085 1327.48 Z\" fill=\"#000000\" fill-rule=\"nonzero\" fill-opacity=\"1\" /></svg>\n"
      ],
      "text/html": [
       "<?xml version=\"1.0\" encoding=\"utf-8\"?>\n",
       "<svg xmlns=\"http://www.w3.org/2000/svg\" xmlns:xlink=\"http://www.w3.org/1999/xlink\" width=\"600\" height=\"400\" viewBox=\"0 0 2400 1600\">\n",
       "<defs>\n",
       "  <clipPath id=\"clip250\">\n",
       "    <rect x=\"0\" y=\"0\" width=\"2400\" height=\"1600\"/>\n",
       "  </clipPath>\n",
       "</defs>\n",
       "<path clip-path=\"url(#clip250)\" d=\"M0 1600 L2400 1600 L2400 0 L0 0  Z\" fill=\"#ffffff\" fill-rule=\"evenodd\" fill-opacity=\"1\"/>\n",
       "<defs>\n",
       "  <clipPath id=\"clip251\">\n",
       "    <rect x=\"480\" y=\"0\" width=\"1681\" height=\"1600\"/>\n",
       "  </clipPath>\n",
       "</defs>\n",
       "<path clip-path=\"url(#clip250)\" d=\"M257.204 1423.18 L2352.76 1423.18 L2352.76 47.2441 L257.204 47.2441  Z\" fill=\"#ffffff\" fill-rule=\"evenodd\" fill-opacity=\"1\"/>\n",
       "<defs>\n",
       "  <clipPath id=\"clip252\">\n",
       "    <rect x=\"257\" y=\"47\" width=\"2097\" height=\"1377\"/>\n",
       "  </clipPath>\n",
       "</defs>\n",
       "<polyline clip-path=\"url(#clip252)\" style=\"stroke:#000000; stroke-linecap:round; stroke-linejoin:round; stroke-width:2; stroke-opacity:0.1; fill:none\" points=\"316.511,1423.18 316.511,47.2441 \"/>\n",
       "<polyline clip-path=\"url(#clip252)\" style=\"stroke:#000000; stroke-linecap:round; stroke-linejoin:round; stroke-width:2; stroke-opacity:0.1; fill:none\" points=\"810.745,1423.18 810.745,47.2441 \"/>\n",
       "<polyline clip-path=\"url(#clip252)\" style=\"stroke:#000000; stroke-linecap:round; stroke-linejoin:round; stroke-width:2; stroke-opacity:0.1; fill:none\" points=\"1304.98,1423.18 1304.98,47.2441 \"/>\n",
       "<polyline clip-path=\"url(#clip252)\" style=\"stroke:#000000; stroke-linecap:round; stroke-linejoin:round; stroke-width:2; stroke-opacity:0.1; fill:none\" points=\"1799.21,1423.18 1799.21,47.2441 \"/>\n",
       "<polyline clip-path=\"url(#clip252)\" style=\"stroke:#000000; stroke-linecap:round; stroke-linejoin:round; stroke-width:2; stroke-opacity:0.1; fill:none\" points=\"2293.45,1423.18 2293.45,47.2441 \"/>\n",
       "<polyline clip-path=\"url(#clip252)\" style=\"stroke:#000000; stroke-linecap:round; stroke-linejoin:round; stroke-width:2; stroke-opacity:0.1; fill:none\" points=\"257.204,1384.24 2352.76,1384.24 \"/>\n",
       "<polyline clip-path=\"url(#clip252)\" style=\"stroke:#000000; stroke-linecap:round; stroke-linejoin:round; stroke-width:2; stroke-opacity:0.1; fill:none\" points=\"257.204,1059.73 2352.76,1059.73 \"/>\n",
       "<polyline clip-path=\"url(#clip252)\" style=\"stroke:#000000; stroke-linecap:round; stroke-linejoin:round; stroke-width:2; stroke-opacity:0.1; fill:none\" points=\"257.204,735.213 2352.76,735.213 \"/>\n",
       "<polyline clip-path=\"url(#clip252)\" style=\"stroke:#000000; stroke-linecap:round; stroke-linejoin:round; stroke-width:2; stroke-opacity:0.1; fill:none\" points=\"257.204,410.699 2352.76,410.699 \"/>\n",
       "<polyline clip-path=\"url(#clip252)\" style=\"stroke:#000000; stroke-linecap:round; stroke-linejoin:round; stroke-width:2; stroke-opacity:0.1; fill:none\" points=\"257.204,86.1855 2352.76,86.1855 \"/>\n",
       "<polyline clip-path=\"url(#clip250)\" style=\"stroke:#000000; stroke-linecap:round; stroke-linejoin:round; stroke-width:4; stroke-opacity:1; fill:none\" points=\"257.204,1423.18 2352.76,1423.18 \"/>\n",
       "<polyline clip-path=\"url(#clip250)\" style=\"stroke:#000000; stroke-linecap:round; stroke-linejoin:round; stroke-width:4; stroke-opacity:1; fill:none\" points=\"316.511,1423.18 316.511,1404.28 \"/>\n",
       "<polyline clip-path=\"url(#clip250)\" style=\"stroke:#000000; stroke-linecap:round; stroke-linejoin:round; stroke-width:4; stroke-opacity:1; fill:none\" points=\"810.745,1423.18 810.745,1404.28 \"/>\n",
       "<polyline clip-path=\"url(#clip250)\" style=\"stroke:#000000; stroke-linecap:round; stroke-linejoin:round; stroke-width:4; stroke-opacity:1; fill:none\" points=\"1304.98,1423.18 1304.98,1404.28 \"/>\n",
       "<polyline clip-path=\"url(#clip250)\" style=\"stroke:#000000; stroke-linecap:round; stroke-linejoin:round; stroke-width:4; stroke-opacity:1; fill:none\" points=\"1799.21,1423.18 1799.21,1404.28 \"/>\n",
       "<polyline clip-path=\"url(#clip250)\" style=\"stroke:#000000; stroke-linecap:round; stroke-linejoin:round; stroke-width:4; stroke-opacity:1; fill:none\" points=\"2293.45,1423.18 2293.45,1404.28 \"/>\n",
       "<path clip-path=\"url(#clip250)\" d=\"M263.039 1468.75 L292.715 1468.75 L292.715 1472.69 L263.039 1472.69 L263.039 1468.75 Z\" fill=\"#000000\" fill-rule=\"nonzero\" fill-opacity=\"1\" /><path clip-path=\"url(#clip250)\" d=\"M303.617 1481.64 L311.256 1481.64 L311.256 1455.28 L302.946 1456.95 L302.946 1452.69 L311.21 1451.02 L315.886 1451.02 L315.886 1481.64 L323.525 1481.64 L323.525 1485.58 L303.617 1485.58 L303.617 1481.64 Z\" fill=\"#000000\" fill-rule=\"nonzero\" fill-opacity=\"1\" /><path clip-path=\"url(#clip250)\" d=\"M332.969 1479.7 L337.853 1479.7 L337.853 1485.58 L332.969 1485.58 L332.969 1479.7 Z\" fill=\"#000000\" fill-rule=\"nonzero\" fill-opacity=\"1\" /><path clip-path=\"url(#clip250)\" d=\"M358.038 1454.1 Q354.427 1454.1 352.599 1457.66 Q350.793 1461.2 350.793 1468.33 Q350.793 1475.44 352.599 1479.01 Q354.427 1482.55 358.038 1482.55 Q361.673 1482.55 363.478 1479.01 Q365.307 1475.44 365.307 1468.33 Q365.307 1461.2 363.478 1457.66 Q361.673 1454.1 358.038 1454.1 M358.038 1450.39 Q363.849 1450.39 366.904 1455 Q369.983 1459.58 369.983 1468.33 Q369.983 1477.06 366.904 1481.67 Q363.849 1486.25 358.038 1486.25 Q352.228 1486.25 349.15 1481.67 Q346.094 1477.06 346.094 1468.33 Q346.094 1459.58 349.15 1455 Q352.228 1450.39 358.038 1450.39 Z\" fill=\"#000000\" fill-rule=\"nonzero\" fill-opacity=\"1\" /><path clip-path=\"url(#clip250)\" d=\"M757.771 1468.75 L787.447 1468.75 L787.447 1472.69 L757.771 1472.69 L757.771 1468.75 Z\" fill=\"#000000\" fill-rule=\"nonzero\" fill-opacity=\"1\" /><path clip-path=\"url(#clip250)\" d=\"M807.539 1454.1 Q803.928 1454.1 802.099 1457.66 Q800.294 1461.2 800.294 1468.33 Q800.294 1475.44 802.099 1479.01 Q803.928 1482.55 807.539 1482.55 Q811.173 1482.55 812.979 1479.01 Q814.808 1475.44 814.808 1468.33 Q814.808 1461.2 812.979 1457.66 Q811.173 1454.1 807.539 1454.1 M807.539 1450.39 Q813.349 1450.39 816.405 1455 Q819.483 1459.58 819.483 1468.33 Q819.483 1477.06 816.405 1481.67 Q813.349 1486.25 807.539 1486.25 Q801.729 1486.25 798.65 1481.67 Q795.595 1477.06 795.595 1468.33 Q795.595 1459.58 798.65 1455 Q801.729 1450.39 807.539 1450.39 Z\" fill=\"#000000\" fill-rule=\"nonzero\" fill-opacity=\"1\" /><path clip-path=\"url(#clip250)\" d=\"M827.701 1479.7 L832.585 1479.7 L832.585 1485.58 L827.701 1485.58 L827.701 1479.7 Z\" fill=\"#000000\" fill-rule=\"nonzero\" fill-opacity=\"1\" /><path clip-path=\"url(#clip250)\" d=\"M842.817 1451.02 L861.173 1451.02 L861.173 1454.96 L847.099 1454.96 L847.099 1463.43 Q848.118 1463.08 849.136 1462.92 Q850.155 1462.73 851.173 1462.73 Q856.96 1462.73 860.34 1465.9 Q863.719 1469.08 863.719 1474.49 Q863.719 1480.07 860.247 1483.17 Q856.775 1486.25 850.456 1486.25 Q848.28 1486.25 846.011 1485.88 Q843.766 1485.51 841.358 1484.77 L841.358 1480.07 Q843.442 1481.2 845.664 1481.76 Q847.886 1482.32 850.363 1482.32 Q854.368 1482.32 856.705 1480.21 Q859.043 1478.1 859.043 1474.49 Q859.043 1470.88 856.705 1468.77 Q854.368 1466.67 850.363 1466.67 Q848.488 1466.67 846.613 1467.08 Q844.761 1467.5 842.817 1468.38 L842.817 1451.02 Z\" fill=\"#000000\" fill-rule=\"nonzero\" fill-opacity=\"1\" /><path clip-path=\"url(#clip250)\" d=\"M1282.36 1454.1 Q1278.75 1454.1 1276.92 1457.66 Q1275.12 1461.2 1275.12 1468.33 Q1275.12 1475.44 1276.92 1479.01 Q1278.75 1482.55 1282.36 1482.55 Q1286 1482.55 1287.8 1479.01 Q1289.63 1475.44 1289.63 1468.33 Q1289.63 1461.2 1287.8 1457.66 Q1286 1454.1 1282.36 1454.1 M1282.36 1450.39 Q1288.17 1450.39 1291.23 1455 Q1294.31 1459.58 1294.31 1468.33 Q1294.31 1477.06 1291.23 1481.67 Q1288.17 1486.25 1282.36 1486.25 Q1276.55 1486.25 1273.47 1481.67 Q1270.42 1477.06 1270.42 1468.33 Q1270.42 1459.58 1273.47 1455 Q1276.55 1450.39 1282.36 1450.39 Z\" fill=\"#000000\" fill-rule=\"nonzero\" fill-opacity=\"1\" /><path clip-path=\"url(#clip250)\" d=\"M1302.53 1479.7 L1307.41 1479.7 L1307.41 1485.58 L1302.53 1485.58 L1302.53 1479.7 Z\" fill=\"#000000\" fill-rule=\"nonzero\" fill-opacity=\"1\" /><path clip-path=\"url(#clip250)\" d=\"M1327.59 1454.1 Q1323.98 1454.1 1322.16 1457.66 Q1320.35 1461.2 1320.35 1468.33 Q1320.35 1475.44 1322.16 1479.01 Q1323.98 1482.55 1327.59 1482.55 Q1331.23 1482.55 1333.03 1479.01 Q1334.86 1475.44 1334.86 1468.33 Q1334.86 1461.2 1333.03 1457.66 Q1331.23 1454.1 1327.59 1454.1 M1327.59 1450.39 Q1333.41 1450.39 1336.46 1455 Q1339.54 1459.58 1339.54 1468.33 Q1339.54 1477.06 1336.46 1481.67 Q1333.41 1486.25 1327.59 1486.25 Q1321.78 1486.25 1318.71 1481.67 Q1315.65 1477.06 1315.65 1468.33 Q1315.65 1459.58 1318.71 1455 Q1321.78 1450.39 1327.59 1450.39 Z\" fill=\"#000000\" fill-rule=\"nonzero\" fill-opacity=\"1\" /><path clip-path=\"url(#clip250)\" d=\"M1777.1 1454.1 Q1773.48 1454.1 1771.66 1457.66 Q1769.85 1461.2 1769.85 1468.33 Q1769.85 1475.44 1771.66 1479.01 Q1773.48 1482.55 1777.1 1482.55 Q1780.73 1482.55 1782.54 1479.01 Q1784.36 1475.44 1784.36 1468.33 Q1784.36 1461.2 1782.54 1457.66 Q1780.73 1454.1 1777.1 1454.1 M1777.1 1450.39 Q1782.91 1450.39 1785.96 1455 Q1789.04 1459.58 1789.04 1468.33 Q1789.04 1477.06 1785.96 1481.67 Q1782.91 1486.25 1777.1 1486.25 Q1771.29 1486.25 1768.21 1481.67 Q1765.15 1477.06 1765.15 1468.33 Q1765.15 1459.58 1768.21 1455 Q1771.29 1450.39 1777.1 1450.39 Z\" fill=\"#000000\" fill-rule=\"nonzero\" fill-opacity=\"1\" /><path clip-path=\"url(#clip250)\" d=\"M1797.26 1479.7 L1802.14 1479.7 L1802.14 1485.58 L1797.26 1485.58 L1797.26 1479.7 Z\" fill=\"#000000\" fill-rule=\"nonzero\" fill-opacity=\"1\" /><path clip-path=\"url(#clip250)\" d=\"M1812.37 1451.02 L1830.73 1451.02 L1830.73 1454.96 L1816.66 1454.96 L1816.66 1463.43 Q1817.67 1463.08 1818.69 1462.92 Q1819.71 1462.73 1820.73 1462.73 Q1826.52 1462.73 1829.9 1465.9 Q1833.28 1469.08 1833.28 1474.49 Q1833.28 1480.07 1829.8 1483.17 Q1826.33 1486.25 1820.01 1486.25 Q1817.84 1486.25 1815.57 1485.88 Q1813.32 1485.51 1810.91 1484.77 L1810.91 1480.07 Q1813 1481.2 1815.22 1481.76 Q1817.44 1482.32 1819.92 1482.32 Q1823.92 1482.32 1826.26 1480.21 Q1828.6 1478.1 1828.6 1474.49 Q1828.6 1470.88 1826.26 1468.77 Q1823.92 1466.67 1819.92 1466.67 Q1818.04 1466.67 1816.17 1467.08 Q1814.32 1467.5 1812.37 1468.38 L1812.37 1451.02 Z\" fill=\"#000000\" fill-rule=\"nonzero\" fill-opacity=\"1\" /><path clip-path=\"url(#clip250)\" d=\"M2260.6 1481.64 L2268.24 1481.64 L2268.24 1455.28 L2259.93 1456.95 L2259.93 1452.69 L2268.19 1451.02 L2272.87 1451.02 L2272.87 1481.64 L2280.51 1481.64 L2280.51 1485.58 L2260.6 1485.58 L2260.6 1481.64 Z\" fill=\"#000000\" fill-rule=\"nonzero\" fill-opacity=\"1\" /><path clip-path=\"url(#clip250)\" d=\"M2289.95 1479.7 L2294.84 1479.7 L2294.84 1485.58 L2289.95 1485.58 L2289.95 1479.7 Z\" fill=\"#000000\" fill-rule=\"nonzero\" fill-opacity=\"1\" /><path clip-path=\"url(#clip250)\" d=\"M2315.02 1454.1 Q2311.41 1454.1 2309.58 1457.66 Q2307.78 1461.2 2307.78 1468.33 Q2307.78 1475.44 2309.58 1479.01 Q2311.41 1482.55 2315.02 1482.55 Q2318.66 1482.55 2320.46 1479.01 Q2322.29 1475.44 2322.29 1468.33 Q2322.29 1461.2 2320.46 1457.66 Q2318.66 1454.1 2315.02 1454.1 M2315.02 1450.39 Q2320.83 1450.39 2323.89 1455 Q2326.97 1459.58 2326.97 1468.33 Q2326.97 1477.06 2323.89 1481.67 Q2320.83 1486.25 2315.02 1486.25 Q2309.21 1486.25 2306.13 1481.67 Q2303.08 1477.06 2303.08 1468.33 Q2303.08 1459.58 2306.13 1455 Q2309.21 1450.39 2315.02 1450.39 Z\" fill=\"#000000\" fill-rule=\"nonzero\" fill-opacity=\"1\" /><path clip-path=\"url(#clip250)\" d=\"M1247.56 1545.76 Q1249.63 1546.46 1251.57 1548.76 Q1253.55 1551.05 1255.52 1555.06 L1262.04 1568.04 L1255.14 1568.04 L1249.06 1555.85 Q1246.7 1551.08 1244.47 1549.52 Q1242.28 1547.96 1238.46 1547.96 L1231.46 1547.96 L1231.46 1568.04 L1225.03 1568.04 L1225.03 1520.52 L1239.54 1520.52 Q1247.69 1520.52 1251.7 1523.93 Q1255.71 1527.34 1255.71 1534.21 Q1255.71 1538.7 1253.61 1541.66 Q1251.54 1544.62 1247.56 1545.76 M1231.46 1525.81 L1231.46 1542.68 L1239.54 1542.68 Q1244.19 1542.68 1246.54 1540.54 Q1248.93 1538.38 1248.93 1534.21 Q1248.93 1530.04 1246.54 1527.94 Q1244.19 1525.81 1239.54 1525.81 L1231.46 1525.81 Z\" fill=\"#000000\" fill-rule=\"nonzero\" fill-opacity=\"1\" /><path clip-path=\"url(#clip250)\" d=\"M1297.63 1548.76 L1297.63 1551.62 L1270.7 1551.62 Q1271.08 1557.67 1274.33 1560.85 Q1277.61 1564 1283.43 1564 Q1286.81 1564 1289.96 1563.17 Q1293.14 1562.35 1296.26 1560.69 L1296.26 1566.23 Q1293.11 1567.57 1289.8 1568.27 Q1286.49 1568.97 1283.08 1568.97 Q1274.55 1568.97 1269.55 1564 Q1264.59 1559.04 1264.59 1550.57 Q1264.59 1541.82 1269.3 1536.69 Q1274.04 1531.54 1282.06 1531.54 Q1289.26 1531.54 1293.43 1536.18 Q1297.63 1540.8 1297.63 1548.76 M1291.77 1547.04 Q1291.71 1542.23 1289.07 1539.37 Q1286.46 1536.5 1282.13 1536.5 Q1277.23 1536.5 1274.27 1539.27 Q1271.34 1542.04 1270.89 1547.07 L1291.77 1547.04 Z\" fill=\"#000000\" fill-rule=\"nonzero\" fill-opacity=\"1\" /><path clip-path=\"url(#clip250)\" d=\"M1321.31 1518.58 Q1317.04 1525.9 1314.97 1533.06 Q1312.91 1540.23 1312.91 1547.58 Q1312.91 1554.93 1314.97 1562.16 Q1317.07 1569.35 1321.31 1576.64 L1316.22 1576.64 Q1311.44 1569.16 1309.05 1561.93 Q1306.7 1554.71 1306.7 1547.58 Q1306.7 1540.48 1309.05 1533.29 Q1311.41 1526.09 1316.22 1518.58 L1321.31 1518.58 Z\" fill=\"#000000\" fill-rule=\"nonzero\" fill-opacity=\"1\" /><path clip-path=\"url(#clip250)\" d=\"M1362.3 1532.4 L1349.41 1549.74 L1362.97 1568.04 L1356.06 1568.04 L1345.69 1554.04 L1335.31 1568.04 L1328.41 1568.04 L1342.25 1549.39 L1329.58 1532.4 L1336.49 1532.4 L1345.94 1545.1 L1355.4 1532.4 L1362.3 1532.4 Z\" fill=\"#000000\" fill-rule=\"nonzero\" fill-opacity=\"1\" /><path clip-path=\"url(#clip250)\" d=\"M1370.32 1518.58 L1375.42 1518.58 Q1380.19 1526.09 1382.55 1533.29 Q1384.93 1540.48 1384.93 1547.58 Q1384.93 1554.71 1382.55 1561.93 Q1380.19 1569.16 1375.42 1576.64 L1370.32 1576.64 Q1374.56 1569.35 1376.63 1562.16 Q1378.73 1554.93 1378.73 1547.58 Q1378.73 1540.23 1376.63 1533.06 Q1374.56 1525.9 1370.32 1518.58 Z\" fill=\"#000000\" fill-rule=\"nonzero\" fill-opacity=\"1\" /><polyline clip-path=\"url(#clip250)\" style=\"stroke:#000000; stroke-linecap:round; stroke-linejoin:round; stroke-width:4; stroke-opacity:1; fill:none\" points=\"257.204,1423.18 257.204,47.2441 \"/>\n",
       "<polyline clip-path=\"url(#clip250)\" style=\"stroke:#000000; stroke-linecap:round; stroke-linejoin:round; stroke-width:4; stroke-opacity:1; fill:none\" points=\"257.204,1384.24 276.102,1384.24 \"/>\n",
       "<polyline clip-path=\"url(#clip250)\" style=\"stroke:#000000; stroke-linecap:round; stroke-linejoin:round; stroke-width:4; stroke-opacity:1; fill:none\" points=\"257.204,1059.73 276.102,1059.73 \"/>\n",
       "<polyline clip-path=\"url(#clip250)\" style=\"stroke:#000000; stroke-linecap:round; stroke-linejoin:round; stroke-width:4; stroke-opacity:1; fill:none\" points=\"257.204,735.213 276.102,735.213 \"/>\n",
       "<polyline clip-path=\"url(#clip250)\" style=\"stroke:#000000; stroke-linecap:round; stroke-linejoin:round; stroke-width:4; stroke-opacity:1; fill:none\" points=\"257.204,410.699 276.102,410.699 \"/>\n",
       "<polyline clip-path=\"url(#clip250)\" style=\"stroke:#000000; stroke-linecap:round; stroke-linejoin:round; stroke-width:4; stroke-opacity:1; fill:none\" points=\"257.204,86.1855 276.102,86.1855 \"/>\n",
       "<path clip-path=\"url(#clip250)\" d=\"M114.26 1384.69 L143.936 1384.69 L143.936 1388.63 L114.26 1388.63 L114.26 1384.69 Z\" fill=\"#000000\" fill-rule=\"nonzero\" fill-opacity=\"1\" /><path clip-path=\"url(#clip250)\" d=\"M154.839 1397.58 L162.477 1397.58 L162.477 1371.22 L154.167 1372.89 L154.167 1368.63 L162.431 1366.96 L167.107 1366.96 L167.107 1397.58 L174.746 1397.58 L174.746 1401.52 L154.839 1401.52 L154.839 1397.58 Z\" fill=\"#000000\" fill-rule=\"nonzero\" fill-opacity=\"1\" /><path clip-path=\"url(#clip250)\" d=\"M184.19 1395.64 L189.075 1395.64 L189.075 1401.52 L184.19 1401.52 L184.19 1395.64 Z\" fill=\"#000000\" fill-rule=\"nonzero\" fill-opacity=\"1\" /><path clip-path=\"url(#clip250)\" d=\"M209.26 1370.04 Q205.649 1370.04 203.82 1373.6 Q202.014 1377.15 202.014 1384.27 Q202.014 1391.38 203.82 1394.95 Q205.649 1398.49 209.26 1398.49 Q212.894 1398.49 214.699 1394.95 Q216.528 1391.38 216.528 1384.27 Q216.528 1377.15 214.699 1373.6 Q212.894 1370.04 209.26 1370.04 M209.26 1366.34 Q215.07 1366.34 218.125 1370.94 Q221.204 1375.52 221.204 1384.27 Q221.204 1393 218.125 1397.61 Q215.07 1402.19 209.26 1402.19 Q203.449 1402.19 200.371 1397.61 Q197.315 1393 197.315 1384.27 Q197.315 1375.52 200.371 1370.94 Q203.449 1366.34 209.26 1366.34 Z\" fill=\"#000000\" fill-rule=\"nonzero\" fill-opacity=\"1\" /><path clip-path=\"url(#clip250)\" d=\"M115.256 1060.18 L144.931 1060.18 L144.931 1064.11 L115.256 1064.11 L115.256 1060.18 Z\" fill=\"#000000\" fill-rule=\"nonzero\" fill-opacity=\"1\" /><path clip-path=\"url(#clip250)\" d=\"M165.024 1045.53 Q161.413 1045.53 159.584 1049.09 Q157.778 1052.63 157.778 1059.76 Q157.778 1066.87 159.584 1070.43 Q161.413 1073.97 165.024 1073.97 Q168.658 1073.97 170.464 1070.43 Q172.292 1066.87 172.292 1059.76 Q172.292 1052.63 170.464 1049.09 Q168.658 1045.53 165.024 1045.53 M165.024 1041.82 Q170.834 1041.82 173.889 1046.43 Q176.968 1051.01 176.968 1059.76 Q176.968 1068.49 173.889 1073.09 Q170.834 1077.68 165.024 1077.68 Q159.214 1077.68 156.135 1073.09 Q153.079 1068.49 153.079 1059.76 Q153.079 1051.01 156.135 1046.43 Q159.214 1041.82 165.024 1041.82 Z\" fill=\"#000000\" fill-rule=\"nonzero\" fill-opacity=\"1\" /><path clip-path=\"url(#clip250)\" d=\"M185.186 1071.13 L190.07 1071.13 L190.07 1077.01 L185.186 1077.01 L185.186 1071.13 Z\" fill=\"#000000\" fill-rule=\"nonzero\" fill-opacity=\"1\" /><path clip-path=\"url(#clip250)\" d=\"M200.301 1042.45 L218.658 1042.45 L218.658 1046.38 L204.584 1046.38 L204.584 1054.85 Q205.602 1054.51 206.621 1054.34 Q207.639 1054.16 208.658 1054.16 Q214.445 1054.16 217.824 1057.33 Q221.204 1060.5 221.204 1065.92 Q221.204 1071.5 217.732 1074.6 Q214.26 1077.68 207.94 1077.68 Q205.764 1077.68 203.496 1077.31 Q201.25 1076.94 198.843 1076.2 L198.843 1071.5 Q200.926 1072.63 203.149 1073.19 Q205.371 1073.74 207.848 1073.74 Q211.852 1073.74 214.19 1071.64 Q216.528 1069.53 216.528 1065.92 Q216.528 1062.31 214.19 1060.2 Q211.852 1058.09 207.848 1058.09 Q205.973 1058.09 204.098 1058.51 Q202.246 1058.93 200.301 1059.81 L200.301 1042.45 Z\" fill=\"#000000\" fill-rule=\"nonzero\" fill-opacity=\"1\" /><path clip-path=\"url(#clip250)\" d=\"M164.028 721.011 Q160.417 721.011 158.589 724.576 Q156.783 728.118 156.783 735.248 Q156.783 742.354 158.589 745.919 Q160.417 749.46 164.028 749.46 Q167.663 749.46 169.468 745.919 Q171.297 742.354 171.297 735.248 Q171.297 728.118 169.468 724.576 Q167.663 721.011 164.028 721.011 M164.028 717.308 Q169.839 717.308 172.894 721.914 Q175.973 726.498 175.973 735.248 Q175.973 743.974 172.894 748.581 Q169.839 753.164 164.028 753.164 Q158.218 753.164 155.14 748.581 Q152.084 743.974 152.084 735.248 Q152.084 726.498 155.14 721.914 Q158.218 717.308 164.028 717.308 Z\" fill=\"#000000\" fill-rule=\"nonzero\" fill-opacity=\"1\" /><path clip-path=\"url(#clip250)\" d=\"M184.19 746.613 L189.075 746.613 L189.075 752.493 L184.19 752.493 L184.19 746.613 Z\" fill=\"#000000\" fill-rule=\"nonzero\" fill-opacity=\"1\" /><path clip-path=\"url(#clip250)\" d=\"M209.26 721.011 Q205.649 721.011 203.82 724.576 Q202.014 728.118 202.014 735.248 Q202.014 742.354 203.82 745.919 Q205.649 749.46 209.26 749.46 Q212.894 749.46 214.699 745.919 Q216.528 742.354 216.528 735.248 Q216.528 728.118 214.699 724.576 Q212.894 721.011 209.26 721.011 M209.26 717.308 Q215.07 717.308 218.125 721.914 Q221.204 726.498 221.204 735.248 Q221.204 743.974 218.125 748.581 Q215.07 753.164 209.26 753.164 Q203.449 753.164 200.371 748.581 Q197.315 743.974 197.315 735.248 Q197.315 726.498 200.371 721.914 Q203.449 717.308 209.26 717.308 Z\" fill=\"#000000\" fill-rule=\"nonzero\" fill-opacity=\"1\" /><path clip-path=\"url(#clip250)\" d=\"M165.024 396.498 Q161.413 396.498 159.584 400.063 Q157.778 403.604 157.778 410.734 Q157.778 417.84 159.584 421.405 Q161.413 424.947 165.024 424.947 Q168.658 424.947 170.464 421.405 Q172.292 417.84 172.292 410.734 Q172.292 403.604 170.464 400.063 Q168.658 396.498 165.024 396.498 M165.024 392.794 Q170.834 392.794 173.889 397.401 Q176.968 401.984 176.968 410.734 Q176.968 419.461 173.889 424.067 Q170.834 428.65 165.024 428.65 Q159.214 428.65 156.135 424.067 Q153.079 419.461 153.079 410.734 Q153.079 401.984 156.135 397.401 Q159.214 392.794 165.024 392.794 Z\" fill=\"#000000\" fill-rule=\"nonzero\" fill-opacity=\"1\" /><path clip-path=\"url(#clip250)\" d=\"M185.186 422.1 L190.07 422.1 L190.07 427.979 L185.186 427.979 L185.186 422.1 Z\" fill=\"#000000\" fill-rule=\"nonzero\" fill-opacity=\"1\" /><path clip-path=\"url(#clip250)\" d=\"M200.301 393.419 L218.658 393.419 L218.658 397.354 L204.584 397.354 L204.584 405.826 Q205.602 405.479 206.621 405.317 Q207.639 405.132 208.658 405.132 Q214.445 405.132 217.824 408.303 Q221.204 411.475 221.204 416.891 Q221.204 422.47 217.732 425.572 Q214.26 428.65 207.94 428.65 Q205.764 428.65 203.496 428.28 Q201.25 427.91 198.843 427.169 L198.843 422.47 Q200.926 423.604 203.149 424.16 Q205.371 424.715 207.848 424.715 Q211.852 424.715 214.19 422.609 Q216.528 420.502 216.528 416.891 Q216.528 413.28 214.19 411.174 Q211.852 409.067 207.848 409.067 Q205.973 409.067 204.098 409.484 Q202.246 409.901 200.301 410.78 L200.301 393.419 Z\" fill=\"#000000\" fill-rule=\"nonzero\" fill-opacity=\"1\" /><path clip-path=\"url(#clip250)\" d=\"M154.839 99.5303 L162.477 99.5303 L162.477 73.1647 L154.167 74.8314 L154.167 70.5721 L162.431 68.9055 L167.107 68.9055 L167.107 99.5303 L174.746 99.5303 L174.746 103.465 L154.839 103.465 L154.839 99.5303 Z\" fill=\"#000000\" fill-rule=\"nonzero\" fill-opacity=\"1\" /><path clip-path=\"url(#clip250)\" d=\"M184.19 97.5859 L189.075 97.5859 L189.075 103.465 L184.19 103.465 L184.19 97.5859 Z\" fill=\"#000000\" fill-rule=\"nonzero\" fill-opacity=\"1\" /><path clip-path=\"url(#clip250)\" d=\"M209.26 71.9842 Q205.649 71.9842 203.82 75.5489 Q202.014 79.0906 202.014 86.2202 Q202.014 93.3266 203.82 96.8914 Q205.649 100.433 209.26 100.433 Q212.894 100.433 214.699 96.8914 Q216.528 93.3266 216.528 86.2202 Q216.528 79.0906 214.699 75.5489 Q212.894 71.9842 209.26 71.9842 M209.26 68.2805 Q215.07 68.2805 218.125 72.8869 Q221.204 77.4702 221.204 86.2202 Q221.204 94.947 218.125 99.5535 Q215.07 104.137 209.26 104.137 Q203.449 104.137 200.371 99.5535 Q197.315 94.947 197.315 86.2202 Q197.315 77.4702 200.371 72.8869 Q203.449 68.2805 209.26 68.2805 Z\" fill=\"#000000\" fill-rule=\"nonzero\" fill-opacity=\"1\" /><path clip-path=\"url(#clip250)\" d=\"M16.4842 815.293 L16.4842 808.863 L64.0042 808.863 L64.0042 815.293 L16.4842 815.293 Z\" fill=\"#000000\" fill-rule=\"nonzero\" fill-opacity=\"1\" /><path clip-path=\"url(#clip250)\" d=\"M35.1993 768.568 Q31.2526 766.372 29.3747 763.317 Q27.4968 760.261 27.4968 756.123 Q27.4968 750.553 31.4117 747.53 Q35.2948 744.506 42.4881 744.506 L64.0042 744.506 L64.0042 750.394 L42.679 750.394 Q37.5546 750.394 35.072 752.208 Q32.5894 754.023 32.5894 757.747 Q32.5894 762.298 35.6131 764.94 Q38.6368 767.582 43.8567 767.582 L64.0042 767.582 L64.0042 773.47 L42.679 773.47 Q37.5228 773.47 35.072 775.284 Q32.5894 777.098 32.5894 780.886 Q32.5894 785.374 35.6449 788.016 Q38.6686 790.657 43.8567 790.657 L64.0042 790.657 L64.0042 796.546 L28.3562 796.546 L28.3562 790.657 L33.8944 790.657 Q30.616 788.652 29.0564 785.851 Q27.4968 783.05 27.4968 779.199 Q27.4968 775.316 29.4702 772.61 Q31.4436 769.873 35.1993 768.568 Z\" fill=\"#000000\" fill-rule=\"nonzero\" fill-opacity=\"1\" /><path clip-path=\"url(#clip250)\" d=\"M14.5426 718.757 Q21.8632 723.022 29.0246 725.09 Q36.186 727.159 43.5384 727.159 Q50.8908 727.159 58.1159 725.09 Q65.3091 722.99 72.5979 718.757 L72.5979 723.849 Q65.1182 728.623 57.8931 731.011 Q50.668 733.366 43.5384 733.366 Q36.4406 733.366 29.2474 731.011 Q22.0542 728.655 14.5426 723.849 L14.5426 718.757 Z\" fill=\"#000000\" fill-rule=\"nonzero\" fill-opacity=\"1\" /><path clip-path=\"url(#clip250)\" d=\"M28.3562 677.761 L45.7028 690.652 L64.0042 677.093 L64.0042 684 L49.9996 694.376 L64.0042 704.752 L64.0042 711.659 L45.3526 697.813 L28.3562 710.481 L28.3562 703.574 L41.0558 694.121 L28.3562 684.668 L28.3562 677.761 Z\" fill=\"#000000\" fill-rule=\"nonzero\" fill-opacity=\"1\" /><path clip-path=\"url(#clip250)\" d=\"M14.5426 669.741 L14.5426 664.648 Q22.0542 659.874 29.2474 657.519 Q36.4406 655.131 43.5384 655.131 Q50.668 655.131 57.8931 657.519 Q65.1182 659.874 72.5979 664.648 L72.5979 669.741 Q65.3091 665.507 58.1159 663.439 Q50.8908 661.338 43.5384 661.338 Q36.186 661.338 29.0246 663.439 Q21.8632 665.507 14.5426 669.741 Z\" fill=\"#000000\" fill-rule=\"nonzero\" fill-opacity=\"1\" /><circle clip-path=\"url(#clip252)\" cx=\"820.607\" cy=\"735.213\" r=\"14.4\" fill=\"#009af9\" fill-rule=\"evenodd\" fill-opacity=\"1\" stroke=\"#000000\" stroke-opacity=\"1\" stroke-width=\"3.2\"/>\n",
       "<circle clip-path=\"url(#clip252)\" cx=\"1281.23\" cy=\"832.545\" r=\"14.4\" fill=\"#009af9\" fill-rule=\"evenodd\" fill-opacity=\"1\" stroke=\"#000000\" stroke-opacity=\"1\" stroke-width=\"3.2\"/>\n",
       "<circle clip-path=\"url(#clip252)\" cx=\"1281.23\" cy=\"637.88\" r=\"14.4\" fill=\"#009af9\" fill-rule=\"evenodd\" fill-opacity=\"1\" stroke=\"#000000\" stroke-opacity=\"1\" stroke-width=\"3.2\"/>\n",
       "<circle clip-path=\"url(#clip252)\" cx=\"1304.23\" cy=\"735.213\" r=\"14.4\" fill=\"#009af9\" fill-rule=\"evenodd\" fill-opacity=\"1\" stroke=\"#000000\" stroke-opacity=\"1\" stroke-width=\"3.2\"/>\n",
       "<circle clip-path=\"url(#clip252)\" cx=\"1304.93\" cy=\"735.213\" r=\"14.4\" fill=\"#009af9\" fill-rule=\"evenodd\" fill-opacity=\"1\" stroke=\"#000000\" stroke-opacity=\"1\" stroke-width=\"3.2\"/>\n",
       "<circle clip-path=\"url(#clip252)\" cx=\"1304.98\" cy=\"735.213\" r=\"14.4\" fill=\"#009af9\" fill-rule=\"evenodd\" fill-opacity=\"1\" stroke=\"#000000\" stroke-opacity=\"1\" stroke-width=\"3.2\"/>\n",
       "<circle clip-path=\"url(#clip252)\" cx=\"1304.98\" cy=\"735.213\" r=\"14.4\" fill=\"#009af9\" fill-rule=\"evenodd\" fill-opacity=\"1\" stroke=\"#000000\" stroke-opacity=\"1\" stroke-width=\"3.2\"/>\n",
       "<circle clip-path=\"url(#clip252)\" cx=\"1304.98\" cy=\"735.213\" r=\"14.4\" fill=\"#009af9\" fill-rule=\"evenodd\" fill-opacity=\"1\" stroke=\"#000000\" stroke-opacity=\"1\" stroke-width=\"3.2\"/>\n",
       "<circle clip-path=\"url(#clip252)\" cx=\"1304.98\" cy=\"735.213\" r=\"14.4\" fill=\"#009af9\" fill-rule=\"evenodd\" fill-opacity=\"1\" stroke=\"#000000\" stroke-opacity=\"1\" stroke-width=\"3.2\"/>\n",
       "<circle clip-path=\"url(#clip252)\" cx=\"1304.98\" cy=\"735.213\" r=\"14.4\" fill=\"#009af9\" fill-rule=\"evenodd\" fill-opacity=\"1\" stroke=\"#000000\" stroke-opacity=\"1\" stroke-width=\"3.2\"/>\n",
       "<circle clip-path=\"url(#clip252)\" cx=\"1304.98\" cy=\"735.213\" r=\"14.4\" fill=\"#009af9\" fill-rule=\"evenodd\" fill-opacity=\"1\" stroke=\"#000000\" stroke-opacity=\"1\" stroke-width=\"3.2\"/>\n",
       "<circle clip-path=\"url(#clip252)\" cx=\"1304.98\" cy=\"735.213\" r=\"14.4\" fill=\"#009af9\" fill-rule=\"evenodd\" fill-opacity=\"1\" stroke=\"#000000\" stroke-opacity=\"1\" stroke-width=\"3.2\"/>\n",
       "<circle clip-path=\"url(#clip252)\" cx=\"1304.98\" cy=\"735.213\" r=\"14.4\" fill=\"#009af9\" fill-rule=\"evenodd\" fill-opacity=\"1\" stroke=\"#000000\" stroke-opacity=\"1\" stroke-width=\"3.2\"/>\n",
       "<circle clip-path=\"url(#clip252)\" cx=\"1304.98\" cy=\"735.213\" r=\"14.4\" fill=\"#009af9\" fill-rule=\"evenodd\" fill-opacity=\"1\" stroke=\"#000000\" stroke-opacity=\"1\" stroke-width=\"3.2\"/>\n",
       "<circle clip-path=\"url(#clip252)\" cx=\"1304.98\" cy=\"735.213\" r=\"14.4\" fill=\"#009af9\" fill-rule=\"evenodd\" fill-opacity=\"1\" stroke=\"#000000\" stroke-opacity=\"1\" stroke-width=\"3.2\"/>\n",
       "<circle clip-path=\"url(#clip252)\" cx=\"1304.98\" cy=\"735.213\" r=\"14.4\" fill=\"#009af9\" fill-rule=\"evenodd\" fill-opacity=\"1\" stroke=\"#000000\" stroke-opacity=\"1\" stroke-width=\"3.2\"/>\n",
       "<circle clip-path=\"url(#clip252)\" cx=\"1304.98\" cy=\"735.213\" r=\"14.4\" fill=\"#009af9\" fill-rule=\"evenodd\" fill-opacity=\"1\" stroke=\"#000000\" stroke-opacity=\"1\" stroke-width=\"3.2\"/>\n",
       "<circle clip-path=\"url(#clip252)\" cx=\"1304.98\" cy=\"735.213\" r=\"14.4\" fill=\"#009af9\" fill-rule=\"evenodd\" fill-opacity=\"1\" stroke=\"#000000\" stroke-opacity=\"1\" stroke-width=\"3.2\"/>\n",
       "<circle clip-path=\"url(#clip252)\" cx=\"1304.98\" cy=\"735.213\" r=\"14.4\" fill=\"#009af9\" fill-rule=\"evenodd\" fill-opacity=\"1\" stroke=\"#000000\" stroke-opacity=\"1\" stroke-width=\"3.2\"/>\n",
       "<circle clip-path=\"url(#clip252)\" cx=\"1304.98\" cy=\"735.213\" r=\"14.4\" fill=\"#009af9\" fill-rule=\"evenodd\" fill-opacity=\"1\" stroke=\"#000000\" stroke-opacity=\"1\" stroke-width=\"3.2\"/>\n",
       "<circle clip-path=\"url(#clip252)\" cx=\"1304.98\" cy=\"735.213\" r=\"14.4\" fill=\"#009af9\" fill-rule=\"evenodd\" fill-opacity=\"1\" stroke=\"#000000\" stroke-opacity=\"1\" stroke-width=\"3.2\"/>\n",
       "<circle clip-path=\"url(#clip252)\" cx=\"1304.98\" cy=\"735.213\" r=\"14.4\" fill=\"#009af9\" fill-rule=\"evenodd\" fill-opacity=\"1\" stroke=\"#000000\" stroke-opacity=\"1\" stroke-width=\"3.2\"/>\n",
       "<circle clip-path=\"url(#clip252)\" cx=\"1304.98\" cy=\"735.213\" r=\"14.4\" fill=\"#009af9\" fill-rule=\"evenodd\" fill-opacity=\"1\" stroke=\"#000000\" stroke-opacity=\"1\" stroke-width=\"3.2\"/>\n",
       "<circle clip-path=\"url(#clip252)\" cx=\"1304.98\" cy=\"735.213\" r=\"14.4\" fill=\"#009af9\" fill-rule=\"evenodd\" fill-opacity=\"1\" stroke=\"#000000\" stroke-opacity=\"1\" stroke-width=\"3.2\"/>\n",
       "<circle clip-path=\"url(#clip252)\" cx=\"1304.98\" cy=\"735.213\" r=\"14.4\" fill=\"#009af9\" fill-rule=\"evenodd\" fill-opacity=\"1\" stroke=\"#000000\" stroke-opacity=\"1\" stroke-width=\"3.2\"/>\n",
       "<circle clip-path=\"url(#clip252)\" cx=\"1304.98\" cy=\"735.213\" r=\"14.4\" fill=\"#009af9\" fill-rule=\"evenodd\" fill-opacity=\"1\" stroke=\"#000000\" stroke-opacity=\"1\" stroke-width=\"3.2\"/>\n",
       "<circle clip-path=\"url(#clip252)\" cx=\"1304.98\" cy=\"735.213\" r=\"14.4\" fill=\"#009af9\" fill-rule=\"evenodd\" fill-opacity=\"1\" stroke=\"#000000\" stroke-opacity=\"1\" stroke-width=\"3.2\"/>\n",
       "<circle clip-path=\"url(#clip252)\" cx=\"1304.98\" cy=\"735.213\" r=\"14.4\" fill=\"#009af9\" fill-rule=\"evenodd\" fill-opacity=\"1\" stroke=\"#000000\" stroke-opacity=\"1\" stroke-width=\"3.2\"/>\n",
       "<circle clip-path=\"url(#clip252)\" cx=\"1304.98\" cy=\"735.213\" r=\"14.4\" fill=\"#009af9\" fill-rule=\"evenodd\" fill-opacity=\"1\" stroke=\"#000000\" stroke-opacity=\"1\" stroke-width=\"3.2\"/>\n",
       "<circle clip-path=\"url(#clip252)\" cx=\"1304.98\" cy=\"735.213\" r=\"14.4\" fill=\"#009af9\" fill-rule=\"evenodd\" fill-opacity=\"1\" stroke=\"#000000\" stroke-opacity=\"1\" stroke-width=\"3.2\"/>\n",
       "<circle clip-path=\"url(#clip252)\" cx=\"1304.98\" cy=\"735.213\" r=\"14.4\" fill=\"#009af9\" fill-rule=\"evenodd\" fill-opacity=\"1\" stroke=\"#000000\" stroke-opacity=\"1\" stroke-width=\"3.2\"/>\n",
       "<circle clip-path=\"url(#clip252)\" cx=\"1304.98\" cy=\"735.213\" r=\"14.4\" fill=\"#009af9\" fill-rule=\"evenodd\" fill-opacity=\"1\" stroke=\"#000000\" stroke-opacity=\"1\" stroke-width=\"3.2\"/>\n",
       "<circle clip-path=\"url(#clip252)\" cx=\"1304.98\" cy=\"735.213\" r=\"14.4\" fill=\"#009af9\" fill-rule=\"evenodd\" fill-opacity=\"1\" stroke=\"#000000\" stroke-opacity=\"1\" stroke-width=\"3.2\"/>\n",
       "<circle clip-path=\"url(#clip252)\" cx=\"1304.98\" cy=\"735.213\" r=\"14.4\" fill=\"#009af9\" fill-rule=\"evenodd\" fill-opacity=\"1\" stroke=\"#000000\" stroke-opacity=\"1\" stroke-width=\"3.2\"/>\n",
       "<circle clip-path=\"url(#clip252)\" cx=\"1304.98\" cy=\"735.213\" r=\"14.4\" fill=\"#009af9\" fill-rule=\"evenodd\" fill-opacity=\"1\" stroke=\"#000000\" stroke-opacity=\"1\" stroke-width=\"3.2\"/>\n",
       "<circle clip-path=\"url(#clip252)\" cx=\"1304.98\" cy=\"735.213\" r=\"14.4\" fill=\"#009af9\" fill-rule=\"evenodd\" fill-opacity=\"1\" stroke=\"#000000\" stroke-opacity=\"1\" stroke-width=\"3.2\"/>\n",
       "<circle clip-path=\"url(#clip252)\" cx=\"1304.98\" cy=\"735.213\" r=\"14.4\" fill=\"#009af9\" fill-rule=\"evenodd\" fill-opacity=\"1\" stroke=\"#000000\" stroke-opacity=\"1\" stroke-width=\"3.2\"/>\n",
       "<circle clip-path=\"url(#clip252)\" cx=\"1304.98\" cy=\"735.213\" r=\"14.4\" fill=\"#009af9\" fill-rule=\"evenodd\" fill-opacity=\"1\" stroke=\"#000000\" stroke-opacity=\"1\" stroke-width=\"3.2\"/>\n",
       "<circle clip-path=\"url(#clip252)\" cx=\"1304.98\" cy=\"735.213\" r=\"14.4\" fill=\"#009af9\" fill-rule=\"evenodd\" fill-opacity=\"1\" stroke=\"#000000\" stroke-opacity=\"1\" stroke-width=\"3.2\"/>\n",
       "<circle clip-path=\"url(#clip252)\" cx=\"1304.98\" cy=\"735.213\" r=\"14.4\" fill=\"#009af9\" fill-rule=\"evenodd\" fill-opacity=\"1\" stroke=\"#000000\" stroke-opacity=\"1\" stroke-width=\"3.2\"/>\n",
       "<circle clip-path=\"url(#clip252)\" cx=\"1304.98\" cy=\"735.213\" r=\"14.4\" fill=\"#009af9\" fill-rule=\"evenodd\" fill-opacity=\"1\" stroke=\"#000000\" stroke-opacity=\"1\" stroke-width=\"3.2\"/>\n",
       "<circle clip-path=\"url(#clip252)\" cx=\"1304.98\" cy=\"735.213\" r=\"14.4\" fill=\"#009af9\" fill-rule=\"evenodd\" fill-opacity=\"1\" stroke=\"#000000\" stroke-opacity=\"1\" stroke-width=\"3.2\"/>\n",
       "<circle clip-path=\"url(#clip252)\" cx=\"1304.98\" cy=\"735.213\" r=\"14.4\" fill=\"#009af9\" fill-rule=\"evenodd\" fill-opacity=\"1\" stroke=\"#000000\" stroke-opacity=\"1\" stroke-width=\"3.2\"/>\n",
       "<circle clip-path=\"url(#clip252)\" cx=\"1304.98\" cy=\"735.213\" r=\"14.4\" fill=\"#009af9\" fill-rule=\"evenodd\" fill-opacity=\"1\" stroke=\"#000000\" stroke-opacity=\"1\" stroke-width=\"3.2\"/>\n",
       "<circle clip-path=\"url(#clip252)\" cx=\"1304.98\" cy=\"735.213\" r=\"14.4\" fill=\"#009af9\" fill-rule=\"evenodd\" fill-opacity=\"1\" stroke=\"#000000\" stroke-opacity=\"1\" stroke-width=\"3.2\"/>\n",
       "<circle clip-path=\"url(#clip252)\" cx=\"1304.98\" cy=\"735.213\" r=\"14.4\" fill=\"#009af9\" fill-rule=\"evenodd\" fill-opacity=\"1\" stroke=\"#000000\" stroke-opacity=\"1\" stroke-width=\"3.2\"/>\n",
       "<circle clip-path=\"url(#clip252)\" cx=\"1304.98\" cy=\"735.213\" r=\"14.4\" fill=\"#009af9\" fill-rule=\"evenodd\" fill-opacity=\"1\" stroke=\"#000000\" stroke-opacity=\"1\" stroke-width=\"3.2\"/>\n",
       "<circle clip-path=\"url(#clip252)\" cx=\"1304.98\" cy=\"735.213\" r=\"14.4\" fill=\"#009af9\" fill-rule=\"evenodd\" fill-opacity=\"1\" stroke=\"#000000\" stroke-opacity=\"1\" stroke-width=\"3.2\"/>\n",
       "<circle clip-path=\"url(#clip252)\" cx=\"1304.98\" cy=\"735.213\" r=\"14.4\" fill=\"#009af9\" fill-rule=\"evenodd\" fill-opacity=\"1\" stroke=\"#000000\" stroke-opacity=\"1\" stroke-width=\"3.2\"/>\n",
       "<circle clip-path=\"url(#clip252)\" cx=\"1304.98\" cy=\"735.213\" r=\"14.4\" fill=\"#009af9\" fill-rule=\"evenodd\" fill-opacity=\"1\" stroke=\"#000000\" stroke-opacity=\"1\" stroke-width=\"3.2\"/>\n",
       "<circle clip-path=\"url(#clip252)\" cx=\"1304.98\" cy=\"735.213\" r=\"14.4\" fill=\"#009af9\" fill-rule=\"evenodd\" fill-opacity=\"1\" stroke=\"#000000\" stroke-opacity=\"1\" stroke-width=\"3.2\"/>\n",
       "<circle clip-path=\"url(#clip252)\" cx=\"1304.98\" cy=\"735.213\" r=\"14.4\" fill=\"#009af9\" fill-rule=\"evenodd\" fill-opacity=\"1\" stroke=\"#000000\" stroke-opacity=\"1\" stroke-width=\"3.2\"/>\n",
       "<circle clip-path=\"url(#clip252)\" cx=\"1304.98\" cy=\"735.213\" r=\"14.4\" fill=\"#009af9\" fill-rule=\"evenodd\" fill-opacity=\"1\" stroke=\"#000000\" stroke-opacity=\"1\" stroke-width=\"3.2\"/>\n",
       "<circle clip-path=\"url(#clip252)\" cx=\"1304.98\" cy=\"735.213\" r=\"14.4\" fill=\"#009af9\" fill-rule=\"evenodd\" fill-opacity=\"1\" stroke=\"#000000\" stroke-opacity=\"1\" stroke-width=\"3.2\"/>\n",
       "<circle clip-path=\"url(#clip252)\" cx=\"1304.98\" cy=\"735.213\" r=\"14.4\" fill=\"#009af9\" fill-rule=\"evenodd\" fill-opacity=\"1\" stroke=\"#000000\" stroke-opacity=\"1\" stroke-width=\"3.2\"/>\n",
       "<circle clip-path=\"url(#clip252)\" cx=\"1304.98\" cy=\"735.213\" r=\"14.4\" fill=\"#009af9\" fill-rule=\"evenodd\" fill-opacity=\"1\" stroke=\"#000000\" stroke-opacity=\"1\" stroke-width=\"3.2\"/>\n",
       "<circle clip-path=\"url(#clip252)\" cx=\"1304.98\" cy=\"735.213\" r=\"14.4\" fill=\"#009af9\" fill-rule=\"evenodd\" fill-opacity=\"1\" stroke=\"#000000\" stroke-opacity=\"1\" stroke-width=\"3.2\"/>\n",
       "<circle clip-path=\"url(#clip252)\" cx=\"1304.98\" cy=\"735.213\" r=\"14.4\" fill=\"#009af9\" fill-rule=\"evenodd\" fill-opacity=\"1\" stroke=\"#000000\" stroke-opacity=\"1\" stroke-width=\"3.2\"/>\n",
       "<circle clip-path=\"url(#clip252)\" cx=\"1304.98\" cy=\"735.213\" r=\"14.4\" fill=\"#009af9\" fill-rule=\"evenodd\" fill-opacity=\"1\" stroke=\"#000000\" stroke-opacity=\"1\" stroke-width=\"3.2\"/>\n",
       "<circle clip-path=\"url(#clip252)\" cx=\"1304.98\" cy=\"735.213\" r=\"14.4\" fill=\"#009af9\" fill-rule=\"evenodd\" fill-opacity=\"1\" stroke=\"#000000\" stroke-opacity=\"1\" stroke-width=\"3.2\"/>\n",
       "<circle clip-path=\"url(#clip252)\" cx=\"1304.98\" cy=\"735.213\" r=\"14.4\" fill=\"#009af9\" fill-rule=\"evenodd\" fill-opacity=\"1\" stroke=\"#000000\" stroke-opacity=\"1\" stroke-width=\"3.2\"/>\n",
       "<circle clip-path=\"url(#clip252)\" cx=\"1304.98\" cy=\"735.213\" r=\"14.4\" fill=\"#009af9\" fill-rule=\"evenodd\" fill-opacity=\"1\" stroke=\"#000000\" stroke-opacity=\"1\" stroke-width=\"3.2\"/>\n",
       "<circle clip-path=\"url(#clip252)\" cx=\"1304.98\" cy=\"735.213\" r=\"14.4\" fill=\"#009af9\" fill-rule=\"evenodd\" fill-opacity=\"1\" stroke=\"#000000\" stroke-opacity=\"1\" stroke-width=\"3.2\"/>\n",
       "<circle clip-path=\"url(#clip252)\" cx=\"1304.98\" cy=\"735.213\" r=\"14.4\" fill=\"#009af9\" fill-rule=\"evenodd\" fill-opacity=\"1\" stroke=\"#000000\" stroke-opacity=\"1\" stroke-width=\"3.2\"/>\n",
       "<circle clip-path=\"url(#clip252)\" cx=\"1304.98\" cy=\"735.213\" r=\"14.4\" fill=\"#009af9\" fill-rule=\"evenodd\" fill-opacity=\"1\" stroke=\"#000000\" stroke-opacity=\"1\" stroke-width=\"3.2\"/>\n",
       "<circle clip-path=\"url(#clip252)\" cx=\"1304.98\" cy=\"735.213\" r=\"14.4\" fill=\"#009af9\" fill-rule=\"evenodd\" fill-opacity=\"1\" stroke=\"#000000\" stroke-opacity=\"1\" stroke-width=\"3.2\"/>\n",
       "<circle clip-path=\"url(#clip252)\" cx=\"1304.98\" cy=\"735.213\" r=\"14.4\" fill=\"#009af9\" fill-rule=\"evenodd\" fill-opacity=\"1\" stroke=\"#000000\" stroke-opacity=\"1\" stroke-width=\"3.2\"/>\n",
       "<circle clip-path=\"url(#clip252)\" cx=\"1304.98\" cy=\"735.213\" r=\"14.4\" fill=\"#009af9\" fill-rule=\"evenodd\" fill-opacity=\"1\" stroke=\"#000000\" stroke-opacity=\"1\" stroke-width=\"3.2\"/>\n",
       "<circle clip-path=\"url(#clip252)\" cx=\"1304.98\" cy=\"735.213\" r=\"14.4\" fill=\"#009af9\" fill-rule=\"evenodd\" fill-opacity=\"1\" stroke=\"#000000\" stroke-opacity=\"1\" stroke-width=\"3.2\"/>\n",
       "<circle clip-path=\"url(#clip252)\" cx=\"1304.98\" cy=\"735.213\" r=\"14.4\" fill=\"#009af9\" fill-rule=\"evenodd\" fill-opacity=\"1\" stroke=\"#000000\" stroke-opacity=\"1\" stroke-width=\"3.2\"/>\n",
       "<circle clip-path=\"url(#clip252)\" cx=\"1304.98\" cy=\"735.213\" r=\"14.4\" fill=\"#009af9\" fill-rule=\"evenodd\" fill-opacity=\"1\" stroke=\"#000000\" stroke-opacity=\"1\" stroke-width=\"3.2\"/>\n",
       "<circle clip-path=\"url(#clip252)\" cx=\"1304.98\" cy=\"735.213\" r=\"14.4\" fill=\"#009af9\" fill-rule=\"evenodd\" fill-opacity=\"1\" stroke=\"#000000\" stroke-opacity=\"1\" stroke-width=\"3.2\"/>\n",
       "<circle clip-path=\"url(#clip252)\" cx=\"1304.98\" cy=\"735.213\" r=\"14.4\" fill=\"#009af9\" fill-rule=\"evenodd\" fill-opacity=\"1\" stroke=\"#000000\" stroke-opacity=\"1\" stroke-width=\"3.2\"/>\n",
       "<circle clip-path=\"url(#clip252)\" cx=\"1304.98\" cy=\"735.213\" r=\"14.4\" fill=\"#009af9\" fill-rule=\"evenodd\" fill-opacity=\"1\" stroke=\"#000000\" stroke-opacity=\"1\" stroke-width=\"3.2\"/>\n",
       "<circle clip-path=\"url(#clip252)\" cx=\"1304.98\" cy=\"735.213\" r=\"14.4\" fill=\"#009af9\" fill-rule=\"evenodd\" fill-opacity=\"1\" stroke=\"#000000\" stroke-opacity=\"1\" stroke-width=\"3.2\"/>\n",
       "<circle clip-path=\"url(#clip252)\" cx=\"1304.98\" cy=\"735.213\" r=\"14.4\" fill=\"#009af9\" fill-rule=\"evenodd\" fill-opacity=\"1\" stroke=\"#000000\" stroke-opacity=\"1\" stroke-width=\"3.2\"/>\n",
       "<circle clip-path=\"url(#clip252)\" cx=\"1304.98\" cy=\"735.213\" r=\"14.4\" fill=\"#009af9\" fill-rule=\"evenodd\" fill-opacity=\"1\" stroke=\"#000000\" stroke-opacity=\"1\" stroke-width=\"3.2\"/>\n",
       "<circle clip-path=\"url(#clip252)\" cx=\"1304.98\" cy=\"735.213\" r=\"14.4\" fill=\"#009af9\" fill-rule=\"evenodd\" fill-opacity=\"1\" stroke=\"#000000\" stroke-opacity=\"1\" stroke-width=\"3.2\"/>\n",
       "<circle clip-path=\"url(#clip252)\" cx=\"1304.98\" cy=\"735.213\" r=\"14.4\" fill=\"#009af9\" fill-rule=\"evenodd\" fill-opacity=\"1\" stroke=\"#000000\" stroke-opacity=\"1\" stroke-width=\"3.2\"/>\n",
       "<circle clip-path=\"url(#clip252)\" cx=\"1304.98\" cy=\"735.213\" r=\"14.4\" fill=\"#009af9\" fill-rule=\"evenodd\" fill-opacity=\"1\" stroke=\"#000000\" stroke-opacity=\"1\" stroke-width=\"3.2\"/>\n",
       "<circle clip-path=\"url(#clip252)\" cx=\"1304.98\" cy=\"735.213\" r=\"14.4\" fill=\"#009af9\" fill-rule=\"evenodd\" fill-opacity=\"1\" stroke=\"#000000\" stroke-opacity=\"1\" stroke-width=\"3.2\"/>\n",
       "<circle clip-path=\"url(#clip252)\" cx=\"1304.98\" cy=\"735.213\" r=\"14.4\" fill=\"#009af9\" fill-rule=\"evenodd\" fill-opacity=\"1\" stroke=\"#000000\" stroke-opacity=\"1\" stroke-width=\"3.2\"/>\n",
       "<circle clip-path=\"url(#clip252)\" cx=\"1304.98\" cy=\"735.213\" r=\"14.4\" fill=\"#009af9\" fill-rule=\"evenodd\" fill-opacity=\"1\" stroke=\"#000000\" stroke-opacity=\"1\" stroke-width=\"3.2\"/>\n",
       "<circle clip-path=\"url(#clip252)\" cx=\"1304.98\" cy=\"735.213\" r=\"14.4\" fill=\"#009af9\" fill-rule=\"evenodd\" fill-opacity=\"1\" stroke=\"#000000\" stroke-opacity=\"1\" stroke-width=\"3.2\"/>\n",
       "<circle clip-path=\"url(#clip252)\" cx=\"1304.98\" cy=\"735.213\" r=\"14.4\" fill=\"#009af9\" fill-rule=\"evenodd\" fill-opacity=\"1\" stroke=\"#000000\" stroke-opacity=\"1\" stroke-width=\"3.2\"/>\n",
       "<circle clip-path=\"url(#clip252)\" cx=\"1304.98\" cy=\"735.213\" r=\"14.4\" fill=\"#009af9\" fill-rule=\"evenodd\" fill-opacity=\"1\" stroke=\"#000000\" stroke-opacity=\"1\" stroke-width=\"3.2\"/>\n",
       "<circle clip-path=\"url(#clip252)\" cx=\"1304.98\" cy=\"735.213\" r=\"14.4\" fill=\"#009af9\" fill-rule=\"evenodd\" fill-opacity=\"1\" stroke=\"#000000\" stroke-opacity=\"1\" stroke-width=\"3.2\"/>\n",
       "<circle clip-path=\"url(#clip252)\" cx=\"1304.98\" cy=\"735.213\" r=\"14.4\" fill=\"#009af9\" fill-rule=\"evenodd\" fill-opacity=\"1\" stroke=\"#000000\" stroke-opacity=\"1\" stroke-width=\"3.2\"/>\n",
       "<circle clip-path=\"url(#clip252)\" cx=\"1304.98\" cy=\"735.213\" r=\"14.4\" fill=\"#009af9\" fill-rule=\"evenodd\" fill-opacity=\"1\" stroke=\"#000000\" stroke-opacity=\"1\" stroke-width=\"3.2\"/>\n",
       "<circle clip-path=\"url(#clip252)\" cx=\"1304.98\" cy=\"735.213\" r=\"14.4\" fill=\"#009af9\" fill-rule=\"evenodd\" fill-opacity=\"1\" stroke=\"#000000\" stroke-opacity=\"1\" stroke-width=\"3.2\"/>\n",
       "<circle clip-path=\"url(#clip252)\" cx=\"1304.98\" cy=\"735.213\" r=\"14.4\" fill=\"#009af9\" fill-rule=\"evenodd\" fill-opacity=\"1\" stroke=\"#000000\" stroke-opacity=\"1\" stroke-width=\"3.2\"/>\n",
       "<circle clip-path=\"url(#clip252)\" cx=\"1304.98\" cy=\"735.213\" r=\"14.4\" fill=\"#009af9\" fill-rule=\"evenodd\" fill-opacity=\"1\" stroke=\"#000000\" stroke-opacity=\"1\" stroke-width=\"3.2\"/>\n",
       "<circle clip-path=\"url(#clip252)\" cx=\"1304.98\" cy=\"735.213\" r=\"14.4\" fill=\"#009af9\" fill-rule=\"evenodd\" fill-opacity=\"1\" stroke=\"#000000\" stroke-opacity=\"1\" stroke-width=\"3.2\"/>\n",
       "<circle clip-path=\"url(#clip252)\" cx=\"1304.98\" cy=\"735.213\" r=\"14.4\" fill=\"#009af9\" fill-rule=\"evenodd\" fill-opacity=\"1\" stroke=\"#000000\" stroke-opacity=\"1\" stroke-width=\"3.2\"/>\n",
       "<circle clip-path=\"url(#clip252)\" cx=\"1304.98\" cy=\"735.213\" r=\"14.4\" fill=\"#009af9\" fill-rule=\"evenodd\" fill-opacity=\"1\" stroke=\"#000000\" stroke-opacity=\"1\" stroke-width=\"3.2\"/>\n",
       "<circle clip-path=\"url(#clip252)\" cx=\"1304.98\" cy=\"735.213\" r=\"14.4\" fill=\"#009af9\" fill-rule=\"evenodd\" fill-opacity=\"1\" stroke=\"#000000\" stroke-opacity=\"1\" stroke-width=\"3.2\"/>\n",
       "<circle clip-path=\"url(#clip252)\" cx=\"1304.98\" cy=\"735.213\" r=\"14.4\" fill=\"#009af9\" fill-rule=\"evenodd\" fill-opacity=\"1\" stroke=\"#000000\" stroke-opacity=\"1\" stroke-width=\"3.2\"/>\n",
       "<circle clip-path=\"url(#clip252)\" cx=\"1304.98\" cy=\"735.213\" r=\"14.4\" fill=\"#009af9\" fill-rule=\"evenodd\" fill-opacity=\"1\" stroke=\"#000000\" stroke-opacity=\"1\" stroke-width=\"3.2\"/>\n",
       "<circle clip-path=\"url(#clip252)\" cx=\"1304.98\" cy=\"735.213\" r=\"14.4\" fill=\"#009af9\" fill-rule=\"evenodd\" fill-opacity=\"1\" stroke=\"#000000\" stroke-opacity=\"1\" stroke-width=\"3.2\"/>\n",
       "<circle clip-path=\"url(#clip252)\" cx=\"1304.98\" cy=\"735.213\" r=\"14.4\" fill=\"#009af9\" fill-rule=\"evenodd\" fill-opacity=\"1\" stroke=\"#000000\" stroke-opacity=\"1\" stroke-width=\"3.2\"/>\n",
       "<circle clip-path=\"url(#clip252)\" cx=\"1304.98\" cy=\"735.213\" r=\"14.4\" fill=\"#009af9\" fill-rule=\"evenodd\" fill-opacity=\"1\" stroke=\"#000000\" stroke-opacity=\"1\" stroke-width=\"3.2\"/>\n",
       "<circle clip-path=\"url(#clip252)\" cx=\"1304.98\" cy=\"735.213\" r=\"14.4\" fill=\"#009af9\" fill-rule=\"evenodd\" fill-opacity=\"1\" stroke=\"#000000\" stroke-opacity=\"1\" stroke-width=\"3.2\"/>\n",
       "<circle clip-path=\"url(#clip252)\" cx=\"1304.98\" cy=\"735.213\" r=\"14.4\" fill=\"#009af9\" fill-rule=\"evenodd\" fill-opacity=\"1\" stroke=\"#000000\" stroke-opacity=\"1\" stroke-width=\"3.2\"/>\n",
       "<circle clip-path=\"url(#clip252)\" cx=\"1304.98\" cy=\"735.213\" r=\"14.4\" fill=\"#009af9\" fill-rule=\"evenodd\" fill-opacity=\"1\" stroke=\"#000000\" stroke-opacity=\"1\" stroke-width=\"3.2\"/>\n",
       "<circle clip-path=\"url(#clip252)\" cx=\"1304.98\" cy=\"735.213\" r=\"14.4\" fill=\"#009af9\" fill-rule=\"evenodd\" fill-opacity=\"1\" stroke=\"#000000\" stroke-opacity=\"1\" stroke-width=\"3.2\"/>\n",
       "<circle clip-path=\"url(#clip252)\" cx=\"1304.98\" cy=\"735.213\" r=\"14.4\" fill=\"#009af9\" fill-rule=\"evenodd\" fill-opacity=\"1\" stroke=\"#000000\" stroke-opacity=\"1\" stroke-width=\"3.2\"/>\n",
       "<circle clip-path=\"url(#clip252)\" cx=\"1304.98\" cy=\"735.213\" r=\"14.4\" fill=\"#009af9\" fill-rule=\"evenodd\" fill-opacity=\"1\" stroke=\"#000000\" stroke-opacity=\"1\" stroke-width=\"3.2\"/>\n",
       "<circle clip-path=\"url(#clip252)\" cx=\"1304.98\" cy=\"735.213\" r=\"14.4\" fill=\"#009af9\" fill-rule=\"evenodd\" fill-opacity=\"1\" stroke=\"#000000\" stroke-opacity=\"1\" stroke-width=\"3.2\"/>\n",
       "<circle clip-path=\"url(#clip252)\" cx=\"1304.98\" cy=\"735.213\" r=\"14.4\" fill=\"#009af9\" fill-rule=\"evenodd\" fill-opacity=\"1\" stroke=\"#000000\" stroke-opacity=\"1\" stroke-width=\"3.2\"/>\n",
       "<circle clip-path=\"url(#clip252)\" cx=\"1304.98\" cy=\"735.213\" r=\"14.4\" fill=\"#009af9\" fill-rule=\"evenodd\" fill-opacity=\"1\" stroke=\"#000000\" stroke-opacity=\"1\" stroke-width=\"3.2\"/>\n",
       "<circle clip-path=\"url(#clip252)\" cx=\"1304.98\" cy=\"735.213\" r=\"14.4\" fill=\"#009af9\" fill-rule=\"evenodd\" fill-opacity=\"1\" stroke=\"#000000\" stroke-opacity=\"1\" stroke-width=\"3.2\"/>\n",
       "<circle clip-path=\"url(#clip252)\" cx=\"1304.98\" cy=\"735.213\" r=\"14.4\" fill=\"#009af9\" fill-rule=\"evenodd\" fill-opacity=\"1\" stroke=\"#000000\" stroke-opacity=\"1\" stroke-width=\"3.2\"/>\n",
       "<circle clip-path=\"url(#clip252)\" cx=\"1304.98\" cy=\"735.213\" r=\"14.4\" fill=\"#009af9\" fill-rule=\"evenodd\" fill-opacity=\"1\" stroke=\"#000000\" stroke-opacity=\"1\" stroke-width=\"3.2\"/>\n",
       "<circle clip-path=\"url(#clip252)\" cx=\"1304.98\" cy=\"735.213\" r=\"14.4\" fill=\"#009af9\" fill-rule=\"evenodd\" fill-opacity=\"1\" stroke=\"#000000\" stroke-opacity=\"1\" stroke-width=\"3.2\"/>\n",
       "<circle clip-path=\"url(#clip252)\" cx=\"1304.98\" cy=\"735.213\" r=\"14.4\" fill=\"#009af9\" fill-rule=\"evenodd\" fill-opacity=\"1\" stroke=\"#000000\" stroke-opacity=\"1\" stroke-width=\"3.2\"/>\n",
       "<circle clip-path=\"url(#clip252)\" cx=\"1304.98\" cy=\"735.213\" r=\"14.4\" fill=\"#009af9\" fill-rule=\"evenodd\" fill-opacity=\"1\" stroke=\"#000000\" stroke-opacity=\"1\" stroke-width=\"3.2\"/>\n",
       "<circle clip-path=\"url(#clip252)\" cx=\"1304.98\" cy=\"735.213\" r=\"14.4\" fill=\"#009af9\" fill-rule=\"evenodd\" fill-opacity=\"1\" stroke=\"#000000\" stroke-opacity=\"1\" stroke-width=\"3.2\"/>\n",
       "<circle clip-path=\"url(#clip252)\" cx=\"1304.98\" cy=\"735.213\" r=\"14.4\" fill=\"#009af9\" fill-rule=\"evenodd\" fill-opacity=\"1\" stroke=\"#000000\" stroke-opacity=\"1\" stroke-width=\"3.2\"/>\n",
       "<circle clip-path=\"url(#clip252)\" cx=\"1304.98\" cy=\"735.213\" r=\"14.4\" fill=\"#009af9\" fill-rule=\"evenodd\" fill-opacity=\"1\" stroke=\"#000000\" stroke-opacity=\"1\" stroke-width=\"3.2\"/>\n",
       "<circle clip-path=\"url(#clip252)\" cx=\"1304.98\" cy=\"735.213\" r=\"14.4\" fill=\"#009af9\" fill-rule=\"evenodd\" fill-opacity=\"1\" stroke=\"#000000\" stroke-opacity=\"1\" stroke-width=\"3.2\"/>\n",
       "<circle clip-path=\"url(#clip252)\" cx=\"1304.98\" cy=\"735.213\" r=\"14.4\" fill=\"#009af9\" fill-rule=\"evenodd\" fill-opacity=\"1\" stroke=\"#000000\" stroke-opacity=\"1\" stroke-width=\"3.2\"/>\n",
       "<circle clip-path=\"url(#clip252)\" cx=\"1304.98\" cy=\"735.213\" r=\"14.4\" fill=\"#009af9\" fill-rule=\"evenodd\" fill-opacity=\"1\" stroke=\"#000000\" stroke-opacity=\"1\" stroke-width=\"3.2\"/>\n",
       "<circle clip-path=\"url(#clip252)\" cx=\"1304.98\" cy=\"735.213\" r=\"14.4\" fill=\"#009af9\" fill-rule=\"evenodd\" fill-opacity=\"1\" stroke=\"#000000\" stroke-opacity=\"1\" stroke-width=\"3.2\"/>\n",
       "<circle clip-path=\"url(#clip252)\" cx=\"1304.98\" cy=\"735.213\" r=\"14.4\" fill=\"#009af9\" fill-rule=\"evenodd\" fill-opacity=\"1\" stroke=\"#000000\" stroke-opacity=\"1\" stroke-width=\"3.2\"/>\n",
       "<circle clip-path=\"url(#clip252)\" cx=\"1304.98\" cy=\"735.213\" r=\"14.4\" fill=\"#009af9\" fill-rule=\"evenodd\" fill-opacity=\"1\" stroke=\"#000000\" stroke-opacity=\"1\" stroke-width=\"3.2\"/>\n",
       "<circle clip-path=\"url(#clip252)\" cx=\"1304.98\" cy=\"735.213\" r=\"14.4\" fill=\"#009af9\" fill-rule=\"evenodd\" fill-opacity=\"1\" stroke=\"#000000\" stroke-opacity=\"1\" stroke-width=\"3.2\"/>\n",
       "<circle clip-path=\"url(#clip252)\" cx=\"1304.98\" cy=\"735.213\" r=\"14.4\" fill=\"#009af9\" fill-rule=\"evenodd\" fill-opacity=\"1\" stroke=\"#000000\" stroke-opacity=\"1\" stroke-width=\"3.2\"/>\n",
       "<circle clip-path=\"url(#clip252)\" cx=\"1304.98\" cy=\"735.213\" r=\"14.4\" fill=\"#009af9\" fill-rule=\"evenodd\" fill-opacity=\"1\" stroke=\"#000000\" stroke-opacity=\"1\" stroke-width=\"3.2\"/>\n",
       "<circle clip-path=\"url(#clip252)\" cx=\"1304.98\" cy=\"735.213\" r=\"14.4\" fill=\"#009af9\" fill-rule=\"evenodd\" fill-opacity=\"1\" stroke=\"#000000\" stroke-opacity=\"1\" stroke-width=\"3.2\"/>\n",
       "<circle clip-path=\"url(#clip252)\" cx=\"1304.98\" cy=\"735.213\" r=\"14.4\" fill=\"#009af9\" fill-rule=\"evenodd\" fill-opacity=\"1\" stroke=\"#000000\" stroke-opacity=\"1\" stroke-width=\"3.2\"/>\n",
       "<circle clip-path=\"url(#clip252)\" cx=\"1304.98\" cy=\"735.213\" r=\"14.4\" fill=\"#009af9\" fill-rule=\"evenodd\" fill-opacity=\"1\" stroke=\"#000000\" stroke-opacity=\"1\" stroke-width=\"3.2\"/>\n",
       "<circle clip-path=\"url(#clip252)\" cx=\"1304.98\" cy=\"735.213\" r=\"14.4\" fill=\"#009af9\" fill-rule=\"evenodd\" fill-opacity=\"1\" stroke=\"#000000\" stroke-opacity=\"1\" stroke-width=\"3.2\"/>\n",
       "<circle clip-path=\"url(#clip252)\" cx=\"1304.98\" cy=\"735.213\" r=\"14.4\" fill=\"#009af9\" fill-rule=\"evenodd\" fill-opacity=\"1\" stroke=\"#000000\" stroke-opacity=\"1\" stroke-width=\"3.2\"/>\n",
       "<circle clip-path=\"url(#clip252)\" cx=\"1304.98\" cy=\"735.213\" r=\"14.4\" fill=\"#009af9\" fill-rule=\"evenodd\" fill-opacity=\"1\" stroke=\"#000000\" stroke-opacity=\"1\" stroke-width=\"3.2\"/>\n",
       "<circle clip-path=\"url(#clip252)\" cx=\"1304.98\" cy=\"735.213\" r=\"14.4\" fill=\"#009af9\" fill-rule=\"evenodd\" fill-opacity=\"1\" stroke=\"#000000\" stroke-opacity=\"1\" stroke-width=\"3.2\"/>\n",
       "<circle clip-path=\"url(#clip252)\" cx=\"1304.98\" cy=\"735.213\" r=\"14.4\" fill=\"#009af9\" fill-rule=\"evenodd\" fill-opacity=\"1\" stroke=\"#000000\" stroke-opacity=\"1\" stroke-width=\"3.2\"/>\n",
       "<circle clip-path=\"url(#clip252)\" cx=\"1304.98\" cy=\"735.213\" r=\"14.4\" fill=\"#009af9\" fill-rule=\"evenodd\" fill-opacity=\"1\" stroke=\"#000000\" stroke-opacity=\"1\" stroke-width=\"3.2\"/>\n",
       "<circle clip-path=\"url(#clip252)\" cx=\"1304.98\" cy=\"735.213\" r=\"14.4\" fill=\"#009af9\" fill-rule=\"evenodd\" fill-opacity=\"1\" stroke=\"#000000\" stroke-opacity=\"1\" stroke-width=\"3.2\"/>\n",
       "<circle clip-path=\"url(#clip252)\" cx=\"1304.98\" cy=\"735.213\" r=\"14.4\" fill=\"#009af9\" fill-rule=\"evenodd\" fill-opacity=\"1\" stroke=\"#000000\" stroke-opacity=\"1\" stroke-width=\"3.2\"/>\n",
       "<circle clip-path=\"url(#clip252)\" cx=\"1304.98\" cy=\"735.213\" r=\"14.4\" fill=\"#009af9\" fill-rule=\"evenodd\" fill-opacity=\"1\" stroke=\"#000000\" stroke-opacity=\"1\" stroke-width=\"3.2\"/>\n",
       "<circle clip-path=\"url(#clip252)\" cx=\"1304.98\" cy=\"735.213\" r=\"14.4\" fill=\"#009af9\" fill-rule=\"evenodd\" fill-opacity=\"1\" stroke=\"#000000\" stroke-opacity=\"1\" stroke-width=\"3.2\"/>\n",
       "<circle clip-path=\"url(#clip252)\" cx=\"1304.98\" cy=\"735.213\" r=\"14.4\" fill=\"#009af9\" fill-rule=\"evenodd\" fill-opacity=\"1\" stroke=\"#000000\" stroke-opacity=\"1\" stroke-width=\"3.2\"/>\n",
       "<circle clip-path=\"url(#clip252)\" cx=\"1304.98\" cy=\"735.213\" r=\"14.4\" fill=\"#009af9\" fill-rule=\"evenodd\" fill-opacity=\"1\" stroke=\"#000000\" stroke-opacity=\"1\" stroke-width=\"3.2\"/>\n",
       "<circle clip-path=\"url(#clip252)\" cx=\"1304.98\" cy=\"735.213\" r=\"14.4\" fill=\"#009af9\" fill-rule=\"evenodd\" fill-opacity=\"1\" stroke=\"#000000\" stroke-opacity=\"1\" stroke-width=\"3.2\"/>\n",
       "<circle clip-path=\"url(#clip252)\" cx=\"1304.98\" cy=\"735.213\" r=\"14.4\" fill=\"#009af9\" fill-rule=\"evenodd\" fill-opacity=\"1\" stroke=\"#000000\" stroke-opacity=\"1\" stroke-width=\"3.2\"/>\n",
       "<circle clip-path=\"url(#clip252)\" cx=\"1304.98\" cy=\"735.213\" r=\"14.4\" fill=\"#009af9\" fill-rule=\"evenodd\" fill-opacity=\"1\" stroke=\"#000000\" stroke-opacity=\"1\" stroke-width=\"3.2\"/>\n",
       "<circle clip-path=\"url(#clip252)\" cx=\"1304.98\" cy=\"735.213\" r=\"14.4\" fill=\"#009af9\" fill-rule=\"evenodd\" fill-opacity=\"1\" stroke=\"#000000\" stroke-opacity=\"1\" stroke-width=\"3.2\"/>\n",
       "<circle clip-path=\"url(#clip252)\" cx=\"1304.98\" cy=\"735.213\" r=\"14.4\" fill=\"#009af9\" fill-rule=\"evenodd\" fill-opacity=\"1\" stroke=\"#000000\" stroke-opacity=\"1\" stroke-width=\"3.2\"/>\n",
       "<circle clip-path=\"url(#clip252)\" cx=\"1304.98\" cy=\"735.213\" r=\"14.4\" fill=\"#009af9\" fill-rule=\"evenodd\" fill-opacity=\"1\" stroke=\"#000000\" stroke-opacity=\"1\" stroke-width=\"3.2\"/>\n",
       "<circle clip-path=\"url(#clip252)\" cx=\"1304.98\" cy=\"735.213\" r=\"14.4\" fill=\"#009af9\" fill-rule=\"evenodd\" fill-opacity=\"1\" stroke=\"#000000\" stroke-opacity=\"1\" stroke-width=\"3.2\"/>\n",
       "<circle clip-path=\"url(#clip252)\" cx=\"1304.98\" cy=\"735.213\" r=\"14.4\" fill=\"#009af9\" fill-rule=\"evenodd\" fill-opacity=\"1\" stroke=\"#000000\" stroke-opacity=\"1\" stroke-width=\"3.2\"/>\n",
       "<circle clip-path=\"url(#clip252)\" cx=\"1304.98\" cy=\"735.213\" r=\"14.4\" fill=\"#009af9\" fill-rule=\"evenodd\" fill-opacity=\"1\" stroke=\"#000000\" stroke-opacity=\"1\" stroke-width=\"3.2\"/>\n",
       "<circle clip-path=\"url(#clip252)\" cx=\"1304.98\" cy=\"735.213\" r=\"14.4\" fill=\"#009af9\" fill-rule=\"evenodd\" fill-opacity=\"1\" stroke=\"#000000\" stroke-opacity=\"1\" stroke-width=\"3.2\"/>\n",
       "<circle clip-path=\"url(#clip252)\" cx=\"1304.98\" cy=\"735.213\" r=\"14.4\" fill=\"#009af9\" fill-rule=\"evenodd\" fill-opacity=\"1\" stroke=\"#000000\" stroke-opacity=\"1\" stroke-width=\"3.2\"/>\n",
       "<circle clip-path=\"url(#clip252)\" cx=\"1304.98\" cy=\"735.213\" r=\"14.4\" fill=\"#009af9\" fill-rule=\"evenodd\" fill-opacity=\"1\" stroke=\"#000000\" stroke-opacity=\"1\" stroke-width=\"3.2\"/>\n",
       "<circle clip-path=\"url(#clip252)\" cx=\"1304.98\" cy=\"735.213\" r=\"14.4\" fill=\"#009af9\" fill-rule=\"evenodd\" fill-opacity=\"1\" stroke=\"#000000\" stroke-opacity=\"1\" stroke-width=\"3.2\"/>\n",
       "<circle clip-path=\"url(#clip252)\" cx=\"1304.98\" cy=\"735.213\" r=\"14.4\" fill=\"#009af9\" fill-rule=\"evenodd\" fill-opacity=\"1\" stroke=\"#000000\" stroke-opacity=\"1\" stroke-width=\"3.2\"/>\n",
       "<circle clip-path=\"url(#clip252)\" cx=\"1304.98\" cy=\"735.213\" r=\"14.4\" fill=\"#009af9\" fill-rule=\"evenodd\" fill-opacity=\"1\" stroke=\"#000000\" stroke-opacity=\"1\" stroke-width=\"3.2\"/>\n",
       "<circle clip-path=\"url(#clip252)\" cx=\"1304.98\" cy=\"735.213\" r=\"14.4\" fill=\"#009af9\" fill-rule=\"evenodd\" fill-opacity=\"1\" stroke=\"#000000\" stroke-opacity=\"1\" stroke-width=\"3.2\"/>\n",
       "<circle clip-path=\"url(#clip252)\" cx=\"1304.98\" cy=\"735.213\" r=\"14.4\" fill=\"#009af9\" fill-rule=\"evenodd\" fill-opacity=\"1\" stroke=\"#000000\" stroke-opacity=\"1\" stroke-width=\"3.2\"/>\n",
       "<circle clip-path=\"url(#clip252)\" cx=\"1304.98\" cy=\"735.213\" r=\"14.4\" fill=\"#009af9\" fill-rule=\"evenodd\" fill-opacity=\"1\" stroke=\"#000000\" stroke-opacity=\"1\" stroke-width=\"3.2\"/>\n",
       "<circle clip-path=\"url(#clip252)\" cx=\"1304.98\" cy=\"735.213\" r=\"14.4\" fill=\"#009af9\" fill-rule=\"evenodd\" fill-opacity=\"1\" stroke=\"#000000\" stroke-opacity=\"1\" stroke-width=\"3.2\"/>\n",
       "<circle clip-path=\"url(#clip252)\" cx=\"1304.98\" cy=\"735.213\" r=\"14.4\" fill=\"#009af9\" fill-rule=\"evenodd\" fill-opacity=\"1\" stroke=\"#000000\" stroke-opacity=\"1\" stroke-width=\"3.2\"/>\n",
       "<circle clip-path=\"url(#clip252)\" cx=\"1304.98\" cy=\"735.213\" r=\"14.4\" fill=\"#009af9\" fill-rule=\"evenodd\" fill-opacity=\"1\" stroke=\"#000000\" stroke-opacity=\"1\" stroke-width=\"3.2\"/>\n",
       "<circle clip-path=\"url(#clip252)\" cx=\"1304.98\" cy=\"735.213\" r=\"14.4\" fill=\"#009af9\" fill-rule=\"evenodd\" fill-opacity=\"1\" stroke=\"#000000\" stroke-opacity=\"1\" stroke-width=\"3.2\"/>\n",
       "<circle clip-path=\"url(#clip252)\" cx=\"1304.98\" cy=\"735.213\" r=\"14.4\" fill=\"#009af9\" fill-rule=\"evenodd\" fill-opacity=\"1\" stroke=\"#000000\" stroke-opacity=\"1\" stroke-width=\"3.2\"/>\n",
       "<circle clip-path=\"url(#clip252)\" cx=\"1304.98\" cy=\"735.213\" r=\"14.4\" fill=\"#009af9\" fill-rule=\"evenodd\" fill-opacity=\"1\" stroke=\"#000000\" stroke-opacity=\"1\" stroke-width=\"3.2\"/>\n",
       "<circle clip-path=\"url(#clip252)\" cx=\"1304.98\" cy=\"735.213\" r=\"14.4\" fill=\"#009af9\" fill-rule=\"evenodd\" fill-opacity=\"1\" stroke=\"#000000\" stroke-opacity=\"1\" stroke-width=\"3.2\"/>\n",
       "<circle clip-path=\"url(#clip252)\" cx=\"1304.98\" cy=\"735.213\" r=\"14.4\" fill=\"#009af9\" fill-rule=\"evenodd\" fill-opacity=\"1\" stroke=\"#000000\" stroke-opacity=\"1\" stroke-width=\"3.2\"/>\n",
       "<circle clip-path=\"url(#clip252)\" cx=\"1304.98\" cy=\"735.213\" r=\"14.4\" fill=\"#009af9\" fill-rule=\"evenodd\" fill-opacity=\"1\" stroke=\"#000000\" stroke-opacity=\"1\" stroke-width=\"3.2\"/>\n",
       "<circle clip-path=\"url(#clip252)\" cx=\"1304.98\" cy=\"735.213\" r=\"14.4\" fill=\"#009af9\" fill-rule=\"evenodd\" fill-opacity=\"1\" stroke=\"#000000\" stroke-opacity=\"1\" stroke-width=\"3.2\"/>\n",
       "<circle clip-path=\"url(#clip252)\" cx=\"1304.98\" cy=\"735.213\" r=\"14.4\" fill=\"#009af9\" fill-rule=\"evenodd\" fill-opacity=\"1\" stroke=\"#000000\" stroke-opacity=\"1\" stroke-width=\"3.2\"/>\n",
       "<circle clip-path=\"url(#clip252)\" cx=\"1304.98\" cy=\"735.213\" r=\"14.4\" fill=\"#009af9\" fill-rule=\"evenodd\" fill-opacity=\"1\" stroke=\"#000000\" stroke-opacity=\"1\" stroke-width=\"3.2\"/>\n",
       "<circle clip-path=\"url(#clip252)\" cx=\"1304.98\" cy=\"735.213\" r=\"14.4\" fill=\"#009af9\" fill-rule=\"evenodd\" fill-opacity=\"1\" stroke=\"#000000\" stroke-opacity=\"1\" stroke-width=\"3.2\"/>\n",
       "<circle clip-path=\"url(#clip252)\" cx=\"1304.98\" cy=\"735.213\" r=\"14.4\" fill=\"#009af9\" fill-rule=\"evenodd\" fill-opacity=\"1\" stroke=\"#000000\" stroke-opacity=\"1\" stroke-width=\"3.2\"/>\n",
       "<circle clip-path=\"url(#clip252)\" cx=\"1304.98\" cy=\"735.213\" r=\"14.4\" fill=\"#009af9\" fill-rule=\"evenodd\" fill-opacity=\"1\" stroke=\"#000000\" stroke-opacity=\"1\" stroke-width=\"3.2\"/>\n",
       "<circle clip-path=\"url(#clip252)\" cx=\"1304.98\" cy=\"735.213\" r=\"14.4\" fill=\"#009af9\" fill-rule=\"evenodd\" fill-opacity=\"1\" stroke=\"#000000\" stroke-opacity=\"1\" stroke-width=\"3.2\"/>\n",
       "<circle clip-path=\"url(#clip252)\" cx=\"1304.98\" cy=\"735.213\" r=\"14.4\" fill=\"#009af9\" fill-rule=\"evenodd\" fill-opacity=\"1\" stroke=\"#000000\" stroke-opacity=\"1\" stroke-width=\"3.2\"/>\n",
       "<circle clip-path=\"url(#clip252)\" cx=\"1304.98\" cy=\"735.213\" r=\"14.4\" fill=\"#009af9\" fill-rule=\"evenodd\" fill-opacity=\"1\" stroke=\"#000000\" stroke-opacity=\"1\" stroke-width=\"3.2\"/>\n",
       "<circle clip-path=\"url(#clip252)\" cx=\"1304.98\" cy=\"735.213\" r=\"14.4\" fill=\"#009af9\" fill-rule=\"evenodd\" fill-opacity=\"1\" stroke=\"#000000\" stroke-opacity=\"1\" stroke-width=\"3.2\"/>\n",
       "<circle clip-path=\"url(#clip252)\" cx=\"1304.98\" cy=\"735.213\" r=\"14.4\" fill=\"#009af9\" fill-rule=\"evenodd\" fill-opacity=\"1\" stroke=\"#000000\" stroke-opacity=\"1\" stroke-width=\"3.2\"/>\n",
       "<circle clip-path=\"url(#clip252)\" cx=\"1304.98\" cy=\"735.213\" r=\"14.4\" fill=\"#009af9\" fill-rule=\"evenodd\" fill-opacity=\"1\" stroke=\"#000000\" stroke-opacity=\"1\" stroke-width=\"3.2\"/>\n",
       "<circle clip-path=\"url(#clip252)\" cx=\"1304.98\" cy=\"735.213\" r=\"14.4\" fill=\"#009af9\" fill-rule=\"evenodd\" fill-opacity=\"1\" stroke=\"#000000\" stroke-opacity=\"1\" stroke-width=\"3.2\"/>\n",
       "<circle clip-path=\"url(#clip252)\" cx=\"1304.98\" cy=\"735.213\" r=\"14.4\" fill=\"#009af9\" fill-rule=\"evenodd\" fill-opacity=\"1\" stroke=\"#000000\" stroke-opacity=\"1\" stroke-width=\"3.2\"/>\n",
       "<circle clip-path=\"url(#clip252)\" cx=\"1304.98\" cy=\"735.213\" r=\"14.4\" fill=\"#009af9\" fill-rule=\"evenodd\" fill-opacity=\"1\" stroke=\"#000000\" stroke-opacity=\"1\" stroke-width=\"3.2\"/>\n",
       "<circle clip-path=\"url(#clip252)\" cx=\"1304.98\" cy=\"735.213\" r=\"14.4\" fill=\"#009af9\" fill-rule=\"evenodd\" fill-opacity=\"1\" stroke=\"#000000\" stroke-opacity=\"1\" stroke-width=\"3.2\"/>\n",
       "<circle clip-path=\"url(#clip252)\" cx=\"1304.98\" cy=\"735.213\" r=\"14.4\" fill=\"#009af9\" fill-rule=\"evenodd\" fill-opacity=\"1\" stroke=\"#000000\" stroke-opacity=\"1\" stroke-width=\"3.2\"/>\n",
       "<circle clip-path=\"url(#clip252)\" cx=\"1304.98\" cy=\"735.213\" r=\"14.4\" fill=\"#009af9\" fill-rule=\"evenodd\" fill-opacity=\"1\" stroke=\"#000000\" stroke-opacity=\"1\" stroke-width=\"3.2\"/>\n",
       "<circle clip-path=\"url(#clip252)\" cx=\"1304.98\" cy=\"735.213\" r=\"14.4\" fill=\"#009af9\" fill-rule=\"evenodd\" fill-opacity=\"1\" stroke=\"#000000\" stroke-opacity=\"1\" stroke-width=\"3.2\"/>\n",
       "<circle clip-path=\"url(#clip252)\" cx=\"1304.98\" cy=\"735.213\" r=\"14.4\" fill=\"#009af9\" fill-rule=\"evenodd\" fill-opacity=\"1\" stroke=\"#000000\" stroke-opacity=\"1\" stroke-width=\"3.2\"/>\n",
       "<circle clip-path=\"url(#clip252)\" cx=\"1304.98\" cy=\"735.213\" r=\"14.4\" fill=\"#009af9\" fill-rule=\"evenodd\" fill-opacity=\"1\" stroke=\"#000000\" stroke-opacity=\"1\" stroke-width=\"3.2\"/>\n",
       "<circle clip-path=\"url(#clip252)\" cx=\"1304.98\" cy=\"735.213\" r=\"14.4\" fill=\"#009af9\" fill-rule=\"evenodd\" fill-opacity=\"1\" stroke=\"#000000\" stroke-opacity=\"1\" stroke-width=\"3.2\"/>\n",
       "<circle clip-path=\"url(#clip252)\" cx=\"1304.98\" cy=\"735.213\" r=\"14.4\" fill=\"#009af9\" fill-rule=\"evenodd\" fill-opacity=\"1\" stroke=\"#000000\" stroke-opacity=\"1\" stroke-width=\"3.2\"/>\n",
       "<circle clip-path=\"url(#clip252)\" cx=\"1304.98\" cy=\"735.213\" r=\"14.4\" fill=\"#009af9\" fill-rule=\"evenodd\" fill-opacity=\"1\" stroke=\"#000000\" stroke-opacity=\"1\" stroke-width=\"3.2\"/>\n",
       "<circle clip-path=\"url(#clip252)\" cx=\"1304.98\" cy=\"735.213\" r=\"14.4\" fill=\"#009af9\" fill-rule=\"evenodd\" fill-opacity=\"1\" stroke=\"#000000\" stroke-opacity=\"1\" stroke-width=\"3.2\"/>\n",
       "<circle clip-path=\"url(#clip252)\" cx=\"1304.98\" cy=\"735.213\" r=\"14.4\" fill=\"#009af9\" fill-rule=\"evenodd\" fill-opacity=\"1\" stroke=\"#000000\" stroke-opacity=\"1\" stroke-width=\"3.2\"/>\n",
       "<circle clip-path=\"url(#clip252)\" cx=\"1304.98\" cy=\"735.213\" r=\"14.4\" fill=\"#009af9\" fill-rule=\"evenodd\" fill-opacity=\"1\" stroke=\"#000000\" stroke-opacity=\"1\" stroke-width=\"3.2\"/>\n",
       "<circle clip-path=\"url(#clip252)\" cx=\"1304.98\" cy=\"735.213\" r=\"14.4\" fill=\"#009af9\" fill-rule=\"evenodd\" fill-opacity=\"1\" stroke=\"#000000\" stroke-opacity=\"1\" stroke-width=\"3.2\"/>\n",
       "<circle clip-path=\"url(#clip252)\" cx=\"1304.98\" cy=\"735.213\" r=\"14.4\" fill=\"#009af9\" fill-rule=\"evenodd\" fill-opacity=\"1\" stroke=\"#000000\" stroke-opacity=\"1\" stroke-width=\"3.2\"/>\n",
       "<circle clip-path=\"url(#clip252)\" cx=\"1304.98\" cy=\"735.213\" r=\"14.4\" fill=\"#009af9\" fill-rule=\"evenodd\" fill-opacity=\"1\" stroke=\"#000000\" stroke-opacity=\"1\" stroke-width=\"3.2\"/>\n",
       "<circle clip-path=\"url(#clip252)\" cx=\"1304.98\" cy=\"735.213\" r=\"14.4\" fill=\"#009af9\" fill-rule=\"evenodd\" fill-opacity=\"1\" stroke=\"#000000\" stroke-opacity=\"1\" stroke-width=\"3.2\"/>\n",
       "<circle clip-path=\"url(#clip252)\" cx=\"1304.98\" cy=\"735.213\" r=\"14.4\" fill=\"#009af9\" fill-rule=\"evenodd\" fill-opacity=\"1\" stroke=\"#000000\" stroke-opacity=\"1\" stroke-width=\"3.2\"/>\n",
       "<circle clip-path=\"url(#clip252)\" cx=\"1304.98\" cy=\"735.213\" r=\"14.4\" fill=\"#009af9\" fill-rule=\"evenodd\" fill-opacity=\"1\" stroke=\"#000000\" stroke-opacity=\"1\" stroke-width=\"3.2\"/>\n",
       "<circle clip-path=\"url(#clip252)\" cx=\"1304.98\" cy=\"735.213\" r=\"14.4\" fill=\"#009af9\" fill-rule=\"evenodd\" fill-opacity=\"1\" stroke=\"#000000\" stroke-opacity=\"1\" stroke-width=\"3.2\"/>\n",
       "<circle clip-path=\"url(#clip252)\" cx=\"1304.98\" cy=\"735.213\" r=\"14.4\" fill=\"#009af9\" fill-rule=\"evenodd\" fill-opacity=\"1\" stroke=\"#000000\" stroke-opacity=\"1\" stroke-width=\"3.2\"/>\n",
       "<circle clip-path=\"url(#clip252)\" cx=\"1304.98\" cy=\"735.213\" r=\"14.4\" fill=\"#009af9\" fill-rule=\"evenodd\" fill-opacity=\"1\" stroke=\"#000000\" stroke-opacity=\"1\" stroke-width=\"3.2\"/>\n",
       "<circle clip-path=\"url(#clip252)\" cx=\"1304.98\" cy=\"735.213\" r=\"14.4\" fill=\"#009af9\" fill-rule=\"evenodd\" fill-opacity=\"1\" stroke=\"#000000\" stroke-opacity=\"1\" stroke-width=\"3.2\"/>\n",
       "<circle clip-path=\"url(#clip252)\" cx=\"1304.98\" cy=\"735.213\" r=\"14.4\" fill=\"#009af9\" fill-rule=\"evenodd\" fill-opacity=\"1\" stroke=\"#000000\" stroke-opacity=\"1\" stroke-width=\"3.2\"/>\n",
       "<circle clip-path=\"url(#clip252)\" cx=\"1304.98\" cy=\"735.213\" r=\"14.4\" fill=\"#009af9\" fill-rule=\"evenodd\" fill-opacity=\"1\" stroke=\"#000000\" stroke-opacity=\"1\" stroke-width=\"3.2\"/>\n",
       "<circle clip-path=\"url(#clip252)\" cx=\"1304.98\" cy=\"735.213\" r=\"14.4\" fill=\"#009af9\" fill-rule=\"evenodd\" fill-opacity=\"1\" stroke=\"#000000\" stroke-opacity=\"1\" stroke-width=\"3.2\"/>\n",
       "<circle clip-path=\"url(#clip252)\" cx=\"1304.98\" cy=\"735.213\" r=\"14.4\" fill=\"#009af9\" fill-rule=\"evenodd\" fill-opacity=\"1\" stroke=\"#000000\" stroke-opacity=\"1\" stroke-width=\"3.2\"/>\n",
       "<circle clip-path=\"url(#clip252)\" cx=\"1304.98\" cy=\"735.213\" r=\"14.4\" fill=\"#009af9\" fill-rule=\"evenodd\" fill-opacity=\"1\" stroke=\"#000000\" stroke-opacity=\"1\" stroke-width=\"3.2\"/>\n",
       "<circle clip-path=\"url(#clip252)\" cx=\"1304.98\" cy=\"735.213\" r=\"14.4\" fill=\"#009af9\" fill-rule=\"evenodd\" fill-opacity=\"1\" stroke=\"#000000\" stroke-opacity=\"1\" stroke-width=\"3.2\"/>\n",
       "<circle clip-path=\"url(#clip252)\" cx=\"1304.98\" cy=\"735.213\" r=\"14.4\" fill=\"#009af9\" fill-rule=\"evenodd\" fill-opacity=\"1\" stroke=\"#000000\" stroke-opacity=\"1\" stroke-width=\"3.2\"/>\n",
       "<circle clip-path=\"url(#clip252)\" cx=\"1304.98\" cy=\"735.213\" r=\"14.4\" fill=\"#009af9\" fill-rule=\"evenodd\" fill-opacity=\"1\" stroke=\"#000000\" stroke-opacity=\"1\" stroke-width=\"3.2\"/>\n",
       "<circle clip-path=\"url(#clip252)\" cx=\"1304.98\" cy=\"735.213\" r=\"14.4\" fill=\"#009af9\" fill-rule=\"evenodd\" fill-opacity=\"1\" stroke=\"#000000\" stroke-opacity=\"1\" stroke-width=\"3.2\"/>\n",
       "<circle clip-path=\"url(#clip252)\" cx=\"1304.98\" cy=\"735.213\" r=\"14.4\" fill=\"#009af9\" fill-rule=\"evenodd\" fill-opacity=\"1\" stroke=\"#000000\" stroke-opacity=\"1\" stroke-width=\"3.2\"/>\n",
       "<circle clip-path=\"url(#clip252)\" cx=\"1304.98\" cy=\"735.213\" r=\"14.4\" fill=\"#009af9\" fill-rule=\"evenodd\" fill-opacity=\"1\" stroke=\"#000000\" stroke-opacity=\"1\" stroke-width=\"3.2\"/>\n",
       "<circle clip-path=\"url(#clip252)\" cx=\"1304.98\" cy=\"735.213\" r=\"14.4\" fill=\"#009af9\" fill-rule=\"evenodd\" fill-opacity=\"1\" stroke=\"#000000\" stroke-opacity=\"1\" stroke-width=\"3.2\"/>\n",
       "<circle clip-path=\"url(#clip252)\" cx=\"1304.98\" cy=\"735.213\" r=\"14.4\" fill=\"#009af9\" fill-rule=\"evenodd\" fill-opacity=\"1\" stroke=\"#000000\" stroke-opacity=\"1\" stroke-width=\"3.2\"/>\n",
       "<circle clip-path=\"url(#clip252)\" cx=\"1304.98\" cy=\"735.213\" r=\"14.4\" fill=\"#009af9\" fill-rule=\"evenodd\" fill-opacity=\"1\" stroke=\"#000000\" stroke-opacity=\"1\" stroke-width=\"3.2\"/>\n",
       "<circle clip-path=\"url(#clip252)\" cx=\"1304.98\" cy=\"735.213\" r=\"14.4\" fill=\"#009af9\" fill-rule=\"evenodd\" fill-opacity=\"1\" stroke=\"#000000\" stroke-opacity=\"1\" stroke-width=\"3.2\"/>\n",
       "<circle clip-path=\"url(#clip252)\" cx=\"1304.98\" cy=\"735.213\" r=\"14.4\" fill=\"#009af9\" fill-rule=\"evenodd\" fill-opacity=\"1\" stroke=\"#000000\" stroke-opacity=\"1\" stroke-width=\"3.2\"/>\n",
       "<circle clip-path=\"url(#clip252)\" cx=\"1304.98\" cy=\"735.213\" r=\"14.4\" fill=\"#009af9\" fill-rule=\"evenodd\" fill-opacity=\"1\" stroke=\"#000000\" stroke-opacity=\"1\" stroke-width=\"3.2\"/>\n",
       "<circle clip-path=\"url(#clip252)\" cx=\"1304.98\" cy=\"735.213\" r=\"14.4\" fill=\"#009af9\" fill-rule=\"evenodd\" fill-opacity=\"1\" stroke=\"#000000\" stroke-opacity=\"1\" stroke-width=\"3.2\"/>\n",
       "<circle clip-path=\"url(#clip252)\" cx=\"1304.98\" cy=\"735.213\" r=\"14.4\" fill=\"#009af9\" fill-rule=\"evenodd\" fill-opacity=\"1\" stroke=\"#000000\" stroke-opacity=\"1\" stroke-width=\"3.2\"/>\n",
       "<circle clip-path=\"url(#clip252)\" cx=\"1304.98\" cy=\"735.213\" r=\"14.4\" fill=\"#009af9\" fill-rule=\"evenodd\" fill-opacity=\"1\" stroke=\"#000000\" stroke-opacity=\"1\" stroke-width=\"3.2\"/>\n",
       "<circle clip-path=\"url(#clip252)\" cx=\"1304.98\" cy=\"735.213\" r=\"14.4\" fill=\"#009af9\" fill-rule=\"evenodd\" fill-opacity=\"1\" stroke=\"#000000\" stroke-opacity=\"1\" stroke-width=\"3.2\"/>\n",
       "<circle clip-path=\"url(#clip252)\" cx=\"1304.98\" cy=\"735.213\" r=\"14.4\" fill=\"#009af9\" fill-rule=\"evenodd\" fill-opacity=\"1\" stroke=\"#000000\" stroke-opacity=\"1\" stroke-width=\"3.2\"/>\n",
       "<circle clip-path=\"url(#clip252)\" cx=\"1304.98\" cy=\"735.213\" r=\"14.4\" fill=\"#009af9\" fill-rule=\"evenodd\" fill-opacity=\"1\" stroke=\"#000000\" stroke-opacity=\"1\" stroke-width=\"3.2\"/>\n",
       "<circle clip-path=\"url(#clip252)\" cx=\"1304.98\" cy=\"735.213\" r=\"14.4\" fill=\"#009af9\" fill-rule=\"evenodd\" fill-opacity=\"1\" stroke=\"#000000\" stroke-opacity=\"1\" stroke-width=\"3.2\"/>\n",
       "<circle clip-path=\"url(#clip252)\" cx=\"1304.98\" cy=\"735.213\" r=\"14.4\" fill=\"#009af9\" fill-rule=\"evenodd\" fill-opacity=\"1\" stroke=\"#000000\" stroke-opacity=\"1\" stroke-width=\"3.2\"/>\n",
       "<circle clip-path=\"url(#clip252)\" cx=\"1304.98\" cy=\"735.213\" r=\"14.4\" fill=\"#009af9\" fill-rule=\"evenodd\" fill-opacity=\"1\" stroke=\"#000000\" stroke-opacity=\"1\" stroke-width=\"3.2\"/>\n",
       "<circle clip-path=\"url(#clip252)\" cx=\"1304.98\" cy=\"735.213\" r=\"14.4\" fill=\"#009af9\" fill-rule=\"evenodd\" fill-opacity=\"1\" stroke=\"#000000\" stroke-opacity=\"1\" stroke-width=\"3.2\"/>\n",
       "<circle clip-path=\"url(#clip252)\" cx=\"1304.98\" cy=\"735.213\" r=\"14.4\" fill=\"#009af9\" fill-rule=\"evenodd\" fill-opacity=\"1\" stroke=\"#000000\" stroke-opacity=\"1\" stroke-width=\"3.2\"/>\n",
       "<circle clip-path=\"url(#clip252)\" cx=\"1304.98\" cy=\"735.213\" r=\"14.4\" fill=\"#009af9\" fill-rule=\"evenodd\" fill-opacity=\"1\" stroke=\"#000000\" stroke-opacity=\"1\" stroke-width=\"3.2\"/>\n",
       "<circle clip-path=\"url(#clip252)\" cx=\"1304.98\" cy=\"735.213\" r=\"14.4\" fill=\"#009af9\" fill-rule=\"evenodd\" fill-opacity=\"1\" stroke=\"#000000\" stroke-opacity=\"1\" stroke-width=\"3.2\"/>\n",
       "<circle clip-path=\"url(#clip252)\" cx=\"1304.98\" cy=\"735.213\" r=\"14.4\" fill=\"#009af9\" fill-rule=\"evenodd\" fill-opacity=\"1\" stroke=\"#000000\" stroke-opacity=\"1\" stroke-width=\"3.2\"/>\n",
       "<circle clip-path=\"url(#clip252)\" cx=\"1304.98\" cy=\"735.213\" r=\"14.4\" fill=\"#009af9\" fill-rule=\"evenodd\" fill-opacity=\"1\" stroke=\"#000000\" stroke-opacity=\"1\" stroke-width=\"3.2\"/>\n",
       "<circle clip-path=\"url(#clip252)\" cx=\"1304.98\" cy=\"735.213\" r=\"14.4\" fill=\"#009af9\" fill-rule=\"evenodd\" fill-opacity=\"1\" stroke=\"#000000\" stroke-opacity=\"1\" stroke-width=\"3.2\"/>\n",
       "<circle clip-path=\"url(#clip252)\" cx=\"1304.98\" cy=\"735.213\" r=\"14.4\" fill=\"#009af9\" fill-rule=\"evenodd\" fill-opacity=\"1\" stroke=\"#000000\" stroke-opacity=\"1\" stroke-width=\"3.2\"/>\n",
       "<circle clip-path=\"url(#clip252)\" cx=\"1304.98\" cy=\"735.213\" r=\"14.4\" fill=\"#009af9\" fill-rule=\"evenodd\" fill-opacity=\"1\" stroke=\"#000000\" stroke-opacity=\"1\" stroke-width=\"3.2\"/>\n",
       "<circle clip-path=\"url(#clip252)\" cx=\"1304.98\" cy=\"735.213\" r=\"14.4\" fill=\"#009af9\" fill-rule=\"evenodd\" fill-opacity=\"1\" stroke=\"#000000\" stroke-opacity=\"1\" stroke-width=\"3.2\"/>\n",
       "<circle clip-path=\"url(#clip252)\" cx=\"1304.98\" cy=\"735.213\" r=\"14.4\" fill=\"#009af9\" fill-rule=\"evenodd\" fill-opacity=\"1\" stroke=\"#000000\" stroke-opacity=\"1\" stroke-width=\"3.2\"/>\n",
       "<circle clip-path=\"url(#clip252)\" cx=\"1304.98\" cy=\"735.213\" r=\"14.4\" fill=\"#009af9\" fill-rule=\"evenodd\" fill-opacity=\"1\" stroke=\"#000000\" stroke-opacity=\"1\" stroke-width=\"3.2\"/>\n",
       "<circle clip-path=\"url(#clip252)\" cx=\"1304.98\" cy=\"735.213\" r=\"14.4\" fill=\"#009af9\" fill-rule=\"evenodd\" fill-opacity=\"1\" stroke=\"#000000\" stroke-opacity=\"1\" stroke-width=\"3.2\"/>\n",
       "<circle clip-path=\"url(#clip252)\" cx=\"1304.98\" cy=\"735.213\" r=\"14.4\" fill=\"#009af9\" fill-rule=\"evenodd\" fill-opacity=\"1\" stroke=\"#000000\" stroke-opacity=\"1\" stroke-width=\"3.2\"/>\n",
       "<circle clip-path=\"url(#clip252)\" cx=\"1304.98\" cy=\"735.213\" r=\"14.4\" fill=\"#009af9\" fill-rule=\"evenodd\" fill-opacity=\"1\" stroke=\"#000000\" stroke-opacity=\"1\" stroke-width=\"3.2\"/>\n",
       "<circle clip-path=\"url(#clip252)\" cx=\"1304.98\" cy=\"735.213\" r=\"14.4\" fill=\"#009af9\" fill-rule=\"evenodd\" fill-opacity=\"1\" stroke=\"#000000\" stroke-opacity=\"1\" stroke-width=\"3.2\"/>\n",
       "<circle clip-path=\"url(#clip252)\" cx=\"1304.98\" cy=\"735.213\" r=\"14.4\" fill=\"#009af9\" fill-rule=\"evenodd\" fill-opacity=\"1\" stroke=\"#000000\" stroke-opacity=\"1\" stroke-width=\"3.2\"/>\n",
       "<circle clip-path=\"url(#clip252)\" cx=\"1304.98\" cy=\"735.213\" r=\"14.4\" fill=\"#009af9\" fill-rule=\"evenodd\" fill-opacity=\"1\" stroke=\"#000000\" stroke-opacity=\"1\" stroke-width=\"3.2\"/>\n",
       "<circle clip-path=\"url(#clip252)\" cx=\"1305.01\" cy=\"735.213\" r=\"14.4\" fill=\"#009af9\" fill-rule=\"evenodd\" fill-opacity=\"1\" stroke=\"#000000\" stroke-opacity=\"1\" stroke-width=\"3.2\"/>\n",
       "<circle clip-path=\"url(#clip252)\" cx=\"1305.42\" cy=\"735.213\" r=\"14.4\" fill=\"#009af9\" fill-rule=\"evenodd\" fill-opacity=\"1\" stroke=\"#000000\" stroke-opacity=\"1\" stroke-width=\"3.2\"/>\n",
       "<circle clip-path=\"url(#clip252)\" cx=\"1305.5\" cy=\"740.652\" r=\"14.4\" fill=\"#009af9\" fill-rule=\"evenodd\" fill-opacity=\"1\" stroke=\"#000000\" stroke-opacity=\"1\" stroke-width=\"3.2\"/>\n",
       "<circle clip-path=\"url(#clip252)\" cx=\"1305.5\" cy=\"729.773\" r=\"14.4\" fill=\"#009af9\" fill-rule=\"evenodd\" fill-opacity=\"1\" stroke=\"#000000\" stroke-opacity=\"1\" stroke-width=\"3.2\"/>\n",
       "<circle clip-path=\"url(#clip252)\" cx=\"1314.97\" cy=\"735.213\" r=\"14.4\" fill=\"#009af9\" fill-rule=\"evenodd\" fill-opacity=\"1\" stroke=\"#000000\" stroke-opacity=\"1\" stroke-width=\"3.2\"/>\n",
       "<circle clip-path=\"url(#clip252)\" cx=\"2293.45\" cy=\"735.213\" r=\"14.4\" fill=\"#009af9\" fill-rule=\"evenodd\" fill-opacity=\"1\" stroke=\"#000000\" stroke-opacity=\"1\" stroke-width=\"3.2\"/>\n",
       "<polyline clip-path=\"url(#clip252)\" style=\"stroke:#e26f46; stroke-linecap:round; stroke-linejoin:round; stroke-width:4; stroke-opacity:1; fill:none\" points=\"2293.45,735.213 2293.4,728.723 2293.25,722.233 2293,715.745 2292.66,709.259 2292.21,702.775 2291.67,696.295 2291.03,689.818 2290.29,683.346 2289.45,676.879 2288.51,670.418 2287.47,663.964 2286.34,657.516 2285.11,651.077 2283.78,644.645 2282.35,638.223 2280.82,631.811 2279.2,625.409 2277.48,619.018 2275.66,612.638 2273.74,606.271 2271.73,599.917 2269.62,593.576 2267.42,587.249 2265.12,580.937 2262.72,574.641 2260.23,568.36 2257.64,562.097 2254.95,555.85 2252.17,549.622 2249.3,543.412 2246.33,537.221 2243.27,531.05 2240.11,524.9 2236.86,518.771 2233.52,512.663 2230.08,506.577 2226.56,500.514 2222.94,494.475 2219.22,488.46 2215.42,482.47 2211.52,476.504 2207.54,470.565 2203.46,464.652 2199.3,458.766 2195.04,452.908 2190.7,447.078 2186.27,441.277 2181.75,435.505 2177.14,429.764 2172.44,424.053 2167.66,418.372 2162.79,412.724 2157.84,407.108 2152.8,401.524 2147.67,395.974 2142.46,390.458 2137.17,384.977 2131.8,379.53 2126.34,374.119 2120.8,368.744 2115.18,363.406 2109.47,358.105 2103.69,352.842 2097.83,347.617 2091.88,342.43 2085.86,337.283 2079.76,332.176 2073.59,327.109 2067.33,322.083 2061,317.098 2054.6,312.155 2048.12,307.254 2041.56,302.396 2034.93,297.582 2028.23,292.811 2021.46,288.084 2014.61,283.402 2007.69,278.765 2000.71,274.174 1993.65,269.629 1986.53,265.131 1979.33,260.679 1972.07,256.275 1964.75,251.919 1957.35,247.611 1949.89,243.352 1942.37,239.142 1934.78,234.982 1927.13,230.872 1919.42,226.812 1911.65,222.803 1903.81,218.846 1895.92,214.94 1887.97,211.086 1879.95,207.284 1871.89,203.535 1863.76,199.839 1855.58,196.197 1847.34,192.609 1839.05,189.075 1830.71,185.596 1822.31,182.171 1813.86,178.802 1805.36,175.489 1796.81,172.231 1788.21,169.03 1779.57,165.886 1770.87,162.798 1762.13,159.768 1753.34,156.795 1744.51,153.88 1735.64,151.023 1726.72,148.225 1717.76,145.485 1708.76,142.804 1699.71,140.183 1690.63,137.62 1681.51,135.118 1672.35,132.676 1663.16,130.294 1653.93,127.972 1644.66,125.712 1635.36,123.512 1626.03,121.373 1616.67,119.296 1607.27,117.28 1597.84,115.326 1588.39,113.434 1578.9,111.605 1569.39,109.837 1559.86,108.132 1550.29,106.49 1540.71,104.911 1531.09,103.395 1521.46,101.942 1511.81,100.552 1502.13,99.2257 1492.43,97.963 1482.72,96.7641 1472.99,95.629 1463.24,94.5579 1453.47,93.5508 1443.69,92.6079 1433.9,91.7292 1424.09,90.9149 1414.27,90.1651 1404.44,89.4797 1394.61,88.8589 1384.76,88.3028 1374.9,87.8113 1365.04,87.3846 1355.17,87.0226 1345.29,86.7255 1335.42,86.4932 1325.53,86.3258 1315.65,86.2233 1305.77,86.1857 1295.88,86.213 1286,86.3051 1276.12,86.4622 1266.24,86.6842 1256.36,86.971 1246.49,87.3226 1236.63,87.739 1226.77,88.2201 1216.92,88.766 1207.08,89.3765 1197.25,90.0516 1187.43,90.7912 1177.62,91.5952 1167.82,92.4636 1158.04,93.3963 1148.28,94.3932 1138.52,95.4541 1128.79,96.579 1119.07,97.7678 1109.37,99.0203 1099.69,100.336 1090.03,101.716 1080.4,103.159 1070.78,104.665 1061.19,106.234 1051.62,107.867 1042.08,109.561 1032.57,111.319 1023.08,113.139 1013.62,115.021 1004.19,116.965 994.787,118.971 985.418,121.038 976.08,123.167 966.775,125.357 957.504,127.608 948.268,129.92 939.067,132.293 929.903,134.725 920.777,137.218 911.689,139.77 902.64,142.383 893.631,145.054 884.664,147.784 875.739,150.573 866.856,153.421 858.017,156.327 849.224,159.29 840.475,162.312 831.773,165.39 823.119,168.526 814.512,171.718 805.955,174.966 797.447,178.271 788.991,181.631 780.586,185.047 772.233,188.517 763.934,192.043 755.688,195.622 747.498,199.256 739.363,202.943 731.285,206.683 723.265,210.477 715.302,214.322 707.398,218.22 699.555,222.17 691.771,226.17 684.05,230.222 676.39,234.324 668.793,238.477 661.259,242.678 653.79,246.93 646.386,251.23 639.048,255.578 631.777,259.975 624.573,264.419 617.437,268.91 610.37,273.447 603.372,278.031 596.444,282.66 589.587,287.335 582.802,292.055 576.089,296.819 569.449,301.626 562.882,306.478 556.39,311.371 549.972,316.308 543.63,321.286 537.364,326.306 531.175,331.366 525.063,336.467 519.029,341.608 513.074,346.788 507.198,352.007 501.402,357.264 495.686,362.559 490.051,367.892 484.498,373.261 479.026,378.666 473.637,384.107 468.332,389.583 463.11,395.094 457.972,400.638 452.919,406.216 447.951,411.827 443.069,417.471 438.272,423.146 433.563,428.852 428.941,434.589 424.406,440.356 419.96,446.152 415.602,451.978 411.333,457.832 407.153,463.713 403.063,469.622 399.063,475.557 395.154,481.518 391.336,487.504 387.609,493.516 383.974,499.551 380.431,505.61 376.98,511.692 373.622,517.796 370.358,523.922 367.186,530.07 364.109,536.237 361.126,542.425 358.237,548.632 355.443,554.857 352.743,561.101 350.139,567.362 347.631,573.64 345.218,579.933 342.901,586.243 340.68,592.567 338.556,598.906 336.528,605.258 334.598,611.623 332.764,618.001 331.027,624.39 329.388,630.791 327.847,637.201 326.403,643.622 325.057,650.052 323.809,656.49 322.659,662.936 321.607,669.39 320.654,675.85 319.799,682.316 319.043,688.787 318.385,695.263 317.826,701.743 317.366,708.226 317.004,714.712 316.741,721.2 316.577,727.689 316.512,734.179 316.546,740.669 316.678,747.159 316.91,753.647 317.24,760.134 317.669,766.618 318.196,773.099 318.823,779.576 319.548,786.049 320.371,792.517 321.293,798.979 322.313,805.434 323.432,811.883 324.649,818.324 325.964,824.756 327.376,831.18 328.887,837.594 330.495,843.998 332.2,850.391 334.003,856.772 335.903,863.141 337.9,869.498 339.993,875.841 342.183,882.17 344.469,888.484 346.852,894.783 349.33,901.066 351.903,907.332 354.572,913.582 357.336,919.813 360.195,926.026 363.149,932.22 366.196,938.394 369.337,944.547 372.572,950.68 375.9,956.792 379.321,962.881 382.835,968.947 386.441,974.99 390.139,981.009 393.928,987.004 397.808,992.973 401.779,998.916 405.84,1004.83 409.991,1010.72 414.232,1016.59 418.562,1022.42 422.98,1028.23 427.487,1034 432.081,1039.75 436.763,1045.47 441.531,1051.15 446.386,1056.8 451.327,1062.43 456.353,1068.01 461.464,1073.57 466.659,1079.09 471.938,1084.58 477.301,1090.03 482.746,1095.45 488.273,1100.83 493.882,1106.17 499.572,1111.48 505.343,1116.75 511.194,1121.98 517.124,1127.17 523.133,1132.33 529.22,1137.44 535.384,1142.51 541.626,1147.55 547.944,1152.54 554.337,1157.49 560.806,1162.39 567.349,1167.26 573.966,1172.08 580.656,1176.86 587.418,1181.59 594.252,1186.28 601.157,1190.92 608.133,1195.52 615.178,1200.08 622.292,1204.58 629.475,1209.04 636.725,1213.45 644.042,1217.82 651.425,1222.13 658.873,1226.4 666.386,1230.62 673.963,1234.78 681.603,1238.9 689.305,1242.97 697.069,1246.99 704.893,1250.95 712.778,1254.87 720.722,1258.73 728.724,1262.54 736.784,1266.3 744.901,1270 753.073,1273.65 761.301,1277.25 769.583,1280.79 777.919,1284.28 786.308,1287.71 794.748,1291.09 803.24,1294.41 811.781,1297.68 820.372,1300.89 829.011,1304.04 837.698,1307.14 846.432,1310.18 855.211,1313.16 864.036,1316.09 872.904,1318.95 881.816,1321.76 890.77,1324.51 899.766,1327.2 908.802,1329.83 917.878,1332.4 926.992,1334.91 936.144,1337.36 945.333,1339.76 954.558,1342.09 963.818,1344.36 973.113,1346.57 982.44,1348.72 991.8,1350.8 1001.19,1352.83 1010.61,1354.79 1020.06,1356.69 1029.54,1358.53 1039.05,1360.31 1048.58,1362.03 1058.14,1363.68 1067.72,1365.27 1077.33,1366.79 1086.96,1368.26 1096.61,1369.66 1106.29,1370.99 1115.98,1372.27 1125.69,1373.47 1135.42,1374.62 1145.17,1375.7 1154.93,1376.72 1164.71,1377.67 1174.5,1378.56 1184.3,1379.39 1194.12,1380.15 1203.95,1380.84 1213.79,1381.47 1223.63,1382.04 1233.49,1382.54 1243.35,1382.98 1253.22,1383.35 1263.09,1383.66 1272.97,1383.9 1282.85,1384.08 1292.73,1384.19 1302.62,1384.24 1312.5,1384.22 1322.39,1384.14 1332.27,1383.99 1342.15,1383.78 1352.02,1383.5 1361.89,1383.16 1371.76,1382.76 1381.62,1382.29 1391.47,1381.75 1401.31,1381.15 1411.14,1380.49 1420.97,1379.76 1430.78,1378.96 1440.57,1378.1 1450.36,1377.18 1460.13,1376.2 1469.88,1375.14 1479.62,1374.03 1489.34,1372.85 1499.04,1371.61 1508.73,1370.3 1518.39,1368.93 1528.03,1367.5 1537.65,1366 1547.24,1364.45 1556.81,1362.82 1566.36,1361.14 1575.88,1359.39 1585.37,1357.58 1594.83,1355.71 1604.27,1353.77 1613.68,1351.78 1623.05,1349.72 1632.39,1347.6 1641.7,1345.42 1650.98,1343.18 1660.22,1340.88 1669.43,1338.51 1678.6,1336.09 1687.73,1333.61 1696.83,1331.07 1705.88,1328.46 1714.9,1325.8 1723.87,1323.08 1732.8,1320.3 1741.69,1317.46 1750.54,1314.57 1759.34,1311.61 1768.09,1308.6 1776.8,1305.53 1785.46,1302.4 1794.08,1299.22 1802.64,1295.98 1811.16,1292.68 1819.62,1289.33 1828.04,1285.93 1836.4,1282.46 1844.71,1278.95 1852.96,1275.38 1861.16,1271.75 1869.3,1268.07 1877.39,1264.34 1885.42,1260.56 1893.39,1256.72 1901.31,1252.83 1909.16,1248.89 1916.95,1244.9 1924.68,1240.85 1932.35,1236.76 1939.96,1232.61 1947.5,1228.42 1954.98,1224.18 1962.4,1219.88 1969.75,1215.54 1977.03,1211.15 1984.24,1206.72 1991.39,1202.23 1998.47,1197.7 2005.48,1193.13 2012.42,1188.51 2019.28,1183.84 2026.08,1179.13 2032.81,1174.37 2039.46,1169.57 2046.04,1164.72 2052.54,1159.84 2058.97,1154.91 2065.32,1149.94 2071.6,1144.92 2077.8,1139.87 2083.93,1134.77 2089.97,1129.64 2095.94,1124.47 2101.83,1119.25 2107.64,1114 2113.37,1108.71 2119.02,1103.39 2124.58,1098.02 2130.07,1092.62 2135.47,1087.19 2140.79,1081.72 2146.02,1076.21 2151.17,1070.67 2156.24,1065.1 2161.22,1059.49 2166.12,1053.86 2170.93,1048.19 2175.65,1042.48 2180.29,1036.75 2184.84,1030.99 2189.3,1025.2 2193.67,1019.38 2197.95,1013.53 2202.15,1007.65 2206.25,1001.75 2210.26,995.816 2214.19,989.859 2218.02,983.876 2221.76,977.869 2225.41,971.837 2228.97,965.782 2232.44,959.704 2235.81,953.603 2239.09,947.48 2242.27,941.336 2245.37,935.172 2248.36,928.988 2251.27,922.784 2254.08,916.561 2256.79,910.32 2259.41,904.062 2261.93,897.787 2264.36,891.496 2266.7,885.189 2268.93,878.867 2271.07,872.53 2273.11,866.18 2275.06,859.817 2276.91,853.441 2278.66,847.054 2280.32,840.655 2281.87,834.246 2283.33,827.827 2284.69,821.398 2285.96,814.961 2287.12,808.516 2288.19,802.064 2289.16,795.605 2290.03,789.14 2290.8,782.67 2291.48,776.195 2292.05,769.715 2292.53,763.233 2292.9,756.747 2293.18,750.259 2293.36,743.77 2293.44,737.28 \"/>\n",
       "<path clip-path=\"url(#clip250)\" d=\"M327.056 1377.32 L926.447 1377.32 L926.447 1221.8 L327.056 1221.8  Z\" fill=\"#ffffff\" fill-rule=\"evenodd\" fill-opacity=\"1\"/>\n",
       "<polyline clip-path=\"url(#clip250)\" style=\"stroke:#000000; stroke-linecap:round; stroke-linejoin:round; stroke-width:4; stroke-opacity:1; fill:none\" points=\"327.056,1377.32 926.447,1377.32 926.447,1221.8 327.056,1221.8 327.056,1377.32 \"/>\n",
       "<circle clip-path=\"url(#clip250)\" cx=\"420.191\" cy=\"1273.64\" r=\"20.48\" fill=\"#009af9\" fill-rule=\"evenodd\" fill-opacity=\"1\" stroke=\"#000000\" stroke-opacity=\"1\" stroke-width=\"4.55111\"/>\n",
       "<path clip-path=\"url(#clip250)\" d=\"M513.327 1256.36 L535.179 1256.36 L535.179 1260.29 L518.003 1260.29 L518.003 1270.52 L534.461 1270.52 L534.461 1274.46 L518.003 1274.46 L518.003 1286.98 L535.595 1286.98 L535.595 1290.92 L513.327 1290.92 L513.327 1256.36 Z\" fill=\"#000000\" fill-rule=\"nonzero\" fill-opacity=\"1\" /><path clip-path=\"url(#clip250)\" d=\"M543.095 1264.99 L547.355 1264.99 L547.355 1290.92 L543.095 1290.92 L543.095 1264.99 M543.095 1254.9 L547.355 1254.9 L547.355 1260.29 L543.095 1260.29 L543.095 1254.9 Z\" fill=\"#000000\" fill-rule=\"nonzero\" fill-opacity=\"1\" /><path clip-path=\"url(#clip250)\" d=\"M573.327 1277.65 Q573.327 1273.02 571.405 1270.48 Q569.507 1267.93 566.058 1267.93 Q562.632 1267.93 560.711 1270.48 Q558.813 1273.02 558.813 1277.65 Q558.813 1282.26 560.711 1284.8 Q562.632 1287.35 566.058 1287.35 Q569.507 1287.35 571.405 1284.8 Q573.327 1282.26 573.327 1277.65 M577.586 1287.7 Q577.586 1294.32 574.646 1297.54 Q571.706 1300.78 565.642 1300.78 Q563.396 1300.78 561.405 1300.43 Q559.415 1300.11 557.54 1299.41 L557.54 1295.27 Q559.415 1296.29 561.243 1296.77 Q563.072 1297.26 564.97 1297.26 Q569.16 1297.26 571.243 1295.06 Q573.327 1292.88 573.327 1288.46 L573.327 1286.36 Q572.007 1288.65 569.947 1289.78 Q567.887 1290.92 565.017 1290.92 Q560.248 1290.92 557.331 1287.28 Q554.415 1283.65 554.415 1277.65 Q554.415 1271.63 557.331 1268 Q560.248 1264.36 565.017 1264.36 Q567.887 1264.36 569.947 1265.5 Q572.007 1266.63 573.327 1268.92 L573.327 1264.99 L577.586 1264.99 L577.586 1287.7 Z\" fill=\"#000000\" fill-rule=\"nonzero\" fill-opacity=\"1\" /><path clip-path=\"url(#clip250)\" d=\"M608.535 1276.89 L608.535 1278.97 L588.952 1278.97 Q589.229 1283.37 591.591 1285.68 Q593.975 1287.98 598.211 1287.98 Q600.665 1287.98 602.956 1287.37 Q605.271 1286.77 607.539 1285.57 L607.539 1289.6 Q605.248 1290.57 602.84 1291.08 Q600.433 1291.59 597.956 1291.59 Q591.753 1291.59 588.118 1287.98 Q584.507 1284.36 584.507 1278.21 Q584.507 1271.84 587.933 1268.11 Q591.382 1264.36 597.215 1264.36 Q602.447 1264.36 605.479 1267.74 Q608.535 1271.1 608.535 1276.89 M604.276 1275.64 Q604.229 1272.14 602.308 1270.06 Q600.41 1267.98 597.262 1267.98 Q593.697 1267.98 591.544 1269.99 Q589.415 1272 589.091 1275.66 L604.276 1275.64 Z\" fill=\"#000000\" fill-rule=\"nonzero\" fill-opacity=\"1\" /><path clip-path=\"url(#clip250)\" d=\"M637.076 1275.27 L637.076 1290.92 L632.817 1290.92 L632.817 1275.41 Q632.817 1271.73 631.382 1269.9 Q629.947 1268.07 627.076 1268.07 Q623.627 1268.07 621.637 1270.27 Q619.646 1272.47 619.646 1276.26 L619.646 1290.92 L615.364 1290.92 L615.364 1264.99 L619.646 1264.99 L619.646 1269.02 Q621.174 1266.68 623.234 1265.52 Q625.317 1264.36 628.025 1264.36 Q632.493 1264.36 634.785 1267.14 Q637.076 1269.9 637.076 1275.27 Z\" fill=\"#000000\" fill-rule=\"nonzero\" fill-opacity=\"1\" /><path clip-path=\"url(#clip250)\" d=\"M642.516 1264.99 L647.03 1264.99 L655.132 1286.75 L663.234 1264.99 L667.748 1264.99 L658.025 1290.92 L652.238 1290.92 L642.516 1264.99 Z\" fill=\"#000000\" fill-rule=\"nonzero\" fill-opacity=\"1\" /><path clip-path=\"url(#clip250)\" d=\"M685.409 1277.88 Q680.247 1277.88 678.257 1279.06 Q676.266 1280.24 676.266 1283.09 Q676.266 1285.36 677.747 1286.7 Q679.252 1288.02 681.822 1288.02 Q685.363 1288.02 687.493 1285.52 Q689.646 1283 689.646 1278.83 L689.646 1277.88 L685.409 1277.88 M693.905 1276.12 L693.905 1290.92 L689.646 1290.92 L689.646 1286.98 Q688.187 1289.34 686.011 1290.48 Q683.835 1291.59 680.687 1291.59 Q676.706 1291.59 674.345 1289.36 Q672.007 1287.12 672.007 1283.37 Q672.007 1278.99 674.923 1276.77 Q677.863 1274.55 683.673 1274.55 L689.646 1274.55 L689.646 1274.13 Q689.646 1271.19 687.701 1269.6 Q685.78 1267.98 682.284 1267.98 Q680.062 1267.98 677.956 1268.51 Q675.849 1269.04 673.905 1270.11 L673.905 1266.17 Q676.243 1265.27 678.442 1264.83 Q680.641 1264.36 682.724 1264.36 Q688.349 1264.36 691.127 1267.28 Q693.905 1270.2 693.905 1276.12 Z\" fill=\"#000000\" fill-rule=\"nonzero\" fill-opacity=\"1\" /><path clip-path=\"url(#clip250)\" d=\"M702.678 1254.9 L706.937 1254.9 L706.937 1290.92 L702.678 1290.92 L702.678 1254.9 Z\" fill=\"#000000\" fill-rule=\"nonzero\" fill-opacity=\"1\" /><path clip-path=\"url(#clip250)\" d=\"M715.409 1280.68 L715.409 1264.99 L719.669 1264.99 L719.669 1280.52 Q719.669 1284.2 721.104 1286.05 Q722.539 1287.88 725.409 1287.88 Q728.858 1287.88 730.849 1285.68 Q732.863 1283.48 732.863 1279.69 L732.863 1264.99 L737.122 1264.99 L737.122 1290.92 L732.863 1290.92 L732.863 1286.93 Q731.312 1289.29 729.252 1290.45 Q727.215 1291.59 724.506 1291.59 Q720.039 1291.59 717.724 1288.81 Q715.409 1286.03 715.409 1280.68 M726.127 1264.36 L726.127 1264.36 Z\" fill=\"#000000\" fill-rule=\"nonzero\" fill-opacity=\"1\" /><path clip-path=\"url(#clip250)\" d=\"M768.071 1276.89 L768.071 1278.97 L748.488 1278.97 Q748.766 1283.37 751.127 1285.68 Q753.511 1287.98 757.747 1287.98 Q760.201 1287.98 762.492 1287.37 Q764.807 1286.77 767.076 1285.57 L767.076 1289.6 Q764.784 1290.57 762.377 1291.08 Q759.969 1291.59 757.492 1291.59 Q751.289 1291.59 747.654 1287.98 Q744.043 1284.36 744.043 1278.21 Q744.043 1271.84 747.469 1268.11 Q750.918 1264.36 756.752 1264.36 Q761.983 1264.36 765.016 1267.74 Q768.071 1271.1 768.071 1276.89 M763.812 1275.64 Q763.766 1272.14 761.844 1270.06 Q759.946 1267.98 756.798 1267.98 Q753.233 1267.98 751.08 1269.99 Q748.951 1272 748.627 1275.66 L763.812 1275.64 Z\" fill=\"#000000\" fill-rule=\"nonzero\" fill-opacity=\"1\" /><path clip-path=\"url(#clip250)\" d=\"M791.589 1265.75 L791.589 1269.78 Q789.784 1268.86 787.839 1268.39 Q785.895 1267.93 783.812 1267.93 Q780.64 1267.93 779.043 1268.9 Q777.469 1269.87 777.469 1271.82 Q777.469 1273.3 778.603 1274.16 Q779.738 1274.99 783.164 1275.75 L784.622 1276.08 Q789.159 1277.05 791.057 1278.83 Q792.978 1280.59 792.978 1283.76 Q792.978 1287.37 790.108 1289.48 Q787.261 1291.59 782.261 1291.59 Q780.177 1291.59 777.909 1291.17 Q775.664 1290.78 773.164 1289.97 L773.164 1285.57 Q775.525 1286.79 777.816 1287.42 Q780.108 1288.02 782.353 1288.02 Q785.363 1288.02 786.983 1287 Q788.603 1285.96 788.603 1284.09 Q788.603 1282.35 787.423 1281.42 Q786.265 1280.5 782.307 1279.64 L780.826 1279.3 Q776.867 1278.46 775.108 1276.75 Q773.349 1275.01 773.349 1272 Q773.349 1268.35 775.941 1266.36 Q778.534 1264.36 783.302 1264.36 Q785.664 1264.36 787.747 1264.71 Q789.83 1265.06 791.589 1265.75 Z\" fill=\"#000000\" fill-rule=\"nonzero\" fill-opacity=\"1\" /><path clip-path=\"url(#clip250)\" d=\"M824.876 1267.98 Q821.45 1267.98 819.46 1270.66 Q817.469 1273.32 817.469 1277.98 Q817.469 1282.63 819.437 1285.31 Q821.427 1287.98 824.876 1287.98 Q828.279 1287.98 830.27 1285.29 Q832.261 1282.61 832.261 1277.98 Q832.261 1273.37 830.27 1270.68 Q828.279 1267.98 824.876 1267.98 M824.876 1264.36 Q830.432 1264.36 833.603 1267.98 Q836.774 1271.59 836.774 1277.98 Q836.774 1284.34 833.603 1287.98 Q830.432 1291.59 824.876 1291.59 Q819.298 1291.59 816.126 1287.98 Q812.978 1284.34 812.978 1277.98 Q812.978 1271.59 816.126 1267.98 Q819.298 1264.36 824.876 1264.36 Z\" fill=\"#000000\" fill-rule=\"nonzero\" fill-opacity=\"1\" /><path clip-path=\"url(#clip250)\" d=\"M856.959 1254.9 L856.959 1258.44 L852.885 1258.44 Q850.594 1258.44 849.691 1259.36 Q848.811 1260.29 848.811 1262.7 L848.811 1264.99 L855.825 1264.99 L855.825 1268.3 L848.811 1268.3 L848.811 1290.92 L844.529 1290.92 L844.529 1268.3 L840.455 1268.3 L840.455 1264.99 L844.529 1264.99 L844.529 1263.18 Q844.529 1258.86 846.543 1256.89 Q848.557 1254.9 852.932 1254.9 L856.959 1254.9 Z\" fill=\"#000000\" fill-rule=\"nonzero\" fill-opacity=\"1\" /><path clip-path=\"url(#clip250)\" d=\"M887.33 1260.96 L880.987 1278.16 L893.695 1278.16 L887.33 1260.96 M884.691 1256.36 L889.992 1256.36 L903.163 1290.92 L898.302 1290.92 L895.154 1282.05 L879.575 1282.05 L876.427 1290.92 L871.496 1290.92 L884.691 1256.36 Z\" fill=\"#000000\" fill-rule=\"nonzero\" fill-opacity=\"1\" /><polyline clip-path=\"url(#clip250)\" style=\"stroke:#e26f46; stroke-linecap:round; stroke-linejoin:round; stroke-width:4; stroke-opacity:1; fill:none\" points=\"350.34,1325.48 490.043,1325.48 \"/>\n",
       "<path clip-path=\"url(#clip250)\" d=\"M513.327 1308.2 L518.026 1308.2 L518.026 1329.19 Q518.026 1334.75 520.04 1337.2 Q522.054 1339.63 526.568 1339.63 Q531.058 1339.63 533.072 1337.2 Q535.086 1334.75 535.086 1329.19 L535.086 1308.2 L539.785 1308.2 L539.785 1329.77 Q539.785 1336.53 536.429 1339.98 Q533.095 1343.43 526.568 1343.43 Q520.017 1343.43 516.66 1339.98 Q513.327 1336.53 513.327 1329.77 L513.327 1308.2 Z\" fill=\"#000000\" fill-rule=\"nonzero\" fill-opacity=\"1\" /><path clip-path=\"url(#clip250)\" d=\"M569.924 1327.11 L569.924 1342.76 L565.665 1342.76 L565.665 1327.25 Q565.665 1323.57 564.23 1321.74 Q562.794 1319.91 559.924 1319.91 Q556.475 1319.91 554.484 1322.11 Q552.493 1324.31 552.493 1328.1 L552.493 1342.76 L548.211 1342.76 L548.211 1316.83 L552.493 1316.83 L552.493 1320.86 Q554.021 1318.52 556.081 1317.36 Q558.165 1316.2 560.873 1316.2 Q565.341 1316.2 567.632 1318.98 Q569.924 1321.74 569.924 1327.11 Z\" fill=\"#000000\" fill-rule=\"nonzero\" fill-opacity=\"1\" /><path clip-path=\"url(#clip250)\" d=\"M578.419 1316.83 L582.679 1316.83 L582.679 1342.76 L578.419 1342.76 L578.419 1316.83 M578.419 1306.74 L582.679 1306.74 L582.679 1312.13 L578.419 1312.13 L578.419 1306.74 Z\" fill=\"#000000\" fill-rule=\"nonzero\" fill-opacity=\"1\" /><path clip-path=\"url(#clip250)\" d=\"M595.803 1309.47 L595.803 1316.83 L604.577 1316.83 L604.577 1320.14 L595.803 1320.14 L595.803 1334.21 Q595.803 1337.38 596.66 1338.29 Q597.54 1339.19 600.202 1339.19 L604.577 1339.19 L604.577 1342.76 L600.202 1342.76 Q595.271 1342.76 593.396 1340.93 Q591.521 1339.07 591.521 1334.21 L591.521 1320.14 L588.396 1320.14 L588.396 1316.83 L591.521 1316.83 L591.521 1309.47 L595.803 1309.47 Z\" fill=\"#000000\" fill-rule=\"nonzero\" fill-opacity=\"1\" /><path clip-path=\"url(#clip250)\" d=\"M643.905 1317.82 L643.905 1321.81 Q642.099 1320.81 640.271 1320.32 Q638.465 1319.82 636.613 1319.82 Q632.47 1319.82 630.178 1322.45 Q627.887 1325.07 627.887 1329.82 Q627.887 1334.56 630.178 1337.2 Q632.47 1339.82 636.613 1339.82 Q638.465 1339.82 640.271 1339.33 Q642.099 1338.82 643.905 1337.82 L643.905 1341.76 Q642.123 1342.59 640.201 1343.01 Q638.303 1343.43 636.15 1343.43 Q630.294 1343.43 626.845 1339.75 Q623.396 1336.07 623.396 1329.82 Q623.396 1323.47 626.868 1319.84 Q630.363 1316.2 636.428 1316.2 Q638.396 1316.2 640.271 1316.62 Q642.146 1317.01 643.905 1317.82 Z\" fill=\"#000000\" fill-rule=\"nonzero\" fill-opacity=\"1\" /><path clip-path=\"url(#clip250)\" d=\"M651.312 1316.83 L655.572 1316.83 L655.572 1342.76 L651.312 1342.76 L651.312 1316.83 M651.312 1306.74 L655.572 1306.74 L655.572 1312.13 L651.312 1312.13 L651.312 1306.74 Z\" fill=\"#000000\" fill-rule=\"nonzero\" fill-opacity=\"1\" /><path clip-path=\"url(#clip250)\" d=\"M679.507 1320.81 Q678.789 1320.39 677.933 1320.21 Q677.099 1320 676.081 1320 Q672.47 1320 670.525 1322.36 Q668.604 1324.7 668.604 1329.1 L668.604 1342.76 L664.322 1342.76 L664.322 1316.83 L668.604 1316.83 L668.604 1320.86 Q669.947 1318.5 672.099 1317.36 Q674.252 1316.2 677.331 1316.2 Q677.771 1316.2 678.303 1316.27 Q678.835 1316.32 679.484 1316.44 L679.507 1320.81 Z\" fill=\"#000000\" fill-rule=\"nonzero\" fill-opacity=\"1\" /><path clip-path=\"url(#clip250)\" d=\"M701.59 1317.82 L701.59 1321.81 Q699.784 1320.81 697.956 1320.32 Q696.15 1319.82 694.298 1319.82 Q690.155 1319.82 687.863 1322.45 Q685.571 1325.07 685.571 1329.82 Q685.571 1334.56 687.863 1337.2 Q690.155 1339.82 694.298 1339.82 Q696.15 1339.82 697.956 1339.33 Q699.784 1338.82 701.59 1337.82 L701.59 1341.76 Q699.808 1342.59 697.886 1343.01 Q695.988 1343.43 693.835 1343.43 Q687.979 1343.43 684.53 1339.75 Q681.081 1336.07 681.081 1329.82 Q681.081 1323.47 684.553 1319.84 Q688.048 1316.2 694.113 1316.2 Q696.081 1316.2 697.956 1316.62 Q699.831 1317.01 701.59 1317.82 Z\" fill=\"#000000\" fill-rule=\"nonzero\" fill-opacity=\"1\" /><path clip-path=\"url(#clip250)\" d=\"M708.997 1306.74 L713.257 1306.74 L713.257 1342.76 L708.997 1342.76 L708.997 1306.74 Z\" fill=\"#000000\" fill-rule=\"nonzero\" fill-opacity=\"1\" /><path clip-path=\"url(#clip250)\" d=\"M744.344 1328.73 L744.344 1330.81 L724.761 1330.81 Q725.039 1335.21 727.4 1337.52 Q729.784 1339.82 734.02 1339.82 Q736.474 1339.82 738.766 1339.21 Q741.08 1338.61 743.349 1337.41 L743.349 1341.44 Q741.057 1342.41 738.65 1342.92 Q736.243 1343.43 733.766 1343.43 Q727.562 1343.43 723.928 1339.82 Q720.317 1336.2 720.317 1330.05 Q720.317 1323.68 723.743 1319.95 Q727.192 1316.2 733.025 1316.2 Q738.256 1316.2 741.289 1319.58 Q744.344 1322.94 744.344 1328.73 M740.085 1327.48 Q740.039 1323.98 738.117 1321.9 Q736.219 1319.82 733.071 1319.82 Q729.506 1319.82 727.354 1321.83 Q725.224 1323.84 724.9 1327.5 L740.085 1327.48 Z\" fill=\"#000000\" fill-rule=\"nonzero\" fill-opacity=\"1\" /></svg>\n"
      ]
     },
     "metadata": {},
     "output_type": "display_data"
    }
   ],
   "source": [
    "using Plots\n",
    "scatter(F.values, label = \"Eigenvalues of A\")\n",
    "plot!([cos(x) for x in 0:0.01:2*pi], [sin(x) for x in 0:0.01:2*pi], label = \"Unit circle\")"
   ]
  },
  {
   "cell_type": "markdown",
   "metadata": {},
   "source": [
    "The matrix F.vectors contains numerical approximations, not verified of the eigenvalues of $A$"
   ]
  },
  {
   "cell_type": "code",
   "execution_count": 36,
   "metadata": {},
   "outputs": [
    {
     "data": {
      "text/plain": [
       "257×257 Matrix{ComplexF64}:\n",
       "         0.0+0.0im         …    0.862162+0.0im\n",
       "    0.565836+0.0im              0.259411+0.000287363im\n",
       "    0.312697-0.0901638im        0.174787+0.0509537im\n",
       "    0.204878-0.0656197im        0.122907+0.0413455im\n",
       "    0.128757-0.0449061im        0.080324+0.0293197im\n",
       "   0.0756839-0.0279271im   …   0.0483626+0.0185373im\n",
       "   0.0410568-0.0157715im       0.0266803+0.0105686im\n",
       "   0.0204248-0.00808853im      0.0134412+0.00545314im\n",
       "  0.00928487-0.00376644im     0.00617095+0.0025498im\n",
       "  0.00384845-0.00159201im     0.00257838+0.00108097im\n",
       "            ⋮              ⋱  \n",
       " 0.000441255-0.0041413im      0.00257838-0.00108097im\n",
       " 0.000993121-0.00997038im     0.00617095-0.0025498im\n",
       "  0.00199581-0.0218772im   …   0.0134412-0.00545314im\n",
       "  0.00354405-0.0438388im       0.0266803-0.0105686im\n",
       "  0.00543371-0.0804888im       0.0483626-0.0185373im\n",
       "  0.00674515-0.136196im         0.080324-0.0293197im\n",
       "  0.00513528-0.215068im         0.122907-0.0413455im\n",
       "  -0.0017452-0.325432im    …    0.174787-0.0509537im\n",
       "   -0.159681-0.542837im         0.259411-0.000287363im"
      ]
     },
     "metadata": {},
     "output_type": "display_data"
    }
   ],
   "source": [
    "F.vectors               "
   ]
  },
  {
   "cell_type": "code",
   "execution_count": 38,
   "metadata": {},
   "outputs": [
    {
     "data": {
      "text/plain": [
       "257-element Vector{ComplexF64}:\n",
       "    0.8621618559192298 + 0.0im\n",
       "     0.259411322265627 + 0.00028736283984833643im\n",
       "   0.17478720465601344 + 0.05095373174067641im\n",
       "   0.12290673960817552 + 0.041345527266352294im\n",
       "   0.08032399031782757 + 0.029319692800765153im\n",
       "   0.04836263817291524 + 0.01853726831563606im\n",
       "  0.026680347851871046 + 0.0105685643530462im\n",
       "  0.013441193935186677 + 0.005453135414808872im\n",
       "  0.006170952671736583 + 0.002549801279743561im\n",
       "  0.002578379746454155 + 0.0010809684527433607im\n",
       "                       ⋮\n",
       " 0.0025783797464541684 - 0.0010809684527433162im\n",
       "  0.006170952671736603 - 0.002549801279743561im\n",
       "   0.01344119393518668 - 0.00545313541480885im\n",
       "  0.026680347851870963 - 0.010568564353046197im\n",
       "   0.04836263817291518 - 0.01853726831563609im\n",
       "   0.08032399031782744 - 0.029319692800765323im\n",
       "   0.12290673960817546 - 0.04134552726635253im\n",
       "   0.17478720465601358 - 0.05095373174067653im\n",
       "   0.25941132226562713 - 0.0002873628398483332im"
      ]
     },
     "metadata": {},
     "output_type": "display_data"
    }
   ],
   "source": [
    "fσK = F.vectors[:, 257]   # this is going to be an approximation of our fixed point"
   ]
  },
  {
   "cell_type": "markdown",
   "metadata": {},
   "source": [
    "$f_{\\sigma,k}$ is fixed point of $A$"
   ]
  },
  {
   "cell_type": "code",
   "execution_count": null,
   "metadata": {},
   "outputs": [
    {
     "data": {
      "text/plain": [
       "257-element Vector{ComplexF64}:\n",
       "    0.9999999999999999 + 0.0im\n",
       "    0.3008847126379128 + 0.00033330497965715795im\n",
       "   0.20273131252096135 + 0.05909996062902825im\n",
       "   0.14255645707862288 + 0.047955644270842895im\n",
       "   0.09316578988777785 + 0.034007179277845384im\n",
       "  0.056094615924931396 + 0.021500914460976447im\n",
       "   0.03094586900208509 + 0.01225821379186172im\n",
       "  0.015590105086307475 + 0.006324955549088615im\n",
       "  0.007157533854425936 + 0.002957450810700717im\n",
       " 0.0029905982603522954 + 0.0012537883058985962im\n",
       "                       ⋮\n",
       "  0.002990598260352311 - 0.0012537883058985446im\n",
       "  0.007157533854425959 - 0.002957450810700717im\n",
       "  0.015590105086307478 - 0.00632495554908859im\n",
       "  0.030945869002084993 - 0.012258213791861717im\n",
       "   0.05609461592493133 - 0.02150091446097648im\n",
       "   0.09316578988777771 - 0.034007179277845585im\n",
       "    0.1425564570786228 - 0.04795564427084317im\n",
       "   0.20273131252096152 - 0.059099960629028385im\n",
       "    0.3008847126379129 - 0.00033330497965715415im"
      ]
     },
     "metadata": {},
     "output_type": "display_data"
    }
   ],
   "source": [
    "fσK /= fσK[1] # we normalize it"
   ]
  },
  {
   "cell_type": "markdown",
   "metadata": {},
   "source": [
    "In the computer calculations, the symmetry of the point was lost. Now let's symmetrize the fixed point"
   ]
  },
  {
   "cell_type": "code",
   "execution_count": 40,
   "metadata": {},
   "outputs": [
    {
     "data": {
      "text/plain": [
       "257-element Vector{ComplexF64}:\n",
       "    0.9999999999999999 + 0.0im\n",
       "    0.3008847126379128 + 0.00033330497965715795im\n",
       "   0.20273131252096135 + 0.05909996062902825im\n",
       "   0.14255645707862288 + 0.047955644270842895im\n",
       "   0.09316578988777785 + 0.034007179277845384im\n",
       "  0.056094615924931396 + 0.021500914460976447im\n",
       "   0.03094586900208509 + 0.01225821379186172im\n",
       "  0.015590105086307475 + 0.006324955549088615im\n",
       "  0.007157533854425936 + 0.002957450810700717im\n",
       " 0.0029905982603522954 + 0.0012537883058985962im\n",
       "                       ⋮\n",
       " 0.0029905982603522954 - 0.0012537883058985962im\n",
       "  0.007157533854425936 - 0.002957450810700717im\n",
       "  0.015590105086307475 - 0.006324955549088615im\n",
       "   0.03094586900208509 - 0.01225821379186172im\n",
       "  0.056094615924931396 - 0.021500914460976447im\n",
       "   0.09316578988777785 - 0.034007179277845384im\n",
       "   0.14255645707862288 - 0.047955644270842895im\n",
       "   0.20273131252096135 - 0.05909996062902825im\n",
       "    0.3008847126379128 - 0.00033330497965715795im"
      ]
     },
     "metadata": {},
     "output_type": "display_data"
    }
   ],
   "source": [
    "fσKs = zeros(257) + zeros(257) * im\n",
    "for i in 1:129\n",
    "    fσKs[i] = fσK[i]\n",
    "end\n",
    "\n",
    "for i in 1:128\n",
    "    fσKs[258-i] = conj(fσK[i+1])\n",
    "end\n",
    "fσKs                                "
   ]
  },
  {
   "attachments": {},
   "cell_type": "markdown",
   "metadata": {},
   "source": [
    "\n",
    "Note that\n",
    "\\begin{align*}\n",
    "f_{\\sigma,k,s}=(\\mathcal{F}(f_{\\sigma,k,s})[0],\\mathcal{F}(f_{\\sigma,k,s})[1],\\ldots,\\mathcal{F}(f_{\\sigma,k,s})[K],\\mathcal{F}(f_{\\sigma,k,s})[-K],\\ldots,\\mathcal{F}(f_{\\sigma,k,s})[-1])\n",
    "\\end{align*}\n"
   ]
  },
  {
   "cell_type": "code",
   "execution_count": 41,
   "metadata": {},
   "outputs": [
    {
     "data": {
      "text/plain": [
       "257-element Vector{Ball{Float64, ComplexF64}}:\n",
       "                      0.9999999999999999 + 0.0im ± 0.0\n",
       "   0.3008847126379128 + 0.00033330497965715795im ± 0.0\n",
       "     0.20273131252096135 + 0.05909996062902825im ± 0.0\n",
       "    0.14255645707862288 + 0.047955644270842895im ± 0.0\n",
       "    0.09316578988777785 + 0.034007179277845384im ± 0.0\n",
       "   0.056094615924931396 + 0.021500914460976447im ± 0.0\n",
       "     0.03094586900208509 + 0.01225821379186172im ± 0.0\n",
       "   0.015590105086307475 + 0.006324955549088615im ± 0.0\n",
       "   0.007157533854425936 + 0.002957450810700717im ± 0.0\n",
       " 0.0029905982603522954 + 0.0012537883058985962im ± 0.0\n",
       "                                                                               ⋮\n",
       " 0.0029905982603522954 - 0.0012537883058985962im ± 0.0\n",
       "   0.007157533854425936 - 0.002957450810700717im ± 0.0\n",
       "   0.015590105086307475 - 0.006324955549088615im ± 0.0\n",
       "     0.03094586900208509 - 0.01225821379186172im ± 0.0\n",
       "   0.056094615924931396 - 0.021500914460976447im ± 0.0\n",
       "    0.09316578988777785 - 0.034007179277845384im ± 0.0\n",
       "    0.14255645707862288 - 0.047955644270842895im ± 0.0\n",
       "     0.20273131252096135 - 0.05909996062902825im ± 0.0\n",
       "   0.3008847126379128 - 0.00033330497965715795im ± 0.0"
      ]
     },
     "metadata": {},
     "output_type": "display_data"
    }
   ],
   "source": [
    "bfσKs = BallVector(fσKs)"
   ]
  },
  {
   "cell_type": "markdown",
   "metadata": {},
   "source": [
    "We compute now the residuals of the fixed point with respect to all the matrices in the BallMatrix"
   ]
  },
  {
   "cell_type": "code",
   "execution_count": 44,
   "metadata": {},
   "outputs": [
    {
     "data": {
      "text/plain": [
       "257-element Vector{Ball{Float64, ComplexF64}}:\n",
       "                                        0.0 + 0.0im ± 1.7297598683812976e-13\n",
       "  -2.7755575615628914e-16 - 3.513357139939277e-16im ± 1.6741147462846631e-13\n",
       "   -3.885780586188048e-16 - 2.636779683484747e-16im ± 1.3303859320959926e-13\n",
       "   -4.440892098500626e-16 + 1.457167719820518e-16im ± 1.0112910041784038e-13\n",
       "    -5.412337245047638e-16 + 6.938893903907228e-17im ± 6.982209662361387e-14\n",
       "   -1.249000902703301e-16 - 3.8163916471489756e-17im ± 4.406721076519777e-14\n",
       " -1.1796119636642288e-16 - 2.7755575615628914e-17im ± 2.6201273148754355e-14\n",
       "  -3.122502256758253e-17 + 3.0357660829594124e-17im ± 1.3757344586247275e-14\n",
       "   1.734723475976807e-18 - 1.3010426069826053e-17im ± 6.5290755729773614e-15\n",
       "   1.7780915628762273e-17 - 2.862293735361732e-17im ± 2.8147677612559673e-15\n",
       "                                                                                                     ⋮\n",
       "   1.7780915628762273e-17 + 2.883977778811442e-17im ± 2.8147677612559673e-15\n",
       "   3.469446951953614e-18 + 1.3010426069826053e-17im ± 6.5290755729773614e-15\n",
       "   -3.122502256758253e-17 - 3.122502256758253e-17im ± 1.3757344586247275e-14\n",
       "  -1.1796119636642288e-16 + 2.949029909160572e-17im ± 2.6201273148754355e-14\n",
       "  -1.3877787807814457e-16 + 4.5102810375396984e-17im ± 4.406721076519777e-14\n",
       "    -5.273559366969494e-16 - 6.938893903907228e-17im ± 6.982209662361387e-14\n",
       "  -4.718447854656915e-16 - 1.5265566588595902e-16im ± 1.0112910041784038e-13\n",
       "  -3.885780586188048e-16 + 2.5673907444456745e-16im ± 1.3303859320959926e-13\n",
       "  -3.3306690738754696e-16 + 3.513357139939277e-16im ± 1.6741147462846785e-13"
      ]
     },
     "metadata": {},
     "output_type": "display_data"
    }
   ],
   "source": [
    "residual = PσK * bfσKs - bfσKs"
   ]
  },
  {
   "cell_type": "code",
   "execution_count": 45,
   "metadata": {},
   "outputs": [
    {
     "data": {
      "text/plain": [
       "3.9804238892558117e-13"
      ]
     },
     "metadata": {},
     "output_type": "display_data"
    }
   ],
   "source": [
    "ϵ = norm(residual.c, 2) + norm(residual.r, 2)"
   ]
  },
  {
   "cell_type": "markdown",
   "metadata": {},
   "source": [
    "To compute the value of the Lyapunov exponent we need to find an enclosure of the Fourier coefficients of \n",
    "$$\n",
    "\\ln|T'_{\\alpha,\\beta}|\n",
    "$$"
   ]
  },
  {
   "cell_type": "markdown",
   "metadata": {},
   "source": [
    "I already have bounded $|\\lambda(\\alpha,\\beta,\\sigma)-\\lambda(\\alpha,\\beta,\\sigma,k,s)|$, it remains to find $\\lambda(\\alpha,\\beta,\\sigma,k,s)$ but \n",
    "\\begin{align*}\n",
    "\\lambda (\\alpha,\\beta,\\sigma,k,s)&=\\int_{-1}^{1}\\ln|T'_{\\alpha,\\beta}|f_{\\sigma,k,s}dm\\\\\n",
    "&=\\langle \\ln|T'_{\\alpha,\\beta}|,f_{\\sigma,k,s} \\rangle\\\\\n",
    "&=\\displaystyle \\sum_{j=-k}^{k}\\mathcal{F}(\\ln|T'_{\\alpha,\\beta}|)[j]\\mathcal{F}(f_{\\sigma,k,s})[j].\n",
    "\\end{align*}\n",
    "$\\mathcal{F}(f_{\\sigma,k})[j]$ we have already calculated it, let's calculate $\\mathcal{F}(\\ln|T'_{\\alpha,\\beta}|)[j]$.\n",
    "\n",
    "We now that\n",
    "\n",
    "\\begin{align*}\n",
    "\\mathcal{F}(ln|T'_{\\alpha,\\beta}|)[0]&=\\ln (2\\alpha \\beta)-(\\alpha-1)\\\\\n",
    "\\mathcal{F}(ln|T'_{\\alpha,\\beta}|)[j]&=-\\frac{(\\alpha-1)}{j\\pi}\\int_{0}^{1}\\frac{1}{x}sen(j\\pi x)dx\\\\\n",
    "&=-\\frac{(\\alpha-1)}{j\\pi}\\int _{0}^{j\\pi}\\frac{sen(x)}{x}dx.\n",
    "\\end{align*}"
   ]
  },
  {
   "attachments": {},
   "cell_type": "markdown",
   "metadata": {},
   "source": [
    "We want to compute\n",
    "$$\n",
    "\\frac{1}{j\\pi}\\int_0^{j\\pi} \\frac{sin(t)}{t}dt\n",
    "$$\n",
    "for $j\\geq 1$ by using Taylor Models integration for $[\\pi, j\\pi]$.\n",
    "\n",
    "To make the computation more efficient, we will \n",
    "compute \n",
    "$$\n",
    "I_i = \\int_{i\\pi}^{(i+1)\\pi}\\frac{sin(t)}{t}dt\n",
    "$$"
   ]
  },
  {
   "cell_type": "code",
   "execution_count": 46,
   "metadata": {},
   "outputs": [
    {
     "data": {
      "text/plain": [
       "f (generic function with 1 method)"
      ]
     },
     "metadata": {},
     "output_type": "display_data"
    }
   ],
   "source": [
    "f(t) = sin(t) / t"
   ]
  },
  {
   "attachments": {},
   "cell_type": "markdown",
   "metadata": {},
   "source": [
    "The  power series for $f$ at $x=0$ is\n",
    "$$\n",
    "f(x) = \\sum_{i=0}^{+\\infty}(-1)^i\\frac{x^{2i}}{(2i+1)!}\n",
    "$$\n",
    "Then, the power series for the primitive is \n",
    "$$\n",
    "F(x) = \\sum_{i=0}^{+\\infty}(-1)^i\\frac{x^{2i+1}}{(2i+1)!(2i+1)}.\n",
    "$$\n",
    "We are going to use this Taylor series to approximate the integral only in the interval $[0, \\pi]$.\n",
    "\n",
    "We will bound the remainder of the series by using the alternating series remainder."
   ]
  },
  {
   "cell_type": "code",
   "execution_count": 47,
   "metadata": {},
   "outputs": [
    {
     "data": {
      "text/plain": [
       "coeff_eval_at_0 (generic function with 1 method)"
      ]
     },
     "metadata": {},
     "output_type": "display_data"
    }
   ],
   "source": [
    "function coeff_eval_at_0(i, x)\n",
    "    return x^(2i + 1) / (factorial(big(2i + 1)) * (2i + 1))\n",
    "end"
   ]
  },
  {
   "cell_type": "code",
   "execution_count": 48,
   "metadata": {},
   "outputs": [
    {
     "name": "stderr",
     "output_type": "stream",
     "text": [
      "┌ Info: [-1.16004e-4753, 1.16004e-4753]₂₅₆\n",
      "└ @ Main /home/isaia/Code/PlateauExperiment.jl/notebooks/jl_notebook_cell_df34fa98e69747e1a8f8a730347b8e2f_X45sZmlsZQ==.jl:8\n"
     ]
    },
    {
     "data": {
      "text/plain": [
       "([1.85193, 1.85194]₂₅₆, 1.746233281840096703253120346658240793279655273689016096051792841668089262599443e-74)"
      ]
     },
     "metadata": {},
     "output_type": "display_data"
    }
   ],
   "source": [
    "using IntervalArithmetic                                #No usa aqui Taylor Model porque no existe su serie de taylor pues la serie de taylor lo hace sacando la derivada y evaluando a en nuestro caro a=0, pero nosotros tenemos sen(t)/t el cual al derivar siempre tendra dividido por t^n y no se va poder remprazar para t=0\n",
    "N = 1000\n",
    "\n",
    "Pi = @biginterval π                                     # @interval(1)=[1,1], @interval(0.1)=[0.1,0.100001], @interval(x)= um intervalo fechado pequeno que contega x, @interval(1,2)=[1,2],@biginterval(1,2)=[1,2]_256 creo que va aceptar por ejemplo un decimal hasta la cifra 256\n",
    "v = [(-1)^i * coeff_eval_at_0(i, Pi) for i in 0:N]        # como ja integro agora tem que valiar em \\pi e 0, em verdad seria em jπ, mas ta tomando no intervalo [0,π] de momento\n",
    "# i.e esta achando (-1)^{i}a_K, e os vota emcada coordenada de v, note que cada coordenadas é um intervalo pois Pi\n",
    "error = Interval(-1, 1) * abs(coeff_eval_at_0(N + 1, Pi))   # error=[-a_{K+1},a_{K+1}], esto se tiene de Alternating series estimation theorem\n",
    "@info error\n",
    "\n",
    "integral_with_error = sum(v) + error                      # aqui esta sumando os primeros (-1)a_K + error e vai me sair um inervalo\n",
    "integral_with_error, diam(integral_with_error)          # o diametri do intervalo que tem que ser muito pequeno"
   ]
  },
  {
   "attachments": {},
   "cell_type": "markdown",
   "metadata": {},
   "source": [
    "Therefore, we have computed $I_0$. We will now use \n",
    "Taylormodels to compute the value of the integrals\n",
    "$$\n",
    "\\int_{i\\pi}^{(i+1)\\pi}\\frac{sin(t)}{t}dt\n",
    "$$\n",
    "for $i>0$."
   ]
  },
  {
   "cell_type": "code",
   "execution_count": 49,
   "metadata": {},
   "outputs": [],
   "source": [
    "#import Pkg; Pkg.add(\"TaylorModels\")\n",
    "using TaylorModels"
   ]
  },
  {
   "cell_type": "code",
   "execution_count": 50,
   "metadata": {},
   "outputs": [
    {
     "data": {
      "text/plain": [
       "integrate_i_i_plus_1 (generic function with 1 method)"
      ]
     },
     "metadata": {},
     "output_type": "display_data"
    }
   ],
   "source": [
    "function integrate_i_i_plus_1(f, i; degree=40)            #aqui puede usar porque evalua las derivadas em m que es diferente de 0\n",
    "    I = (@interval i * π (i + 1) * π)                             #esto es el intervalo [i*π,(i+1)*π], i>0\n",
    "    m = Interval(IntervalArithmetic.mid(I))                                    #mid(I) ponto medio do intervalo I, Interval(mid(I))=un intervalo pequenho que contenga mid(I)\n",
    "    tm = TaylorModel1(degree, m, I)                         #ese m es el valor que será evaluada en la serie de Taylos i.e f(m)+f'(m)t/1!+...+f^{(400)}(m)t^{400}/400!+erro\n",
    "    prim = TaylorSeries.integrate(f(tm))                    #esto es la primitiva de f, al poner f(tm), recien esta diciendo quien va ser la función f para la cual voy hacer el polinomi de taylor i.e. para obtener la sumatoria que esta en la linea de arriba\n",
    "    return prim(I.hi - m) - prim(I.lo - m)                        #I.hi, I.lo parte superior e inferior do intervalo I respectivamente, como m é um intervalo, vai ficar o intevalo prim([I.hi-m1,I.hi-m2])-prim([I.lo-m1,I.lo-m2]) where denotamos m=[m1,m2]\n",
    "end"
   ]
  },
  {
   "attachments": {},
   "cell_type": "markdown",
   "metadata": {},
   "source": [
    "The vector `val` is containing at index $i$\n",
    "the value of the integral\n",
    "$$\n",
    "\\int_{i\\pi}^{(i+1)\\pi} \\frac{\\sin(t)}{t}dt\n",
    "$$"
   ]
  },
  {
   "cell_type": "code",
   "execution_count": 51,
   "metadata": {},
   "outputs": [
    {
     "data": {
      "text/plain": [
       "128-element Vector{Interval{BigFloat}}:\n",
       "  [1.85193, 1.85194]₂₅₆\n",
       " [-0.433786, -0.433785]₂₅₆\n",
       "  [0.25661, 0.256611]₂₅₆\n",
       " [-0.182601, -0.1826]₂₅₆\n",
       "  [0.141803, 0.141804]₂₅₆\n",
       " [-0.115931, -0.11593]₂₅₆\n",
       "  [0.0980515, 0.0980516]₂₅₆\n",
       " [-0.0849543, -0.0849542]₂₅₆\n",
       "  [0.0749456, 0.0749457]₂₅₆\n",
       " [-0.0670479, -0.0670478]₂₅₆\n",
       "   ⋮\n",
       " [-0.00532738, -0.00532737]₂₅₆\n",
       "  [0.00528316, 0.00528317]₂₅₆\n",
       " [-0.00523969, -0.00523968]₂₅₆\n",
       "  [0.00519691, 0.00519692]₂₅₆\n",
       " [-0.00515484, -0.00515483]₂₅₆\n",
       "  [0.00511342, 0.00511343]₂₅₆\n",
       " [-0.00507269, -0.00507268]₂₅₆\n",
       "  [0.00503258, 0.00503259]₂₅₆\n",
       " [-0.00499312, -0.00499311]₂₅₆"
      ]
     },
     "metadata": {},
     "output_type": "display_data"
    }
   ],
   "source": [
    "val = [integral_with_error; [integrate_i_i_plus_1(f, i) for i in 1:K-1]] #aqui junta I_0+el resultado de la integrales [π,2π],[2π,3π],...,[2000π,2001π], en un vector"
   ]
  },
  {
   "cell_type": "code",
   "execution_count": 52,
   "metadata": {},
   "outputs": [
    {
     "data": {
      "text/plain": [
       "1.609823385706476983614265918731689453125e-15"
      ]
     },
     "metadata": {},
     "output_type": "display_data"
    }
   ],
   "source": [
    "maximum(diam.(val))"
   ]
  },
  {
   "attachments": {},
   "cell_type": "markdown",
   "metadata": {},
   "source": [
    "The cumulative sum vector below contains at the $i$-th index the value of the integral\n",
    "$$\n",
    "\\int_0^{i\\pi}\\frac{\\sin(t)}{t}dt\n",
    "$$"
   ]
  },
  {
   "cell_type": "code",
   "execution_count": 53,
   "metadata": {},
   "outputs": [
    {
     "data": {
      "text/plain": [
       "128-element Vector{Interval{BigFloat}}:\n",
       " [1.85193, 1.85194]₂₅₆\n",
       " [1.41815, 1.41816]₂₅₆\n",
       " [1.67476, 1.67477]₂₅₆\n",
       " [1.49216, 1.49217]₂₅₆\n",
       " [1.63396, 1.63397]₂₅₆\n",
       " [1.51803, 1.51804]₂₅₆\n",
       " [1.61608, 1.61609]₂₅₆\n",
       " [1.53113, 1.53114]₂₅₆\n",
       " [1.60607, 1.60608]₂₅₆\n",
       " [1.53902, 1.53903]₂₅₆\n",
       "  ⋮\n",
       " [1.56814, 1.56815]₂₅₆\n",
       " [1.57342, 1.57343]₂₅₆\n",
       " [1.56818, 1.56819]₂₅₆\n",
       " [1.57338, 1.57339]₂₅₆\n",
       " [1.56822, 1.56823]₂₅₆\n",
       " [1.57334, 1.57335]₂₅₆\n",
       " [1.56827, 1.56828]₂₅₆\n",
       " [1.5733, 1.57331]₂₅₆\n",
       " [1.5683, 1.56831]₂₅₆"
      ]
     },
     "metadata": {},
     "output_type": "display_data"
    }
   ],
   "source": [
    "cum_sum = cumsum(val)               #cumsum en cada coornenada suma lo anterior y lo pone ahí ejemplo v=(v_1,v_2,v_3,v_4)=(v_1,v_1+v_2,v_1+v_2+v_3,v_1+v_2+v_3+v_4)"
   ]
  },
  {
   "attachments": {},
   "cell_type": "markdown",
   "metadata": {},
   "source": [
    "The vector `coeff` contains at the index $i$ the value of\n",
    "$$\n",
    "\\frac{1}{i\\pi}\\int_0^{i\\pi} \\frac{\\sin(t)}{t}dt.\n",
    "$$"
   ]
  },
  {
   "cell_type": "code",
   "execution_count": 54,
   "metadata": {},
   "outputs": [
    {
     "data": {
      "text/plain": [
       "128-element Vector{Interval{BigFloat}}:\n",
       " [0.589489, 0.58949]₂₅₆\n",
       " [0.225705, 0.225706]₂₅₆\n",
       " [0.177697, 0.177698]₂₅₆\n",
       " [0.118742, 0.118743]₂₅₆\n",
       " [0.104021, 0.104022]₂₅₆\n",
       " [0.0805342, 0.0805343]₂₅₆\n",
       " [0.0734879, 0.073488]₂₅₆\n",
       " [0.0609217, 0.0609218]₂₅₆\n",
       " [0.0568033, 0.0568034]₂₅₆\n",
       " [0.0489888, 0.0489889]₂₅₆\n",
       "  ⋮\n",
       " [0.00415963, 0.00415964]₂₅₆\n",
       " [0.00413915, 0.00413916]₂₅₆\n",
       " [0.00409155, 0.00409156]₂₅₆\n",
       " [0.00407173, 0.00407174]₂₅₆\n",
       " [0.00402566, 0.00402567]₂₅₆\n",
       " [0.00400648, 0.00400649]₂₅₆\n",
       " [0.00396187, 0.00396188]₂₅₆\n",
       " [0.00394328, 0.00394329]₂₅₆\n",
       " [0.00390006, 0.00390007]₂₅₆"
      ]
     },
     "metadata": {},
     "output_type": "display_data"
    }
   ],
   "source": [
    "coeff = cum_sum ./ ([i * @interval π for i in 1:K])         #aqui solo le esta dividiendo por iπ a cada integral"
   ]
  },
  {
   "attachments": {},
   "cell_type": "markdown",
   "metadata": {},
   "source": [
    "I want\n",
    "\\begin{align*}\n",
    "\\mathcal{F}(ln|T'_{\\alpha,\\beta}|)[0]&=\\ln ((1+\\beta)\\alpha)-(\\alpha-1)\\\\\n",
    "\\mathcal{F}(ln|T'_{\\alpha,\\beta}|)[j]&=-\\frac{(\\alpha-1)}{j\\pi}\\int_{0}^{1}\\frac{1}{x}sen(j\\pi x)dx\\\\\n",
    "&=-\\frac{(\\alpha-1)}{j\\pi}\\int _{0}^{j\\pi}\\frac{sen(x)}{x}dx.\n",
    "\\end{align*}\n",
    "then"
   ]
  },
  {
   "attachments": {},
   "cell_type": "markdown",
   "metadata": {},
   "source": [
    "These are only the positive frequencies, so, we need to \n",
    "think about how to complete the vectore before taking the IFFT. "
   ]
  },
  {
   "cell_type": "code",
   "execution_count": 63,
   "metadata": {},
   "outputs": [
    {
     "data": {
      "text/plain": [
       "256-element Vector{Interval{BigFloat}}:\n",
       " [0.589489, 0.58949]₂₅₆\n",
       " [0.225705, 0.225706]₂₅₆\n",
       " [0.177697, 0.177698]₂₅₆\n",
       " [0.118742, 0.118743]₂₅₆\n",
       " [0.104021, 0.104022]₂₅₆\n",
       " [0.0805342, 0.0805343]₂₅₆\n",
       " [0.0734879, 0.073488]₂₅₆\n",
       " [0.0609217, 0.0609218]₂₅₆\n",
       " [0.0568033, 0.0568034]₂₅₆\n",
       " [0.0489888, 0.0489889]₂₅₆\n",
       "  ⋮\n",
       " [0.0568033, 0.0568034]₂₅₆\n",
       " [0.0609217, 0.0609218]₂₅₆\n",
       " [0.0734879, 0.073488]₂₅₆\n",
       " [0.0805342, 0.0805343]₂₅₆\n",
       " [0.104021, 0.104022]₂₅₆\n",
       " [0.118742, 0.118743]₂₅₆\n",
       " [0.177697, 0.177698]₂₅₆\n",
       " [0.225705, 0.225706]₂₅₆\n",
       " [0.589489, 0.58949]₂₅₆"
      ]
     },
     "metadata": {},
     "output_type": "display_data"
    }
   ],
   "source": [
    "coeff_fft = [coeff; reverse(coeff[1:end])] #hallamos la mitad, ahora como es simetrico tamos escribiendo la otra mitad que falta ussando lo que ya tenemos"
   ]
  },
  {
   "cell_type": "markdown",
   "metadata": {},
   "source": [
    "We need now to take into account the constants $\\alpha$ and $\\beta$"
   ]
  },
  {
   "cell_type": "code",
   "execution_count": 65,
   "metadata": {},
   "outputs": [
    {
     "data": {
      "text/plain": [
       "257-element Vector{Interval{BigFloat}}:\n",
       " [-0.55409, -0.554089]₂₅₆\n",
       " [-1.47373, -1.47372]₂₅₆\n",
       " [-0.564265, -0.564264]₂₅₆\n",
       " [-0.444245, -0.444244]₂₅₆\n",
       " [-0.296857, -0.296856]₂₅₆\n",
       " [-0.260054, -0.260053]₂₅₆\n",
       " [-0.201336, -0.201335]₂₅₆\n",
       " [-0.18372, -0.183719]₂₅₆\n",
       " [-0.152305, -0.152304]₂₅₆\n",
       " [-0.142009, -0.142008]₂₅₆\n",
       "   ⋮\n",
       " [-0.142009, -0.142008]₂₅₆\n",
       " [-0.152305, -0.152304]₂₅₆\n",
       " [-0.18372, -0.183719]₂₅₆\n",
       " [-0.201336, -0.201335]₂₅₆\n",
       " [-0.260054, -0.260053]₂₅₆\n",
       " [-0.296857, -0.296856]₂₅₆\n",
       " [-0.444245, -0.444244]₂₅₆\n",
       " [-0.564265, -0.564264]₂₅₆\n",
       " [-1.47373, -1.47372]₂₅₆"
      ]
     },
     "metadata": {},
     "output_type": "display_data"
    }
   ],
   "source": [
    "ln = [log((1 + β) * α) - (α - 1); -(α - 1) * coeff_fft]  "
   ]
  },
  {
   "cell_type": "markdown",
   "metadata": {},
   "source": [
    "Since these were the coefficients computed on the Fourier basis of $[-1,1]$ we need to convert them to the coefficients in the Fourier Basis of $[0,1]$,\n",
    "i.e., we need to apply the coordinate change."
   ]
  },
  {
   "cell_type": "code",
   "execution_count": 66,
   "metadata": {},
   "outputs": [
    {
     "data": {
      "text/plain": [
       "10-element Vector{BigFloat}:\n",
       " -0.55408985094468665710820687309023924171924591064453125\n",
       "  1.473724680590209041076980177390027844590372816605206698704616123222914587525631\n",
       " -0.5642645834876753803095431564153812880035676273970467547636290280855152214809341\n",
       "  0.4442443646818932980782779723433063681265083207188845384076830624784711068336347\n",
       " -0.2968560436772844154464813963893048737572071371519050564943305027176029545611116\n",
       "  0.2600535820956542355377282868106769370347884112833443901264715771484290576347021\n",
       " -0.2013355072907279590344548253986138016388467181729300645925040762422166938702733\n",
       "  0.1837199989726090084462220225816129193471935374666277468325879372574944467414919\n",
       " -0.1523044453305687348361016999866777010047705607866674933993147861658668704588732\n",
       "  0.1420083757324992802798566818260271725339171018589546009829085463509149607806938"
      ]
     },
     "metadata": {},
     "output_type": "display_data"
    }
   ],
   "source": [
    "lnn = zeros(Interval, 257) #2*K+1\n",
    "lnn[1] = ln[1]\n",
    "for i in 2:129\n",
    "    lnn[i] = (-1)^(i + 1) * ln[i]\n",
    "end\n",
    "for i in 130:257\n",
    "    lnn[i] = (-1)^(i) * ln[i]\n",
    "end\n",
    "IntervalArithmetic.mid.(lnn[1:10])"
   ]
  },
  {
   "attachments": {},
   "cell_type": "markdown",
   "metadata": {},
   "source": [
    "\\begin{align*}\n",
    "ln=(\\mathcal{F}(\\ln|T'_{\\alpha,\\beta}|)[0],\\mathcal{F}(\\ln|T'_{\\alpha,\\beta}|)[1],\\ldots,\\mathcal{F}(\\ln|T'_{\\alpha,\\beta}|)[K],\\mathcal{F}(\\ln|T'_{\\alpha,\\beta}|)[-K],\\ldots,\\mathcal{F}(\\ln|T'_{\\alpha,\\beta}|)[-1])\n",
    "\\end{align*}"
   ]
  },
  {
   "attachments": {},
   "cell_type": "markdown",
   "metadata": {},
   "source": [
    "Finally\n",
    "\\begin{align*}\n",
    "\\lambda (\\alpha,\\beta,\\sigma,k)=\\displaystyle \\sum_{j=-k}^{k}\\mathcal{F}(\\ln|T'_{\\alpha,\\beta}|)[j]\\mathcal{F}(f_{\\sigma,k})[j].\n",
    "\\end{align*}\n"
   ]
  },
  {
   "cell_type": "code",
   "execution_count": 68,
   "metadata": {},
   "outputs": [
    {
     "data": {
      "text/plain": [
       "[0.196215, 0.196216]₂₅₆ + [-1.35729e-16, 1.35729e-16]₂₅₆im"
      ]
     },
     "metadata": {},
     "output_type": "display_data"
    }
   ],
   "source": [
    "λ_k = 0 + im * 0\n",
    "for i in 1:2*K+1\n",
    "    λ_k = lnn[i] * fσKs[i] + λ_k\n",
    "end\n",
    "λ_k  "
   ]
  },
  {
   "attachments": {},
   "cell_type": "markdown",
   "metadata": {},
   "source": [
    "Now to limit $\\|f_{\\sigma}-f_{\\sigma,k,s}\\|$ we use the following result\n",
    "\n",
    "Let $f_{\\sigma}$ be the unique fixed point of $L_{\\sigma}$ and $f_{\\sigma,k}$ be the unique fixed point of $L_{\\sigma,k}$ and $f_{\\sigma,k,s}$ symmetrization of $f_{k,s}$. Suppose that there exists $n \\in \\mathbb{N}$ and $\\eta>0$ such that \n",
    "\\begin{align*}\n",
    "\\|L_{\\sigma,k }^{n}|_{V}\\|_{L^{2}\\rightarrow L^{2}}\\leq \\eta <1,\t\n",
    "\\end{align*}\n",
    "where $V$ be the zero average subspace of $L^{2}$, then if $1\\leq C_i $ are such that $\\|L^i_{\\sigma,k}|_V\\|_{L^{2}\\rightarrow L^{2}}\\leq C_i$ for $1\\leq i \\leq n-1$, we have\n",
    "\\begin{align*}\n",
    "\\|f_{\\sigma}-f_{\\sigma,k,s}\\|_{L^{2}}\\leq \\frac{1}{1-\\eta}\\displaystyle \\sum _{i=0}^{n-1}C_i((1+\\Gamma_{\\sigma,k}+\\|\\rho_{\\sigma}\\|_{L^{2}})\\Gamma_{\\sigma,k}\\|f_{\\sigma}\\|_{L^1}+\\epsilon).\n",
    "\\end{align*}"
   ]
  },
  {
   "cell_type": "markdown",
   "metadata": {},
   "source": [
    "Remark that $\\epsilon$ is the residual with respect to the approximation of the fixed point."
   ]
  },
  {
   "cell_type": "code",
   "execution_count": 70,
   "metadata": {},
   "outputs": [
    {
     "data": {
      "text/plain": [
       "[0, 1.97627e-323]"
      ]
     },
     "metadata": {},
     "output_type": "display_data"
    }
   ],
   "source": [
    "σ = interval(σ)\n",
    "Γ = ((1 / (sqrt(σ^2 * 2 * interval(π))))exp((-σ^2 * K^2 * interval(π)^2) / 2))   #para σ=0,1 e K=128, Γ=3.03*10^(-702)"
   ]
  },
  {
   "cell_type": "markdown",
   "metadata": {},
   "source": [
    "We apply now the Theorem, by computing bounds for the norm of the operator restricted to the space of average $0$ measures."
   ]
  },
  {
   "cell_type": "code",
   "execution_count": 72,
   "metadata": {},
   "outputs": [
    {
     "data": {
      "text/plain": [
       "(0.9192775043174132, [1.1899603133946075, 0.0, 0.0, 0.0, 0.0, 0.0, 0.0, 0.0, 0.0, 0.0])"
      ]
     },
     "metadata": {},
     "output_type": "display_data"
    }
   ],
   "source": [
    "A = PσK[2:end, 2:end]\n",
    "\n",
    "Aiter = A\n",
    "\n",
    "C = zeros(10)\n",
    "η = 0\n",
    "n_0 = 0\n",
    "for n in 1:10\n",
    "    θ = BallArithmetic.svd_bound_L2_opnorm(Aiter)\n",
    "    if θ > 1\n",
    "        C[n] = θ\n",
    "    else\n",
    "        global η = θ\n",
    "        global n_1 = n                                    #usso n_1 porque mas adelante usso n_0\n",
    "        break                                           #para que pare y no siga corriendo n, sino el η me va salir más chico\n",
    "    end\n",
    "    Aiter *= A \n",
    "end\n",
    "η, C"
   ]
  },
  {
   "cell_type": "code",
   "execution_count": 73,
   "metadata": {},
   "outputs": [
    {
     "data": {
      "text/plain": [
       "[1.99735, 1.99736]"
      ]
     },
     "metadata": {},
     "output_type": "display_data"
    }
   ],
   "source": [
    "ρ1 = 1 / (sqrt(σ^2 * 2 * interval(π)))\n",
    "ρn = sqrt(ρ1)\n"
   ]
  },
  {
   "cell_type": "code",
   "execution_count": 74,
   "metadata": {},
   "outputs": [
    {
     "data": {
      "text/plain": [
       "[5.86769e-12, 5.8677e-12]"
      ]
     },
     "metadata": {},
     "output_type": "display_data"
    }
   ],
   "source": [
    "#ya tenho ϵ, os C_i, η,h, n_1 é dizer ate onde vai asumatoria, |u|=1, e usei PK o operador de tranferencia finito, pero creo que tiene que ser el operador de transferencia infinito, só me falta K\n",
    "R_1 = 0                                             #ja tenho todos os valos que preciso ahora só resta fazer a sumatoria\n",
    "for i in 1:n_1-1\n",
    "    global R_1 = R_1 + C[i] * ((1 + Γ + ρn)Γ + ϵ)\n",
    "end\n",
    "R_1 = (1 / (1 - η)) * R_1"
   ]
  },
  {
   "cell_type": "code",
   "execution_count": 75,
   "metadata": {},
   "outputs": [
    {
     "data": {
      "text/plain": [
       "[0.196215, 0.196216]₂₅₆ + [-2.09018e-11, 2.09018e-11]₂₅₆im"
      ]
     },
     "metadata": {},
     "output_type": "display_data"
    }
   ],
   "source": [
    "#el intervalo donde estaria λ seria\n",
    "@biginterval(real.(λ_k) - Υ * R_1, real.(λ_k) + Υ * R_1) + im * @biginterval(imag.(λ_k) - Υ * R_1, imag.(λ_k) + Υ * R_1)"
   ]
  },
  {
   "cell_type": "markdown",
   "metadata": {},
   "source": [
    "We can observe that the integral must be a real number, so, we can restrict the enclosure to the real line"
   ]
  },
  {
   "cell_type": "code",
   "execution_count": 76,
   "metadata": {},
   "outputs": [
    {
     "data": {
      "text/plain": [
       "[0.196215, 0.196216]₂₅₆"
      ]
     },
     "metadata": {},
     "output_type": "display_data"
    }
   ],
   "source": [
    "@biginterval(real.(λ_k) - Υ * R_1, real.(λ_k) + Υ * R_1)"
   ]
  }
 ],
 "metadata": {
  "kernelspec": {
   "display_name": "Julia 1.11.1",
   "language": "julia",
   "name": "julia-1.11"
  },
  "language_info": {
   "file_extension": ".jl",
   "mimetype": "application/julia",
   "name": "julia",
   "version": "1.11.1"
  },
  "orig_nbformat": 4,
  "vscode": {
   "interpreter": {
    "hash": "916dbcbb3f70747c44a77c7bcd40155683ae19c65e1c03b4aa3499c5328201f1"
   }
  }
 },
 "nbformat": 4,
 "nbformat_minor": 2
}
