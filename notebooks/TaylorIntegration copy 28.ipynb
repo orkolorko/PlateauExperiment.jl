{
 "cells": [
  {
   "attachments": {},
   "cell_type": "markdown",
   "metadata": {},
   "source": [
    "We will work with the following family of functions\n",
    "\\begin{align}\n",
    "T_{\\alpha,\\beta}(x)=T(x,\\alpha,\\beta)&=\\beta - (1+\\beta)|x|^{\\alpha},\n",
    "\\end{align}\n",
    "where $\\alpha\\geq 1$, $\\beta\\in (-1,1]$ and $x\\in [-1,1]$.\n",
    "We will study the random dynamical system the family with Gaussian additive noise with variance $\\sigma$ i.e\n",
    "\\begin{align*}\n",
    "    X_{n+1}=\\tau(T_{\\alpha,\\beta}(X_n)+\\Omega_{\\sigma}(n))\n",
    "\\end{align*}\n",
    "where $\\Omega_{\\sigma}(n)$ are random variables i.i.d with Gaussian distribution and $\\tau:\\mathbb{R}\\rightarrow [-1,1]$ boundary condition map $\\tau(x)=\\lfloor x \\rfloor-1$, is the representative in $[0.2)$ of $x$ with repect to $x \\sim y$ if $x-y=2k$, $k\\in \\mathbb{Z}$.\n",
    "We want computing rigorously the Lyapunov exponent for these random dynamical systems\n",
    "\\begin{align*}\n",
    "\t\\lambda(\\alpha,\\beta,\\sigma)=\\int _{-1}^{1}\\ln |T'_{\\alpha,\\beta}|f_{\\sigma}dm,\n",
    "\\end{align*}\n",
    "where $T'_{\\alpha,\\beta}(x)=-\\alpha (1+\\beta)|x|^{\\alpha-2}x$."
   ]
  },
  {
   "cell_type": "code",
   "execution_count": 1,
   "metadata": {},
   "outputs": [
    {
     "name": "stderr",
     "output_type": "stream",
     "text": [
      "\u001b[32m\u001b[1m  Activating\u001b[22m\u001b[39m project at `c:\\D\\Universidad Estudios\\Doutorado UFRJ\\Tesis\\Visual Studio Code\\2024\\InvariantMeasures2.jl\\src`\n",
      "\u001b[32m\u001b[1m   Resolving\u001b[22m\u001b[39m package versions...\n",
      "\u001b[32m\u001b[1m  No Changes\u001b[22m\u001b[39m to `C:\\D\\Universidad Estudios\\Doutorado UFRJ\\Tesis\\Visual Studio Code\\2024\\InvariantMeasures2.jl\\src\\Project.toml`\n",
      "\u001b[32m\u001b[1m  No Changes\u001b[22m\u001b[39m to `C:\\D\\Universidad Estudios\\Doutorado UFRJ\\Tesis\\Visual Studio Code\\2024\\InvariantMeasures2.jl\\src\\Manifest.toml`\n"
     ]
    }
   ],
   "source": [
    "import Pkg;\n",
    "Pkg.activate(\".\");\n",
    "#Pkg.add(\"Symbolics\")\n",
    "#Pkg.add(\"RigorousInvariantMeasures\")\n",
    "#Pkg.add(\"BallArithmetic\")\n",
    "#Pkg.add(\"IntervalArithmetic\")\n",
    "Pkg.add(\"Plots\")\n"
   ]
  },
  {
   "cell_type": "code",
   "execution_count": 2,
   "metadata": {},
   "outputs": [
    {
     "name": "stderr",
     "output_type": "stream",
     "text": [
      "\u001b[32m\u001b[1m    Updating\u001b[22m\u001b[39m registry at `C:\\Users\\charl\\.julia\\registries\\General.toml`\n",
      "\u001b[32m\u001b[1m  No Changes\u001b[22m\u001b[39m to `C:\\D\\Universidad Estudios\\Doutorado UFRJ\\Tesis\\Visual Studio Code\\2024\\InvariantMeasures2.jl\\src\\Project.toml`\n",
      "\u001b[32m\u001b[1m  No Changes\u001b[22m\u001b[39m to `C:\\D\\Universidad Estudios\\Doutorado UFRJ\\Tesis\\Visual Studio Code\\2024\\InvariantMeasures2.jl\\src\\Manifest.toml`\n"
     ]
    }
   ],
   "source": [
    "Pkg.update()"
   ]
  },
  {
   "cell_type": "code",
   "execution_count": 3,
   "metadata": {},
   "outputs": [
    {
     "name": "stderr",
     "output_type": "stream",
     "text": [
      "┌ Info: Switching to OpenBLAS with ConsistentFPCSR = 1 flag enabled, guarantees\n",
      "│         correct floating point rounding mode over all threads.\n",
      "└ @ BallArithmetic C:\\Users\\charl\\.julia\\packages\\BallArithmetic\\aiclr\\src\\BallArithmetic.jl:20\n",
      "┌ Info: OpenBLAS is giving correct rounding on a (1024,1024) test matrix on 4 threads\n",
      "└ @ BallArithmetic C:\\Users\\charl\\.julia\\packages\\BallArithmetic\\aiclr\\src\\BallArithmetic.jl:27\n",
      "┌ Warning: This basis breaks the usual interface of the package, i.e., \n",
      "│     the dynamic is input as a function instead than a PwMap\n",
      "└ @ RigorousInvariantMeasures C:\\Users\\charl\\.julia\\packages\\RigorousInvariantMeasures\\0z5dS\\src\\Basis\\Fourier\\FourierAdjoint.jl:21\n"
     ]
    },
    {
     "name": "stdout",
     "output_type": "stream",
     "text": [
      "Generating forwards to C:\\Users\\charl\\.julia\\artifacts\\0c078564d4210d6385e014f8d3adf9285c4901af\\bin\\libopenblas64_.dll (clear: 0, verbose: 1, suffix_hint: '(null)')\n",
      " -> Autodetected symbol suffix \"64_\"\n",
      " -> Autodetected interface ILP64 (64-bit)\n",
      " -> Autodetected argument-passing complex return style\n",
      " -> Autodetected gfortran calling convention\n",
      " -> CBLAS detected\n",
      " - [2732] complex(cdotc_64_)\n",
      " - [2733] complex(cdotu_64_)\n",
      " - [4439] complex(zdotc_64_)\n",
      " - [4440] complex(zdotu_64_)\n",
      "Processed 4949 symbols; forwarded 4860 symbols with 64-bit interface and mangling to a suffix of \"64_\"\n"
     ]
    },
    {
     "data": {
      "text/plain": [
       "T (generic function with 1 method)"
      ]
     },
     "metadata": {},
     "output_type": "display_data"
    }
   ],
   "source": [
    "using RigorousInvariantMeasures, IntervalArithmetic, BallArithmetic\n",
    "α = 3.5\n",
    "β = 1\n",
    "K = 128\n",
    "FFTNx = 1024\n",
    "B = FourierAdjoint(K, FFTNx)                           #builds a Fourier basis truncating at frecuence K (obs aqui faz a transformada no intervalo [0,1]) (i.e. usando fft hallar hallar una base de 2*K+1 elementos, esta base usará para combertir el operador de tranferencia en una matriz)\n",
    "\n",
    "function T_alpha_beta_zeroone(α, β, x)                #definido en el intervalo  [-1,1]\n",
    "    return β - (1 + β) * abs(x)^α\n",
    "end\n",
    "\n",
    "function τ_1(x)       # de [-1,1] a [0,1]\n",
    "    return (x + 1) / 2\n",
    "end\n",
    "\n",
    "function τ_2(x)       # de [0,1] a [-1,1]\n",
    "    return 2 * x - 1\n",
    "end\n",
    "\n",
    "T_zeroone(x) = T_alpha_beta_zeroone(α, β, x)   #aqui define a função dependendo só de x, pois ja deu valores para α,β\n",
    "T(x) = τ_1(T_zeroone(τ_2(x)))             #el programa toma un intervalo [0,1] y lo parte, pero yo quiero mi dinamica en [-1,1] por so tomo τ_2 primero para que me convierte [0,1] para [-1,1] de ahi mi aplicación hacer lo que tiene que hacer y luego lo vueldo al intervalo [0,1] con τ_1"
   ]
  },
  {
   "attachments": {},
   "cell_type": "markdown",
   "metadata": {},
   "source": [
    "We will use the following approximation to find the value of the lyaponov exponent $λ(\\alpha,\\beta,σ)$.\n",
    "Let $\\alpha$ and $\\beta$ be fixed, then\n",
    "\\begin{align*}\n",
    "\t|\\lambda(\\alpha,\\beta,\\sigma)-\\lambda(\\alpha,\\beta,\\sigma,k,s)|\\leq \\Upsilon \\|f_{\\sigma}-f_{\\sigma,k,s}\\|_{L^2}.\n",
    "\\end{align*}\n",
    "where $f_{\\sigma,k,s}$ is the symmetric fixed point and $\\Upsilon = \\sqrt{2}((\\ln((1+\\beta)\\alpha)-(\\alpha-1))^2+(\\alpha-1)^2)^{\\frac{1}{2}}$."
   ]
  },
  {
   "cell_type": "code",
   "execution_count": 4,
   "metadata": {},
   "outputs": [
    {
     "data": {
      "text/plain": [
       "3.5621530141511433"
      ]
     },
     "metadata": {},
     "output_type": "display_data"
    }
   ],
   "source": [
    "Υ = sqrt(2) * ((log2((β + 1) * α) - (α - 1))^2 + (α - 1)^2)^(1 / 2)"
   ]
  },
  {
   "cell_type": "markdown",
   "metadata": {},
   "source": [
    "To calculate $\\lambda(\\alpha,\\beta,\\sigma,k,s)$ we need $f_{\\sigma,k,s}$ and therefore $f_{\\sigma,k}$."
   ]
  },
  {
   "cell_type": "code",
   "execution_count": 5,
   "metadata": {},
   "outputs": [
    {
     "data": {
      "text/plain": [
       "257×257 BallMatrix{Float64, Float64, Ball{Float64, Float64}, Diagonal{Float64, Vector{Float64}}, Diagonal{Float64, Vector{Float64}}}:\n",
       " 1.0 ± 0.0  …              0.0 ± 0.0\n",
       " 0.0 ± 0.0                 0.0 ± 0.0\n",
       " 0.0 ± 0.0                 0.0 ± 0.0\n",
       " 0.0 ± 0.0                 0.0 ± 0.0\n",
       " 0.0 ± 0.0                 0.0 ± 0.0\n",
       " 0.0 ± 0.0  …              0.0 ± 0.0\n",
       " 0.0 ± 0.0                 0.0 ± 0.0\n",
       " 0.0 ± 0.0                 0.0 ± 0.0\n",
       " 0.0 ± 0.0                 0.0 ± 0.0\n",
       " 0.0 ± 0.0                 0.0 ± 0.0\n",
       "                                ⋮  ⋱  \n",
       " 0.0 ± 0.0                 0.0 ± 0.0\n",
       " 0.0 ± 0.0                 0.0 ± 0.0\n",
       " 0.0 ± 0.0  …              0.0 ± 0.0\n",
       " 0.0 ± 0.0                 0.0 ± 0.0\n",
       " 0.0 ± 0.0                 0.0 ± 0.0\n",
       " 0.0 ± 0.0                 0.0 ± 0.0\n",
       " 0.0 ± 0.0                 0.0 ± 0.0\n",
       " 0.0 ± 0.0  …              0.0 ± 0.0\n",
       " 0.0 ± 0.0     0.95185 ± 1.11022e-16"
      ]
     },
     "metadata": {},
     "output_type": "display_data"
    }
   ],
   "source": [
    "using LinearAlgebra\n",
    "# D é a matri que vai multiplicar a matriz do operador de tranferencia P para obter a matriz do operador de tranferecia com ruido (obs que D ja está trucanda)\n",
    "\n",
    "σ = 0.1\n",
    "D = Diagonal([[exp((-σ^2 * π^2 * interval(k)^2) / 2) for k in 0:K]; [exp((-σ^2 * π^2 * interval(k)^2) / 2) for k in -K:-1]])\n",
    "Dc, Dr = IntervalArithmetic.mid.(D), IntervalArithmetic.radius.(D)\n",
    "bD = BallMatrix(Dc, Dr)"
   ]
  },
  {
   "cell_type": "markdown",
   "metadata": {},
   "source": [
    "$P\\sigma K$ is the finite transfer matrix"
   ]
  },
  {
   "cell_type": "code",
   "execution_count": 6,
   "metadata": {},
   "outputs": [
    {
     "name": "stderr",
     "output_type": "stream",
     "text": [
      "┌ Info: 257\n",
      "└ @ RigorousInvariantMeasures C:\\Users\\charl\\.julia\\packages\\RigorousInvariantMeasures\\0z5dS\\src\\Basis\\Fourier\\FourierCommon.jl:74\n",
      "┌ Info: 128\n",
      "└ @ RigorousInvariantMeasures C:\\Users\\charl\\.julia\\packages\\RigorousInvariantMeasures\\0z5dS\\src\\Basis\\Fourier\\FourierCommon.jl:78\n",
      "\u001b[32mProgress: 100%|█████████████████████████████████████████| Time: 0:00:04\u001b[39m\u001b[K\n"
     ]
    },
    {
     "data": {
      "text/plain": [
       "257×257 adjoint(::Matrix{Complex{Interval{Float64}}}) with eltype Complex{Interval{Float64}}:\n",
       "             [0.999999, 1.00001] + [-1.47812e-14, 1.47812e-14]im  …         [-1.47812e-14, 1.47812e-14] + [-1.47812e-14, 1.47812e-14]im\n",
       "               [0.474773, 0.474774] + [0.186617, 0.186618]im         [-0.375593, -0.375592] + [-0.0188692, -0.0188691]im\n",
       "               [0.392084, 0.392085] + [0.166867, 0.166868]im         [-0.340098, -0.340097] + [-0.0599438, -0.0599437]im\n",
       "               [0.349747, 0.349748] + [0.153616, 0.153617]im          [-0.31428, -0.314279] + [-0.0732259, -0.0732258]im\n",
       "               [0.322351, 0.322352] + [0.144072, 0.144073]im          [-0.295305, -0.295304] + [-0.078874, -0.0788739]im\n",
       "               [0.302536, 0.302537] + [0.136744, 0.136745]im      …  [-0.280603, -0.280602] + [-0.0815037, -0.0815036]im\n",
       "               [0.287232, 0.287233] + [0.130862, 0.130863]im          [-0.26874, -0.268739] + [-0.0827021, -0.082702]im\n",
       "               [0.274888, 0.274889] + [0.125986, 0.125987]im         [-0.258872, -0.258871] + [-0.0831447, -0.0831446]im\n",
       "               [0.264618, 0.264619] + [0.121847, 0.121848]im         [-0.250473, -0.250472] + [-0.0831604, -0.0831603]im\n",
       "               [0.255876, 0.255877] + [0.118266, 0.118267]im         [-0.243194, -0.243193] + [-0.0829243, -0.0829242]im\n",
       "                                    ⋮                             ⋱  \n",
       " [0.255876, 0.255877] + [-0.118267, -0.118266]im                                    [-0.243194, -0.243193] + [0.0829242, 0.0829243]im\n",
       " [0.264618, 0.264619] + [-0.121848, -0.121847]im                                    [-0.250473, -0.250472] + [0.0831603, 0.0831604]im\n",
       " [0.274888, 0.274889] + [-0.125987, -0.125986]im                  …                 [-0.258872, -0.258871] + [0.0831446, 0.0831447]im\n",
       " [0.287232, 0.287233] + [-0.130863, -0.130862]im                                     [-0.26874, -0.268739] + [0.082702, 0.0827021]im\n",
       " [0.302536, 0.302537] + [-0.136745, -0.136744]im                                    [-0.280603, -0.280602] + [0.0815036, 0.0815037]im\n",
       " [0.322351, 0.322352] + [-0.144073, -0.144072]im                                    [-0.295305, -0.295304] + [0.0788739, 0.078874]im\n",
       " [0.349747, 0.349748] + [-0.153617, -0.153616]im                                     [-0.31428, -0.314279] + [0.0732258, 0.0732259]im\n",
       " [0.392084, 0.392085] + [-0.166868, -0.166867]im                  …                 [-0.340098, -0.340097] + [0.0599437, 0.0599438]im\n",
       " [0.474773, 0.474774] + [-0.186618, -0.186617]im                                    [-0.375593, -0.375592] + [0.0188691, 0.0188692]im"
      ]
     },
     "metadata": {},
     "output_type": "display_data"
    }
   ],
   "source": [
    "PK = assemble(B, T)        #aqui esta calculando el operador de transferencia finito de T, note que usa a matriz B que é a que converte o operador numa matriz na base de fourier                   #matriz de tranferencia com ruido y es finito, está en la base de Fourier"
   ]
  },
  {
   "cell_type": "code",
   "execution_count": 7,
   "metadata": {},
   "outputs": [
    {
     "data": {
      "text/plain": [
       "257×257 Matrix{Ball{Float64, ComplexF64}}:\n",
       "           1.0+0.0im ± 2.09716e-14  …              0.0+0.0im ± 2.09038e-14\n",
       " 0.474773+0.186618im ± 2.20598e-14     -0.375593-0.0188691im ± 2.20426e-14\n",
       " 0.392084+0.166868im ± 2.30804e-14     -0.340098-0.0599438im ± 2.30755e-14\n",
       " 0.349748+0.153617im ± 2.45719e-14     -0.314279-0.0732258im ± 2.45621e-14\n",
       "    0.322352+0.144072im ± 2.52e-14     -0.295304-0.0788739im ± 2.51902e-14\n",
       " 0.302537+0.136745im ± 2.57299e-14  …  -0.280603-0.0815036im ± 2.57201e-14\n",
       " 0.287233+0.130862im ± 2.81047e-14       -0.26874-0.082702im ± 2.81047e-14\n",
       " 0.274888+0.125987im ± 2.88701e-14     -0.258872-0.0831447im ± 2.88701e-14\n",
       " 0.264619+0.121847im ± 2.93607e-14     -0.250472-0.0831604im ± 2.93607e-14\n",
       " 0.255876+0.118267im ± 2.98906e-14      -0.243193-0.0829243im ± 2.9871e-14\n",
       "                                                           ⋮  ⋱  \n",
       " 0.255876-0.118267im ± 2.98906e-14      -0.243193+0.0829243im ± 2.9871e-14\n",
       " 0.264619-0.121847im ± 2.93607e-14     -0.250472+0.0831604im ± 2.93607e-14\n",
       " 0.274888-0.125987im ± 2.88701e-14  …  -0.258872+0.0831447im ± 2.88701e-14\n",
       " 0.287233-0.130862im ± 2.81047e-14       -0.26874+0.082702im ± 2.81047e-14\n",
       " 0.302537-0.136745im ± 2.57299e-14     -0.280603+0.0815036im ± 2.57201e-14\n",
       "    0.322352-0.144072im ± 2.52e-14     -0.295304+0.0788739im ± 2.51902e-14\n",
       " 0.349748-0.153617im ± 2.45719e-14     -0.314279+0.0732258im ± 2.45621e-14\n",
       " 0.392084-0.166868im ± 2.30804e-14  …  -0.340098+0.0599438im ± 2.30755e-14\n",
       " 0.474773-0.186618im ± 2.20598e-14     -0.375593+0.0188691im ± 2.20426e-14"
      ]
     },
     "metadata": {},
     "output_type": "display_data"
    }
   ],
   "source": [
    "center = IntervalArithmetic.mid.(real.(PK)) + im * IntervalArithmetic.mid.(imag.(PK))\n",
    "radius = sqrt.(IntervalArithmetic.radius.(real.(PK)) .^ 2 + IntervalArithmetic.radius.(imag.(PK)) .^ 2)\n",
    "\n",
    "bPK = BallMatrix(center, radius)"
   ]
  },
  {
   "cell_type": "code",
   "execution_count": 8,
   "metadata": {},
   "outputs": [
    {
     "data": {
      "text/plain": [
       "257×257 Matrix{Ball{Float64, ComplexF64}}:\n",
       "               1.0+0.0im ± 7.84812e-14  …                 0.0+0.0im ± 2.09038e-14\n",
       "     0.451913+0.177632im ± 4.89792e-14        -0.357508-0.0179606im ± 4.16091e-14\n",
       "      0.32185+0.136976im ± 3.91092e-14          -0.279175-0.049206im ± 3.5283e-14\n",
       "    0.224321+0.0985269im ± 2.98925e-14        -0.201573-0.0469656im ± 2.76924e-14\n",
       "     0.146361+0.0654147im ± 2.0681e-14          -0.13408-0.035812im ± 1.94355e-14\n",
       "   0.0881025+0.0398218im ± 1.30716e-14  …    -0.0817152-0.0237349im ± 1.23999e-14\n",
       "   0.0486068+0.0221451im ± 7.83656e-15       -0.0454773-0.0139952im ± 7.50023e-15\n",
       "   0.0244911+0.0112248im ± 4.12993e-15      -0.0230642-0.00740777im ± 3.97287e-15\n",
       "  0.0112461+0.00517839im ± 1.96185e-15      -0.0106448-0.00353424im ± 1.89467e-15\n",
       " 0.00469973+0.00217223im ± 8.48716e-16     -0.00446677-0.00152309im ± 8.21834e-16\n",
       "                                                               ⋮  ⋱  \n",
       " 0.00469973-0.00217223im ± 8.48716e-16     -0.00446677+0.00152309im ± 8.21834e-16\n",
       "  0.0112461-0.00517839im ± 1.96185e-15      -0.0106448+0.00353424im ± 1.89467e-15\n",
       "   0.0244911-0.0112248im ± 4.12993e-15  …   -0.0230642+0.00740777im ± 3.97287e-15\n",
       "   0.0486068-0.0221451im ± 7.83656e-15       -0.0454773+0.0139952im ± 7.50023e-15\n",
       "   0.0881025-0.0398218im ± 1.30716e-14       -0.0817152+0.0237349im ± 1.23999e-14\n",
       "     0.146361-0.0654147im ± 2.0681e-14          -0.13408+0.035812im ± 1.94355e-14\n",
       "    0.224321-0.0985269im ± 2.98925e-14        -0.201573+0.0469656im ± 2.76924e-14\n",
       "      0.32185-0.136976im ± 3.91092e-14  …       -0.279175+0.049206im ± 3.5283e-14\n",
       "     0.451913-0.177632im ± 4.89792e-14        -0.357508+0.0179606im ± 4.16091e-14"
      ]
     },
     "metadata": {},
     "output_type": "display_data"
    }
   ],
   "source": [
    "PσK = bD * bPK"
   ]
  },
  {
   "cell_type": "markdown",
   "metadata": {},
   "source": [
    "To calculate the fixed point of the complex matrix of intervals $P\\sigma K$, we will define the complex matrix A as follows\n",
    "$$(A)_{ij}=mid(real(P_{ij}))+mid(im(P_{ij}))$$\n",
    "where $mid$ takes the mid point of the interval. Now we are going to calculate the fixed point of the matrix A."
   ]
  },
  {
   "cell_type": "code",
   "execution_count": 9,
   "metadata": {},
   "outputs": [
    {
     "data": {
      "text/plain": [
       "Eigen{ComplexF64, ComplexF64, Matrix{ComplexF64}, Vector{ComplexF64}}\n",
       "values:\n",
       "257-element Vector{ComplexF64}:\n",
       "     -0.4900231549726225 + 8.326672684688674e-17im\n",
       "    -0.02402858317991282 - 0.14996656065810005im\n",
       "   -0.024028583179910416 + 0.14996656065810154im\n",
       "   -0.000761676865358095 + 8.51695890459111e-12im\n",
       "  -5.2749393860684646e-5 - 8.832489874756321e-11im\n",
       "  -1.7735377836480526e-6 + 3.4465294470351207e-9im\n",
       "   -5.667927747685051e-8 + 1.6229019765952686e-7im\n",
       "   -4.207868657866522e-8 - 1.5945261186513397e-7im\n",
       "   -6.766522752435406e-9 + 2.0575951172047054e-10im\n",
       " -3.8938768088640203e-10 - 6.603587979647713e-11im\n",
       "                         ⋮\n",
       "  2.1784674215321801e-10 - 7.286478180283278e-10im\n",
       "   4.6304790245366975e-7 - 6.70350362353933e-8im\n",
       "    6.015544956206408e-7 + 6.069990012261582e-8im\n",
       "   2.7585769581627734e-5 + 1.863179574945769e-11im\n",
       "  0.00044984875102503424 + 2.781066828790387e-12im\n",
       "   0.0005242102857195528 - 0.00838080586207527im\n",
       "   0.0005242102858962801 + 0.00838080586254848im\n",
       "     0.01010293483544186 + 1.1067362304384432e-13im\n",
       "                     1.0 + 0.0im\n",
       "vectors:\n",
       "257×257 Matrix{ComplexF64}:\n",
       "         0.0+0.0im         …    0.862162+0.0im\n",
       "   -0.159681+0.542837im         0.259411+0.000287363im\n",
       "  -0.0017452+0.325432im         0.174787+0.0509537im\n",
       "  0.00513528+0.215068im         0.122907+0.0413455im\n",
       "  0.00674515+0.136196im         0.080324+0.0293197im\n",
       "  0.00543371+0.0804888im   …   0.0483626+0.0185373im\n",
       "  0.00354405+0.0438388im       0.0266803+0.0105686im\n",
       "  0.00199581+0.0218772im       0.0134412+0.00545314im\n",
       " 0.000993121+0.00997038im     0.00617095+0.0025498im\n",
       " 0.000441255+0.0041413im      0.00257838+0.00108097im\n",
       "            ⋮              ⋱  \n",
       "  0.00384845+0.00159201im     0.00257838-0.00108097im\n",
       "  0.00928487+0.00376644im     0.00617095-0.0025498im\n",
       "   0.0204248+0.00808853im  …   0.0134412-0.00545314im\n",
       "   0.0410568+0.0157715im       0.0266803-0.0105686im\n",
       "   0.0756839+0.0279271im       0.0483626-0.0185373im\n",
       "    0.128757+0.0449061im        0.080324-0.0293197im\n",
       "    0.204878+0.0656197im        0.122907-0.0413455im\n",
       "    0.312697+0.0901638im   …    0.174787-0.0509537im\n",
       "    0.565836+0.0im              0.259411-0.000287363im"
      ]
     },
     "metadata": {},
     "output_type": "display_data"
    }
   ],
   "source": [
    "using LinearAlgebra\n",
    "#A=zeros(2*K+1,2*K+1)+im*zeros(2*K+1,2*K+1)# creo esta matriz de (2k+1)x(2k+1) ára despues llenarlos con los valores de PσK pero como cada elemento de esa matriz es un intervalo lo que voy hacer es tomar el punto medio de ese intervalo asi la matriz A va ser una matriz de numero reales, y asi podre usar el comando eigen\n",
    "A = PσK.c #Como PσK es una matriz de intervalos, aqui toma el punto medio de cada intervalo para luego hallar el punto dijo de ese que va ser proximo al punto dijo de la matriz de intervalos\n",
    "F = eigen(A)                              # eigen es para hallar los auto valores y auto vetores de A, como el ultimo auto valor es 1, entonces el auto vector associado a él es el punto fijo de A"
   ]
  },
  {
   "cell_type": "code",
   "execution_count": 10,
   "metadata": {},
   "outputs": [
    {
     "name": "stderr",
     "output_type": "stream",
     "text": [
      "WARNING: using Plots.center in module Main conflicts with an existing identifier.\n"
     ]
    },
    {
     "data": {
      "image/png": "[encoded data removed]",
      "image/svg+xml": [
       "<?xml version=\"1.0\" encoding=\"utf-8\"?>\n",
       "<svg xmlns=\"http://www.w3.org/2000/svg\" xmlns:xlink=\"http://www.w3.org/1999/xlink\" width=\"600\" height=\"400\" viewBox=\"0 0 2400 1600\">\n",
       "<defs>\n",
       "  <clipPath id=\"clip800\">\n",
       "    <rect x=\"0\" y=\"0\" width=\"2400\" height=\"1600\"/>\n",
       "  </clipPath>\n",
       "</defs>\n",
       "<path clip-path=\"url(#clip800)\" d=\"M0 1600 L2400 1600 L2400 0 L0 0  Z\" fill=\"#ffffff\" fill-rule=\"evenodd\" fill-opacity=\"1\"/>\n",
       "<defs>\n",
       "  <clipPath id=\"clip801\">\n",
       "    <rect x=\"480\" y=\"0\" width=\"1681\" height=\"1600\"/>\n",
       "  </clipPath>\n",
       "</defs>\n",
       "<path clip-path=\"url(#clip800)\" d=\"M287.366 1423.18 L2352.76 1423.18 L2352.76 47.2441 L287.366 47.2441  Z\" fill=\"#ffffff\" fill-rule=\"evenodd\" fill-opacity=\"1\"/>\n",
       "<defs>\n",
       "  <clipPath id=\"clip802\">\n",
       "    <rect x=\"287\" y=\"47\" width=\"2066\" height=\"1377\"/>\n",
       "  </clipPath>\n",
       "</defs>\n",
       "<polyline clip-path=\"url(#clip802)\" style=\"stroke:#000000; stroke-linecap:round; stroke-linejoin:round; stroke-width:2; stroke-opacity:0.1; fill:none\" points=\"594.311,1423.18 594.311,47.2441 \"/>\n",
       "<polyline clip-path=\"url(#clip802)\" style=\"stroke:#000000; stroke-linecap:round; stroke-linejoin:round; stroke-width:2; stroke-opacity:0.1; fill:none\" points=\"986.616,1423.18 986.616,47.2441 \"/>\n",
       "<polyline clip-path=\"url(#clip802)\" style=\"stroke:#000000; stroke-linecap:round; stroke-linejoin:round; stroke-width:2; stroke-opacity:0.1; fill:none\" points=\"1378.92,1423.18 1378.92,47.2441 \"/>\n",
       "<polyline clip-path=\"url(#clip802)\" style=\"stroke:#000000; stroke-linecap:round; stroke-linejoin:round; stroke-width:2; stroke-opacity:0.1; fill:none\" points=\"1771.23,1423.18 1771.23,47.2441 \"/>\n",
       "<polyline clip-path=\"url(#clip802)\" style=\"stroke:#000000; stroke-linecap:round; stroke-linejoin:round; stroke-width:2; stroke-opacity:0.1; fill:none\" points=\"2163.53,1423.18 2163.53,47.2441 \"/>\n",
       "<polyline clip-path=\"url(#clip800)\" style=\"stroke:#000000; stroke-linecap:round; stroke-linejoin:round; stroke-width:4; stroke-opacity:1; fill:none\" points=\"287.366,1423.18 2352.76,1423.18 \"/>\n",
       "<polyline clip-path=\"url(#clip800)\" style=\"stroke:#000000; stroke-linecap:round; stroke-linejoin:round; stroke-width:4; stroke-opacity:1; fill:none\" points=\"594.311,1423.18 594.311,1404.28 \"/>\n",
       "<polyline clip-path=\"url(#clip800)\" style=\"stroke:#000000; stroke-linecap:round; stroke-linejoin:round; stroke-width:4; stroke-opacity:1; fill:none\" points=\"986.616,1423.18 986.616,1404.28 \"/>\n",
       "<polyline clip-path=\"url(#clip800)\" style=\"stroke:#000000; stroke-linecap:round; stroke-linejoin:round; stroke-width:4; stroke-opacity:1; fill:none\" points=\"1378.92,1423.18 1378.92,1404.28 \"/>\n",
       "<polyline clip-path=\"url(#clip800)\" style=\"stroke:#000000; stroke-linecap:round; stroke-linejoin:round; stroke-width:4; stroke-opacity:1; fill:none\" points=\"1771.23,1423.18 1771.23,1404.28 \"/>\n",
       "<polyline clip-path=\"url(#clip800)\" style=\"stroke:#000000; stroke-linecap:round; stroke-linejoin:round; stroke-width:4; stroke-opacity:1; fill:none\" points=\"2163.53,1423.18 2163.53,1404.28 \"/>\n",
       "<path clip-path=\"url(#clip800)\" d=\"M541.163 1468.75 L570.839 1468.75 L570.839 1472.69 L541.163 1472.69 L541.163 1468.75 Z\" fill=\"#000000\" fill-rule=\"nonzero\" fill-opacity=\"1\" /><path clip-path=\"url(#clip800)\" d=\"M590.931 1454.1 Q587.32 1454.1 585.491 1457.66 Q583.686 1461.2 583.686 1468.33 Q583.686 1475.44 585.491 1479.01 Q587.32 1482.55 590.931 1482.55 Q594.565 1482.55 596.371 1479.01 Q598.2 1475.44 598.2 1468.33 Q598.2 1461.2 596.371 1457.66 Q594.565 1454.1 590.931 1454.1 M590.931 1450.39 Q596.741 1450.39 599.797 1455 Q602.876 1459.58 602.876 1468.33 Q602.876 1477.06 599.797 1481.67 Q596.741 1486.25 590.931 1486.25 Q585.121 1486.25 582.042 1481.67 Q578.987 1477.06 578.987 1468.33 Q578.987 1459.58 582.042 1455 Q585.121 1450.39 590.931 1450.39 Z\" fill=\"#000000\" fill-rule=\"nonzero\" fill-opacity=\"1\" /><path clip-path=\"url(#clip800)\" d=\"M611.093 1479.7 L615.977 1479.7 L615.977 1485.58 L611.093 1485.58 L611.093 1479.7 Z\" fill=\"#000000\" fill-rule=\"nonzero\" fill-opacity=\"1\" /><path clip-path=\"url(#clip800)\" d=\"M640.329 1466.95 Q643.686 1467.66 645.561 1469.93 Q647.459 1472.2 647.459 1475.53 Q647.459 1480.65 643.94 1483.45 Q640.422 1486.25 633.94 1486.25 Q631.764 1486.25 629.449 1485.81 Q627.158 1485.39 624.704 1484.54 L624.704 1480.02 Q626.649 1481.16 628.963 1481.74 Q631.278 1482.32 633.801 1482.32 Q638.199 1482.32 640.491 1480.58 Q642.806 1478.84 642.806 1475.53 Q642.806 1472.48 640.653 1470.77 Q638.524 1469.03 634.704 1469.03 L630.676 1469.03 L630.676 1465.19 L634.889 1465.19 Q638.338 1465.19 640.167 1463.82 Q641.996 1462.43 641.996 1459.84 Q641.996 1457.18 640.098 1455.77 Q638.223 1454.33 634.704 1454.33 Q632.783 1454.33 630.584 1454.75 Q628.385 1455.16 625.746 1456.04 L625.746 1451.88 Q628.408 1451.14 630.723 1450.77 Q633.061 1450.39 635.121 1450.39 Q640.445 1450.39 643.547 1452.83 Q646.648 1455.23 646.648 1459.35 Q646.648 1462.22 645.005 1464.21 Q643.361 1466.18 640.329 1466.95 Z\" fill=\"#000000\" fill-rule=\"nonzero\" fill-opacity=\"1\" /><path clip-path=\"url(#clip800)\" d=\"M964.001 1454.1 Q960.39 1454.1 958.561 1457.66 Q956.755 1461.2 956.755 1468.33 Q956.755 1475.44 958.561 1479.01 Q960.39 1482.55 964.001 1482.55 Q967.635 1482.55 969.441 1479.01 Q971.269 1475.44 971.269 1468.33 Q971.269 1461.2 969.441 1457.66 Q967.635 1454.1 964.001 1454.1 M964.001 1450.39 Q969.811 1450.39 972.866 1455 Q975.945 1459.58 975.945 1468.33 Q975.945 1477.06 972.866 1481.67 Q969.811 1486.25 964.001 1486.25 Q958.191 1486.25 955.112 1481.67 Q952.056 1477.06 952.056 1468.33 Q952.056 1459.58 955.112 1455 Q958.191 1450.39 964.001 1450.39 Z\" fill=\"#000000\" fill-rule=\"nonzero\" fill-opacity=\"1\" /><path clip-path=\"url(#clip800)\" d=\"M984.163 1479.7 L989.047 1479.7 L989.047 1485.58 L984.163 1485.58 L984.163 1479.7 Z\" fill=\"#000000\" fill-rule=\"nonzero\" fill-opacity=\"1\" /><path clip-path=\"url(#clip800)\" d=\"M1009.23 1454.1 Q1005.62 1454.1 1003.79 1457.66 Q1001.99 1461.2 1001.99 1468.33 Q1001.99 1475.44 1003.79 1479.01 Q1005.62 1482.55 1009.23 1482.55 Q1012.87 1482.55 1014.67 1479.01 Q1016.5 1475.44 1016.5 1468.33 Q1016.5 1461.2 1014.67 1457.66 Q1012.87 1454.1 1009.23 1454.1 M1009.23 1450.39 Q1015.04 1450.39 1018.1 1455 Q1021.18 1459.58 1021.18 1468.33 Q1021.18 1477.06 1018.1 1481.67 Q1015.04 1486.25 1009.23 1486.25 Q1003.42 1486.25 1000.34 1481.67 Q997.288 1477.06 997.288 1468.33 Q997.288 1459.58 1000.34 1455 Q1003.42 1450.39 1009.23 1450.39 Z\" fill=\"#000000\" fill-rule=\"nonzero\" fill-opacity=\"1\" /><path clip-path=\"url(#clip800)\" d=\"M1356.63 1454.1 Q1353.02 1454.1 1351.19 1457.66 Q1349.38 1461.2 1349.38 1468.33 Q1349.38 1475.44 1351.19 1479.01 Q1353.02 1482.55 1356.63 1482.55 Q1360.26 1482.55 1362.07 1479.01 Q1363.9 1475.44 1363.9 1468.33 Q1363.9 1461.2 1362.07 1457.66 Q1360.26 1454.1 1356.63 1454.1 M1356.63 1450.39 Q1362.44 1450.39 1365.5 1455 Q1368.57 1459.58 1368.57 1468.33 Q1368.57 1477.06 1365.5 1481.67 Q1362.44 1486.25 1356.63 1486.25 Q1350.82 1486.25 1347.74 1481.67 Q1344.69 1477.06 1344.69 1468.33 Q1344.69 1459.58 1347.74 1455 Q1350.82 1450.39 1356.63 1450.39 Z\" fill=\"#000000\" fill-rule=\"nonzero\" fill-opacity=\"1\" /><path clip-path=\"url(#clip800)\" d=\"M1376.79 1479.7 L1381.68 1479.7 L1381.68 1485.58 L1376.79 1485.58 L1376.79 1479.7 Z\" fill=\"#000000\" fill-rule=\"nonzero\" fill-opacity=\"1\" /><path clip-path=\"url(#clip800)\" d=\"M1406.03 1466.95 Q1409.38 1467.66 1411.26 1469.93 Q1413.16 1472.2 1413.16 1475.53 Q1413.16 1480.65 1409.64 1483.45 Q1406.12 1486.25 1399.64 1486.25 Q1397.46 1486.25 1395.15 1485.81 Q1392.86 1485.39 1390.4 1484.54 L1390.4 1480.02 Q1392.35 1481.16 1394.66 1481.74 Q1396.98 1482.32 1399.5 1482.32 Q1403.9 1482.32 1406.19 1480.58 Q1408.51 1478.84 1408.51 1475.53 Q1408.51 1472.48 1406.35 1470.77 Q1404.22 1469.03 1400.4 1469.03 L1396.38 1469.03 L1396.38 1465.19 L1400.59 1465.19 Q1404.04 1465.19 1405.87 1463.82 Q1407.69 1462.43 1407.69 1459.84 Q1407.69 1457.18 1405.8 1455.77 Q1403.92 1454.33 1400.4 1454.33 Q1398.48 1454.33 1396.28 1454.75 Q1394.08 1455.16 1391.44 1456.04 L1391.44 1451.88 Q1394.11 1451.14 1396.42 1450.77 Q1398.76 1450.39 1400.82 1450.39 Q1406.14 1450.39 1409.25 1452.83 Q1412.35 1455.23 1412.35 1459.35 Q1412.35 1462.22 1410.7 1464.21 Q1409.06 1466.18 1406.03 1466.95 Z\" fill=\"#000000\" fill-rule=\"nonzero\" fill-opacity=\"1\" /><path clip-path=\"url(#clip800)\" d=\"M1748.53 1454.1 Q1744.92 1454.1 1743.09 1457.66 Q1741.29 1461.2 1741.29 1468.33 Q1741.29 1475.44 1743.09 1479.01 Q1744.92 1482.55 1748.53 1482.55 Q1752.17 1482.55 1753.97 1479.01 Q1755.8 1475.44 1755.8 1468.33 Q1755.8 1461.2 1753.97 1457.66 Q1752.17 1454.1 1748.53 1454.1 M1748.53 1450.39 Q1754.34 1450.39 1757.4 1455 Q1760.48 1459.58 1760.48 1468.33 Q1760.48 1477.06 1757.4 1481.67 Q1754.34 1486.25 1748.53 1486.25 Q1742.72 1486.25 1739.64 1481.67 Q1736.59 1477.06 1736.59 1468.33 Q1736.59 1459.58 1739.64 1455 Q1742.72 1450.39 1748.53 1450.39 Z\" fill=\"#000000\" fill-rule=\"nonzero\" fill-opacity=\"1\" /><path clip-path=\"url(#clip800)\" d=\"M1768.69 1479.7 L1773.58 1479.7 L1773.58 1485.58 L1768.69 1485.58 L1768.69 1479.7 Z\" fill=\"#000000\" fill-rule=\"nonzero\" fill-opacity=\"1\" /><path clip-path=\"url(#clip800)\" d=\"M1794.34 1466.44 Q1791.19 1466.44 1789.34 1468.59 Q1787.51 1470.74 1787.51 1474.49 Q1787.51 1478.22 1789.34 1480.39 Q1791.19 1482.55 1794.34 1482.55 Q1797.49 1482.55 1799.32 1480.39 Q1801.17 1478.22 1801.17 1474.49 Q1801.17 1470.74 1799.32 1468.59 Q1797.49 1466.44 1794.34 1466.44 M1803.62 1451.78 L1803.62 1456.04 Q1801.86 1455.21 1800.06 1454.77 Q1798.28 1454.33 1796.52 1454.33 Q1791.89 1454.33 1789.43 1457.45 Q1787 1460.58 1786.66 1466.9 Q1788.02 1464.89 1790.08 1463.82 Q1792.14 1462.73 1794.62 1462.73 Q1799.83 1462.73 1802.84 1465.9 Q1805.87 1469.05 1805.87 1474.49 Q1805.87 1479.82 1802.72 1483.03 Q1799.57 1486.25 1794.34 1486.25 Q1788.35 1486.25 1785.17 1481.67 Q1782 1477.06 1782 1468.33 Q1782 1460.14 1785.89 1455.28 Q1789.78 1450.39 1796.33 1450.39 Q1798.09 1450.39 1799.87 1450.74 Q1801.68 1451.09 1803.62 1451.78 Z\" fill=\"#000000\" fill-rule=\"nonzero\" fill-opacity=\"1\" /><path clip-path=\"url(#clip800)\" d=\"M2141.01 1454.1 Q2137.4 1454.1 2135.57 1457.66 Q2133.76 1461.2 2133.76 1468.33 Q2133.76 1475.44 2135.57 1479.01 Q2137.4 1482.55 2141.01 1482.55 Q2144.64 1482.55 2146.45 1479.01 Q2148.28 1475.44 2148.28 1468.33 Q2148.28 1461.2 2146.45 1457.66 Q2144.64 1454.1 2141.01 1454.1 M2141.01 1450.39 Q2146.82 1450.39 2149.88 1455 Q2152.95 1459.58 2152.95 1468.33 Q2152.95 1477.06 2149.88 1481.67 Q2146.82 1486.25 2141.01 1486.25 Q2135.2 1486.25 2132.12 1481.67 Q2129.07 1477.06 2129.07 1468.33 Q2129.07 1459.58 2132.12 1455 Q2135.2 1450.39 2141.01 1450.39 Z\" fill=\"#000000\" fill-rule=\"nonzero\" fill-opacity=\"1\" /><path clip-path=\"url(#clip800)\" d=\"M2161.17 1479.7 L2166.06 1479.7 L2166.06 1485.58 L2161.17 1485.58 L2161.17 1479.7 Z\" fill=\"#000000\" fill-rule=\"nonzero\" fill-opacity=\"1\" /><path clip-path=\"url(#clip800)\" d=\"M2176.38 1484.86 L2176.38 1480.6 Q2178.14 1481.44 2179.94 1481.88 Q2181.75 1482.32 2183.49 1482.32 Q2188.12 1482.32 2190.55 1479.21 Q2193 1476.09 2193.35 1469.75 Q2192.01 1471.74 2189.94 1472.8 Q2187.88 1473.87 2185.38 1473.87 Q2180.2 1473.87 2177.17 1470.74 Q2174.16 1467.59 2174.16 1462.15 Q2174.16 1456.83 2177.31 1453.61 Q2180.45 1450.39 2185.69 1450.39 Q2191.68 1450.39 2194.83 1455 Q2198 1459.58 2198 1468.33 Q2198 1476.51 2194.11 1481.39 Q2190.25 1486.25 2183.69 1486.25 Q2181.94 1486.25 2180.13 1485.9 Q2178.32 1485.56 2176.38 1484.86 M2185.69 1470.21 Q2188.83 1470.21 2190.66 1468.06 Q2192.51 1465.9 2192.51 1462.15 Q2192.51 1458.43 2190.66 1456.27 Q2188.83 1454.1 2185.69 1454.1 Q2182.54 1454.1 2180.69 1456.27 Q2178.86 1458.43 2178.86 1462.15 Q2178.86 1465.9 2180.69 1468.06 Q2182.54 1470.21 2185.69 1470.21 Z\" fill=\"#000000\" fill-rule=\"nonzero\" fill-opacity=\"1\" /><path clip-path=\"url(#clip800)\" d=\"M1262.64 1545.76 Q1264.71 1546.46 1266.65 1548.76 Q1268.63 1551.05 1270.6 1555.06 L1277.12 1568.04 L1270.22 1568.04 L1264.14 1555.85 Q1261.78 1551.08 1259.55 1549.52 Q1257.36 1547.96 1253.54 1547.96 L1246.54 1547.96 L1246.54 1568.04 L1240.11 1568.04 L1240.11 1520.52 L1254.62 1520.52 Q1262.77 1520.52 1266.78 1523.93 Q1270.79 1527.34 1270.79 1534.21 Q1270.79 1538.7 1268.69 1541.66 Q1266.62 1544.62 1262.64 1545.76 M1246.54 1525.81 L1246.54 1542.68 L1254.62 1542.68 Q1259.27 1542.68 1261.62 1540.54 Q1264.01 1538.38 1264.01 1534.21 Q1264.01 1530.04 1261.62 1527.94 Q1259.27 1525.81 1254.62 1525.81 L1246.54 1525.81 Z\" fill=\"#000000\" fill-rule=\"nonzero\" fill-opacity=\"1\" /><path clip-path=\"url(#clip800)\" d=\"M1312.71 1548.76 L1312.71 1551.62 L1285.78 1551.62 Q1286.16 1557.67 1289.41 1560.85 Q1292.69 1564 1298.51 1564 Q1301.89 1564 1305.04 1563.17 Q1308.22 1562.35 1311.34 1560.69 L1311.34 1566.23 Q1308.19 1567.57 1304.88 1568.27 Q1301.57 1568.97 1298.16 1568.97 Q1289.63 1568.97 1284.64 1564 Q1279.67 1559.04 1279.67 1550.57 Q1279.67 1541.82 1284.38 1536.69 Q1289.12 1531.54 1297.14 1531.54 Q1304.34 1531.54 1308.51 1536.18 Q1312.71 1540.8 1312.71 1548.76 M1306.85 1547.04 Q1306.79 1542.23 1304.15 1539.37 Q1301.54 1536.5 1297.21 1536.5 Q1292.31 1536.5 1289.35 1539.27 Q1286.42 1542.04 1285.97 1547.07 L1306.85 1547.04 Z\" fill=\"#000000\" fill-rule=\"nonzero\" fill-opacity=\"1\" /><path clip-path=\"url(#clip800)\" d=\"M1336.39 1518.58 Q1332.12 1525.9 1330.06 1533.06 Q1327.99 1540.23 1327.99 1547.58 Q1327.99 1554.93 1330.06 1562.16 Q1332.16 1569.35 1336.39 1576.64 L1331.3 1576.64 Q1326.52 1569.16 1324.13 1561.93 Q1321.78 1554.71 1321.78 1547.58 Q1321.78 1540.48 1324.13 1533.29 Q1326.49 1526.09 1331.3 1518.58 L1336.39 1518.58 Z\" fill=\"#000000\" fill-rule=\"nonzero\" fill-opacity=\"1\" /><path clip-path=\"url(#clip800)\" d=\"M1377.38 1532.4 L1364.49 1549.74 L1378.05 1568.04 L1371.15 1568.04 L1360.77 1554.04 L1350.39 1568.04 L1343.49 1568.04 L1357.33 1549.39 L1344.66 1532.4 L1351.57 1532.4 L1361.02 1545.1 L1370.48 1532.4 L1377.38 1532.4 Z\" fill=\"#000000\" fill-rule=\"nonzero\" fill-opacity=\"1\" /><path clip-path=\"url(#clip800)\" d=\"M1385.4 1518.58 L1390.5 1518.58 Q1395.27 1526.09 1397.63 1533.29 Q1400.01 1540.48 1400.01 1547.58 Q1400.01 1554.71 1397.63 1561.93 Q1395.27 1569.16 1390.5 1576.64 L1385.4 1576.64 Q1389.64 1569.35 1391.71 1562.16 Q1393.81 1554.93 1393.81 1547.58 Q1393.81 1540.23 1391.71 1533.06 Q1389.64 1525.9 1385.4 1518.58 Z\" fill=\"#000000\" fill-rule=\"nonzero\" fill-opacity=\"1\" /><polyline clip-path=\"url(#clip802)\" style=\"stroke:#000000; stroke-linecap:round; stroke-linejoin:round; stroke-width:2; stroke-opacity:0.1; fill:none\" points=\"287.366,1384.38 2352.76,1384.38 \"/>\n",
       "<polyline clip-path=\"url(#clip802)\" style=\"stroke:#000000; stroke-linecap:round; stroke-linejoin:round; stroke-width:2; stroke-opacity:0.1; fill:none\" points=\"287.366,1167.99 2352.76,1167.99 \"/>\n",
       "<polyline clip-path=\"url(#clip802)\" style=\"stroke:#000000; stroke-linecap:round; stroke-linejoin:round; stroke-width:2; stroke-opacity:0.1; fill:none\" points=\"287.366,951.602 2352.76,951.602 \"/>\n",
       "<polyline clip-path=\"url(#clip802)\" style=\"stroke:#000000; stroke-linecap:round; stroke-linejoin:round; stroke-width:2; stroke-opacity:0.1; fill:none\" points=\"287.366,735.212 2352.76,735.212 \"/>\n",
       "<polyline clip-path=\"url(#clip802)\" style=\"stroke:#000000; stroke-linecap:round; stroke-linejoin:round; stroke-width:2; stroke-opacity:0.1; fill:none\" points=\"287.366,518.822 2352.76,518.822 \"/>\n",
       "<polyline clip-path=\"url(#clip802)\" style=\"stroke:#000000; stroke-linecap:round; stroke-linejoin:round; stroke-width:2; stroke-opacity:0.1; fill:none\" points=\"287.366,302.431 2352.76,302.431 \"/>\n",
       "<polyline clip-path=\"url(#clip802)\" style=\"stroke:#000000; stroke-linecap:round; stroke-linejoin:round; stroke-width:2; stroke-opacity:0.1; fill:none\" points=\"287.366,86.041 2352.76,86.041 \"/>\n",
       "<polyline clip-path=\"url(#clip800)\" style=\"stroke:#000000; stroke-linecap:round; stroke-linejoin:round; stroke-width:4; stroke-opacity:1; fill:none\" points=\"287.366,1423.18 287.366,47.2441 \"/>\n",
       "<polyline clip-path=\"url(#clip800)\" style=\"stroke:#000000; stroke-linecap:round; stroke-linejoin:round; stroke-width:4; stroke-opacity:1; fill:none\" points=\"287.366,1384.38 306.264,1384.38 \"/>\n",
       "<polyline clip-path=\"url(#clip800)\" style=\"stroke:#000000; stroke-linecap:round; stroke-linejoin:round; stroke-width:4; stroke-opacity:1; fill:none\" points=\"287.366,1167.99 306.264,1167.99 \"/>\n",
       "<polyline clip-path=\"url(#clip800)\" style=\"stroke:#000000; stroke-linecap:round; stroke-linejoin:round; stroke-width:4; stroke-opacity:1; fill:none\" points=\"287.366,951.602 306.264,951.602 \"/>\n",
       "<polyline clip-path=\"url(#clip800)\" style=\"stroke:#000000; stroke-linecap:round; stroke-linejoin:round; stroke-width:4; stroke-opacity:1; fill:none\" points=\"287.366,735.212 306.264,735.212 \"/>\n",
       "<polyline clip-path=\"url(#clip800)\" style=\"stroke:#000000; stroke-linecap:round; stroke-linejoin:round; stroke-width:4; stroke-opacity:1; fill:none\" points=\"287.366,518.822 306.264,518.822 \"/>\n",
       "<polyline clip-path=\"url(#clip800)\" style=\"stroke:#000000; stroke-linecap:round; stroke-linejoin:round; stroke-width:4; stroke-opacity:1; fill:none\" points=\"287.366,302.431 306.264,302.431 \"/>\n",
       "<polyline clip-path=\"url(#clip800)\" style=\"stroke:#000000; stroke-linecap:round; stroke-linejoin:round; stroke-width:4; stroke-opacity:1; fill:none\" points=\"287.366,86.041 306.264,86.041 \"/>\n",
       "<path clip-path=\"url(#clip800)\" d=\"M115.256 1384.83 L144.931 1384.83 L144.931 1388.77 L115.256 1388.77 L115.256 1384.83 Z\" fill=\"#000000\" fill-rule=\"nonzero\" fill-opacity=\"1\" /><path clip-path=\"url(#clip800)\" d=\"M165.024 1370.18 Q161.413 1370.18 159.584 1373.75 Q157.778 1377.29 157.778 1384.42 Q157.778 1391.52 159.584 1395.09 Q161.413 1398.63 165.024 1398.63 Q168.658 1398.63 170.464 1395.09 Q172.292 1391.52 172.292 1384.42 Q172.292 1377.29 170.464 1373.75 Q168.658 1370.18 165.024 1370.18 M165.024 1366.48 Q170.834 1366.48 173.889 1371.08 Q176.968 1375.67 176.968 1384.42 Q176.968 1393.14 173.889 1397.75 Q170.834 1402.33 165.024 1402.33 Q159.214 1402.33 156.135 1397.75 Q153.079 1393.14 153.079 1384.42 Q153.079 1375.67 156.135 1371.08 Q159.214 1366.48 165.024 1366.48 Z\" fill=\"#000000\" fill-rule=\"nonzero\" fill-opacity=\"1\" /><path clip-path=\"url(#clip800)\" d=\"M185.186 1395.78 L190.07 1395.78 L190.07 1401.66 L185.186 1401.66 L185.186 1395.78 Z\" fill=\"#000000\" fill-rule=\"nonzero\" fill-opacity=\"1\" /><path clip-path=\"url(#clip800)\" d=\"M201.065 1397.73 L208.704 1397.73 L208.704 1371.36 L200.394 1373.03 L200.394 1368.77 L208.658 1367.1 L213.334 1367.1 L213.334 1397.73 L220.973 1397.73 L220.973 1401.66 L201.065 1401.66 L201.065 1397.73 Z\" fill=\"#000000\" fill-rule=\"nonzero\" fill-opacity=\"1\" /><path clip-path=\"url(#clip800)\" d=\"M230.463 1367.1 L248.82 1367.1 L248.82 1371.04 L234.746 1371.04 L234.746 1379.51 Q235.764 1379.16 236.783 1379 Q237.801 1378.82 238.82 1378.82 Q244.607 1378.82 247.986 1381.99 Q251.366 1385.16 251.366 1390.58 Q251.366 1396.15 247.894 1399.26 Q244.421 1402.33 238.102 1402.33 Q235.926 1402.33 233.658 1401.96 Q231.412 1401.59 229.005 1400.85 L229.005 1396.15 Q231.088 1397.29 233.31 1397.84 Q235.533 1398.4 238.009 1398.4 Q242.014 1398.4 244.352 1396.29 Q246.69 1394.19 246.69 1390.58 Q246.69 1386.96 244.352 1384.86 Q242.014 1382.75 238.009 1382.75 Q236.135 1382.75 234.26 1383.17 Q232.408 1383.58 230.463 1384.46 L230.463 1367.1 Z\" fill=\"#000000\" fill-rule=\"nonzero\" fill-opacity=\"1\" /><path clip-path=\"url(#clip800)\" d=\"M114.26 1168.44 L143.936 1168.44 L143.936 1172.38 L114.26 1172.38 L114.26 1168.44 Z\" fill=\"#000000\" fill-rule=\"nonzero\" fill-opacity=\"1\" /><path clip-path=\"url(#clip800)\" d=\"M164.028 1153.79 Q160.417 1153.79 158.589 1157.36 Q156.783 1160.9 156.783 1168.03 Q156.783 1175.13 158.589 1178.7 Q160.417 1182.24 164.028 1182.24 Q167.663 1182.24 169.468 1178.7 Q171.297 1175.13 171.297 1168.03 Q171.297 1160.9 169.468 1157.36 Q167.663 1153.79 164.028 1153.79 M164.028 1150.09 Q169.839 1150.09 172.894 1154.69 Q175.973 1159.28 175.973 1168.03 Q175.973 1176.75 172.894 1181.36 Q169.839 1185.94 164.028 1185.94 Q158.218 1185.94 155.14 1181.36 Q152.084 1176.75 152.084 1168.03 Q152.084 1159.28 155.14 1154.69 Q158.218 1150.09 164.028 1150.09 Z\" fill=\"#000000\" fill-rule=\"nonzero\" fill-opacity=\"1\" /><path clip-path=\"url(#clip800)\" d=\"M184.19 1179.39 L189.075 1179.39 L189.075 1185.27 L184.19 1185.27 L184.19 1179.39 Z\" fill=\"#000000\" fill-rule=\"nonzero\" fill-opacity=\"1\" /><path clip-path=\"url(#clip800)\" d=\"M200.07 1181.34 L207.709 1181.34 L207.709 1154.97 L199.399 1156.64 L199.399 1152.38 L207.662 1150.71 L212.338 1150.71 L212.338 1181.34 L219.977 1181.34 L219.977 1185.27 L200.07 1185.27 L200.07 1181.34 Z\" fill=\"#000000\" fill-rule=\"nonzero\" fill-opacity=\"1\" /><path clip-path=\"url(#clip800)\" d=\"M239.422 1153.79 Q235.81 1153.79 233.982 1157.36 Q232.176 1160.9 232.176 1168.03 Q232.176 1175.13 233.982 1178.7 Q235.81 1182.24 239.422 1182.24 Q243.056 1182.24 244.861 1178.7 Q246.69 1175.13 246.69 1168.03 Q246.69 1160.9 244.861 1157.36 Q243.056 1153.79 239.422 1153.79 M239.422 1150.09 Q245.232 1150.09 248.287 1154.69 Q251.366 1159.28 251.366 1168.03 Q251.366 1176.75 248.287 1181.36 Q245.232 1185.94 239.422 1185.94 Q233.611 1185.94 230.533 1181.36 Q227.477 1176.75 227.477 1168.03 Q227.477 1159.28 230.533 1154.69 Q233.611 1150.09 239.422 1150.09 Z\" fill=\"#000000\" fill-rule=\"nonzero\" fill-opacity=\"1\" /><path clip-path=\"url(#clip800)\" d=\"M115.256 952.054 L144.931 952.054 L144.931 955.989 L115.256 955.989 L115.256 952.054 Z\" fill=\"#000000\" fill-rule=\"nonzero\" fill-opacity=\"1\" /><path clip-path=\"url(#clip800)\" d=\"M165.024 937.401 Q161.413 937.401 159.584 940.966 Q157.778 944.507 157.778 951.637 Q157.778 958.743 159.584 962.308 Q161.413 965.85 165.024 965.85 Q168.658 965.85 170.464 962.308 Q172.292 958.743 172.292 951.637 Q172.292 944.507 170.464 940.966 Q168.658 937.401 165.024 937.401 M165.024 933.697 Q170.834 933.697 173.889 938.304 Q176.968 942.887 176.968 951.637 Q176.968 960.364 173.889 964.97 Q170.834 969.554 165.024 969.554 Q159.214 969.554 156.135 964.97 Q153.079 960.364 153.079 951.637 Q153.079 942.887 156.135 938.304 Q159.214 933.697 165.024 933.697 Z\" fill=\"#000000\" fill-rule=\"nonzero\" fill-opacity=\"1\" /><path clip-path=\"url(#clip800)\" d=\"M185.186 963.003 L190.07 963.003 L190.07 968.882 L185.186 968.882 L185.186 963.003 Z\" fill=\"#000000\" fill-rule=\"nonzero\" fill-opacity=\"1\" /><path clip-path=\"url(#clip800)\" d=\"M210.255 937.401 Q206.644 937.401 204.815 940.966 Q203.01 944.507 203.01 951.637 Q203.01 958.743 204.815 962.308 Q206.644 965.85 210.255 965.85 Q213.889 965.85 215.695 962.308 Q217.523 958.743 217.523 951.637 Q217.523 944.507 215.695 940.966 Q213.889 937.401 210.255 937.401 M210.255 933.697 Q216.065 933.697 219.121 938.304 Q222.199 942.887 222.199 951.637 Q222.199 960.364 219.121 964.97 Q216.065 969.554 210.255 969.554 Q204.445 969.554 201.366 964.97 Q198.311 960.364 198.311 951.637 Q198.311 942.887 201.366 938.304 Q204.445 933.697 210.255 933.697 Z\" fill=\"#000000\" fill-rule=\"nonzero\" fill-opacity=\"1\" /><path clip-path=\"url(#clip800)\" d=\"M230.463 934.322 L248.82 934.322 L248.82 938.257 L234.746 938.257 L234.746 946.73 Q235.764 946.382 236.783 946.22 Q237.801 946.035 238.82 946.035 Q244.607 946.035 247.986 949.206 Q251.366 952.378 251.366 957.794 Q251.366 963.373 247.894 966.475 Q244.421 969.554 238.102 969.554 Q235.926 969.554 233.658 969.183 Q231.412 968.813 229.005 968.072 L229.005 963.373 Q231.088 964.507 233.31 965.063 Q235.533 965.618 238.009 965.618 Q242.014 965.618 244.352 963.512 Q246.69 961.405 246.69 957.794 Q246.69 954.183 244.352 952.077 Q242.014 949.97 238.009 949.97 Q236.135 949.97 234.26 950.387 Q232.408 950.804 230.463 951.683 L230.463 934.322 Z\" fill=\"#000000\" fill-rule=\"nonzero\" fill-opacity=\"1\" /><path clip-path=\"url(#clip800)\" d=\"M164.028 721.011 Q160.417 721.011 158.589 724.575 Q156.783 728.117 156.783 735.247 Q156.783 742.353 158.589 745.918 Q160.417 749.46 164.028 749.46 Q167.663 749.46 169.468 745.918 Q171.297 742.353 171.297 735.247 Q171.297 728.117 169.468 724.575 Q167.663 721.011 164.028 721.011 M164.028 717.307 Q169.839 717.307 172.894 721.913 Q175.973 726.497 175.973 735.247 Q175.973 743.973 172.894 748.58 Q169.839 753.163 164.028 753.163 Q158.218 753.163 155.14 748.58 Q152.084 743.973 152.084 735.247 Q152.084 726.497 155.14 721.913 Q158.218 717.307 164.028 717.307 Z\" fill=\"#000000\" fill-rule=\"nonzero\" fill-opacity=\"1\" /><path clip-path=\"url(#clip800)\" d=\"M184.19 746.612 L189.075 746.612 L189.075 752.492 L184.19 752.492 L184.19 746.612 Z\" fill=\"#000000\" fill-rule=\"nonzero\" fill-opacity=\"1\" /><path clip-path=\"url(#clip800)\" d=\"M209.26 721.011 Q205.649 721.011 203.82 724.575 Q202.014 728.117 202.014 735.247 Q202.014 742.353 203.82 745.918 Q205.649 749.46 209.26 749.46 Q212.894 749.46 214.699 745.918 Q216.528 742.353 216.528 735.247 Q216.528 728.117 214.699 724.575 Q212.894 721.011 209.26 721.011 M209.26 717.307 Q215.07 717.307 218.125 721.913 Q221.204 726.497 221.204 735.247 Q221.204 743.973 218.125 748.58 Q215.07 753.163 209.26 753.163 Q203.449 753.163 200.371 748.58 Q197.315 743.973 197.315 735.247 Q197.315 726.497 200.371 721.913 Q203.449 717.307 209.26 717.307 Z\" fill=\"#000000\" fill-rule=\"nonzero\" fill-opacity=\"1\" /><path clip-path=\"url(#clip800)\" d=\"M239.422 721.011 Q235.81 721.011 233.982 724.575 Q232.176 728.117 232.176 735.247 Q232.176 742.353 233.982 745.918 Q235.81 749.46 239.422 749.46 Q243.056 749.46 244.861 745.918 Q246.69 742.353 246.69 735.247 Q246.69 728.117 244.861 724.575 Q243.056 721.011 239.422 721.011 M239.422 717.307 Q245.232 717.307 248.287 721.913 Q251.366 726.497 251.366 735.247 Q251.366 743.973 248.287 748.58 Q245.232 753.163 239.422 753.163 Q233.611 753.163 230.533 748.58 Q227.477 743.973 227.477 735.247 Q227.477 726.497 230.533 721.913 Q233.611 717.307 239.422 717.307 Z\" fill=\"#000000\" fill-rule=\"nonzero\" fill-opacity=\"1\" /><path clip-path=\"url(#clip800)\" d=\"M165.024 504.62 Q161.413 504.62 159.584 508.185 Q157.778 511.727 157.778 518.856 Q157.778 525.963 159.584 529.528 Q161.413 533.069 165.024 533.069 Q168.658 533.069 170.464 529.528 Q172.292 525.963 172.292 518.856 Q172.292 511.727 170.464 508.185 Q168.658 504.62 165.024 504.62 M165.024 500.917 Q170.834 500.917 173.889 505.523 Q176.968 510.106 176.968 518.856 Q176.968 527.583 173.889 532.19 Q170.834 536.773 165.024 536.773 Q159.214 536.773 156.135 532.19 Q153.079 527.583 153.079 518.856 Q153.079 510.106 156.135 505.523 Q159.214 500.917 165.024 500.917 Z\" fill=\"#000000\" fill-rule=\"nonzero\" fill-opacity=\"1\" /><path clip-path=\"url(#clip800)\" d=\"M185.186 530.222 L190.07 530.222 L190.07 536.102 L185.186 536.102 L185.186 530.222 Z\" fill=\"#000000\" fill-rule=\"nonzero\" fill-opacity=\"1\" /><path clip-path=\"url(#clip800)\" d=\"M210.255 504.62 Q206.644 504.62 204.815 508.185 Q203.01 511.727 203.01 518.856 Q203.01 525.963 204.815 529.528 Q206.644 533.069 210.255 533.069 Q213.889 533.069 215.695 529.528 Q217.523 525.963 217.523 518.856 Q217.523 511.727 215.695 508.185 Q213.889 504.62 210.255 504.62 M210.255 500.917 Q216.065 500.917 219.121 505.523 Q222.199 510.106 222.199 518.856 Q222.199 527.583 219.121 532.19 Q216.065 536.773 210.255 536.773 Q204.445 536.773 201.366 532.19 Q198.311 527.583 198.311 518.856 Q198.311 510.106 201.366 505.523 Q204.445 500.917 210.255 500.917 Z\" fill=\"#000000\" fill-rule=\"nonzero\" fill-opacity=\"1\" /><path clip-path=\"url(#clip800)\" d=\"M230.463 501.542 L248.82 501.542 L248.82 505.477 L234.746 505.477 L234.746 513.949 Q235.764 513.602 236.783 513.44 Q237.801 513.255 238.82 513.255 Q244.607 513.255 247.986 516.426 Q251.366 519.597 251.366 525.014 Q251.366 530.592 247.894 533.694 Q244.421 536.773 238.102 536.773 Q235.926 536.773 233.658 536.403 Q231.412 536.032 229.005 535.291 L229.005 530.592 Q231.088 531.727 233.31 532.282 Q235.533 532.838 238.009 532.838 Q242.014 532.838 244.352 530.731 Q246.69 528.625 246.69 525.014 Q246.69 521.403 244.352 519.296 Q242.014 517.19 238.009 517.19 Q236.135 517.19 234.26 517.606 Q232.408 518.023 230.463 518.903 L230.463 501.542 Z\" fill=\"#000000\" fill-rule=\"nonzero\" fill-opacity=\"1\" /><path clip-path=\"url(#clip800)\" d=\"M164.028 288.23 Q160.417 288.23 158.589 291.795 Q156.783 295.336 156.783 302.466 Q156.783 309.572 158.589 313.137 Q160.417 316.679 164.028 316.679 Q167.663 316.679 169.468 313.137 Q171.297 309.572 171.297 302.466 Q171.297 295.336 169.468 291.795 Q167.663 288.23 164.028 288.23 M164.028 284.526 Q169.839 284.526 172.894 289.133 Q175.973 293.716 175.973 302.466 Q175.973 311.193 172.894 315.799 Q169.839 320.383 164.028 320.383 Q158.218 320.383 155.14 315.799 Q152.084 311.193 152.084 302.466 Q152.084 293.716 155.14 289.133 Q158.218 284.526 164.028 284.526 Z\" fill=\"#000000\" fill-rule=\"nonzero\" fill-opacity=\"1\" /><path clip-path=\"url(#clip800)\" d=\"M184.19 313.832 L189.075 313.832 L189.075 319.711 L184.19 319.711 L184.19 313.832 Z\" fill=\"#000000\" fill-rule=\"nonzero\" fill-opacity=\"1\" /><path clip-path=\"url(#clip800)\" d=\"M200.07 315.776 L207.709 315.776 L207.709 289.411 L199.399 291.077 L199.399 286.818 L207.662 285.151 L212.338 285.151 L212.338 315.776 L219.977 315.776 L219.977 319.711 L200.07 319.711 L200.07 315.776 Z\" fill=\"#000000\" fill-rule=\"nonzero\" fill-opacity=\"1\" /><path clip-path=\"url(#clip800)\" d=\"M239.422 288.23 Q235.81 288.23 233.982 291.795 Q232.176 295.336 232.176 302.466 Q232.176 309.572 233.982 313.137 Q235.81 316.679 239.422 316.679 Q243.056 316.679 244.861 313.137 Q246.69 309.572 246.69 302.466 Q246.69 295.336 244.861 291.795 Q243.056 288.23 239.422 288.23 M239.422 284.526 Q245.232 284.526 248.287 289.133 Q251.366 293.716 251.366 302.466 Q251.366 311.193 248.287 315.799 Q245.232 320.383 239.422 320.383 Q233.611 320.383 230.533 315.799 Q227.477 311.193 227.477 302.466 Q227.477 293.716 230.533 289.133 Q233.611 284.526 239.422 284.526 Z\" fill=\"#000000\" fill-rule=\"nonzero\" fill-opacity=\"1\" /><path clip-path=\"url(#clip800)\" d=\"M165.024 71.8396 Q161.413 71.8396 159.584 75.4044 Q157.778 78.9461 157.778 86.0757 Q157.778 93.1821 159.584 96.7469 Q161.413 100.289 165.024 100.289 Q168.658 100.289 170.464 96.7469 Q172.292 93.1821 172.292 86.0757 Q172.292 78.9461 170.464 75.4044 Q168.658 71.8396 165.024 71.8396 M165.024 68.136 Q170.834 68.136 173.889 72.7424 Q176.968 77.3257 176.968 86.0757 Q176.968 94.8025 173.889 99.4089 Q170.834 103.992 165.024 103.992 Q159.214 103.992 156.135 99.4089 Q153.079 94.8025 153.079 86.0757 Q153.079 77.3257 156.135 72.7424 Q159.214 68.136 165.024 68.136 Z\" fill=\"#000000\" fill-rule=\"nonzero\" fill-opacity=\"1\" /><path clip-path=\"url(#clip800)\" d=\"M185.186 97.4414 L190.07 97.4414 L190.07 103.321 L185.186 103.321 L185.186 97.4414 Z\" fill=\"#000000\" fill-rule=\"nonzero\" fill-opacity=\"1\" /><path clip-path=\"url(#clip800)\" d=\"M201.065 99.3858 L208.704 99.3858 L208.704 73.0202 L200.394 74.6868 L200.394 70.4276 L208.658 68.761 L213.334 68.761 L213.334 99.3858 L220.973 99.3858 L220.973 103.321 L201.065 103.321 L201.065 99.3858 Z\" fill=\"#000000\" fill-rule=\"nonzero\" fill-opacity=\"1\" /><path clip-path=\"url(#clip800)\" d=\"M230.463 68.761 L248.82 68.761 L248.82 72.6961 L234.746 72.6961 L234.746 81.1683 Q235.764 80.8211 236.783 80.659 Q237.801 80.4739 238.82 80.4739 Q244.607 80.4739 247.986 83.6451 Q251.366 86.8164 251.366 92.233 Q251.366 97.8117 247.894 100.914 Q244.421 103.992 238.102 103.992 Q235.926 103.992 233.658 103.622 Q231.412 103.252 229.005 102.511 L229.005 97.8117 Q231.088 98.946 233.31 99.5015 Q235.533 100.057 238.009 100.057 Q242.014 100.057 244.352 97.9506 Q246.69 95.8441 246.69 92.233 Q246.69 88.622 244.352 86.5155 Q242.014 84.409 238.009 84.409 Q236.135 84.409 234.26 84.8257 Q232.408 85.2423 230.463 86.122 L230.463 68.761 Z\" fill=\"#000000\" fill-rule=\"nonzero\" fill-opacity=\"1\" /><path clip-path=\"url(#clip800)\" d=\"M16.4842 815.293 L16.4842 808.863 L64.0042 808.863 L64.0042 815.293 L16.4842 815.293 Z\" fill=\"#000000\" fill-rule=\"nonzero\" fill-opacity=\"1\" /><path clip-path=\"url(#clip800)\" d=\"M35.1993 768.568 Q31.2526 766.372 29.3747 763.317 Q27.4968 760.261 27.4968 756.123 Q27.4968 750.553 31.4117 747.53 Q35.2948 744.506 42.4881 744.506 L64.0042 744.506 L64.0042 750.394 L42.679 750.394 Q37.5546 750.394 35.072 752.208 Q32.5894 754.023 32.5894 757.747 Q32.5894 762.298 35.6131 764.94 Q38.6368 767.582 43.8567 767.582 L64.0042 767.582 L64.0042 773.47 L42.679 773.47 Q37.5228 773.47 35.072 775.284 Q32.5894 777.098 32.5894 780.886 Q32.5894 785.374 35.6449 788.016 Q38.6686 790.657 43.8567 790.657 L64.0042 790.657 L64.0042 796.546 L28.3562 796.546 L28.3562 790.657 L33.8944 790.657 Q30.616 788.652 29.0564 785.851 Q27.4968 783.05 27.4968 779.199 Q27.4968 775.316 29.4702 772.61 Q31.4436 769.873 35.1993 768.568 Z\" fill=\"#000000\" fill-rule=\"nonzero\" fill-opacity=\"1\" /><path clip-path=\"url(#clip800)\" d=\"M14.5426 718.757 Q21.8632 723.022 29.0246 725.09 Q36.186 727.159 43.5384 727.159 Q50.8908 727.159 58.1159 725.09 Q65.3091 722.99 72.5979 718.757 L72.5979 723.849 Q65.1182 728.623 57.8931 731.011 Q50.668 733.366 43.5384 733.366 Q36.4406 733.366 29.2474 731.011 Q22.0542 728.655 14.5426 723.849 L14.5426 718.757 Z\" fill=\"#000000\" fill-rule=\"nonzero\" fill-opacity=\"1\" /><path clip-path=\"url(#clip800)\" d=\"M28.3562 677.761 L45.7028 690.652 L64.0042 677.093 L64.0042 684 L49.9996 694.376 L64.0042 704.752 L64.0042 711.659 L45.3526 697.813 L28.3562 710.481 L28.3562 703.574 L41.0558 694.121 L28.3562 684.668 L28.3562 677.761 Z\" fill=\"#000000\" fill-rule=\"nonzero\" fill-opacity=\"1\" /><path clip-path=\"url(#clip800)\" d=\"M14.5426 669.741 L14.5426 664.648 Q22.0542 659.874 29.2474 657.519 Q36.4406 655.131 43.5384 655.131 Q50.668 655.131 57.8931 657.519 Q65.1182 659.874 72.5979 664.648 L72.5979 669.741 Q65.3091 665.507 58.1159 663.439 Q50.8908 661.338 43.5384 661.338 Q36.186 661.338 29.0246 663.439 Q21.8632 665.507 14.5426 669.741 Z\" fill=\"#000000\" fill-rule=\"nonzero\" fill-opacity=\"1\" /><circle clip-path=\"url(#clip802)\" cx=\"345.82\" cy=\"735.212\" r=\"14.4\" fill=\"#009af9\" fill-rule=\"evenodd\" fill-opacity=\"1\" stroke=\"#000000\" stroke-opacity=\"1\" stroke-width=\"3.2\"/>\n",
       "<circle clip-path=\"url(#clip802)\" cx=\"955.195\" cy=\"1384.24\" r=\"14.4\" fill=\"#009af9\" fill-rule=\"evenodd\" fill-opacity=\"1\" stroke=\"#000000\" stroke-opacity=\"1\" stroke-width=\"3.2\"/>\n",
       "<circle clip-path=\"url(#clip802)\" cx=\"955.195\" cy=\"86.1857\" r=\"14.4\" fill=\"#009af9\" fill-rule=\"evenodd\" fill-opacity=\"1\" stroke=\"#000000\" stroke-opacity=\"1\" stroke-width=\"3.2\"/>\n",
       "<circle clip-path=\"url(#clip802)\" cx=\"985.62\" cy=\"735.212\" r=\"14.4\" fill=\"#009af9\" fill-rule=\"evenodd\" fill-opacity=\"1\" stroke=\"#000000\" stroke-opacity=\"1\" stroke-width=\"3.2\"/>\n",
       "<circle clip-path=\"url(#clip802)\" cx=\"986.547\" cy=\"735.212\" r=\"14.4\" fill=\"#009af9\" fill-rule=\"evenodd\" fill-opacity=\"1\" stroke=\"#000000\" stroke-opacity=\"1\" stroke-width=\"3.2\"/>\n",
       "<circle clip-path=\"url(#clip802)\" cx=\"986.614\" cy=\"735.212\" r=\"14.4\" fill=\"#009af9\" fill-rule=\"evenodd\" fill-opacity=\"1\" stroke=\"#000000\" stroke-opacity=\"1\" stroke-width=\"3.2\"/>\n",
       "<circle clip-path=\"url(#clip802)\" cx=\"986.616\" cy=\"735.211\" r=\"14.4\" fill=\"#009af9\" fill-rule=\"evenodd\" fill-opacity=\"1\" stroke=\"#000000\" stroke-opacity=\"1\" stroke-width=\"3.2\"/>\n",
       "<circle clip-path=\"url(#clip802)\" cx=\"986.616\" cy=\"735.213\" r=\"14.4\" fill=\"#009af9\" fill-rule=\"evenodd\" fill-opacity=\"1\" stroke=\"#000000\" stroke-opacity=\"1\" stroke-width=\"3.2\"/>\n",
       "<circle clip-path=\"url(#clip802)\" cx=\"986.616\" cy=\"735.212\" r=\"14.4\" fill=\"#009af9\" fill-rule=\"evenodd\" fill-opacity=\"1\" stroke=\"#000000\" stroke-opacity=\"1\" stroke-width=\"3.2\"/>\n",
       "<circle clip-path=\"url(#clip802)\" cx=\"986.616\" cy=\"735.212\" r=\"14.4\" fill=\"#009af9\" fill-rule=\"evenodd\" fill-opacity=\"1\" stroke=\"#000000\" stroke-opacity=\"1\" stroke-width=\"3.2\"/>\n",
       "<circle clip-path=\"url(#clip802)\" cx=\"986.616\" cy=\"735.212\" r=\"14.4\" fill=\"#009af9\" fill-rule=\"evenodd\" fill-opacity=\"1\" stroke=\"#000000\" stroke-opacity=\"1\" stroke-width=\"3.2\"/>\n",
       "<circle clip-path=\"url(#clip802)\" cx=\"986.616\" cy=\"735.212\" r=\"14.4\" fill=\"#009af9\" fill-rule=\"evenodd\" fill-opacity=\"1\" stroke=\"#000000\" stroke-opacity=\"1\" stroke-width=\"3.2\"/>\n",
       "<circle clip-path=\"url(#clip802)\" cx=\"986.616\" cy=\"735.212\" r=\"14.4\" fill=\"#009af9\" fill-rule=\"evenodd\" fill-opacity=\"1\" stroke=\"#000000\" stroke-opacity=\"1\" stroke-width=\"3.2\"/>\n",
       "<circle clip-path=\"url(#clip802)\" cx=\"986.616\" cy=\"735.212\" r=\"14.4\" fill=\"#009af9\" fill-rule=\"evenodd\" fill-opacity=\"1\" stroke=\"#000000\" stroke-opacity=\"1\" stroke-width=\"3.2\"/>\n",
       "<circle clip-path=\"url(#clip802)\" cx=\"986.616\" cy=\"735.212\" r=\"14.4\" fill=\"#009af9\" fill-rule=\"evenodd\" fill-opacity=\"1\" stroke=\"#000000\" stroke-opacity=\"1\" stroke-width=\"3.2\"/>\n",
       "<circle clip-path=\"url(#clip802)\" cx=\"986.616\" cy=\"735.212\" r=\"14.4\" fill=\"#009af9\" fill-rule=\"evenodd\" fill-opacity=\"1\" stroke=\"#000000\" stroke-opacity=\"1\" stroke-width=\"3.2\"/>\n",
       "<circle clip-path=\"url(#clip802)\" cx=\"986.616\" cy=\"735.212\" r=\"14.4\" fill=\"#009af9\" fill-rule=\"evenodd\" fill-opacity=\"1\" stroke=\"#000000\" stroke-opacity=\"1\" stroke-width=\"3.2\"/>\n",
       "<circle clip-path=\"url(#clip802)\" cx=\"986.616\" cy=\"735.212\" r=\"14.4\" fill=\"#009af9\" fill-rule=\"evenodd\" fill-opacity=\"1\" stroke=\"#000000\" stroke-opacity=\"1\" stroke-width=\"3.2\"/>\n",
       "<circle clip-path=\"url(#clip802)\" cx=\"986.616\" cy=\"735.212\" r=\"14.4\" fill=\"#009af9\" fill-rule=\"evenodd\" fill-opacity=\"1\" stroke=\"#000000\" stroke-opacity=\"1\" stroke-width=\"3.2\"/>\n",
       "<circle clip-path=\"url(#clip802)\" cx=\"986.616\" cy=\"735.212\" r=\"14.4\" fill=\"#009af9\" fill-rule=\"evenodd\" fill-opacity=\"1\" stroke=\"#000000\" stroke-opacity=\"1\" stroke-width=\"3.2\"/>\n",
       "<circle clip-path=\"url(#clip802)\" cx=\"986.616\" cy=\"735.212\" r=\"14.4\" fill=\"#009af9\" fill-rule=\"evenodd\" fill-opacity=\"1\" stroke=\"#000000\" stroke-opacity=\"1\" stroke-width=\"3.2\"/>\n",
       "<circle clip-path=\"url(#clip802)\" cx=\"986.616\" cy=\"735.212\" r=\"14.4\" fill=\"#009af9\" fill-rule=\"evenodd\" fill-opacity=\"1\" stroke=\"#000000\" stroke-opacity=\"1\" stroke-width=\"3.2\"/>\n",
       "<circle clip-path=\"url(#clip802)\" cx=\"986.616\" cy=\"735.212\" r=\"14.4\" fill=\"#009af9\" fill-rule=\"evenodd\" fill-opacity=\"1\" stroke=\"#000000\" stroke-opacity=\"1\" stroke-width=\"3.2\"/>\n",
       "<circle clip-path=\"url(#clip802)\" cx=\"986.616\" cy=\"735.212\" r=\"14.4\" fill=\"#009af9\" fill-rule=\"evenodd\" fill-opacity=\"1\" stroke=\"#000000\" stroke-opacity=\"1\" stroke-width=\"3.2\"/>\n",
       "<circle clip-path=\"url(#clip802)\" cx=\"986.616\" cy=\"735.212\" r=\"14.4\" fill=\"#009af9\" fill-rule=\"evenodd\" fill-opacity=\"1\" stroke=\"#000000\" stroke-opacity=\"1\" stroke-width=\"3.2\"/>\n",
       "<circle clip-path=\"url(#clip802)\" cx=\"986.616\" cy=\"735.212\" r=\"14.4\" fill=\"#009af9\" fill-rule=\"evenodd\" fill-opacity=\"1\" stroke=\"#000000\" stroke-opacity=\"1\" stroke-width=\"3.2\"/>\n",
       "<circle clip-path=\"url(#clip802)\" cx=\"986.616\" cy=\"735.212\" r=\"14.4\" fill=\"#009af9\" fill-rule=\"evenodd\" fill-opacity=\"1\" stroke=\"#000000\" stroke-opacity=\"1\" stroke-width=\"3.2\"/>\n",
       "<circle clip-path=\"url(#clip802)\" cx=\"986.616\" cy=\"735.212\" r=\"14.4\" fill=\"#009af9\" fill-rule=\"evenodd\" fill-opacity=\"1\" stroke=\"#000000\" stroke-opacity=\"1\" stroke-width=\"3.2\"/>\n",
       "<circle clip-path=\"url(#clip802)\" cx=\"986.616\" cy=\"735.212\" r=\"14.4\" fill=\"#009af9\" fill-rule=\"evenodd\" fill-opacity=\"1\" stroke=\"#000000\" stroke-opacity=\"1\" stroke-width=\"3.2\"/>\n",
       "<circle clip-path=\"url(#clip802)\" cx=\"986.616\" cy=\"735.212\" r=\"14.4\" fill=\"#009af9\" fill-rule=\"evenodd\" fill-opacity=\"1\" stroke=\"#000000\" stroke-opacity=\"1\" stroke-width=\"3.2\"/>\n",
       "<circle clip-path=\"url(#clip802)\" cx=\"986.616\" cy=\"735.212\" r=\"14.4\" fill=\"#009af9\" fill-rule=\"evenodd\" fill-opacity=\"1\" stroke=\"#000000\" stroke-opacity=\"1\" stroke-width=\"3.2\"/>\n",
       "<circle clip-path=\"url(#clip802)\" cx=\"986.616\" cy=\"735.212\" r=\"14.4\" fill=\"#009af9\" fill-rule=\"evenodd\" fill-opacity=\"1\" stroke=\"#000000\" stroke-opacity=\"1\" stroke-width=\"3.2\"/>\n",
       "<circle clip-path=\"url(#clip802)\" cx=\"986.616\" cy=\"735.212\" r=\"14.4\" fill=\"#009af9\" fill-rule=\"evenodd\" fill-opacity=\"1\" stroke=\"#000000\" stroke-opacity=\"1\" stroke-width=\"3.2\"/>\n",
       "<circle clip-path=\"url(#clip802)\" cx=\"986.616\" cy=\"735.212\" r=\"14.4\" fill=\"#009af9\" fill-rule=\"evenodd\" fill-opacity=\"1\" stroke=\"#000000\" stroke-opacity=\"1\" stroke-width=\"3.2\"/>\n",
       "<circle clip-path=\"url(#clip802)\" cx=\"986.616\" cy=\"735.212\" r=\"14.4\" fill=\"#009af9\" fill-rule=\"evenodd\" fill-opacity=\"1\" stroke=\"#000000\" stroke-opacity=\"1\" stroke-width=\"3.2\"/>\n",
       "<circle clip-path=\"url(#clip802)\" cx=\"986.616\" cy=\"735.212\" r=\"14.4\" fill=\"#009af9\" fill-rule=\"evenodd\" fill-opacity=\"1\" stroke=\"#000000\" stroke-opacity=\"1\" stroke-width=\"3.2\"/>\n",
       "<circle clip-path=\"url(#clip802)\" cx=\"986.616\" cy=\"735.212\" r=\"14.4\" fill=\"#009af9\" fill-rule=\"evenodd\" fill-opacity=\"1\" stroke=\"#000000\" stroke-opacity=\"1\" stroke-width=\"3.2\"/>\n",
       "<circle clip-path=\"url(#clip802)\" cx=\"986.616\" cy=\"735.212\" r=\"14.4\" fill=\"#009af9\" fill-rule=\"evenodd\" fill-opacity=\"1\" stroke=\"#000000\" stroke-opacity=\"1\" stroke-width=\"3.2\"/>\n",
       "<circle clip-path=\"url(#clip802)\" cx=\"986.616\" cy=\"735.212\" r=\"14.4\" fill=\"#009af9\" fill-rule=\"evenodd\" fill-opacity=\"1\" stroke=\"#000000\" stroke-opacity=\"1\" stroke-width=\"3.2\"/>\n",
       "<circle clip-path=\"url(#clip802)\" cx=\"986.616\" cy=\"735.212\" r=\"14.4\" fill=\"#009af9\" fill-rule=\"evenodd\" fill-opacity=\"1\" stroke=\"#000000\" stroke-opacity=\"1\" stroke-width=\"3.2\"/>\n",
       "<circle clip-path=\"url(#clip802)\" cx=\"986.616\" cy=\"735.212\" r=\"14.4\" fill=\"#009af9\" fill-rule=\"evenodd\" fill-opacity=\"1\" stroke=\"#000000\" stroke-opacity=\"1\" stroke-width=\"3.2\"/>\n",
       "<circle clip-path=\"url(#clip802)\" cx=\"986.616\" cy=\"735.212\" r=\"14.4\" fill=\"#009af9\" fill-rule=\"evenodd\" fill-opacity=\"1\" stroke=\"#000000\" stroke-opacity=\"1\" stroke-width=\"3.2\"/>\n",
       "<circle clip-path=\"url(#clip802)\" cx=\"986.616\" cy=\"735.212\" r=\"14.4\" fill=\"#009af9\" fill-rule=\"evenodd\" fill-opacity=\"1\" stroke=\"#000000\" stroke-opacity=\"1\" stroke-width=\"3.2\"/>\n",
       "<circle clip-path=\"url(#clip802)\" cx=\"986.616\" cy=\"735.212\" r=\"14.4\" fill=\"#009af9\" fill-rule=\"evenodd\" fill-opacity=\"1\" stroke=\"#000000\" stroke-opacity=\"1\" stroke-width=\"3.2\"/>\n",
       "<circle clip-path=\"url(#clip802)\" cx=\"986.616\" cy=\"735.212\" r=\"14.4\" fill=\"#009af9\" fill-rule=\"evenodd\" fill-opacity=\"1\" stroke=\"#000000\" stroke-opacity=\"1\" stroke-width=\"3.2\"/>\n",
       "<circle clip-path=\"url(#clip802)\" cx=\"986.616\" cy=\"735.212\" r=\"14.4\" fill=\"#009af9\" fill-rule=\"evenodd\" fill-opacity=\"1\" stroke=\"#000000\" stroke-opacity=\"1\" stroke-width=\"3.2\"/>\n",
       "<circle clip-path=\"url(#clip802)\" cx=\"986.616\" cy=\"735.212\" r=\"14.4\" fill=\"#009af9\" fill-rule=\"evenodd\" fill-opacity=\"1\" stroke=\"#000000\" stroke-opacity=\"1\" stroke-width=\"3.2\"/>\n",
       "<circle clip-path=\"url(#clip802)\" cx=\"986.616\" cy=\"735.212\" r=\"14.4\" fill=\"#009af9\" fill-rule=\"evenodd\" fill-opacity=\"1\" stroke=\"#000000\" stroke-opacity=\"1\" stroke-width=\"3.2\"/>\n",
       "<circle clip-path=\"url(#clip802)\" cx=\"986.616\" cy=\"735.212\" r=\"14.4\" fill=\"#009af9\" fill-rule=\"evenodd\" fill-opacity=\"1\" stroke=\"#000000\" stroke-opacity=\"1\" stroke-width=\"3.2\"/>\n",
       "<circle clip-path=\"url(#clip802)\" cx=\"986.616\" cy=\"735.212\" r=\"14.4\" fill=\"#009af9\" fill-rule=\"evenodd\" fill-opacity=\"1\" stroke=\"#000000\" stroke-opacity=\"1\" stroke-width=\"3.2\"/>\n",
       "<circle clip-path=\"url(#clip802)\" cx=\"986.616\" cy=\"735.212\" r=\"14.4\" fill=\"#009af9\" fill-rule=\"evenodd\" fill-opacity=\"1\" stroke=\"#000000\" stroke-opacity=\"1\" stroke-width=\"3.2\"/>\n",
       "<circle clip-path=\"url(#clip802)\" cx=\"986.616\" cy=\"735.212\" r=\"14.4\" fill=\"#009af9\" fill-rule=\"evenodd\" fill-opacity=\"1\" stroke=\"#000000\" stroke-opacity=\"1\" stroke-width=\"3.2\"/>\n",
       "<circle clip-path=\"url(#clip802)\" cx=\"986.616\" cy=\"735.212\" r=\"14.4\" fill=\"#009af9\" fill-rule=\"evenodd\" fill-opacity=\"1\" stroke=\"#000000\" stroke-opacity=\"1\" stroke-width=\"3.2\"/>\n",
       "<circle clip-path=\"url(#clip802)\" cx=\"986.616\" cy=\"735.212\" r=\"14.4\" fill=\"#009af9\" fill-rule=\"evenodd\" fill-opacity=\"1\" stroke=\"#000000\" stroke-opacity=\"1\" stroke-width=\"3.2\"/>\n",
       "<circle clip-path=\"url(#clip802)\" cx=\"986.616\" cy=\"735.212\" r=\"14.4\" fill=\"#009af9\" fill-rule=\"evenodd\" fill-opacity=\"1\" stroke=\"#000000\" stroke-opacity=\"1\" stroke-width=\"3.2\"/>\n",
       "<circle clip-path=\"url(#clip802)\" cx=\"986.616\" cy=\"735.212\" r=\"14.4\" fill=\"#009af9\" fill-rule=\"evenodd\" fill-opacity=\"1\" stroke=\"#000000\" stroke-opacity=\"1\" stroke-width=\"3.2\"/>\n",
       "<circle clip-path=\"url(#clip802)\" cx=\"986.616\" cy=\"735.212\" r=\"14.4\" fill=\"#009af9\" fill-rule=\"evenodd\" fill-opacity=\"1\" stroke=\"#000000\" stroke-opacity=\"1\" stroke-width=\"3.2\"/>\n",
       "<circle clip-path=\"url(#clip802)\" cx=\"986.616\" cy=\"735.212\" r=\"14.4\" fill=\"#009af9\" fill-rule=\"evenodd\" fill-opacity=\"1\" stroke=\"#000000\" stroke-opacity=\"1\" stroke-width=\"3.2\"/>\n",
       "<circle clip-path=\"url(#clip802)\" cx=\"986.616\" cy=\"735.212\" r=\"14.4\" fill=\"#009af9\" fill-rule=\"evenodd\" fill-opacity=\"1\" stroke=\"#000000\" stroke-opacity=\"1\" stroke-width=\"3.2\"/>\n",
       "<circle clip-path=\"url(#clip802)\" cx=\"986.616\" cy=\"735.212\" r=\"14.4\" fill=\"#009af9\" fill-rule=\"evenodd\" fill-opacity=\"1\" stroke=\"#000000\" stroke-opacity=\"1\" stroke-width=\"3.2\"/>\n",
       "<circle clip-path=\"url(#clip802)\" cx=\"986.616\" cy=\"735.212\" r=\"14.4\" fill=\"#009af9\" fill-rule=\"evenodd\" fill-opacity=\"1\" stroke=\"#000000\" stroke-opacity=\"1\" stroke-width=\"3.2\"/>\n",
       "<circle clip-path=\"url(#clip802)\" cx=\"986.616\" cy=\"735.212\" r=\"14.4\" fill=\"#009af9\" fill-rule=\"evenodd\" fill-opacity=\"1\" stroke=\"#000000\" stroke-opacity=\"1\" stroke-width=\"3.2\"/>\n",
       "<circle clip-path=\"url(#clip802)\" cx=\"986.616\" cy=\"735.212\" r=\"14.4\" fill=\"#009af9\" fill-rule=\"evenodd\" fill-opacity=\"1\" stroke=\"#000000\" stroke-opacity=\"1\" stroke-width=\"3.2\"/>\n",
       "<circle clip-path=\"url(#clip802)\" cx=\"986.616\" cy=\"735.212\" r=\"14.4\" fill=\"#009af9\" fill-rule=\"evenodd\" fill-opacity=\"1\" stroke=\"#000000\" stroke-opacity=\"1\" stroke-width=\"3.2\"/>\n",
       "<circle clip-path=\"url(#clip802)\" cx=\"986.616\" cy=\"735.212\" r=\"14.4\" fill=\"#009af9\" fill-rule=\"evenodd\" fill-opacity=\"1\" stroke=\"#000000\" stroke-opacity=\"1\" stroke-width=\"3.2\"/>\n",
       "<circle clip-path=\"url(#clip802)\" cx=\"986.616\" cy=\"735.212\" r=\"14.4\" fill=\"#009af9\" fill-rule=\"evenodd\" fill-opacity=\"1\" stroke=\"#000000\" stroke-opacity=\"1\" stroke-width=\"3.2\"/>\n",
       "<circle clip-path=\"url(#clip802)\" cx=\"986.616\" cy=\"735.212\" r=\"14.4\" fill=\"#009af9\" fill-rule=\"evenodd\" fill-opacity=\"1\" stroke=\"#000000\" stroke-opacity=\"1\" stroke-width=\"3.2\"/>\n",
       "<circle clip-path=\"url(#clip802)\" cx=\"986.616\" cy=\"735.212\" r=\"14.4\" fill=\"#009af9\" fill-rule=\"evenodd\" fill-opacity=\"1\" stroke=\"#000000\" stroke-opacity=\"1\" stroke-width=\"3.2\"/>\n",
       "<circle clip-path=\"url(#clip802)\" cx=\"986.616\" cy=\"735.212\" r=\"14.4\" fill=\"#009af9\" fill-rule=\"evenodd\" fill-opacity=\"1\" stroke=\"#000000\" stroke-opacity=\"1\" stroke-width=\"3.2\"/>\n",
       "<circle clip-path=\"url(#clip802)\" cx=\"986.616\" cy=\"735.212\" r=\"14.4\" fill=\"#009af9\" fill-rule=\"evenodd\" fill-opacity=\"1\" stroke=\"#000000\" stroke-opacity=\"1\" stroke-width=\"3.2\"/>\n",
       "<circle clip-path=\"url(#clip802)\" cx=\"986.616\" cy=\"735.212\" r=\"14.4\" fill=\"#009af9\" fill-rule=\"evenodd\" fill-opacity=\"1\" stroke=\"#000000\" stroke-opacity=\"1\" stroke-width=\"3.2\"/>\n",
       "<circle clip-path=\"url(#clip802)\" cx=\"986.616\" cy=\"735.212\" r=\"14.4\" fill=\"#009af9\" fill-rule=\"evenodd\" fill-opacity=\"1\" stroke=\"#000000\" stroke-opacity=\"1\" stroke-width=\"3.2\"/>\n",
       "<circle clip-path=\"url(#clip802)\" cx=\"986.616\" cy=\"735.212\" r=\"14.4\" fill=\"#009af9\" fill-rule=\"evenodd\" fill-opacity=\"1\" stroke=\"#000000\" stroke-opacity=\"1\" stroke-width=\"3.2\"/>\n",
       "<circle clip-path=\"url(#clip802)\" cx=\"986.616\" cy=\"735.212\" r=\"14.4\" fill=\"#009af9\" fill-rule=\"evenodd\" fill-opacity=\"1\" stroke=\"#000000\" stroke-opacity=\"1\" stroke-width=\"3.2\"/>\n",
       "<circle clip-path=\"url(#clip802)\" cx=\"986.616\" cy=\"735.212\" r=\"14.4\" fill=\"#009af9\" fill-rule=\"evenodd\" fill-opacity=\"1\" stroke=\"#000000\" stroke-opacity=\"1\" stroke-width=\"3.2\"/>\n",
       "<circle clip-path=\"url(#clip802)\" cx=\"986.616\" cy=\"735.212\" r=\"14.4\" fill=\"#009af9\" fill-rule=\"evenodd\" fill-opacity=\"1\" stroke=\"#000000\" stroke-opacity=\"1\" stroke-width=\"3.2\"/>\n",
       "<circle clip-path=\"url(#clip802)\" cx=\"986.616\" cy=\"735.212\" r=\"14.4\" fill=\"#009af9\" fill-rule=\"evenodd\" fill-opacity=\"1\" stroke=\"#000000\" stroke-opacity=\"1\" stroke-width=\"3.2\"/>\n",
       "<circle clip-path=\"url(#clip802)\" cx=\"986.616\" cy=\"735.212\" r=\"14.4\" fill=\"#009af9\" fill-rule=\"evenodd\" fill-opacity=\"1\" stroke=\"#000000\" stroke-opacity=\"1\" stroke-width=\"3.2\"/>\n",
       "<circle clip-path=\"url(#clip802)\" cx=\"986.616\" cy=\"735.212\" r=\"14.4\" fill=\"#009af9\" fill-rule=\"evenodd\" fill-opacity=\"1\" stroke=\"#000000\" stroke-opacity=\"1\" stroke-width=\"3.2\"/>\n",
       "<circle clip-path=\"url(#clip802)\" cx=\"986.616\" cy=\"735.212\" r=\"14.4\" fill=\"#009af9\" fill-rule=\"evenodd\" fill-opacity=\"1\" stroke=\"#000000\" stroke-opacity=\"1\" stroke-width=\"3.2\"/>\n",
       "<circle clip-path=\"url(#clip802)\" cx=\"986.616\" cy=\"735.212\" r=\"14.4\" fill=\"#009af9\" fill-rule=\"evenodd\" fill-opacity=\"1\" stroke=\"#000000\" stroke-opacity=\"1\" stroke-width=\"3.2\"/>\n",
       "<circle clip-path=\"url(#clip802)\" cx=\"986.616\" cy=\"735.212\" r=\"14.4\" fill=\"#009af9\" fill-rule=\"evenodd\" fill-opacity=\"1\" stroke=\"#000000\" stroke-opacity=\"1\" stroke-width=\"3.2\"/>\n",
       "<circle clip-path=\"url(#clip802)\" cx=\"986.616\" cy=\"735.212\" r=\"14.4\" fill=\"#009af9\" fill-rule=\"evenodd\" fill-opacity=\"1\" stroke=\"#000000\" stroke-opacity=\"1\" stroke-width=\"3.2\"/>\n",
       "<circle clip-path=\"url(#clip802)\" cx=\"986.616\" cy=\"735.212\" r=\"14.4\" fill=\"#009af9\" fill-rule=\"evenodd\" fill-opacity=\"1\" stroke=\"#000000\" stroke-opacity=\"1\" stroke-width=\"3.2\"/>\n",
       "<circle clip-path=\"url(#clip802)\" cx=\"986.616\" cy=\"735.212\" r=\"14.4\" fill=\"#009af9\" fill-rule=\"evenodd\" fill-opacity=\"1\" stroke=\"#000000\" stroke-opacity=\"1\" stroke-width=\"3.2\"/>\n",
       "<circle clip-path=\"url(#clip802)\" cx=\"986.616\" cy=\"735.212\" r=\"14.4\" fill=\"#009af9\" fill-rule=\"evenodd\" fill-opacity=\"1\" stroke=\"#000000\" stroke-opacity=\"1\" stroke-width=\"3.2\"/>\n",
       "<circle clip-path=\"url(#clip802)\" cx=\"986.616\" cy=\"735.212\" r=\"14.4\" fill=\"#009af9\" fill-rule=\"evenodd\" fill-opacity=\"1\" stroke=\"#000000\" stroke-opacity=\"1\" stroke-width=\"3.2\"/>\n",
       "<circle clip-path=\"url(#clip802)\" cx=\"986.616\" cy=\"735.212\" r=\"14.4\" fill=\"#009af9\" fill-rule=\"evenodd\" fill-opacity=\"1\" stroke=\"#000000\" stroke-opacity=\"1\" stroke-width=\"3.2\"/>\n",
       "<circle clip-path=\"url(#clip802)\" cx=\"986.616\" cy=\"735.212\" r=\"14.4\" fill=\"#009af9\" fill-rule=\"evenodd\" fill-opacity=\"1\" stroke=\"#000000\" stroke-opacity=\"1\" stroke-width=\"3.2\"/>\n",
       "<circle clip-path=\"url(#clip802)\" cx=\"986.616\" cy=\"735.212\" r=\"14.4\" fill=\"#009af9\" fill-rule=\"evenodd\" fill-opacity=\"1\" stroke=\"#000000\" stroke-opacity=\"1\" stroke-width=\"3.2\"/>\n",
       "<circle clip-path=\"url(#clip802)\" cx=\"986.616\" cy=\"735.212\" r=\"14.4\" fill=\"#009af9\" fill-rule=\"evenodd\" fill-opacity=\"1\" stroke=\"#000000\" stroke-opacity=\"1\" stroke-width=\"3.2\"/>\n",
       "<circle clip-path=\"url(#clip802)\" cx=\"986.616\" cy=\"735.212\" r=\"14.4\" fill=\"#009af9\" fill-rule=\"evenodd\" fill-opacity=\"1\" stroke=\"#000000\" stroke-opacity=\"1\" stroke-width=\"3.2\"/>\n",
       "<circle clip-path=\"url(#clip802)\" cx=\"986.616\" cy=\"735.212\" r=\"14.4\" fill=\"#009af9\" fill-rule=\"evenodd\" fill-opacity=\"1\" stroke=\"#000000\" stroke-opacity=\"1\" stroke-width=\"3.2\"/>\n",
       "<circle clip-path=\"url(#clip802)\" cx=\"986.616\" cy=\"735.212\" r=\"14.4\" fill=\"#009af9\" fill-rule=\"evenodd\" fill-opacity=\"1\" stroke=\"#000000\" stroke-opacity=\"1\" stroke-width=\"3.2\"/>\n",
       "<circle clip-path=\"url(#clip802)\" cx=\"986.616\" cy=\"735.212\" r=\"14.4\" fill=\"#009af9\" fill-rule=\"evenodd\" fill-opacity=\"1\" stroke=\"#000000\" stroke-opacity=\"1\" stroke-width=\"3.2\"/>\n",
       "<circle clip-path=\"url(#clip802)\" cx=\"986.616\" cy=\"735.212\" r=\"14.4\" fill=\"#009af9\" fill-rule=\"evenodd\" fill-opacity=\"1\" stroke=\"#000000\" stroke-opacity=\"1\" stroke-width=\"3.2\"/>\n",
       "<circle clip-path=\"url(#clip802)\" cx=\"986.616\" cy=\"735.212\" r=\"14.4\" fill=\"#009af9\" fill-rule=\"evenodd\" fill-opacity=\"1\" stroke=\"#000000\" stroke-opacity=\"1\" stroke-width=\"3.2\"/>\n",
       "<circle clip-path=\"url(#clip802)\" cx=\"986.616\" cy=\"735.212\" r=\"14.4\" fill=\"#009af9\" fill-rule=\"evenodd\" fill-opacity=\"1\" stroke=\"#000000\" stroke-opacity=\"1\" stroke-width=\"3.2\"/>\n",
       "<circle clip-path=\"url(#clip802)\" cx=\"986.616\" cy=\"735.212\" r=\"14.4\" fill=\"#009af9\" fill-rule=\"evenodd\" fill-opacity=\"1\" stroke=\"#000000\" stroke-opacity=\"1\" stroke-width=\"3.2\"/>\n",
       "<circle clip-path=\"url(#clip802)\" cx=\"986.616\" cy=\"735.212\" r=\"14.4\" fill=\"#009af9\" fill-rule=\"evenodd\" fill-opacity=\"1\" stroke=\"#000000\" stroke-opacity=\"1\" stroke-width=\"3.2\"/>\n",
       "<circle clip-path=\"url(#clip802)\" cx=\"986.616\" cy=\"735.212\" r=\"14.4\" fill=\"#009af9\" fill-rule=\"evenodd\" fill-opacity=\"1\" stroke=\"#000000\" stroke-opacity=\"1\" stroke-width=\"3.2\"/>\n",
       "<circle clip-path=\"url(#clip802)\" cx=\"986.616\" cy=\"735.212\" r=\"14.4\" fill=\"#009af9\" fill-rule=\"evenodd\" fill-opacity=\"1\" stroke=\"#000000\" stroke-opacity=\"1\" stroke-width=\"3.2\"/>\n",
       "<circle clip-path=\"url(#clip802)\" cx=\"986.616\" cy=\"735.212\" r=\"14.4\" fill=\"#009af9\" fill-rule=\"evenodd\" fill-opacity=\"1\" stroke=\"#000000\" stroke-opacity=\"1\" stroke-width=\"3.2\"/>\n",
       "<circle clip-path=\"url(#clip802)\" cx=\"986.616\" cy=\"735.212\" r=\"14.4\" fill=\"#009af9\" fill-rule=\"evenodd\" fill-opacity=\"1\" stroke=\"#000000\" stroke-opacity=\"1\" stroke-width=\"3.2\"/>\n",
       "<circle clip-path=\"url(#clip802)\" cx=\"986.616\" cy=\"735.212\" r=\"14.4\" fill=\"#009af9\" fill-rule=\"evenodd\" fill-opacity=\"1\" stroke=\"#000000\" stroke-opacity=\"1\" stroke-width=\"3.2\"/>\n",
       "<circle clip-path=\"url(#clip802)\" cx=\"986.616\" cy=\"735.212\" r=\"14.4\" fill=\"#009af9\" fill-rule=\"evenodd\" fill-opacity=\"1\" stroke=\"#000000\" stroke-opacity=\"1\" stroke-width=\"3.2\"/>\n",
       "<circle clip-path=\"url(#clip802)\" cx=\"986.616\" cy=\"735.212\" r=\"14.4\" fill=\"#009af9\" fill-rule=\"evenodd\" fill-opacity=\"1\" stroke=\"#000000\" stroke-opacity=\"1\" stroke-width=\"3.2\"/>\n",
       "<circle clip-path=\"url(#clip802)\" cx=\"986.616\" cy=\"735.212\" r=\"14.4\" fill=\"#009af9\" fill-rule=\"evenodd\" fill-opacity=\"1\" stroke=\"#000000\" stroke-opacity=\"1\" stroke-width=\"3.2\"/>\n",
       "<circle clip-path=\"url(#clip802)\" cx=\"986.616\" cy=\"735.212\" r=\"14.4\" fill=\"#009af9\" fill-rule=\"evenodd\" fill-opacity=\"1\" stroke=\"#000000\" stroke-opacity=\"1\" stroke-width=\"3.2\"/>\n",
       "<circle clip-path=\"url(#clip802)\" cx=\"986.616\" cy=\"735.212\" r=\"14.4\" fill=\"#009af9\" fill-rule=\"evenodd\" fill-opacity=\"1\" stroke=\"#000000\" stroke-opacity=\"1\" stroke-width=\"3.2\"/>\n",
       "<circle clip-path=\"url(#clip802)\" cx=\"986.616\" cy=\"735.212\" r=\"14.4\" fill=\"#009af9\" fill-rule=\"evenodd\" fill-opacity=\"1\" stroke=\"#000000\" stroke-opacity=\"1\" stroke-width=\"3.2\"/>\n",
       "<circle clip-path=\"url(#clip802)\" cx=\"986.616\" cy=\"735.212\" r=\"14.4\" fill=\"#009af9\" fill-rule=\"evenodd\" fill-opacity=\"1\" stroke=\"#000000\" stroke-opacity=\"1\" stroke-width=\"3.2\"/>\n",
       "<circle clip-path=\"url(#clip802)\" cx=\"986.616\" cy=\"735.212\" r=\"14.4\" fill=\"#009af9\" fill-rule=\"evenodd\" fill-opacity=\"1\" stroke=\"#000000\" stroke-opacity=\"1\" stroke-width=\"3.2\"/>\n",
       "<circle clip-path=\"url(#clip802)\" cx=\"986.616\" cy=\"735.212\" r=\"14.4\" fill=\"#009af9\" fill-rule=\"evenodd\" fill-opacity=\"1\" stroke=\"#000000\" stroke-opacity=\"1\" stroke-width=\"3.2\"/>\n",
       "<circle clip-path=\"url(#clip802)\" cx=\"986.616\" cy=\"735.212\" r=\"14.4\" fill=\"#009af9\" fill-rule=\"evenodd\" fill-opacity=\"1\" stroke=\"#000000\" stroke-opacity=\"1\" stroke-width=\"3.2\"/>\n",
       "<circle clip-path=\"url(#clip802)\" cx=\"986.616\" cy=\"735.212\" r=\"14.4\" fill=\"#009af9\" fill-rule=\"evenodd\" fill-opacity=\"1\" stroke=\"#000000\" stroke-opacity=\"1\" stroke-width=\"3.2\"/>\n",
       "<circle clip-path=\"url(#clip802)\" cx=\"986.616\" cy=\"735.212\" r=\"14.4\" fill=\"#009af9\" fill-rule=\"evenodd\" fill-opacity=\"1\" stroke=\"#000000\" stroke-opacity=\"1\" stroke-width=\"3.2\"/>\n",
       "<circle clip-path=\"url(#clip802)\" cx=\"986.616\" cy=\"735.212\" r=\"14.4\" fill=\"#009af9\" fill-rule=\"evenodd\" fill-opacity=\"1\" stroke=\"#000000\" stroke-opacity=\"1\" stroke-width=\"3.2\"/>\n",
       "<circle clip-path=\"url(#clip802)\" cx=\"986.616\" cy=\"735.212\" r=\"14.4\" fill=\"#009af9\" fill-rule=\"evenodd\" fill-opacity=\"1\" stroke=\"#000000\" stroke-opacity=\"1\" stroke-width=\"3.2\"/>\n",
       "<circle clip-path=\"url(#clip802)\" cx=\"986.616\" cy=\"735.212\" r=\"14.4\" fill=\"#009af9\" fill-rule=\"evenodd\" fill-opacity=\"1\" stroke=\"#000000\" stroke-opacity=\"1\" stroke-width=\"3.2\"/>\n",
       "<circle clip-path=\"url(#clip802)\" cx=\"986.616\" cy=\"735.212\" r=\"14.4\" fill=\"#009af9\" fill-rule=\"evenodd\" fill-opacity=\"1\" stroke=\"#000000\" stroke-opacity=\"1\" stroke-width=\"3.2\"/>\n",
       "<circle clip-path=\"url(#clip802)\" cx=\"986.616\" cy=\"735.212\" r=\"14.4\" fill=\"#009af9\" fill-rule=\"evenodd\" fill-opacity=\"1\" stroke=\"#000000\" stroke-opacity=\"1\" stroke-width=\"3.2\"/>\n",
       "<circle clip-path=\"url(#clip802)\" cx=\"986.616\" cy=\"735.212\" r=\"14.4\" fill=\"#009af9\" fill-rule=\"evenodd\" fill-opacity=\"1\" stroke=\"#000000\" stroke-opacity=\"1\" stroke-width=\"3.2\"/>\n",
       "<circle clip-path=\"url(#clip802)\" cx=\"986.616\" cy=\"735.212\" r=\"14.4\" fill=\"#009af9\" fill-rule=\"evenodd\" fill-opacity=\"1\" stroke=\"#000000\" stroke-opacity=\"1\" stroke-width=\"3.2\"/>\n",
       "<circle clip-path=\"url(#clip802)\" cx=\"986.616\" cy=\"735.212\" r=\"14.4\" fill=\"#009af9\" fill-rule=\"evenodd\" fill-opacity=\"1\" stroke=\"#000000\" stroke-opacity=\"1\" stroke-width=\"3.2\"/>\n",
       "<circle clip-path=\"url(#clip802)\" cx=\"986.616\" cy=\"735.212\" r=\"14.4\" fill=\"#009af9\" fill-rule=\"evenodd\" fill-opacity=\"1\" stroke=\"#000000\" stroke-opacity=\"1\" stroke-width=\"3.2\"/>\n",
       "<circle clip-path=\"url(#clip802)\" cx=\"986.616\" cy=\"735.212\" r=\"14.4\" fill=\"#009af9\" fill-rule=\"evenodd\" fill-opacity=\"1\" stroke=\"#000000\" stroke-opacity=\"1\" stroke-width=\"3.2\"/>\n",
       "<circle clip-path=\"url(#clip802)\" cx=\"986.616\" cy=\"735.212\" r=\"14.4\" fill=\"#009af9\" fill-rule=\"evenodd\" fill-opacity=\"1\" stroke=\"#000000\" stroke-opacity=\"1\" stroke-width=\"3.2\"/>\n",
       "<circle clip-path=\"url(#clip802)\" cx=\"986.616\" cy=\"735.212\" r=\"14.4\" fill=\"#009af9\" fill-rule=\"evenodd\" fill-opacity=\"1\" stroke=\"#000000\" stroke-opacity=\"1\" stroke-width=\"3.2\"/>\n",
       "<circle clip-path=\"url(#clip802)\" cx=\"986.616\" cy=\"735.212\" r=\"14.4\" fill=\"#009af9\" fill-rule=\"evenodd\" fill-opacity=\"1\" stroke=\"#000000\" stroke-opacity=\"1\" stroke-width=\"3.2\"/>\n",
       "<circle clip-path=\"url(#clip802)\" cx=\"986.616\" cy=\"735.212\" r=\"14.4\" fill=\"#009af9\" fill-rule=\"evenodd\" fill-opacity=\"1\" stroke=\"#000000\" stroke-opacity=\"1\" stroke-width=\"3.2\"/>\n",
       "<circle clip-path=\"url(#clip802)\" cx=\"986.616\" cy=\"735.212\" r=\"14.4\" fill=\"#009af9\" fill-rule=\"evenodd\" fill-opacity=\"1\" stroke=\"#000000\" stroke-opacity=\"1\" stroke-width=\"3.2\"/>\n",
       "<circle clip-path=\"url(#clip802)\" cx=\"986.616\" cy=\"735.212\" r=\"14.4\" fill=\"#009af9\" fill-rule=\"evenodd\" fill-opacity=\"1\" stroke=\"#000000\" stroke-opacity=\"1\" stroke-width=\"3.2\"/>\n",
       "<circle clip-path=\"url(#clip802)\" cx=\"986.616\" cy=\"735.212\" r=\"14.4\" fill=\"#009af9\" fill-rule=\"evenodd\" fill-opacity=\"1\" stroke=\"#000000\" stroke-opacity=\"1\" stroke-width=\"3.2\"/>\n",
       "<circle clip-path=\"url(#clip802)\" cx=\"986.616\" cy=\"735.212\" r=\"14.4\" fill=\"#009af9\" fill-rule=\"evenodd\" fill-opacity=\"1\" stroke=\"#000000\" stroke-opacity=\"1\" stroke-width=\"3.2\"/>\n",
       "<circle clip-path=\"url(#clip802)\" cx=\"986.616\" cy=\"735.212\" r=\"14.4\" fill=\"#009af9\" fill-rule=\"evenodd\" fill-opacity=\"1\" stroke=\"#000000\" stroke-opacity=\"1\" stroke-width=\"3.2\"/>\n",
       "<circle clip-path=\"url(#clip802)\" cx=\"986.616\" cy=\"735.212\" r=\"14.4\" fill=\"#009af9\" fill-rule=\"evenodd\" fill-opacity=\"1\" stroke=\"#000000\" stroke-opacity=\"1\" stroke-width=\"3.2\"/>\n",
       "<circle clip-path=\"url(#clip802)\" cx=\"986.616\" cy=\"735.212\" r=\"14.4\" fill=\"#009af9\" fill-rule=\"evenodd\" fill-opacity=\"1\" stroke=\"#000000\" stroke-opacity=\"1\" stroke-width=\"3.2\"/>\n",
       "<circle clip-path=\"url(#clip802)\" cx=\"986.616\" cy=\"735.212\" r=\"14.4\" fill=\"#009af9\" fill-rule=\"evenodd\" fill-opacity=\"1\" stroke=\"#000000\" stroke-opacity=\"1\" stroke-width=\"3.2\"/>\n",
       "<circle clip-path=\"url(#clip802)\" cx=\"986.616\" cy=\"735.212\" r=\"14.4\" fill=\"#009af9\" fill-rule=\"evenodd\" fill-opacity=\"1\" stroke=\"#000000\" stroke-opacity=\"1\" stroke-width=\"3.2\"/>\n",
       "<circle clip-path=\"url(#clip802)\" cx=\"986.616\" cy=\"735.212\" r=\"14.4\" fill=\"#009af9\" fill-rule=\"evenodd\" fill-opacity=\"1\" stroke=\"#000000\" stroke-opacity=\"1\" stroke-width=\"3.2\"/>\n",
       "<circle clip-path=\"url(#clip802)\" cx=\"986.616\" cy=\"735.212\" r=\"14.4\" fill=\"#009af9\" fill-rule=\"evenodd\" fill-opacity=\"1\" stroke=\"#000000\" stroke-opacity=\"1\" stroke-width=\"3.2\"/>\n",
       "<circle clip-path=\"url(#clip802)\" cx=\"986.616\" cy=\"735.212\" r=\"14.4\" fill=\"#009af9\" fill-rule=\"evenodd\" fill-opacity=\"1\" stroke=\"#000000\" stroke-opacity=\"1\" stroke-width=\"3.2\"/>\n",
       "<circle clip-path=\"url(#clip802)\" cx=\"986.616\" cy=\"735.212\" r=\"14.4\" fill=\"#009af9\" fill-rule=\"evenodd\" fill-opacity=\"1\" stroke=\"#000000\" stroke-opacity=\"1\" stroke-width=\"3.2\"/>\n",
       "<circle clip-path=\"url(#clip802)\" cx=\"986.616\" cy=\"735.212\" r=\"14.4\" fill=\"#009af9\" fill-rule=\"evenodd\" fill-opacity=\"1\" stroke=\"#000000\" stroke-opacity=\"1\" stroke-width=\"3.2\"/>\n",
       "<circle clip-path=\"url(#clip802)\" cx=\"986.616\" cy=\"735.212\" r=\"14.4\" fill=\"#009af9\" fill-rule=\"evenodd\" fill-opacity=\"1\" stroke=\"#000000\" stroke-opacity=\"1\" stroke-width=\"3.2\"/>\n",
       "<circle clip-path=\"url(#clip802)\" cx=\"986.616\" cy=\"735.212\" r=\"14.4\" fill=\"#009af9\" fill-rule=\"evenodd\" fill-opacity=\"1\" stroke=\"#000000\" stroke-opacity=\"1\" stroke-width=\"3.2\"/>\n",
       "<circle clip-path=\"url(#clip802)\" cx=\"986.616\" cy=\"735.212\" r=\"14.4\" fill=\"#009af9\" fill-rule=\"evenodd\" fill-opacity=\"1\" stroke=\"#000000\" stroke-opacity=\"1\" stroke-width=\"3.2\"/>\n",
       "<circle clip-path=\"url(#clip802)\" cx=\"986.616\" cy=\"735.212\" r=\"14.4\" fill=\"#009af9\" fill-rule=\"evenodd\" fill-opacity=\"1\" stroke=\"#000000\" stroke-opacity=\"1\" stroke-width=\"3.2\"/>\n",
       "<circle clip-path=\"url(#clip802)\" cx=\"986.616\" cy=\"735.212\" r=\"14.4\" fill=\"#009af9\" fill-rule=\"evenodd\" fill-opacity=\"1\" stroke=\"#000000\" stroke-opacity=\"1\" stroke-width=\"3.2\"/>\n",
       "<circle clip-path=\"url(#clip802)\" cx=\"986.616\" cy=\"735.212\" r=\"14.4\" fill=\"#009af9\" fill-rule=\"evenodd\" fill-opacity=\"1\" stroke=\"#000000\" stroke-opacity=\"1\" stroke-width=\"3.2\"/>\n",
       "<circle clip-path=\"url(#clip802)\" cx=\"986.616\" cy=\"735.212\" r=\"14.4\" fill=\"#009af9\" fill-rule=\"evenodd\" fill-opacity=\"1\" stroke=\"#000000\" stroke-opacity=\"1\" stroke-width=\"3.2\"/>\n",
       "<circle clip-path=\"url(#clip802)\" cx=\"986.616\" cy=\"735.212\" r=\"14.4\" fill=\"#009af9\" fill-rule=\"evenodd\" fill-opacity=\"1\" stroke=\"#000000\" stroke-opacity=\"1\" stroke-width=\"3.2\"/>\n",
       "<circle clip-path=\"url(#clip802)\" cx=\"986.616\" cy=\"735.212\" r=\"14.4\" fill=\"#009af9\" fill-rule=\"evenodd\" fill-opacity=\"1\" stroke=\"#000000\" stroke-opacity=\"1\" stroke-width=\"3.2\"/>\n",
       "<circle clip-path=\"url(#clip802)\" cx=\"986.616\" cy=\"735.212\" r=\"14.4\" fill=\"#009af9\" fill-rule=\"evenodd\" fill-opacity=\"1\" stroke=\"#000000\" stroke-opacity=\"1\" stroke-width=\"3.2\"/>\n",
       "<circle clip-path=\"url(#clip802)\" cx=\"986.616\" cy=\"735.212\" r=\"14.4\" fill=\"#009af9\" fill-rule=\"evenodd\" fill-opacity=\"1\" stroke=\"#000000\" stroke-opacity=\"1\" stroke-width=\"3.2\"/>\n",
       "<circle clip-path=\"url(#clip802)\" cx=\"986.616\" cy=\"735.212\" r=\"14.4\" fill=\"#009af9\" fill-rule=\"evenodd\" fill-opacity=\"1\" stroke=\"#000000\" stroke-opacity=\"1\" stroke-width=\"3.2\"/>\n",
       "<circle clip-path=\"url(#clip802)\" cx=\"986.616\" cy=\"735.212\" r=\"14.4\" fill=\"#009af9\" fill-rule=\"evenodd\" fill-opacity=\"1\" stroke=\"#000000\" stroke-opacity=\"1\" stroke-width=\"3.2\"/>\n",
       "<circle clip-path=\"url(#clip802)\" cx=\"986.616\" cy=\"735.212\" r=\"14.4\" fill=\"#009af9\" fill-rule=\"evenodd\" fill-opacity=\"1\" stroke=\"#000000\" stroke-opacity=\"1\" stroke-width=\"3.2\"/>\n",
       "<circle clip-path=\"url(#clip802)\" cx=\"986.616\" cy=\"735.212\" r=\"14.4\" fill=\"#009af9\" fill-rule=\"evenodd\" fill-opacity=\"1\" stroke=\"#000000\" stroke-opacity=\"1\" stroke-width=\"3.2\"/>\n",
       "<circle clip-path=\"url(#clip802)\" cx=\"986.616\" cy=\"735.212\" r=\"14.4\" fill=\"#009af9\" fill-rule=\"evenodd\" fill-opacity=\"1\" stroke=\"#000000\" stroke-opacity=\"1\" stroke-width=\"3.2\"/>\n",
       "<circle clip-path=\"url(#clip802)\" cx=\"986.616\" cy=\"735.212\" r=\"14.4\" fill=\"#009af9\" fill-rule=\"evenodd\" fill-opacity=\"1\" stroke=\"#000000\" stroke-opacity=\"1\" stroke-width=\"3.2\"/>\n",
       "<circle clip-path=\"url(#clip802)\" cx=\"986.616\" cy=\"735.212\" r=\"14.4\" fill=\"#009af9\" fill-rule=\"evenodd\" fill-opacity=\"1\" stroke=\"#000000\" stroke-opacity=\"1\" stroke-width=\"3.2\"/>\n",
       "<circle clip-path=\"url(#clip802)\" cx=\"986.616\" cy=\"735.212\" r=\"14.4\" fill=\"#009af9\" fill-rule=\"evenodd\" fill-opacity=\"1\" stroke=\"#000000\" stroke-opacity=\"1\" stroke-width=\"3.2\"/>\n",
       "<circle clip-path=\"url(#clip802)\" cx=\"986.616\" cy=\"735.212\" r=\"14.4\" fill=\"#009af9\" fill-rule=\"evenodd\" fill-opacity=\"1\" stroke=\"#000000\" stroke-opacity=\"1\" stroke-width=\"3.2\"/>\n",
       "<circle clip-path=\"url(#clip802)\" cx=\"986.616\" cy=\"735.212\" r=\"14.4\" fill=\"#009af9\" fill-rule=\"evenodd\" fill-opacity=\"1\" stroke=\"#000000\" stroke-opacity=\"1\" stroke-width=\"3.2\"/>\n",
       "<circle clip-path=\"url(#clip802)\" cx=\"986.616\" cy=\"735.212\" r=\"14.4\" fill=\"#009af9\" fill-rule=\"evenodd\" fill-opacity=\"1\" stroke=\"#000000\" stroke-opacity=\"1\" stroke-width=\"3.2\"/>\n",
       "<circle clip-path=\"url(#clip802)\" cx=\"986.616\" cy=\"735.212\" r=\"14.4\" fill=\"#009af9\" fill-rule=\"evenodd\" fill-opacity=\"1\" stroke=\"#000000\" stroke-opacity=\"1\" stroke-width=\"3.2\"/>\n",
       "<circle clip-path=\"url(#clip802)\" cx=\"986.616\" cy=\"735.212\" r=\"14.4\" fill=\"#009af9\" fill-rule=\"evenodd\" fill-opacity=\"1\" stroke=\"#000000\" stroke-opacity=\"1\" stroke-width=\"3.2\"/>\n",
       "<circle clip-path=\"url(#clip802)\" cx=\"986.616\" cy=\"735.212\" r=\"14.4\" fill=\"#009af9\" fill-rule=\"evenodd\" fill-opacity=\"1\" stroke=\"#000000\" stroke-opacity=\"1\" stroke-width=\"3.2\"/>\n",
       "<circle clip-path=\"url(#clip802)\" cx=\"986.616\" cy=\"735.212\" r=\"14.4\" fill=\"#009af9\" fill-rule=\"evenodd\" fill-opacity=\"1\" stroke=\"#000000\" stroke-opacity=\"1\" stroke-width=\"3.2\"/>\n",
       "<circle clip-path=\"url(#clip802)\" cx=\"986.616\" cy=\"735.212\" r=\"14.4\" fill=\"#009af9\" fill-rule=\"evenodd\" fill-opacity=\"1\" stroke=\"#000000\" stroke-opacity=\"1\" stroke-width=\"3.2\"/>\n",
       "<circle clip-path=\"url(#clip802)\" cx=\"986.616\" cy=\"735.212\" r=\"14.4\" fill=\"#009af9\" fill-rule=\"evenodd\" fill-opacity=\"1\" stroke=\"#000000\" stroke-opacity=\"1\" stroke-width=\"3.2\"/>\n",
       "<circle clip-path=\"url(#clip802)\" cx=\"986.616\" cy=\"735.212\" r=\"14.4\" fill=\"#009af9\" fill-rule=\"evenodd\" fill-opacity=\"1\" stroke=\"#000000\" stroke-opacity=\"1\" stroke-width=\"3.2\"/>\n",
       "<circle clip-path=\"url(#clip802)\" cx=\"986.616\" cy=\"735.212\" r=\"14.4\" fill=\"#009af9\" fill-rule=\"evenodd\" fill-opacity=\"1\" stroke=\"#000000\" stroke-opacity=\"1\" stroke-width=\"3.2\"/>\n",
       "<circle clip-path=\"url(#clip802)\" cx=\"986.616\" cy=\"735.212\" r=\"14.4\" fill=\"#009af9\" fill-rule=\"evenodd\" fill-opacity=\"1\" stroke=\"#000000\" stroke-opacity=\"1\" stroke-width=\"3.2\"/>\n",
       "<circle clip-path=\"url(#clip802)\" cx=\"986.616\" cy=\"735.212\" r=\"14.4\" fill=\"#009af9\" fill-rule=\"evenodd\" fill-opacity=\"1\" stroke=\"#000000\" stroke-opacity=\"1\" stroke-width=\"3.2\"/>\n",
       "<circle clip-path=\"url(#clip802)\" cx=\"986.616\" cy=\"735.212\" r=\"14.4\" fill=\"#009af9\" fill-rule=\"evenodd\" fill-opacity=\"1\" stroke=\"#000000\" stroke-opacity=\"1\" stroke-width=\"3.2\"/>\n",
       "<circle clip-path=\"url(#clip802)\" cx=\"986.616\" cy=\"735.212\" r=\"14.4\" fill=\"#009af9\" fill-rule=\"evenodd\" fill-opacity=\"1\" stroke=\"#000000\" stroke-opacity=\"1\" stroke-width=\"3.2\"/>\n",
       "<circle clip-path=\"url(#clip802)\" cx=\"986.616\" cy=\"735.212\" r=\"14.4\" fill=\"#009af9\" fill-rule=\"evenodd\" fill-opacity=\"1\" stroke=\"#000000\" stroke-opacity=\"1\" stroke-width=\"3.2\"/>\n",
       "<circle clip-path=\"url(#clip802)\" cx=\"986.616\" cy=\"735.212\" r=\"14.4\" fill=\"#009af9\" fill-rule=\"evenodd\" fill-opacity=\"1\" stroke=\"#000000\" stroke-opacity=\"1\" stroke-width=\"3.2\"/>\n",
       "<circle clip-path=\"url(#clip802)\" cx=\"986.616\" cy=\"735.212\" r=\"14.4\" fill=\"#009af9\" fill-rule=\"evenodd\" fill-opacity=\"1\" stroke=\"#000000\" stroke-opacity=\"1\" stroke-width=\"3.2\"/>\n",
       "<circle clip-path=\"url(#clip802)\" cx=\"986.616\" cy=\"735.212\" r=\"14.4\" fill=\"#009af9\" fill-rule=\"evenodd\" fill-opacity=\"1\" stroke=\"#000000\" stroke-opacity=\"1\" stroke-width=\"3.2\"/>\n",
       "<circle clip-path=\"url(#clip802)\" cx=\"986.616\" cy=\"735.212\" r=\"14.4\" fill=\"#009af9\" fill-rule=\"evenodd\" fill-opacity=\"1\" stroke=\"#000000\" stroke-opacity=\"1\" stroke-width=\"3.2\"/>\n",
       "<circle clip-path=\"url(#clip802)\" cx=\"986.616\" cy=\"735.212\" r=\"14.4\" fill=\"#009af9\" fill-rule=\"evenodd\" fill-opacity=\"1\" stroke=\"#000000\" stroke-opacity=\"1\" stroke-width=\"3.2\"/>\n",
       "<circle clip-path=\"url(#clip802)\" cx=\"986.616\" cy=\"735.212\" r=\"14.4\" fill=\"#009af9\" fill-rule=\"evenodd\" fill-opacity=\"1\" stroke=\"#000000\" stroke-opacity=\"1\" stroke-width=\"3.2\"/>\n",
       "<circle clip-path=\"url(#clip802)\" cx=\"986.616\" cy=\"735.212\" r=\"14.4\" fill=\"#009af9\" fill-rule=\"evenodd\" fill-opacity=\"1\" stroke=\"#000000\" stroke-opacity=\"1\" stroke-width=\"3.2\"/>\n",
       "<circle clip-path=\"url(#clip802)\" cx=\"986.616\" cy=\"735.212\" r=\"14.4\" fill=\"#009af9\" fill-rule=\"evenodd\" fill-opacity=\"1\" stroke=\"#000000\" stroke-opacity=\"1\" stroke-width=\"3.2\"/>\n",
       "<circle clip-path=\"url(#clip802)\" cx=\"986.616\" cy=\"735.212\" r=\"14.4\" fill=\"#009af9\" fill-rule=\"evenodd\" fill-opacity=\"1\" stroke=\"#000000\" stroke-opacity=\"1\" stroke-width=\"3.2\"/>\n",
       "<circle clip-path=\"url(#clip802)\" cx=\"986.616\" cy=\"735.212\" r=\"14.4\" fill=\"#009af9\" fill-rule=\"evenodd\" fill-opacity=\"1\" stroke=\"#000000\" stroke-opacity=\"1\" stroke-width=\"3.2\"/>\n",
       "<circle clip-path=\"url(#clip802)\" cx=\"986.616\" cy=\"735.212\" r=\"14.4\" fill=\"#009af9\" fill-rule=\"evenodd\" fill-opacity=\"1\" stroke=\"#000000\" stroke-opacity=\"1\" stroke-width=\"3.2\"/>\n",
       "<circle clip-path=\"url(#clip802)\" cx=\"986.616\" cy=\"735.212\" r=\"14.4\" fill=\"#009af9\" fill-rule=\"evenodd\" fill-opacity=\"1\" stroke=\"#000000\" stroke-opacity=\"1\" stroke-width=\"3.2\"/>\n",
       "<circle clip-path=\"url(#clip802)\" cx=\"986.616\" cy=\"735.212\" r=\"14.4\" fill=\"#009af9\" fill-rule=\"evenodd\" fill-opacity=\"1\" stroke=\"#000000\" stroke-opacity=\"1\" stroke-width=\"3.2\"/>\n",
       "<circle clip-path=\"url(#clip802)\" cx=\"986.616\" cy=\"735.212\" r=\"14.4\" fill=\"#009af9\" fill-rule=\"evenodd\" fill-opacity=\"1\" stroke=\"#000000\" stroke-opacity=\"1\" stroke-width=\"3.2\"/>\n",
       "<circle clip-path=\"url(#clip802)\" cx=\"986.616\" cy=\"735.212\" r=\"14.4\" fill=\"#009af9\" fill-rule=\"evenodd\" fill-opacity=\"1\" stroke=\"#000000\" stroke-opacity=\"1\" stroke-width=\"3.2\"/>\n",
       "<circle clip-path=\"url(#clip802)\" cx=\"986.616\" cy=\"735.212\" r=\"14.4\" fill=\"#009af9\" fill-rule=\"evenodd\" fill-opacity=\"1\" stroke=\"#000000\" stroke-opacity=\"1\" stroke-width=\"3.2\"/>\n",
       "<circle clip-path=\"url(#clip802)\" cx=\"986.616\" cy=\"735.212\" r=\"14.4\" fill=\"#009af9\" fill-rule=\"evenodd\" fill-opacity=\"1\" stroke=\"#000000\" stroke-opacity=\"1\" stroke-width=\"3.2\"/>\n",
       "<circle clip-path=\"url(#clip802)\" cx=\"986.616\" cy=\"735.212\" r=\"14.4\" fill=\"#009af9\" fill-rule=\"evenodd\" fill-opacity=\"1\" stroke=\"#000000\" stroke-opacity=\"1\" stroke-width=\"3.2\"/>\n",
       "<circle clip-path=\"url(#clip802)\" cx=\"986.616\" cy=\"735.212\" r=\"14.4\" fill=\"#009af9\" fill-rule=\"evenodd\" fill-opacity=\"1\" stroke=\"#000000\" stroke-opacity=\"1\" stroke-width=\"3.2\"/>\n",
       "<circle clip-path=\"url(#clip802)\" cx=\"986.616\" cy=\"735.212\" r=\"14.4\" fill=\"#009af9\" fill-rule=\"evenodd\" fill-opacity=\"1\" stroke=\"#000000\" stroke-opacity=\"1\" stroke-width=\"3.2\"/>\n",
       "<circle clip-path=\"url(#clip802)\" cx=\"986.616\" cy=\"735.212\" r=\"14.4\" fill=\"#009af9\" fill-rule=\"evenodd\" fill-opacity=\"1\" stroke=\"#000000\" stroke-opacity=\"1\" stroke-width=\"3.2\"/>\n",
       "<circle clip-path=\"url(#clip802)\" cx=\"986.616\" cy=\"735.212\" r=\"14.4\" fill=\"#009af9\" fill-rule=\"evenodd\" fill-opacity=\"1\" stroke=\"#000000\" stroke-opacity=\"1\" stroke-width=\"3.2\"/>\n",
       "<circle clip-path=\"url(#clip802)\" cx=\"986.616\" cy=\"735.212\" r=\"14.4\" fill=\"#009af9\" fill-rule=\"evenodd\" fill-opacity=\"1\" stroke=\"#000000\" stroke-opacity=\"1\" stroke-width=\"3.2\"/>\n",
       "<circle clip-path=\"url(#clip802)\" cx=\"986.616\" cy=\"735.212\" r=\"14.4\" fill=\"#009af9\" fill-rule=\"evenodd\" fill-opacity=\"1\" stroke=\"#000000\" stroke-opacity=\"1\" stroke-width=\"3.2\"/>\n",
       "<circle clip-path=\"url(#clip802)\" cx=\"986.616\" cy=\"735.212\" r=\"14.4\" fill=\"#009af9\" fill-rule=\"evenodd\" fill-opacity=\"1\" stroke=\"#000000\" stroke-opacity=\"1\" stroke-width=\"3.2\"/>\n",
       "<circle clip-path=\"url(#clip802)\" cx=\"986.616\" cy=\"735.212\" r=\"14.4\" fill=\"#009af9\" fill-rule=\"evenodd\" fill-opacity=\"1\" stroke=\"#000000\" stroke-opacity=\"1\" stroke-width=\"3.2\"/>\n",
       "<circle clip-path=\"url(#clip802)\" cx=\"986.616\" cy=\"735.212\" r=\"14.4\" fill=\"#009af9\" fill-rule=\"evenodd\" fill-opacity=\"1\" stroke=\"#000000\" stroke-opacity=\"1\" stroke-width=\"3.2\"/>\n",
       "<circle clip-path=\"url(#clip802)\" cx=\"986.616\" cy=\"735.212\" r=\"14.4\" fill=\"#009af9\" fill-rule=\"evenodd\" fill-opacity=\"1\" stroke=\"#000000\" stroke-opacity=\"1\" stroke-width=\"3.2\"/>\n",
       "<circle clip-path=\"url(#clip802)\" cx=\"986.616\" cy=\"735.212\" r=\"14.4\" fill=\"#009af9\" fill-rule=\"evenodd\" fill-opacity=\"1\" stroke=\"#000000\" stroke-opacity=\"1\" stroke-width=\"3.2\"/>\n",
       "<circle clip-path=\"url(#clip802)\" cx=\"986.616\" cy=\"735.212\" r=\"14.4\" fill=\"#009af9\" fill-rule=\"evenodd\" fill-opacity=\"1\" stroke=\"#000000\" stroke-opacity=\"1\" stroke-width=\"3.2\"/>\n",
       "<circle clip-path=\"url(#clip802)\" cx=\"986.616\" cy=\"735.212\" r=\"14.4\" fill=\"#009af9\" fill-rule=\"evenodd\" fill-opacity=\"1\" stroke=\"#000000\" stroke-opacity=\"1\" stroke-width=\"3.2\"/>\n",
       "<circle clip-path=\"url(#clip802)\" cx=\"986.616\" cy=\"735.212\" r=\"14.4\" fill=\"#009af9\" fill-rule=\"evenodd\" fill-opacity=\"1\" stroke=\"#000000\" stroke-opacity=\"1\" stroke-width=\"3.2\"/>\n",
       "<circle clip-path=\"url(#clip802)\" cx=\"986.616\" cy=\"735.212\" r=\"14.4\" fill=\"#009af9\" fill-rule=\"evenodd\" fill-opacity=\"1\" stroke=\"#000000\" stroke-opacity=\"1\" stroke-width=\"3.2\"/>\n",
       "<circle clip-path=\"url(#clip802)\" cx=\"986.616\" cy=\"735.212\" r=\"14.4\" fill=\"#009af9\" fill-rule=\"evenodd\" fill-opacity=\"1\" stroke=\"#000000\" stroke-opacity=\"1\" stroke-width=\"3.2\"/>\n",
       "<circle clip-path=\"url(#clip802)\" cx=\"986.616\" cy=\"735.212\" r=\"14.4\" fill=\"#009af9\" fill-rule=\"evenodd\" fill-opacity=\"1\" stroke=\"#000000\" stroke-opacity=\"1\" stroke-width=\"3.2\"/>\n",
       "<circle clip-path=\"url(#clip802)\" cx=\"986.616\" cy=\"735.212\" r=\"14.4\" fill=\"#009af9\" fill-rule=\"evenodd\" fill-opacity=\"1\" stroke=\"#000000\" stroke-opacity=\"1\" stroke-width=\"3.2\"/>\n",
       "<circle clip-path=\"url(#clip802)\" cx=\"986.616\" cy=\"735.212\" r=\"14.4\" fill=\"#009af9\" fill-rule=\"evenodd\" fill-opacity=\"1\" stroke=\"#000000\" stroke-opacity=\"1\" stroke-width=\"3.2\"/>\n",
       "<circle clip-path=\"url(#clip802)\" cx=\"986.616\" cy=\"735.212\" r=\"14.4\" fill=\"#009af9\" fill-rule=\"evenodd\" fill-opacity=\"1\" stroke=\"#000000\" stroke-opacity=\"1\" stroke-width=\"3.2\"/>\n",
       "<circle clip-path=\"url(#clip802)\" cx=\"986.616\" cy=\"735.212\" r=\"14.4\" fill=\"#009af9\" fill-rule=\"evenodd\" fill-opacity=\"1\" stroke=\"#000000\" stroke-opacity=\"1\" stroke-width=\"3.2\"/>\n",
       "<circle clip-path=\"url(#clip802)\" cx=\"986.616\" cy=\"735.212\" r=\"14.4\" fill=\"#009af9\" fill-rule=\"evenodd\" fill-opacity=\"1\" stroke=\"#000000\" stroke-opacity=\"1\" stroke-width=\"3.2\"/>\n",
       "<circle clip-path=\"url(#clip802)\" cx=\"986.616\" cy=\"735.212\" r=\"14.4\" fill=\"#009af9\" fill-rule=\"evenodd\" fill-opacity=\"1\" stroke=\"#000000\" stroke-opacity=\"1\" stroke-width=\"3.2\"/>\n",
       "<circle clip-path=\"url(#clip802)\" cx=\"986.616\" cy=\"735.212\" r=\"14.4\" fill=\"#009af9\" fill-rule=\"evenodd\" fill-opacity=\"1\" stroke=\"#000000\" stroke-opacity=\"1\" stroke-width=\"3.2\"/>\n",
       "<circle clip-path=\"url(#clip802)\" cx=\"986.616\" cy=\"735.212\" r=\"14.4\" fill=\"#009af9\" fill-rule=\"evenodd\" fill-opacity=\"1\" stroke=\"#000000\" stroke-opacity=\"1\" stroke-width=\"3.2\"/>\n",
       "<circle clip-path=\"url(#clip802)\" cx=\"986.616\" cy=\"735.212\" r=\"14.4\" fill=\"#009af9\" fill-rule=\"evenodd\" fill-opacity=\"1\" stroke=\"#000000\" stroke-opacity=\"1\" stroke-width=\"3.2\"/>\n",
       "<circle clip-path=\"url(#clip802)\" cx=\"986.616\" cy=\"735.212\" r=\"14.4\" fill=\"#009af9\" fill-rule=\"evenodd\" fill-opacity=\"1\" stroke=\"#000000\" stroke-opacity=\"1\" stroke-width=\"3.2\"/>\n",
       "<circle clip-path=\"url(#clip802)\" cx=\"986.616\" cy=\"735.212\" r=\"14.4\" fill=\"#009af9\" fill-rule=\"evenodd\" fill-opacity=\"1\" stroke=\"#000000\" stroke-opacity=\"1\" stroke-width=\"3.2\"/>\n",
       "<circle clip-path=\"url(#clip802)\" cx=\"986.616\" cy=\"735.212\" r=\"14.4\" fill=\"#009af9\" fill-rule=\"evenodd\" fill-opacity=\"1\" stroke=\"#000000\" stroke-opacity=\"1\" stroke-width=\"3.2\"/>\n",
       "<circle clip-path=\"url(#clip802)\" cx=\"986.616\" cy=\"735.212\" r=\"14.4\" fill=\"#009af9\" fill-rule=\"evenodd\" fill-opacity=\"1\" stroke=\"#000000\" stroke-opacity=\"1\" stroke-width=\"3.2\"/>\n",
       "<circle clip-path=\"url(#clip802)\" cx=\"986.616\" cy=\"735.212\" r=\"14.4\" fill=\"#009af9\" fill-rule=\"evenodd\" fill-opacity=\"1\" stroke=\"#000000\" stroke-opacity=\"1\" stroke-width=\"3.2\"/>\n",
       "<circle clip-path=\"url(#clip802)\" cx=\"986.616\" cy=\"735.212\" r=\"14.4\" fill=\"#009af9\" fill-rule=\"evenodd\" fill-opacity=\"1\" stroke=\"#000000\" stroke-opacity=\"1\" stroke-width=\"3.2\"/>\n",
       "<circle clip-path=\"url(#clip802)\" cx=\"986.616\" cy=\"735.212\" r=\"14.4\" fill=\"#009af9\" fill-rule=\"evenodd\" fill-opacity=\"1\" stroke=\"#000000\" stroke-opacity=\"1\" stroke-width=\"3.2\"/>\n",
       "<circle clip-path=\"url(#clip802)\" cx=\"986.616\" cy=\"735.212\" r=\"14.4\" fill=\"#009af9\" fill-rule=\"evenodd\" fill-opacity=\"1\" stroke=\"#000000\" stroke-opacity=\"1\" stroke-width=\"3.2\"/>\n",
       "<circle clip-path=\"url(#clip802)\" cx=\"986.616\" cy=\"735.212\" r=\"14.4\" fill=\"#009af9\" fill-rule=\"evenodd\" fill-opacity=\"1\" stroke=\"#000000\" stroke-opacity=\"1\" stroke-width=\"3.2\"/>\n",
       "<circle clip-path=\"url(#clip802)\" cx=\"986.616\" cy=\"735.212\" r=\"14.4\" fill=\"#009af9\" fill-rule=\"evenodd\" fill-opacity=\"1\" stroke=\"#000000\" stroke-opacity=\"1\" stroke-width=\"3.2\"/>\n",
       "<circle clip-path=\"url(#clip802)\" cx=\"986.616\" cy=\"735.212\" r=\"14.4\" fill=\"#009af9\" fill-rule=\"evenodd\" fill-opacity=\"1\" stroke=\"#000000\" stroke-opacity=\"1\" stroke-width=\"3.2\"/>\n",
       "<circle clip-path=\"url(#clip802)\" cx=\"986.616\" cy=\"735.212\" r=\"14.4\" fill=\"#009af9\" fill-rule=\"evenodd\" fill-opacity=\"1\" stroke=\"#000000\" stroke-opacity=\"1\" stroke-width=\"3.2\"/>\n",
       "<circle clip-path=\"url(#clip802)\" cx=\"986.616\" cy=\"735.212\" r=\"14.4\" fill=\"#009af9\" fill-rule=\"evenodd\" fill-opacity=\"1\" stroke=\"#000000\" stroke-opacity=\"1\" stroke-width=\"3.2\"/>\n",
       "<circle clip-path=\"url(#clip802)\" cx=\"986.616\" cy=\"735.212\" r=\"14.4\" fill=\"#009af9\" fill-rule=\"evenodd\" fill-opacity=\"1\" stroke=\"#000000\" stroke-opacity=\"1\" stroke-width=\"3.2\"/>\n",
       "<circle clip-path=\"url(#clip802)\" cx=\"986.616\" cy=\"735.212\" r=\"14.4\" fill=\"#009af9\" fill-rule=\"evenodd\" fill-opacity=\"1\" stroke=\"#000000\" stroke-opacity=\"1\" stroke-width=\"3.2\"/>\n",
       "<circle clip-path=\"url(#clip802)\" cx=\"986.616\" cy=\"735.212\" r=\"14.4\" fill=\"#009af9\" fill-rule=\"evenodd\" fill-opacity=\"1\" stroke=\"#000000\" stroke-opacity=\"1\" stroke-width=\"3.2\"/>\n",
       "<circle clip-path=\"url(#clip802)\" cx=\"986.616\" cy=\"735.212\" r=\"14.4\" fill=\"#009af9\" fill-rule=\"evenodd\" fill-opacity=\"1\" stroke=\"#000000\" stroke-opacity=\"1\" stroke-width=\"3.2\"/>\n",
       "<circle clip-path=\"url(#clip802)\" cx=\"986.616\" cy=\"735.212\" r=\"14.4\" fill=\"#009af9\" fill-rule=\"evenodd\" fill-opacity=\"1\" stroke=\"#000000\" stroke-opacity=\"1\" stroke-width=\"3.2\"/>\n",
       "<circle clip-path=\"url(#clip802)\" cx=\"986.616\" cy=\"735.212\" r=\"14.4\" fill=\"#009af9\" fill-rule=\"evenodd\" fill-opacity=\"1\" stroke=\"#000000\" stroke-opacity=\"1\" stroke-width=\"3.2\"/>\n",
       "<circle clip-path=\"url(#clip802)\" cx=\"986.616\" cy=\"735.212\" r=\"14.4\" fill=\"#009af9\" fill-rule=\"evenodd\" fill-opacity=\"1\" stroke=\"#000000\" stroke-opacity=\"1\" stroke-width=\"3.2\"/>\n",
       "<circle clip-path=\"url(#clip802)\" cx=\"986.616\" cy=\"735.212\" r=\"14.4\" fill=\"#009af9\" fill-rule=\"evenodd\" fill-opacity=\"1\" stroke=\"#000000\" stroke-opacity=\"1\" stroke-width=\"3.2\"/>\n",
       "<circle clip-path=\"url(#clip802)\" cx=\"986.616\" cy=\"735.212\" r=\"14.4\" fill=\"#009af9\" fill-rule=\"evenodd\" fill-opacity=\"1\" stroke=\"#000000\" stroke-opacity=\"1\" stroke-width=\"3.2\"/>\n",
       "<circle clip-path=\"url(#clip802)\" cx=\"986.616\" cy=\"735.212\" r=\"14.4\" fill=\"#009af9\" fill-rule=\"evenodd\" fill-opacity=\"1\" stroke=\"#000000\" stroke-opacity=\"1\" stroke-width=\"3.2\"/>\n",
       "<circle clip-path=\"url(#clip802)\" cx=\"986.616\" cy=\"735.212\" r=\"14.4\" fill=\"#009af9\" fill-rule=\"evenodd\" fill-opacity=\"1\" stroke=\"#000000\" stroke-opacity=\"1\" stroke-width=\"3.2\"/>\n",
       "<circle clip-path=\"url(#clip802)\" cx=\"986.616\" cy=\"735.212\" r=\"14.4\" fill=\"#009af9\" fill-rule=\"evenodd\" fill-opacity=\"1\" stroke=\"#000000\" stroke-opacity=\"1\" stroke-width=\"3.2\"/>\n",
       "<circle clip-path=\"url(#clip802)\" cx=\"986.617\" cy=\"735.212\" r=\"14.4\" fill=\"#009af9\" fill-rule=\"evenodd\" fill-opacity=\"1\" stroke=\"#000000\" stroke-opacity=\"1\" stroke-width=\"3.2\"/>\n",
       "<circle clip-path=\"url(#clip802)\" cx=\"986.617\" cy=\"735.212\" r=\"14.4\" fill=\"#009af9\" fill-rule=\"evenodd\" fill-opacity=\"1\" stroke=\"#000000\" stroke-opacity=\"1\" stroke-width=\"3.2\"/>\n",
       "<circle clip-path=\"url(#clip802)\" cx=\"986.652\" cy=\"735.212\" r=\"14.4\" fill=\"#009af9\" fill-rule=\"evenodd\" fill-opacity=\"1\" stroke=\"#000000\" stroke-opacity=\"1\" stroke-width=\"3.2\"/>\n",
       "<circle clip-path=\"url(#clip802)\" cx=\"987.205\" cy=\"735.212\" r=\"14.4\" fill=\"#009af9\" fill-rule=\"evenodd\" fill-opacity=\"1\" stroke=\"#000000\" stroke-opacity=\"1\" stroke-width=\"3.2\"/>\n",
       "<circle clip-path=\"url(#clip802)\" cx=\"987.302\" cy=\"771.482\" r=\"14.4\" fill=\"#009af9\" fill-rule=\"evenodd\" fill-opacity=\"1\" stroke=\"#000000\" stroke-opacity=\"1\" stroke-width=\"3.2\"/>\n",
       "<circle clip-path=\"url(#clip802)\" cx=\"987.302\" cy=\"698.941\" r=\"14.4\" fill=\"#009af9\" fill-rule=\"evenodd\" fill-opacity=\"1\" stroke=\"#000000\" stroke-opacity=\"1\" stroke-width=\"3.2\"/>\n",
       "<circle clip-path=\"url(#clip802)\" cx=\"999.828\" cy=\"735.212\" r=\"14.4\" fill=\"#009af9\" fill-rule=\"evenodd\" fill-opacity=\"1\" stroke=\"#000000\" stroke-opacity=\"1\" stroke-width=\"3.2\"/>\n",
       "<circle clip-path=\"url(#clip802)\" cx=\"2294.3\" cy=\"735.212\" r=\"14.4\" fill=\"#009af9\" fill-rule=\"evenodd\" fill-opacity=\"1\" stroke=\"#000000\" stroke-opacity=\"1\" stroke-width=\"3.2\"/>\n",
       "<path clip-path=\"url(#clip800)\" d=\"M2024.94 196.789 L2283.91 196.789 L2283.91 93.1086 L2024.94 93.1086  Z\" fill=\"#ffffff\" fill-rule=\"evenodd\" fill-opacity=\"1\"/>\n",
       "<polyline clip-path=\"url(#clip800)\" style=\"stroke:#000000; stroke-linecap:round; stroke-linejoin:round; stroke-width:4; stroke-opacity:1; fill:none\" points=\"2024.94,196.789 2283.91,196.789 2283.91,93.1086 2024.94,93.1086 2024.94,196.789 \"/>\n",
       "<circle clip-path=\"url(#clip800)\" cx=\"2116.74\" cy=\"144.949\" r=\"20.48\" fill=\"#009af9\" fill-rule=\"evenodd\" fill-opacity=\"1\" stroke=\"#000000\" stroke-opacity=\"1\" stroke-width=\"4.55111\"/>\n",
       "<path clip-path=\"url(#clip800)\" d=\"M2222.37 164.636 Q2220.57 169.266 2218.85 170.678 Q2217.14 172.09 2214.27 172.09 L2210.87 172.09 L2210.87 168.525 L2213.37 168.525 Q2215.13 168.525 2216.1 167.692 Q2217.07 166.858 2218.25 163.756 L2219.02 161.812 L2208.53 136.303 L2213.04 136.303 L2221.15 156.581 L2229.25 136.303 L2233.76 136.303 L2222.37 164.636 Z\" fill=\"#000000\" fill-rule=\"nonzero\" fill-opacity=\"1\" /><path clip-path=\"url(#clip800)\" d=\"M2241.05 158.293 L2248.69 158.293 L2248.69 131.928 L2240.38 133.595 L2240.38 129.335 L2248.65 127.669 L2253.32 127.669 L2253.32 158.293 L2260.96 158.293 L2260.96 162.229 L2241.05 162.229 L2241.05 158.293 Z\" fill=\"#000000\" fill-rule=\"nonzero\" fill-opacity=\"1\" /></svg>\n"
      ],
      "text/html": [
       "<?xml version=\"1.0\" encoding=\"utf-8\"?>\n",
       "<svg xmlns=\"http://www.w3.org/2000/svg\" xmlns:xlink=\"http://www.w3.org/1999/xlink\" width=\"600\" height=\"400\" viewBox=\"0 0 2400 1600\">\n",
       "<defs>\n",
       "  <clipPath id=\"clip850\">\n",
       "    <rect x=\"0\" y=\"0\" width=\"2400\" height=\"1600\"/>\n",
       "  </clipPath>\n",
       "</defs>\n",
       "<path clip-path=\"url(#clip850)\" d=\"M0 1600 L2400 1600 L2400 0 L0 0  Z\" fill=\"#ffffff\" fill-rule=\"evenodd\" fill-opacity=\"1\"/>\n",
       "<defs>\n",
       "  <clipPath id=\"clip851\">\n",
       "    <rect x=\"480\" y=\"0\" width=\"1681\" height=\"1600\"/>\n",
       "  </clipPath>\n",
       "</defs>\n",
       "<path clip-path=\"url(#clip850)\" d=\"M287.366 1423.18 L2352.76 1423.18 L2352.76 47.2441 L287.366 47.2441  Z\" fill=\"#ffffff\" fill-rule=\"evenodd\" fill-opacity=\"1\"/>\n",
       "<defs>\n",
       "  <clipPath id=\"clip852\">\n",
       "    <rect x=\"287\" y=\"47\" width=\"2066\" height=\"1377\"/>\n",
       "  </clipPath>\n",
       "</defs>\n",
       "<polyline clip-path=\"url(#clip852)\" style=\"stroke:#000000; stroke-linecap:round; stroke-linejoin:round; stroke-width:2; stroke-opacity:0.1; fill:none\" points=\"594.311,1423.18 594.311,47.2441 \"/>\n",
       "<polyline clip-path=\"url(#clip852)\" style=\"stroke:#000000; stroke-linecap:round; stroke-linejoin:round; stroke-width:2; stroke-opacity:0.1; fill:none\" points=\"986.616,1423.18 986.616,47.2441 \"/>\n",
       "<polyline clip-path=\"url(#clip852)\" style=\"stroke:#000000; stroke-linecap:round; stroke-linejoin:round; stroke-width:2; stroke-opacity:0.1; fill:none\" points=\"1378.92,1423.18 1378.92,47.2441 \"/>\n",
       "<polyline clip-path=\"url(#clip852)\" style=\"stroke:#000000; stroke-linecap:round; stroke-linejoin:round; stroke-width:2; stroke-opacity:0.1; fill:none\" points=\"1771.23,1423.18 1771.23,47.2441 \"/>\n",
       "<polyline clip-path=\"url(#clip852)\" style=\"stroke:#000000; stroke-linecap:round; stroke-linejoin:round; stroke-width:2; stroke-opacity:0.1; fill:none\" points=\"2163.53,1423.18 2163.53,47.2441 \"/>\n",
       "<polyline clip-path=\"url(#clip850)\" style=\"stroke:#000000; stroke-linecap:round; stroke-linejoin:round; stroke-width:4; stroke-opacity:1; fill:none\" points=\"287.366,1423.18 2352.76,1423.18 \"/>\n",
       "<polyline clip-path=\"url(#clip850)\" style=\"stroke:#000000; stroke-linecap:round; stroke-linejoin:round; stroke-width:4; stroke-opacity:1; fill:none\" points=\"594.311,1423.18 594.311,1404.28 \"/>\n",
       "<polyline clip-path=\"url(#clip850)\" style=\"stroke:#000000; stroke-linecap:round; stroke-linejoin:round; stroke-width:4; stroke-opacity:1; fill:none\" points=\"986.616,1423.18 986.616,1404.28 \"/>\n",
       "<polyline clip-path=\"url(#clip850)\" style=\"stroke:#000000; stroke-linecap:round; stroke-linejoin:round; stroke-width:4; stroke-opacity:1; fill:none\" points=\"1378.92,1423.18 1378.92,1404.28 \"/>\n",
       "<polyline clip-path=\"url(#clip850)\" style=\"stroke:#000000; stroke-linecap:round; stroke-linejoin:round; stroke-width:4; stroke-opacity:1; fill:none\" points=\"1771.23,1423.18 1771.23,1404.28 \"/>\n",
       "<polyline clip-path=\"url(#clip850)\" style=\"stroke:#000000; stroke-linecap:round; stroke-linejoin:round; stroke-width:4; stroke-opacity:1; fill:none\" points=\"2163.53,1423.18 2163.53,1404.28 \"/>\n",
       "<path clip-path=\"url(#clip850)\" d=\"M541.163 1468.75 L570.839 1468.75 L570.839 1472.69 L541.163 1472.69 L541.163 1468.75 Z\" fill=\"#000000\" fill-rule=\"nonzero\" fill-opacity=\"1\" /><path clip-path=\"url(#clip850)\" d=\"M590.931 1454.1 Q587.32 1454.1 585.491 1457.66 Q583.686 1461.2 583.686 1468.33 Q583.686 1475.44 585.491 1479.01 Q587.32 1482.55 590.931 1482.55 Q594.565 1482.55 596.371 1479.01 Q598.2 1475.44 598.2 1468.33 Q598.2 1461.2 596.371 1457.66 Q594.565 1454.1 590.931 1454.1 M590.931 1450.39 Q596.741 1450.39 599.797 1455 Q602.876 1459.58 602.876 1468.33 Q602.876 1477.06 599.797 1481.67 Q596.741 1486.25 590.931 1486.25 Q585.121 1486.25 582.042 1481.67 Q578.987 1477.06 578.987 1468.33 Q578.987 1459.58 582.042 1455 Q585.121 1450.39 590.931 1450.39 Z\" fill=\"#000000\" fill-rule=\"nonzero\" fill-opacity=\"1\" /><path clip-path=\"url(#clip850)\" d=\"M611.093 1479.7 L615.977 1479.7 L615.977 1485.58 L611.093 1485.58 L611.093 1479.7 Z\" fill=\"#000000\" fill-rule=\"nonzero\" fill-opacity=\"1\" /><path clip-path=\"url(#clip850)\" d=\"M640.329 1466.95 Q643.686 1467.66 645.561 1469.93 Q647.459 1472.2 647.459 1475.53 Q647.459 1480.65 643.94 1483.45 Q640.422 1486.25 633.94 1486.25 Q631.764 1486.25 629.449 1485.81 Q627.158 1485.39 624.704 1484.54 L624.704 1480.02 Q626.649 1481.16 628.963 1481.74 Q631.278 1482.32 633.801 1482.32 Q638.199 1482.32 640.491 1480.58 Q642.806 1478.84 642.806 1475.53 Q642.806 1472.48 640.653 1470.77 Q638.524 1469.03 634.704 1469.03 L630.676 1469.03 L630.676 1465.19 L634.889 1465.19 Q638.338 1465.19 640.167 1463.82 Q641.996 1462.43 641.996 1459.84 Q641.996 1457.18 640.098 1455.77 Q638.223 1454.33 634.704 1454.33 Q632.783 1454.33 630.584 1454.75 Q628.385 1455.16 625.746 1456.04 L625.746 1451.88 Q628.408 1451.14 630.723 1450.77 Q633.061 1450.39 635.121 1450.39 Q640.445 1450.39 643.547 1452.83 Q646.648 1455.23 646.648 1459.35 Q646.648 1462.22 645.005 1464.21 Q643.361 1466.18 640.329 1466.95 Z\" fill=\"#000000\" fill-rule=\"nonzero\" fill-opacity=\"1\" /><path clip-path=\"url(#clip850)\" d=\"M964.001 1454.1 Q960.39 1454.1 958.561 1457.66 Q956.755 1461.2 956.755 1468.33 Q956.755 1475.44 958.561 1479.01 Q960.39 1482.55 964.001 1482.55 Q967.635 1482.55 969.441 1479.01 Q971.269 1475.44 971.269 1468.33 Q971.269 1461.2 969.441 1457.66 Q967.635 1454.1 964.001 1454.1 M964.001 1450.39 Q969.811 1450.39 972.866 1455 Q975.945 1459.58 975.945 1468.33 Q975.945 1477.06 972.866 1481.67 Q969.811 1486.25 964.001 1486.25 Q958.191 1486.25 955.112 1481.67 Q952.056 1477.06 952.056 1468.33 Q952.056 1459.58 955.112 1455 Q958.191 1450.39 964.001 1450.39 Z\" fill=\"#000000\" fill-rule=\"nonzero\" fill-opacity=\"1\" /><path clip-path=\"url(#clip850)\" d=\"M984.163 1479.7 L989.047 1479.7 L989.047 1485.58 L984.163 1485.58 L984.163 1479.7 Z\" fill=\"#000000\" fill-rule=\"nonzero\" fill-opacity=\"1\" /><path clip-path=\"url(#clip850)\" d=\"M1009.23 1454.1 Q1005.62 1454.1 1003.79 1457.66 Q1001.99 1461.2 1001.99 1468.33 Q1001.99 1475.44 1003.79 1479.01 Q1005.62 1482.55 1009.23 1482.55 Q1012.87 1482.55 1014.67 1479.01 Q1016.5 1475.44 1016.5 1468.33 Q1016.5 1461.2 1014.67 1457.66 Q1012.87 1454.1 1009.23 1454.1 M1009.23 1450.39 Q1015.04 1450.39 1018.1 1455 Q1021.18 1459.58 1021.18 1468.33 Q1021.18 1477.06 1018.1 1481.67 Q1015.04 1486.25 1009.23 1486.25 Q1003.42 1486.25 1000.34 1481.67 Q997.288 1477.06 997.288 1468.33 Q997.288 1459.58 1000.34 1455 Q1003.42 1450.39 1009.23 1450.39 Z\" fill=\"#000000\" fill-rule=\"nonzero\" fill-opacity=\"1\" /><path clip-path=\"url(#clip850)\" d=\"M1356.63 1454.1 Q1353.02 1454.1 1351.19 1457.66 Q1349.38 1461.2 1349.38 1468.33 Q1349.38 1475.44 1351.19 1479.01 Q1353.02 1482.55 1356.63 1482.55 Q1360.26 1482.55 1362.07 1479.01 Q1363.9 1475.44 1363.9 1468.33 Q1363.9 1461.2 1362.07 1457.66 Q1360.26 1454.1 1356.63 1454.1 M1356.63 1450.39 Q1362.44 1450.39 1365.5 1455 Q1368.57 1459.58 1368.57 1468.33 Q1368.57 1477.06 1365.5 1481.67 Q1362.44 1486.25 1356.63 1486.25 Q1350.82 1486.25 1347.74 1481.67 Q1344.69 1477.06 1344.69 1468.33 Q1344.69 1459.58 1347.74 1455 Q1350.82 1450.39 1356.63 1450.39 Z\" fill=\"#000000\" fill-rule=\"nonzero\" fill-opacity=\"1\" /><path clip-path=\"url(#clip850)\" d=\"M1376.79 1479.7 L1381.68 1479.7 L1381.68 1485.58 L1376.79 1485.58 L1376.79 1479.7 Z\" fill=\"#000000\" fill-rule=\"nonzero\" fill-opacity=\"1\" /><path clip-path=\"url(#clip850)\" d=\"M1406.03 1466.95 Q1409.38 1467.66 1411.26 1469.93 Q1413.16 1472.2 1413.16 1475.53 Q1413.16 1480.65 1409.64 1483.45 Q1406.12 1486.25 1399.64 1486.25 Q1397.46 1486.25 1395.15 1485.81 Q1392.86 1485.39 1390.4 1484.54 L1390.4 1480.02 Q1392.35 1481.16 1394.66 1481.74 Q1396.98 1482.32 1399.5 1482.32 Q1403.9 1482.32 1406.19 1480.58 Q1408.51 1478.84 1408.51 1475.53 Q1408.51 1472.48 1406.35 1470.77 Q1404.22 1469.03 1400.4 1469.03 L1396.38 1469.03 L1396.38 1465.19 L1400.59 1465.19 Q1404.04 1465.19 1405.87 1463.82 Q1407.69 1462.43 1407.69 1459.84 Q1407.69 1457.18 1405.8 1455.77 Q1403.92 1454.33 1400.4 1454.33 Q1398.48 1454.33 1396.28 1454.75 Q1394.08 1455.16 1391.44 1456.04 L1391.44 1451.88 Q1394.11 1451.14 1396.42 1450.77 Q1398.76 1450.39 1400.82 1450.39 Q1406.14 1450.39 1409.25 1452.83 Q1412.35 1455.23 1412.35 1459.35 Q1412.35 1462.22 1410.7 1464.21 Q1409.06 1466.18 1406.03 1466.95 Z\" fill=\"#000000\" fill-rule=\"nonzero\" fill-opacity=\"1\" /><path clip-path=\"url(#clip850)\" d=\"M1748.53 1454.1 Q1744.92 1454.1 1743.09 1457.66 Q1741.29 1461.2 1741.29 1468.33 Q1741.29 1475.44 1743.09 1479.01 Q1744.92 1482.55 1748.53 1482.55 Q1752.17 1482.55 1753.97 1479.01 Q1755.8 1475.44 1755.8 1468.33 Q1755.8 1461.2 1753.97 1457.66 Q1752.17 1454.1 1748.53 1454.1 M1748.53 1450.39 Q1754.34 1450.39 1757.4 1455 Q1760.48 1459.58 1760.48 1468.33 Q1760.48 1477.06 1757.4 1481.67 Q1754.34 1486.25 1748.53 1486.25 Q1742.72 1486.25 1739.64 1481.67 Q1736.59 1477.06 1736.59 1468.33 Q1736.59 1459.58 1739.64 1455 Q1742.72 1450.39 1748.53 1450.39 Z\" fill=\"#000000\" fill-rule=\"nonzero\" fill-opacity=\"1\" /><path clip-path=\"url(#clip850)\" d=\"M1768.69 1479.7 L1773.58 1479.7 L1773.58 1485.58 L1768.69 1485.58 L1768.69 1479.7 Z\" fill=\"#000000\" fill-rule=\"nonzero\" fill-opacity=\"1\" /><path clip-path=\"url(#clip850)\" d=\"M1794.34 1466.44 Q1791.19 1466.44 1789.34 1468.59 Q1787.51 1470.74 1787.51 1474.49 Q1787.51 1478.22 1789.34 1480.39 Q1791.19 1482.55 1794.34 1482.55 Q1797.49 1482.55 1799.32 1480.39 Q1801.17 1478.22 1801.17 1474.49 Q1801.17 1470.74 1799.32 1468.59 Q1797.49 1466.44 1794.34 1466.44 M1803.62 1451.78 L1803.62 1456.04 Q1801.86 1455.21 1800.06 1454.77 Q1798.28 1454.33 1796.52 1454.33 Q1791.89 1454.33 1789.43 1457.45 Q1787 1460.58 1786.66 1466.9 Q1788.02 1464.89 1790.08 1463.82 Q1792.14 1462.73 1794.62 1462.73 Q1799.83 1462.73 1802.84 1465.9 Q1805.87 1469.05 1805.87 1474.49 Q1805.87 1479.82 1802.72 1483.03 Q1799.57 1486.25 1794.34 1486.25 Q1788.35 1486.25 1785.17 1481.67 Q1782 1477.06 1782 1468.33 Q1782 1460.14 1785.89 1455.28 Q1789.78 1450.39 1796.33 1450.39 Q1798.09 1450.39 1799.87 1450.74 Q1801.68 1451.09 1803.62 1451.78 Z\" fill=\"#000000\" fill-rule=\"nonzero\" fill-opacity=\"1\" /><path clip-path=\"url(#clip850)\" d=\"M2141.01 1454.1 Q2137.4 1454.1 2135.57 1457.66 Q2133.76 1461.2 2133.76 1468.33 Q2133.76 1475.44 2135.57 1479.01 Q2137.4 1482.55 2141.01 1482.55 Q2144.64 1482.55 2146.45 1479.01 Q2148.28 1475.44 2148.28 1468.33 Q2148.28 1461.2 2146.45 1457.66 Q2144.64 1454.1 2141.01 1454.1 M2141.01 1450.39 Q2146.82 1450.39 2149.88 1455 Q2152.95 1459.58 2152.95 1468.33 Q2152.95 1477.06 2149.88 1481.67 Q2146.82 1486.25 2141.01 1486.25 Q2135.2 1486.25 2132.12 1481.67 Q2129.07 1477.06 2129.07 1468.33 Q2129.07 1459.58 2132.12 1455 Q2135.2 1450.39 2141.01 1450.39 Z\" fill=\"#000000\" fill-rule=\"nonzero\" fill-opacity=\"1\" /><path clip-path=\"url(#clip850)\" d=\"M2161.17 1479.7 L2166.06 1479.7 L2166.06 1485.58 L2161.17 1485.58 L2161.17 1479.7 Z\" fill=\"#000000\" fill-rule=\"nonzero\" fill-opacity=\"1\" /><path clip-path=\"url(#clip850)\" d=\"M2176.38 1484.86 L2176.38 1480.6 Q2178.14 1481.44 2179.94 1481.88 Q2181.75 1482.32 2183.49 1482.32 Q2188.12 1482.32 2190.55 1479.21 Q2193 1476.09 2193.35 1469.75 Q2192.01 1471.74 2189.94 1472.8 Q2187.88 1473.87 2185.38 1473.87 Q2180.2 1473.87 2177.17 1470.74 Q2174.16 1467.59 2174.16 1462.15 Q2174.16 1456.83 2177.31 1453.61 Q2180.45 1450.39 2185.69 1450.39 Q2191.68 1450.39 2194.83 1455 Q2198 1459.58 2198 1468.33 Q2198 1476.51 2194.11 1481.39 Q2190.25 1486.25 2183.69 1486.25 Q2181.94 1486.25 2180.13 1485.9 Q2178.32 1485.56 2176.38 1484.86 M2185.69 1470.21 Q2188.83 1470.21 2190.66 1468.06 Q2192.51 1465.9 2192.51 1462.15 Q2192.51 1458.43 2190.66 1456.27 Q2188.83 1454.1 2185.69 1454.1 Q2182.54 1454.1 2180.69 1456.27 Q2178.86 1458.43 2178.86 1462.15 Q2178.86 1465.9 2180.69 1468.06 Q2182.54 1470.21 2185.69 1470.21 Z\" fill=\"#000000\" fill-rule=\"nonzero\" fill-opacity=\"1\" /><path clip-path=\"url(#clip850)\" d=\"M1262.64 1545.76 Q1264.71 1546.46 1266.65 1548.76 Q1268.63 1551.05 1270.6 1555.06 L1277.12 1568.04 L1270.22 1568.04 L1264.14 1555.85 Q1261.78 1551.08 1259.55 1549.52 Q1257.36 1547.96 1253.54 1547.96 L1246.54 1547.96 L1246.54 1568.04 L1240.11 1568.04 L1240.11 1520.52 L1254.62 1520.52 Q1262.77 1520.52 1266.78 1523.93 Q1270.79 1527.34 1270.79 1534.21 Q1270.79 1538.7 1268.69 1541.66 Q1266.62 1544.62 1262.64 1545.76 M1246.54 1525.81 L1246.54 1542.68 L1254.62 1542.68 Q1259.27 1542.68 1261.62 1540.54 Q1264.01 1538.38 1264.01 1534.21 Q1264.01 1530.04 1261.62 1527.94 Q1259.27 1525.81 1254.62 1525.81 L1246.54 1525.81 Z\" fill=\"#000000\" fill-rule=\"nonzero\" fill-opacity=\"1\" /><path clip-path=\"url(#clip850)\" d=\"M1312.71 1548.76 L1312.71 1551.62 L1285.78 1551.62 Q1286.16 1557.67 1289.41 1560.85 Q1292.69 1564 1298.51 1564 Q1301.89 1564 1305.04 1563.17 Q1308.22 1562.35 1311.34 1560.69 L1311.34 1566.23 Q1308.19 1567.57 1304.88 1568.27 Q1301.57 1568.97 1298.16 1568.97 Q1289.63 1568.97 1284.64 1564 Q1279.67 1559.04 1279.67 1550.57 Q1279.67 1541.82 1284.38 1536.69 Q1289.12 1531.54 1297.14 1531.54 Q1304.34 1531.54 1308.51 1536.18 Q1312.71 1540.8 1312.71 1548.76 M1306.85 1547.04 Q1306.79 1542.23 1304.15 1539.37 Q1301.54 1536.5 1297.21 1536.5 Q1292.31 1536.5 1289.35 1539.27 Q1286.42 1542.04 1285.97 1547.07 L1306.85 1547.04 Z\" fill=\"#000000\" fill-rule=\"nonzero\" fill-opacity=\"1\" /><path clip-path=\"url(#clip850)\" d=\"M1336.39 1518.58 Q1332.12 1525.9 1330.06 1533.06 Q1327.99 1540.23 1327.99 1547.58 Q1327.99 1554.93 1330.06 1562.16 Q1332.16 1569.35 1336.39 1576.64 L1331.3 1576.64 Q1326.52 1569.16 1324.13 1561.93 Q1321.78 1554.71 1321.78 1547.58 Q1321.78 1540.48 1324.13 1533.29 Q1326.49 1526.09 1331.3 1518.58 L1336.39 1518.58 Z\" fill=\"#000000\" fill-rule=\"nonzero\" fill-opacity=\"1\" /><path clip-path=\"url(#clip850)\" d=\"M1377.38 1532.4 L1364.49 1549.74 L1378.05 1568.04 L1371.15 1568.04 L1360.77 1554.04 L1350.39 1568.04 L1343.49 1568.04 L1357.33 1549.39 L1344.66 1532.4 L1351.57 1532.4 L1361.02 1545.1 L1370.48 1532.4 L1377.38 1532.4 Z\" fill=\"#000000\" fill-rule=\"nonzero\" fill-opacity=\"1\" /><path clip-path=\"url(#clip850)\" d=\"M1385.4 1518.58 L1390.5 1518.58 Q1395.27 1526.09 1397.63 1533.29 Q1400.01 1540.48 1400.01 1547.58 Q1400.01 1554.71 1397.63 1561.93 Q1395.27 1569.16 1390.5 1576.64 L1385.4 1576.64 Q1389.64 1569.35 1391.71 1562.16 Q1393.81 1554.93 1393.81 1547.58 Q1393.81 1540.23 1391.71 1533.06 Q1389.64 1525.9 1385.4 1518.58 Z\" fill=\"#000000\" fill-rule=\"nonzero\" fill-opacity=\"1\" /><polyline clip-path=\"url(#clip852)\" style=\"stroke:#000000; stroke-linecap:round; stroke-linejoin:round; stroke-width:2; stroke-opacity:0.1; fill:none\" points=\"287.366,1384.38 2352.76,1384.38 \"/>\n",
       "<polyline clip-path=\"url(#clip852)\" style=\"stroke:#000000; stroke-linecap:round; stroke-linejoin:round; stroke-width:2; stroke-opacity:0.1; fill:none\" points=\"287.366,1167.99 2352.76,1167.99 \"/>\n",
       "<polyline clip-path=\"url(#clip852)\" style=\"stroke:#000000; stroke-linecap:round; stroke-linejoin:round; stroke-width:2; stroke-opacity:0.1; fill:none\" points=\"287.366,951.602 2352.76,951.602 \"/>\n",
       "<polyline clip-path=\"url(#clip852)\" style=\"stroke:#000000; stroke-linecap:round; stroke-linejoin:round; stroke-width:2; stroke-opacity:0.1; fill:none\" points=\"287.366,735.212 2352.76,735.212 \"/>\n",
       "<polyline clip-path=\"url(#clip852)\" style=\"stroke:#000000; stroke-linecap:round; stroke-linejoin:round; stroke-width:2; stroke-opacity:0.1; fill:none\" points=\"287.366,518.822 2352.76,518.822 \"/>\n",
       "<polyline clip-path=\"url(#clip852)\" style=\"stroke:#000000; stroke-linecap:round; stroke-linejoin:round; stroke-width:2; stroke-opacity:0.1; fill:none\" points=\"287.366,302.431 2352.76,302.431 \"/>\n",
       "<polyline clip-path=\"url(#clip852)\" style=\"stroke:#000000; stroke-linecap:round; stroke-linejoin:round; stroke-width:2; stroke-opacity:0.1; fill:none\" points=\"287.366,86.041 2352.76,86.041 \"/>\n",
       "<polyline clip-path=\"url(#clip850)\" style=\"stroke:#000000; stroke-linecap:round; stroke-linejoin:round; stroke-width:4; stroke-opacity:1; fill:none\" points=\"287.366,1423.18 287.366,47.2441 \"/>\n",
       "<polyline clip-path=\"url(#clip850)\" style=\"stroke:#000000; stroke-linecap:round; stroke-linejoin:round; stroke-width:4; stroke-opacity:1; fill:none\" points=\"287.366,1384.38 306.264,1384.38 \"/>\n",
       "<polyline clip-path=\"url(#clip850)\" style=\"stroke:#000000; stroke-linecap:round; stroke-linejoin:round; stroke-width:4; stroke-opacity:1; fill:none\" points=\"287.366,1167.99 306.264,1167.99 \"/>\n",
       "<polyline clip-path=\"url(#clip850)\" style=\"stroke:#000000; stroke-linecap:round; stroke-linejoin:round; stroke-width:4; stroke-opacity:1; fill:none\" points=\"287.366,951.602 306.264,951.602 \"/>\n",
       "<polyline clip-path=\"url(#clip850)\" style=\"stroke:#000000; stroke-linecap:round; stroke-linejoin:round; stroke-width:4; stroke-opacity:1; fill:none\" points=\"287.366,735.212 306.264,735.212 \"/>\n",
       "<polyline clip-path=\"url(#clip850)\" style=\"stroke:#000000; stroke-linecap:round; stroke-linejoin:round; stroke-width:4; stroke-opacity:1; fill:none\" points=\"287.366,518.822 306.264,518.822 \"/>\n",
       "<polyline clip-path=\"url(#clip850)\" style=\"stroke:#000000; stroke-linecap:round; stroke-linejoin:round; stroke-width:4; stroke-opacity:1; fill:none\" points=\"287.366,302.431 306.264,302.431 \"/>\n",
       "<polyline clip-path=\"url(#clip850)\" style=\"stroke:#000000; stroke-linecap:round; stroke-linejoin:round; stroke-width:4; stroke-opacity:1; fill:none\" points=\"287.366,86.041 306.264,86.041 \"/>\n",
       "<path clip-path=\"url(#clip850)\" d=\"M115.256 1384.83 L144.931 1384.83 L144.931 1388.77 L115.256 1388.77 L115.256 1384.83 Z\" fill=\"#000000\" fill-rule=\"nonzero\" fill-opacity=\"1\" /><path clip-path=\"url(#clip850)\" d=\"M165.024 1370.18 Q161.413 1370.18 159.584 1373.75 Q157.778 1377.29 157.778 1384.42 Q157.778 1391.52 159.584 1395.09 Q161.413 1398.63 165.024 1398.63 Q168.658 1398.63 170.464 1395.09 Q172.292 1391.52 172.292 1384.42 Q172.292 1377.29 170.464 1373.75 Q168.658 1370.18 165.024 1370.18 M165.024 1366.48 Q170.834 1366.48 173.889 1371.08 Q176.968 1375.67 176.968 1384.42 Q176.968 1393.14 173.889 1397.75 Q170.834 1402.33 165.024 1402.33 Q159.214 1402.33 156.135 1397.75 Q153.079 1393.14 153.079 1384.42 Q153.079 1375.67 156.135 1371.08 Q159.214 1366.48 165.024 1366.48 Z\" fill=\"#000000\" fill-rule=\"nonzero\" fill-opacity=\"1\" /><path clip-path=\"url(#clip850)\" d=\"M185.186 1395.78 L190.07 1395.78 L190.07 1401.66 L185.186 1401.66 L185.186 1395.78 Z\" fill=\"#000000\" fill-rule=\"nonzero\" fill-opacity=\"1\" /><path clip-path=\"url(#clip850)\" d=\"M201.065 1397.73 L208.704 1397.73 L208.704 1371.36 L200.394 1373.03 L200.394 1368.77 L208.658 1367.1 L213.334 1367.1 L213.334 1397.73 L220.973 1397.73 L220.973 1401.66 L201.065 1401.66 L201.065 1397.73 Z\" fill=\"#000000\" fill-rule=\"nonzero\" fill-opacity=\"1\" /><path clip-path=\"url(#clip850)\" d=\"M230.463 1367.1 L248.82 1367.1 L248.82 1371.04 L234.746 1371.04 L234.746 1379.51 Q235.764 1379.16 236.783 1379 Q237.801 1378.82 238.82 1378.82 Q244.607 1378.82 247.986 1381.99 Q251.366 1385.16 251.366 1390.58 Q251.366 1396.15 247.894 1399.26 Q244.421 1402.33 238.102 1402.33 Q235.926 1402.33 233.658 1401.96 Q231.412 1401.59 229.005 1400.85 L229.005 1396.15 Q231.088 1397.29 233.31 1397.84 Q235.533 1398.4 238.009 1398.4 Q242.014 1398.4 244.352 1396.29 Q246.69 1394.19 246.69 1390.58 Q246.69 1386.96 244.352 1384.86 Q242.014 1382.75 238.009 1382.75 Q236.135 1382.75 234.26 1383.17 Q232.408 1383.58 230.463 1384.46 L230.463 1367.1 Z\" fill=\"#000000\" fill-rule=\"nonzero\" fill-opacity=\"1\" /><path clip-path=\"url(#clip850)\" d=\"M114.26 1168.44 L143.936 1168.44 L143.936 1172.38 L114.26 1172.38 L114.26 1168.44 Z\" fill=\"#000000\" fill-rule=\"nonzero\" fill-opacity=\"1\" /><path clip-path=\"url(#clip850)\" d=\"M164.028 1153.79 Q160.417 1153.79 158.589 1157.36 Q156.783 1160.9 156.783 1168.03 Q156.783 1175.13 158.589 1178.7 Q160.417 1182.24 164.028 1182.24 Q167.663 1182.24 169.468 1178.7 Q171.297 1175.13 171.297 1168.03 Q171.297 1160.9 169.468 1157.36 Q167.663 1153.79 164.028 1153.79 M164.028 1150.09 Q169.839 1150.09 172.894 1154.69 Q175.973 1159.28 175.973 1168.03 Q175.973 1176.75 172.894 1181.36 Q169.839 1185.94 164.028 1185.94 Q158.218 1185.94 155.14 1181.36 Q152.084 1176.75 152.084 1168.03 Q152.084 1159.28 155.14 1154.69 Q158.218 1150.09 164.028 1150.09 Z\" fill=\"#000000\" fill-rule=\"nonzero\" fill-opacity=\"1\" /><path clip-path=\"url(#clip850)\" d=\"M184.19 1179.39 L189.075 1179.39 L189.075 1185.27 L184.19 1185.27 L184.19 1179.39 Z\" fill=\"#000000\" fill-rule=\"nonzero\" fill-opacity=\"1\" /><path clip-path=\"url(#clip850)\" d=\"M200.07 1181.34 L207.709 1181.34 L207.709 1154.97 L199.399 1156.64 L199.399 1152.38 L207.662 1150.71 L212.338 1150.71 L212.338 1181.34 L219.977 1181.34 L219.977 1185.27 L200.07 1185.27 L200.07 1181.34 Z\" fill=\"#000000\" fill-rule=\"nonzero\" fill-opacity=\"1\" /><path clip-path=\"url(#clip850)\" d=\"M239.422 1153.79 Q235.81 1153.79 233.982 1157.36 Q232.176 1160.9 232.176 1168.03 Q232.176 1175.13 233.982 1178.7 Q235.81 1182.24 239.422 1182.24 Q243.056 1182.24 244.861 1178.7 Q246.69 1175.13 246.69 1168.03 Q246.69 1160.9 244.861 1157.36 Q243.056 1153.79 239.422 1153.79 M239.422 1150.09 Q245.232 1150.09 248.287 1154.69 Q251.366 1159.28 251.366 1168.03 Q251.366 1176.75 248.287 1181.36 Q245.232 1185.94 239.422 1185.94 Q233.611 1185.94 230.533 1181.36 Q227.477 1176.75 227.477 1168.03 Q227.477 1159.28 230.533 1154.69 Q233.611 1150.09 239.422 1150.09 Z\" fill=\"#000000\" fill-rule=\"nonzero\" fill-opacity=\"1\" /><path clip-path=\"url(#clip850)\" d=\"M115.256 952.054 L144.931 952.054 L144.931 955.989 L115.256 955.989 L115.256 952.054 Z\" fill=\"#000000\" fill-rule=\"nonzero\" fill-opacity=\"1\" /><path clip-path=\"url(#clip850)\" d=\"M165.024 937.401 Q161.413 937.401 159.584 940.966 Q157.778 944.507 157.778 951.637 Q157.778 958.743 159.584 962.308 Q161.413 965.85 165.024 965.85 Q168.658 965.85 170.464 962.308 Q172.292 958.743 172.292 951.637 Q172.292 944.507 170.464 940.966 Q168.658 937.401 165.024 937.401 M165.024 933.697 Q170.834 933.697 173.889 938.304 Q176.968 942.887 176.968 951.637 Q176.968 960.364 173.889 964.97 Q170.834 969.554 165.024 969.554 Q159.214 969.554 156.135 964.97 Q153.079 960.364 153.079 951.637 Q153.079 942.887 156.135 938.304 Q159.214 933.697 165.024 933.697 Z\" fill=\"#000000\" fill-rule=\"nonzero\" fill-opacity=\"1\" /><path clip-path=\"url(#clip850)\" d=\"M185.186 963.003 L190.07 963.003 L190.07 968.882 L185.186 968.882 L185.186 963.003 Z\" fill=\"#000000\" fill-rule=\"nonzero\" fill-opacity=\"1\" /><path clip-path=\"url(#clip850)\" d=\"M210.255 937.401 Q206.644 937.401 204.815 940.966 Q203.01 944.507 203.01 951.637 Q203.01 958.743 204.815 962.308 Q206.644 965.85 210.255 965.85 Q213.889 965.85 215.695 962.308 Q217.523 958.743 217.523 951.637 Q217.523 944.507 215.695 940.966 Q213.889 937.401 210.255 937.401 M210.255 933.697 Q216.065 933.697 219.121 938.304 Q222.199 942.887 222.199 951.637 Q222.199 960.364 219.121 964.97 Q216.065 969.554 210.255 969.554 Q204.445 969.554 201.366 964.97 Q198.311 960.364 198.311 951.637 Q198.311 942.887 201.366 938.304 Q204.445 933.697 210.255 933.697 Z\" fill=\"#000000\" fill-rule=\"nonzero\" fill-opacity=\"1\" /><path clip-path=\"url(#clip850)\" d=\"M230.463 934.322 L248.82 934.322 L248.82 938.257 L234.746 938.257 L234.746 946.73 Q235.764 946.382 236.783 946.22 Q237.801 946.035 238.82 946.035 Q244.607 946.035 247.986 949.206 Q251.366 952.378 251.366 957.794 Q251.366 963.373 247.894 966.475 Q244.421 969.554 238.102 969.554 Q235.926 969.554 233.658 969.183 Q231.412 968.813 229.005 968.072 L229.005 963.373 Q231.088 964.507 233.31 965.063 Q235.533 965.618 238.009 965.618 Q242.014 965.618 244.352 963.512 Q246.69 961.405 246.69 957.794 Q246.69 954.183 244.352 952.077 Q242.014 949.97 238.009 949.97 Q236.135 949.97 234.26 950.387 Q232.408 950.804 230.463 951.683 L230.463 934.322 Z\" fill=\"#000000\" fill-rule=\"nonzero\" fill-opacity=\"1\" /><path clip-path=\"url(#clip850)\" d=\"M164.028 721.011 Q160.417 721.011 158.589 724.575 Q156.783 728.117 156.783 735.247 Q156.783 742.353 158.589 745.918 Q160.417 749.46 164.028 749.46 Q167.663 749.46 169.468 745.918 Q171.297 742.353 171.297 735.247 Q171.297 728.117 169.468 724.575 Q167.663 721.011 164.028 721.011 M164.028 717.307 Q169.839 717.307 172.894 721.913 Q175.973 726.497 175.973 735.247 Q175.973 743.973 172.894 748.58 Q169.839 753.163 164.028 753.163 Q158.218 753.163 155.14 748.58 Q152.084 743.973 152.084 735.247 Q152.084 726.497 155.14 721.913 Q158.218 717.307 164.028 717.307 Z\" fill=\"#000000\" fill-rule=\"nonzero\" fill-opacity=\"1\" /><path clip-path=\"url(#clip850)\" d=\"M184.19 746.612 L189.075 746.612 L189.075 752.492 L184.19 752.492 L184.19 746.612 Z\" fill=\"#000000\" fill-rule=\"nonzero\" fill-opacity=\"1\" /><path clip-path=\"url(#clip850)\" d=\"M209.26 721.011 Q205.649 721.011 203.82 724.575 Q202.014 728.117 202.014 735.247 Q202.014 742.353 203.82 745.918 Q205.649 749.46 209.26 749.46 Q212.894 749.46 214.699 745.918 Q216.528 742.353 216.528 735.247 Q216.528 728.117 214.699 724.575 Q212.894 721.011 209.26 721.011 M209.26 717.307 Q215.07 717.307 218.125 721.913 Q221.204 726.497 221.204 735.247 Q221.204 743.973 218.125 748.58 Q215.07 753.163 209.26 753.163 Q203.449 753.163 200.371 748.58 Q197.315 743.973 197.315 735.247 Q197.315 726.497 200.371 721.913 Q203.449 717.307 209.26 717.307 Z\" fill=\"#000000\" fill-rule=\"nonzero\" fill-opacity=\"1\" /><path clip-path=\"url(#clip850)\" d=\"M239.422 721.011 Q235.81 721.011 233.982 724.575 Q232.176 728.117 232.176 735.247 Q232.176 742.353 233.982 745.918 Q235.81 749.46 239.422 749.46 Q243.056 749.46 244.861 745.918 Q246.69 742.353 246.69 735.247 Q246.69 728.117 244.861 724.575 Q243.056 721.011 239.422 721.011 M239.422 717.307 Q245.232 717.307 248.287 721.913 Q251.366 726.497 251.366 735.247 Q251.366 743.973 248.287 748.58 Q245.232 753.163 239.422 753.163 Q233.611 753.163 230.533 748.58 Q227.477 743.973 227.477 735.247 Q227.477 726.497 230.533 721.913 Q233.611 717.307 239.422 717.307 Z\" fill=\"#000000\" fill-rule=\"nonzero\" fill-opacity=\"1\" /><path clip-path=\"url(#clip850)\" d=\"M165.024 504.62 Q161.413 504.62 159.584 508.185 Q157.778 511.727 157.778 518.856 Q157.778 525.963 159.584 529.528 Q161.413 533.069 165.024 533.069 Q168.658 533.069 170.464 529.528 Q172.292 525.963 172.292 518.856 Q172.292 511.727 170.464 508.185 Q168.658 504.62 165.024 504.62 M165.024 500.917 Q170.834 500.917 173.889 505.523 Q176.968 510.106 176.968 518.856 Q176.968 527.583 173.889 532.19 Q170.834 536.773 165.024 536.773 Q159.214 536.773 156.135 532.19 Q153.079 527.583 153.079 518.856 Q153.079 510.106 156.135 505.523 Q159.214 500.917 165.024 500.917 Z\" fill=\"#000000\" fill-rule=\"nonzero\" fill-opacity=\"1\" /><path clip-path=\"url(#clip850)\" d=\"M185.186 530.222 L190.07 530.222 L190.07 536.102 L185.186 536.102 L185.186 530.222 Z\" fill=\"#000000\" fill-rule=\"nonzero\" fill-opacity=\"1\" /><path clip-path=\"url(#clip850)\" d=\"M210.255 504.62 Q206.644 504.62 204.815 508.185 Q203.01 511.727 203.01 518.856 Q203.01 525.963 204.815 529.528 Q206.644 533.069 210.255 533.069 Q213.889 533.069 215.695 529.528 Q217.523 525.963 217.523 518.856 Q217.523 511.727 215.695 508.185 Q213.889 504.62 210.255 504.62 M210.255 500.917 Q216.065 500.917 219.121 505.523 Q222.199 510.106 222.199 518.856 Q222.199 527.583 219.121 532.19 Q216.065 536.773 210.255 536.773 Q204.445 536.773 201.366 532.19 Q198.311 527.583 198.311 518.856 Q198.311 510.106 201.366 505.523 Q204.445 500.917 210.255 500.917 Z\" fill=\"#000000\" fill-rule=\"nonzero\" fill-opacity=\"1\" /><path clip-path=\"url(#clip850)\" d=\"M230.463 501.542 L248.82 501.542 L248.82 505.477 L234.746 505.477 L234.746 513.949 Q235.764 513.602 236.783 513.44 Q237.801 513.255 238.82 513.255 Q244.607 513.255 247.986 516.426 Q251.366 519.597 251.366 525.014 Q251.366 530.592 247.894 533.694 Q244.421 536.773 238.102 536.773 Q235.926 536.773 233.658 536.403 Q231.412 536.032 229.005 535.291 L229.005 530.592 Q231.088 531.727 233.31 532.282 Q235.533 532.838 238.009 532.838 Q242.014 532.838 244.352 530.731 Q246.69 528.625 246.69 525.014 Q246.69 521.403 244.352 519.296 Q242.014 517.19 238.009 517.19 Q236.135 517.19 234.26 517.606 Q232.408 518.023 230.463 518.903 L230.463 501.542 Z\" fill=\"#000000\" fill-rule=\"nonzero\" fill-opacity=\"1\" /><path clip-path=\"url(#clip850)\" d=\"M164.028 288.23 Q160.417 288.23 158.589 291.795 Q156.783 295.336 156.783 302.466 Q156.783 309.572 158.589 313.137 Q160.417 316.679 164.028 316.679 Q167.663 316.679 169.468 313.137 Q171.297 309.572 171.297 302.466 Q171.297 295.336 169.468 291.795 Q167.663 288.23 164.028 288.23 M164.028 284.526 Q169.839 284.526 172.894 289.133 Q175.973 293.716 175.973 302.466 Q175.973 311.193 172.894 315.799 Q169.839 320.383 164.028 320.383 Q158.218 320.383 155.14 315.799 Q152.084 311.193 152.084 302.466 Q152.084 293.716 155.14 289.133 Q158.218 284.526 164.028 284.526 Z\" fill=\"#000000\" fill-rule=\"nonzero\" fill-opacity=\"1\" /><path clip-path=\"url(#clip850)\" d=\"M184.19 313.832 L189.075 313.832 L189.075 319.711 L184.19 319.711 L184.19 313.832 Z\" fill=\"#000000\" fill-rule=\"nonzero\" fill-opacity=\"1\" /><path clip-path=\"url(#clip850)\" d=\"M200.07 315.776 L207.709 315.776 L207.709 289.411 L199.399 291.077 L199.399 286.818 L207.662 285.151 L212.338 285.151 L212.338 315.776 L219.977 315.776 L219.977 319.711 L200.07 319.711 L200.07 315.776 Z\" fill=\"#000000\" fill-rule=\"nonzero\" fill-opacity=\"1\" /><path clip-path=\"url(#clip850)\" d=\"M239.422 288.23 Q235.81 288.23 233.982 291.795 Q232.176 295.336 232.176 302.466 Q232.176 309.572 233.982 313.137 Q235.81 316.679 239.422 316.679 Q243.056 316.679 244.861 313.137 Q246.69 309.572 246.69 302.466 Q246.69 295.336 244.861 291.795 Q243.056 288.23 239.422 288.23 M239.422 284.526 Q245.232 284.526 248.287 289.133 Q251.366 293.716 251.366 302.466 Q251.366 311.193 248.287 315.799 Q245.232 320.383 239.422 320.383 Q233.611 320.383 230.533 315.799 Q227.477 311.193 227.477 302.466 Q227.477 293.716 230.533 289.133 Q233.611 284.526 239.422 284.526 Z\" fill=\"#000000\" fill-rule=\"nonzero\" fill-opacity=\"1\" /><path clip-path=\"url(#clip850)\" d=\"M165.024 71.8396 Q161.413 71.8396 159.584 75.4044 Q157.778 78.9461 157.778 86.0757 Q157.778 93.1821 159.584 96.7469 Q161.413 100.289 165.024 100.289 Q168.658 100.289 170.464 96.7469 Q172.292 93.1821 172.292 86.0757 Q172.292 78.9461 170.464 75.4044 Q168.658 71.8396 165.024 71.8396 M165.024 68.136 Q170.834 68.136 173.889 72.7424 Q176.968 77.3257 176.968 86.0757 Q176.968 94.8025 173.889 99.4089 Q170.834 103.992 165.024 103.992 Q159.214 103.992 156.135 99.4089 Q153.079 94.8025 153.079 86.0757 Q153.079 77.3257 156.135 72.7424 Q159.214 68.136 165.024 68.136 Z\" fill=\"#000000\" fill-rule=\"nonzero\" fill-opacity=\"1\" /><path clip-path=\"url(#clip850)\" d=\"M185.186 97.4414 L190.07 97.4414 L190.07 103.321 L185.186 103.321 L185.186 97.4414 Z\" fill=\"#000000\" fill-rule=\"nonzero\" fill-opacity=\"1\" /><path clip-path=\"url(#clip850)\" d=\"M201.065 99.3858 L208.704 99.3858 L208.704 73.0202 L200.394 74.6868 L200.394 70.4276 L208.658 68.761 L213.334 68.761 L213.334 99.3858 L220.973 99.3858 L220.973 103.321 L201.065 103.321 L201.065 99.3858 Z\" fill=\"#000000\" fill-rule=\"nonzero\" fill-opacity=\"1\" /><path clip-path=\"url(#clip850)\" d=\"M230.463 68.761 L248.82 68.761 L248.82 72.6961 L234.746 72.6961 L234.746 81.1683 Q235.764 80.8211 236.783 80.659 Q237.801 80.4739 238.82 80.4739 Q244.607 80.4739 247.986 83.6451 Q251.366 86.8164 251.366 92.233 Q251.366 97.8117 247.894 100.914 Q244.421 103.992 238.102 103.992 Q235.926 103.992 233.658 103.622 Q231.412 103.252 229.005 102.511 L229.005 97.8117 Q231.088 98.946 233.31 99.5015 Q235.533 100.057 238.009 100.057 Q242.014 100.057 244.352 97.9506 Q246.69 95.8441 246.69 92.233 Q246.69 88.622 244.352 86.5155 Q242.014 84.409 238.009 84.409 Q236.135 84.409 234.26 84.8257 Q232.408 85.2423 230.463 86.122 L230.463 68.761 Z\" fill=\"#000000\" fill-rule=\"nonzero\" fill-opacity=\"1\" /><path clip-path=\"url(#clip850)\" d=\"M16.4842 815.293 L16.4842 808.863 L64.0042 808.863 L64.0042 815.293 L16.4842 815.293 Z\" fill=\"#000000\" fill-rule=\"nonzero\" fill-opacity=\"1\" /><path clip-path=\"url(#clip850)\" d=\"M35.1993 768.568 Q31.2526 766.372 29.3747 763.317 Q27.4968 760.261 27.4968 756.123 Q27.4968 750.553 31.4117 747.53 Q35.2948 744.506 42.4881 744.506 L64.0042 744.506 L64.0042 750.394 L42.679 750.394 Q37.5546 750.394 35.072 752.208 Q32.5894 754.023 32.5894 757.747 Q32.5894 762.298 35.6131 764.94 Q38.6368 767.582 43.8567 767.582 L64.0042 767.582 L64.0042 773.47 L42.679 773.47 Q37.5228 773.47 35.072 775.284 Q32.5894 777.098 32.5894 780.886 Q32.5894 785.374 35.6449 788.016 Q38.6686 790.657 43.8567 790.657 L64.0042 790.657 L64.0042 796.546 L28.3562 796.546 L28.3562 790.657 L33.8944 790.657 Q30.616 788.652 29.0564 785.851 Q27.4968 783.05 27.4968 779.199 Q27.4968 775.316 29.4702 772.61 Q31.4436 769.873 35.1993 768.568 Z\" fill=\"#000000\" fill-rule=\"nonzero\" fill-opacity=\"1\" /><path clip-path=\"url(#clip850)\" d=\"M14.5426 718.757 Q21.8632 723.022 29.0246 725.09 Q36.186 727.159 43.5384 727.159 Q50.8908 727.159 58.1159 725.09 Q65.3091 722.99 72.5979 718.757 L72.5979 723.849 Q65.1182 728.623 57.8931 731.011 Q50.668 733.366 43.5384 733.366 Q36.4406 733.366 29.2474 731.011 Q22.0542 728.655 14.5426 723.849 L14.5426 718.757 Z\" fill=\"#000000\" fill-rule=\"nonzero\" fill-opacity=\"1\" /><path clip-path=\"url(#clip850)\" d=\"M28.3562 677.761 L45.7028 690.652 L64.0042 677.093 L64.0042 684 L49.9996 694.376 L64.0042 704.752 L64.0042 711.659 L45.3526 697.813 L28.3562 710.481 L28.3562 703.574 L41.0558 694.121 L28.3562 684.668 L28.3562 677.761 Z\" fill=\"#000000\" fill-rule=\"nonzero\" fill-opacity=\"1\" /><path clip-path=\"url(#clip850)\" d=\"M14.5426 669.741 L14.5426 664.648 Q22.0542 659.874 29.2474 657.519 Q36.4406 655.131 43.5384 655.131 Q50.668 655.131 57.8931 657.519 Q65.1182 659.874 72.5979 664.648 L72.5979 669.741 Q65.3091 665.507 58.1159 663.439 Q50.8908 661.338 43.5384 661.338 Q36.186 661.338 29.0246 663.439 Q21.8632 665.507 14.5426 669.741 Z\" fill=\"#000000\" fill-rule=\"nonzero\" fill-opacity=\"1\" /><circle clip-path=\"url(#clip852)\" cx=\"345.82\" cy=\"735.212\" r=\"14.4\" fill=\"#009af9\" fill-rule=\"evenodd\" fill-opacity=\"1\" stroke=\"#000000\" stroke-opacity=\"1\" stroke-width=\"3.2\"/>\n",
       "<circle clip-path=\"url(#clip852)\" cx=\"955.195\" cy=\"1384.24\" r=\"14.4\" fill=\"#009af9\" fill-rule=\"evenodd\" fill-opacity=\"1\" stroke=\"#000000\" stroke-opacity=\"1\" stroke-width=\"3.2\"/>\n",
       "<circle clip-path=\"url(#clip852)\" cx=\"955.195\" cy=\"86.1857\" r=\"14.4\" fill=\"#009af9\" fill-rule=\"evenodd\" fill-opacity=\"1\" stroke=\"#000000\" stroke-opacity=\"1\" stroke-width=\"3.2\"/>\n",
       "<circle clip-path=\"url(#clip852)\" cx=\"985.62\" cy=\"735.212\" r=\"14.4\" fill=\"#009af9\" fill-rule=\"evenodd\" fill-opacity=\"1\" stroke=\"#000000\" stroke-opacity=\"1\" stroke-width=\"3.2\"/>\n",
       "<circle clip-path=\"url(#clip852)\" cx=\"986.547\" cy=\"735.212\" r=\"14.4\" fill=\"#009af9\" fill-rule=\"evenodd\" fill-opacity=\"1\" stroke=\"#000000\" stroke-opacity=\"1\" stroke-width=\"3.2\"/>\n",
       "<circle clip-path=\"url(#clip852)\" cx=\"986.614\" cy=\"735.212\" r=\"14.4\" fill=\"#009af9\" fill-rule=\"evenodd\" fill-opacity=\"1\" stroke=\"#000000\" stroke-opacity=\"1\" stroke-width=\"3.2\"/>\n",
       "<circle clip-path=\"url(#clip852)\" cx=\"986.616\" cy=\"735.211\" r=\"14.4\" fill=\"#009af9\" fill-rule=\"evenodd\" fill-opacity=\"1\" stroke=\"#000000\" stroke-opacity=\"1\" stroke-width=\"3.2\"/>\n",
       "<circle clip-path=\"url(#clip852)\" cx=\"986.616\" cy=\"735.213\" r=\"14.4\" fill=\"#009af9\" fill-rule=\"evenodd\" fill-opacity=\"1\" stroke=\"#000000\" stroke-opacity=\"1\" stroke-width=\"3.2\"/>\n",
       "<circle clip-path=\"url(#clip852)\" cx=\"986.616\" cy=\"735.212\" r=\"14.4\" fill=\"#009af9\" fill-rule=\"evenodd\" fill-opacity=\"1\" stroke=\"#000000\" stroke-opacity=\"1\" stroke-width=\"3.2\"/>\n",
       "<circle clip-path=\"url(#clip852)\" cx=\"986.616\" cy=\"735.212\" r=\"14.4\" fill=\"#009af9\" fill-rule=\"evenodd\" fill-opacity=\"1\" stroke=\"#000000\" stroke-opacity=\"1\" stroke-width=\"3.2\"/>\n",
       "<circle clip-path=\"url(#clip852)\" cx=\"986.616\" cy=\"735.212\" r=\"14.4\" fill=\"#009af9\" fill-rule=\"evenodd\" fill-opacity=\"1\" stroke=\"#000000\" stroke-opacity=\"1\" stroke-width=\"3.2\"/>\n",
       "<circle clip-path=\"url(#clip852)\" cx=\"986.616\" cy=\"735.212\" r=\"14.4\" fill=\"#009af9\" fill-rule=\"evenodd\" fill-opacity=\"1\" stroke=\"#000000\" stroke-opacity=\"1\" stroke-width=\"3.2\"/>\n",
       "<circle clip-path=\"url(#clip852)\" cx=\"986.616\" cy=\"735.212\" r=\"14.4\" fill=\"#009af9\" fill-rule=\"evenodd\" fill-opacity=\"1\" stroke=\"#000000\" stroke-opacity=\"1\" stroke-width=\"3.2\"/>\n",
       "<circle clip-path=\"url(#clip852)\" cx=\"986.616\" cy=\"735.212\" r=\"14.4\" fill=\"#009af9\" fill-rule=\"evenodd\" fill-opacity=\"1\" stroke=\"#000000\" stroke-opacity=\"1\" stroke-width=\"3.2\"/>\n",
       "<circle clip-path=\"url(#clip852)\" cx=\"986.616\" cy=\"735.212\" r=\"14.4\" fill=\"#009af9\" fill-rule=\"evenodd\" fill-opacity=\"1\" stroke=\"#000000\" stroke-opacity=\"1\" stroke-width=\"3.2\"/>\n",
       "<circle clip-path=\"url(#clip852)\" cx=\"986.616\" cy=\"735.212\" r=\"14.4\" fill=\"#009af9\" fill-rule=\"evenodd\" fill-opacity=\"1\" stroke=\"#000000\" stroke-opacity=\"1\" stroke-width=\"3.2\"/>\n",
       "<circle clip-path=\"url(#clip852)\" cx=\"986.616\" cy=\"735.212\" r=\"14.4\" fill=\"#009af9\" fill-rule=\"evenodd\" fill-opacity=\"1\" stroke=\"#000000\" stroke-opacity=\"1\" stroke-width=\"3.2\"/>\n",
       "<circle clip-path=\"url(#clip852)\" cx=\"986.616\" cy=\"735.212\" r=\"14.4\" fill=\"#009af9\" fill-rule=\"evenodd\" fill-opacity=\"1\" stroke=\"#000000\" stroke-opacity=\"1\" stroke-width=\"3.2\"/>\n",
       "<circle clip-path=\"url(#clip852)\" cx=\"986.616\" cy=\"735.212\" r=\"14.4\" fill=\"#009af9\" fill-rule=\"evenodd\" fill-opacity=\"1\" stroke=\"#000000\" stroke-opacity=\"1\" stroke-width=\"3.2\"/>\n",
       "<circle clip-path=\"url(#clip852)\" cx=\"986.616\" cy=\"735.212\" r=\"14.4\" fill=\"#009af9\" fill-rule=\"evenodd\" fill-opacity=\"1\" stroke=\"#000000\" stroke-opacity=\"1\" stroke-width=\"3.2\"/>\n",
       "<circle clip-path=\"url(#clip852)\" cx=\"986.616\" cy=\"735.212\" r=\"14.4\" fill=\"#009af9\" fill-rule=\"evenodd\" fill-opacity=\"1\" stroke=\"#000000\" stroke-opacity=\"1\" stroke-width=\"3.2\"/>\n",
       "<circle clip-path=\"url(#clip852)\" cx=\"986.616\" cy=\"735.212\" r=\"14.4\" fill=\"#009af9\" fill-rule=\"evenodd\" fill-opacity=\"1\" stroke=\"#000000\" stroke-opacity=\"1\" stroke-width=\"3.2\"/>\n",
       "<circle clip-path=\"url(#clip852)\" cx=\"986.616\" cy=\"735.212\" r=\"14.4\" fill=\"#009af9\" fill-rule=\"evenodd\" fill-opacity=\"1\" stroke=\"#000000\" stroke-opacity=\"1\" stroke-width=\"3.2\"/>\n",
       "<circle clip-path=\"url(#clip852)\" cx=\"986.616\" cy=\"735.212\" r=\"14.4\" fill=\"#009af9\" fill-rule=\"evenodd\" fill-opacity=\"1\" stroke=\"#000000\" stroke-opacity=\"1\" stroke-width=\"3.2\"/>\n",
       "<circle clip-path=\"url(#clip852)\" cx=\"986.616\" cy=\"735.212\" r=\"14.4\" fill=\"#009af9\" fill-rule=\"evenodd\" fill-opacity=\"1\" stroke=\"#000000\" stroke-opacity=\"1\" stroke-width=\"3.2\"/>\n",
       "<circle clip-path=\"url(#clip852)\" cx=\"986.616\" cy=\"735.212\" r=\"14.4\" fill=\"#009af9\" fill-rule=\"evenodd\" fill-opacity=\"1\" stroke=\"#000000\" stroke-opacity=\"1\" stroke-width=\"3.2\"/>\n",
       "<circle clip-path=\"url(#clip852)\" cx=\"986.616\" cy=\"735.212\" r=\"14.4\" fill=\"#009af9\" fill-rule=\"evenodd\" fill-opacity=\"1\" stroke=\"#000000\" stroke-opacity=\"1\" stroke-width=\"3.2\"/>\n",
       "<circle clip-path=\"url(#clip852)\" cx=\"986.616\" cy=\"735.212\" r=\"14.4\" fill=\"#009af9\" fill-rule=\"evenodd\" fill-opacity=\"1\" stroke=\"#000000\" stroke-opacity=\"1\" stroke-width=\"3.2\"/>\n",
       "<circle clip-path=\"url(#clip852)\" cx=\"986.616\" cy=\"735.212\" r=\"14.4\" fill=\"#009af9\" fill-rule=\"evenodd\" fill-opacity=\"1\" stroke=\"#000000\" stroke-opacity=\"1\" stroke-width=\"3.2\"/>\n",
       "<circle clip-path=\"url(#clip852)\" cx=\"986.616\" cy=\"735.212\" r=\"14.4\" fill=\"#009af9\" fill-rule=\"evenodd\" fill-opacity=\"1\" stroke=\"#000000\" stroke-opacity=\"1\" stroke-width=\"3.2\"/>\n",
       "<circle clip-path=\"url(#clip852)\" cx=\"986.616\" cy=\"735.212\" r=\"14.4\" fill=\"#009af9\" fill-rule=\"evenodd\" fill-opacity=\"1\" stroke=\"#000000\" stroke-opacity=\"1\" stroke-width=\"3.2\"/>\n",
       "<circle clip-path=\"url(#clip852)\" cx=\"986.616\" cy=\"735.212\" r=\"14.4\" fill=\"#009af9\" fill-rule=\"evenodd\" fill-opacity=\"1\" stroke=\"#000000\" stroke-opacity=\"1\" stroke-width=\"3.2\"/>\n",
       "<circle clip-path=\"url(#clip852)\" cx=\"986.616\" cy=\"735.212\" r=\"14.4\" fill=\"#009af9\" fill-rule=\"evenodd\" fill-opacity=\"1\" stroke=\"#000000\" stroke-opacity=\"1\" stroke-width=\"3.2\"/>\n",
       "<circle clip-path=\"url(#clip852)\" cx=\"986.616\" cy=\"735.212\" r=\"14.4\" fill=\"#009af9\" fill-rule=\"evenodd\" fill-opacity=\"1\" stroke=\"#000000\" stroke-opacity=\"1\" stroke-width=\"3.2\"/>\n",
       "<circle clip-path=\"url(#clip852)\" cx=\"986.616\" cy=\"735.212\" r=\"14.4\" fill=\"#009af9\" fill-rule=\"evenodd\" fill-opacity=\"1\" stroke=\"#000000\" stroke-opacity=\"1\" stroke-width=\"3.2\"/>\n",
       "<circle clip-path=\"url(#clip852)\" cx=\"986.616\" cy=\"735.212\" r=\"14.4\" fill=\"#009af9\" fill-rule=\"evenodd\" fill-opacity=\"1\" stroke=\"#000000\" stroke-opacity=\"1\" stroke-width=\"3.2\"/>\n",
       "<circle clip-path=\"url(#clip852)\" cx=\"986.616\" cy=\"735.212\" r=\"14.4\" fill=\"#009af9\" fill-rule=\"evenodd\" fill-opacity=\"1\" stroke=\"#000000\" stroke-opacity=\"1\" stroke-width=\"3.2\"/>\n",
       "<circle clip-path=\"url(#clip852)\" cx=\"986.616\" cy=\"735.212\" r=\"14.4\" fill=\"#009af9\" fill-rule=\"evenodd\" fill-opacity=\"1\" stroke=\"#000000\" stroke-opacity=\"1\" stroke-width=\"3.2\"/>\n",
       "<circle clip-path=\"url(#clip852)\" cx=\"986.616\" cy=\"735.212\" r=\"14.4\" fill=\"#009af9\" fill-rule=\"evenodd\" fill-opacity=\"1\" stroke=\"#000000\" stroke-opacity=\"1\" stroke-width=\"3.2\"/>\n",
       "<circle clip-path=\"url(#clip852)\" cx=\"986.616\" cy=\"735.212\" r=\"14.4\" fill=\"#009af9\" fill-rule=\"evenodd\" fill-opacity=\"1\" stroke=\"#000000\" stroke-opacity=\"1\" stroke-width=\"3.2\"/>\n",
       "<circle clip-path=\"url(#clip852)\" cx=\"986.616\" cy=\"735.212\" r=\"14.4\" fill=\"#009af9\" fill-rule=\"evenodd\" fill-opacity=\"1\" stroke=\"#000000\" stroke-opacity=\"1\" stroke-width=\"3.2\"/>\n",
       "<circle clip-path=\"url(#clip852)\" cx=\"986.616\" cy=\"735.212\" r=\"14.4\" fill=\"#009af9\" fill-rule=\"evenodd\" fill-opacity=\"1\" stroke=\"#000000\" stroke-opacity=\"1\" stroke-width=\"3.2\"/>\n",
       "<circle clip-path=\"url(#clip852)\" cx=\"986.616\" cy=\"735.212\" r=\"14.4\" fill=\"#009af9\" fill-rule=\"evenodd\" fill-opacity=\"1\" stroke=\"#000000\" stroke-opacity=\"1\" stroke-width=\"3.2\"/>\n",
       "<circle clip-path=\"url(#clip852)\" cx=\"986.616\" cy=\"735.212\" r=\"14.4\" fill=\"#009af9\" fill-rule=\"evenodd\" fill-opacity=\"1\" stroke=\"#000000\" stroke-opacity=\"1\" stroke-width=\"3.2\"/>\n",
       "<circle clip-path=\"url(#clip852)\" cx=\"986.616\" cy=\"735.212\" r=\"14.4\" fill=\"#009af9\" fill-rule=\"evenodd\" fill-opacity=\"1\" stroke=\"#000000\" stroke-opacity=\"1\" stroke-width=\"3.2\"/>\n",
       "<circle clip-path=\"url(#clip852)\" cx=\"986.616\" cy=\"735.212\" r=\"14.4\" fill=\"#009af9\" fill-rule=\"evenodd\" fill-opacity=\"1\" stroke=\"#000000\" stroke-opacity=\"1\" stroke-width=\"3.2\"/>\n",
       "<circle clip-path=\"url(#clip852)\" cx=\"986.616\" cy=\"735.212\" r=\"14.4\" fill=\"#009af9\" fill-rule=\"evenodd\" fill-opacity=\"1\" stroke=\"#000000\" stroke-opacity=\"1\" stroke-width=\"3.2\"/>\n",
       "<circle clip-path=\"url(#clip852)\" cx=\"986.616\" cy=\"735.212\" r=\"14.4\" fill=\"#009af9\" fill-rule=\"evenodd\" fill-opacity=\"1\" stroke=\"#000000\" stroke-opacity=\"1\" stroke-width=\"3.2\"/>\n",
       "<circle clip-path=\"url(#clip852)\" cx=\"986.616\" cy=\"735.212\" r=\"14.4\" fill=\"#009af9\" fill-rule=\"evenodd\" fill-opacity=\"1\" stroke=\"#000000\" stroke-opacity=\"1\" stroke-width=\"3.2\"/>\n",
       "<circle clip-path=\"url(#clip852)\" cx=\"986.616\" cy=\"735.212\" r=\"14.4\" fill=\"#009af9\" fill-rule=\"evenodd\" fill-opacity=\"1\" stroke=\"#000000\" stroke-opacity=\"1\" stroke-width=\"3.2\"/>\n",
       "<circle clip-path=\"url(#clip852)\" cx=\"986.616\" cy=\"735.212\" r=\"14.4\" fill=\"#009af9\" fill-rule=\"evenodd\" fill-opacity=\"1\" stroke=\"#000000\" stroke-opacity=\"1\" stroke-width=\"3.2\"/>\n",
       "<circle clip-path=\"url(#clip852)\" cx=\"986.616\" cy=\"735.212\" r=\"14.4\" fill=\"#009af9\" fill-rule=\"evenodd\" fill-opacity=\"1\" stroke=\"#000000\" stroke-opacity=\"1\" stroke-width=\"3.2\"/>\n",
       "<circle clip-path=\"url(#clip852)\" cx=\"986.616\" cy=\"735.212\" r=\"14.4\" fill=\"#009af9\" fill-rule=\"evenodd\" fill-opacity=\"1\" stroke=\"#000000\" stroke-opacity=\"1\" stroke-width=\"3.2\"/>\n",
       "<circle clip-path=\"url(#clip852)\" cx=\"986.616\" cy=\"735.212\" r=\"14.4\" fill=\"#009af9\" fill-rule=\"evenodd\" fill-opacity=\"1\" stroke=\"#000000\" stroke-opacity=\"1\" stroke-width=\"3.2\"/>\n",
       "<circle clip-path=\"url(#clip852)\" cx=\"986.616\" cy=\"735.212\" r=\"14.4\" fill=\"#009af9\" fill-rule=\"evenodd\" fill-opacity=\"1\" stroke=\"#000000\" stroke-opacity=\"1\" stroke-width=\"3.2\"/>\n",
       "<circle clip-path=\"url(#clip852)\" cx=\"986.616\" cy=\"735.212\" r=\"14.4\" fill=\"#009af9\" fill-rule=\"evenodd\" fill-opacity=\"1\" stroke=\"#000000\" stroke-opacity=\"1\" stroke-width=\"3.2\"/>\n",
       "<circle clip-path=\"url(#clip852)\" cx=\"986.616\" cy=\"735.212\" r=\"14.4\" fill=\"#009af9\" fill-rule=\"evenodd\" fill-opacity=\"1\" stroke=\"#000000\" stroke-opacity=\"1\" stroke-width=\"3.2\"/>\n",
       "<circle clip-path=\"url(#clip852)\" cx=\"986.616\" cy=\"735.212\" r=\"14.4\" fill=\"#009af9\" fill-rule=\"evenodd\" fill-opacity=\"1\" stroke=\"#000000\" stroke-opacity=\"1\" stroke-width=\"3.2\"/>\n",
       "<circle clip-path=\"url(#clip852)\" cx=\"986.616\" cy=\"735.212\" r=\"14.4\" fill=\"#009af9\" fill-rule=\"evenodd\" fill-opacity=\"1\" stroke=\"#000000\" stroke-opacity=\"1\" stroke-width=\"3.2\"/>\n",
       "<circle clip-path=\"url(#clip852)\" cx=\"986.616\" cy=\"735.212\" r=\"14.4\" fill=\"#009af9\" fill-rule=\"evenodd\" fill-opacity=\"1\" stroke=\"#000000\" stroke-opacity=\"1\" stroke-width=\"3.2\"/>\n",
       "<circle clip-path=\"url(#clip852)\" cx=\"986.616\" cy=\"735.212\" r=\"14.4\" fill=\"#009af9\" fill-rule=\"evenodd\" fill-opacity=\"1\" stroke=\"#000000\" stroke-opacity=\"1\" stroke-width=\"3.2\"/>\n",
       "<circle clip-path=\"url(#clip852)\" cx=\"986.616\" cy=\"735.212\" r=\"14.4\" fill=\"#009af9\" fill-rule=\"evenodd\" fill-opacity=\"1\" stroke=\"#000000\" stroke-opacity=\"1\" stroke-width=\"3.2\"/>\n",
       "<circle clip-path=\"url(#clip852)\" cx=\"986.616\" cy=\"735.212\" r=\"14.4\" fill=\"#009af9\" fill-rule=\"evenodd\" fill-opacity=\"1\" stroke=\"#000000\" stroke-opacity=\"1\" stroke-width=\"3.2\"/>\n",
       "<circle clip-path=\"url(#clip852)\" cx=\"986.616\" cy=\"735.212\" r=\"14.4\" fill=\"#009af9\" fill-rule=\"evenodd\" fill-opacity=\"1\" stroke=\"#000000\" stroke-opacity=\"1\" stroke-width=\"3.2\"/>\n",
       "<circle clip-path=\"url(#clip852)\" cx=\"986.616\" cy=\"735.212\" r=\"14.4\" fill=\"#009af9\" fill-rule=\"evenodd\" fill-opacity=\"1\" stroke=\"#000000\" stroke-opacity=\"1\" stroke-width=\"3.2\"/>\n",
       "<circle clip-path=\"url(#clip852)\" cx=\"986.616\" cy=\"735.212\" r=\"14.4\" fill=\"#009af9\" fill-rule=\"evenodd\" fill-opacity=\"1\" stroke=\"#000000\" stroke-opacity=\"1\" stroke-width=\"3.2\"/>\n",
       "<circle clip-path=\"url(#clip852)\" cx=\"986.616\" cy=\"735.212\" r=\"14.4\" fill=\"#009af9\" fill-rule=\"evenodd\" fill-opacity=\"1\" stroke=\"#000000\" stroke-opacity=\"1\" stroke-width=\"3.2\"/>\n",
       "<circle clip-path=\"url(#clip852)\" cx=\"986.616\" cy=\"735.212\" r=\"14.4\" fill=\"#009af9\" fill-rule=\"evenodd\" fill-opacity=\"1\" stroke=\"#000000\" stroke-opacity=\"1\" stroke-width=\"3.2\"/>\n",
       "<circle clip-path=\"url(#clip852)\" cx=\"986.616\" cy=\"735.212\" r=\"14.4\" fill=\"#009af9\" fill-rule=\"evenodd\" fill-opacity=\"1\" stroke=\"#000000\" stroke-opacity=\"1\" stroke-width=\"3.2\"/>\n",
       "<circle clip-path=\"url(#clip852)\" cx=\"986.616\" cy=\"735.212\" r=\"14.4\" fill=\"#009af9\" fill-rule=\"evenodd\" fill-opacity=\"1\" stroke=\"#000000\" stroke-opacity=\"1\" stroke-width=\"3.2\"/>\n",
       "<circle clip-path=\"url(#clip852)\" cx=\"986.616\" cy=\"735.212\" r=\"14.4\" fill=\"#009af9\" fill-rule=\"evenodd\" fill-opacity=\"1\" stroke=\"#000000\" stroke-opacity=\"1\" stroke-width=\"3.2\"/>\n",
       "<circle clip-path=\"url(#clip852)\" cx=\"986.616\" cy=\"735.212\" r=\"14.4\" fill=\"#009af9\" fill-rule=\"evenodd\" fill-opacity=\"1\" stroke=\"#000000\" stroke-opacity=\"1\" stroke-width=\"3.2\"/>\n",
       "<circle clip-path=\"url(#clip852)\" cx=\"986.616\" cy=\"735.212\" r=\"14.4\" fill=\"#009af9\" fill-rule=\"evenodd\" fill-opacity=\"1\" stroke=\"#000000\" stroke-opacity=\"1\" stroke-width=\"3.2\"/>\n",
       "<circle clip-path=\"url(#clip852)\" cx=\"986.616\" cy=\"735.212\" r=\"14.4\" fill=\"#009af9\" fill-rule=\"evenodd\" fill-opacity=\"1\" stroke=\"#000000\" stroke-opacity=\"1\" stroke-width=\"3.2\"/>\n",
       "<circle clip-path=\"url(#clip852)\" cx=\"986.616\" cy=\"735.212\" r=\"14.4\" fill=\"#009af9\" fill-rule=\"evenodd\" fill-opacity=\"1\" stroke=\"#000000\" stroke-opacity=\"1\" stroke-width=\"3.2\"/>\n",
       "<circle clip-path=\"url(#clip852)\" cx=\"986.616\" cy=\"735.212\" r=\"14.4\" fill=\"#009af9\" fill-rule=\"evenodd\" fill-opacity=\"1\" stroke=\"#000000\" stroke-opacity=\"1\" stroke-width=\"3.2\"/>\n",
       "<circle clip-path=\"url(#clip852)\" cx=\"986.616\" cy=\"735.212\" r=\"14.4\" fill=\"#009af9\" fill-rule=\"evenodd\" fill-opacity=\"1\" stroke=\"#000000\" stroke-opacity=\"1\" stroke-width=\"3.2\"/>\n",
       "<circle clip-path=\"url(#clip852)\" cx=\"986.616\" cy=\"735.212\" r=\"14.4\" fill=\"#009af9\" fill-rule=\"evenodd\" fill-opacity=\"1\" stroke=\"#000000\" stroke-opacity=\"1\" stroke-width=\"3.2\"/>\n",
       "<circle clip-path=\"url(#clip852)\" cx=\"986.616\" cy=\"735.212\" r=\"14.4\" fill=\"#009af9\" fill-rule=\"evenodd\" fill-opacity=\"1\" stroke=\"#000000\" stroke-opacity=\"1\" stroke-width=\"3.2\"/>\n",
       "<circle clip-path=\"url(#clip852)\" cx=\"986.616\" cy=\"735.212\" r=\"14.4\" fill=\"#009af9\" fill-rule=\"evenodd\" fill-opacity=\"1\" stroke=\"#000000\" stroke-opacity=\"1\" stroke-width=\"3.2\"/>\n",
       "<circle clip-path=\"url(#clip852)\" cx=\"986.616\" cy=\"735.212\" r=\"14.4\" fill=\"#009af9\" fill-rule=\"evenodd\" fill-opacity=\"1\" stroke=\"#000000\" stroke-opacity=\"1\" stroke-width=\"3.2\"/>\n",
       "<circle clip-path=\"url(#clip852)\" cx=\"986.616\" cy=\"735.212\" r=\"14.4\" fill=\"#009af9\" fill-rule=\"evenodd\" fill-opacity=\"1\" stroke=\"#000000\" stroke-opacity=\"1\" stroke-width=\"3.2\"/>\n",
       "<circle clip-path=\"url(#clip852)\" cx=\"986.616\" cy=\"735.212\" r=\"14.4\" fill=\"#009af9\" fill-rule=\"evenodd\" fill-opacity=\"1\" stroke=\"#000000\" stroke-opacity=\"1\" stroke-width=\"3.2\"/>\n",
       "<circle clip-path=\"url(#clip852)\" cx=\"986.616\" cy=\"735.212\" r=\"14.4\" fill=\"#009af9\" fill-rule=\"evenodd\" fill-opacity=\"1\" stroke=\"#000000\" stroke-opacity=\"1\" stroke-width=\"3.2\"/>\n",
       "<circle clip-path=\"url(#clip852)\" cx=\"986.616\" cy=\"735.212\" r=\"14.4\" fill=\"#009af9\" fill-rule=\"evenodd\" fill-opacity=\"1\" stroke=\"#000000\" stroke-opacity=\"1\" stroke-width=\"3.2\"/>\n",
       "<circle clip-path=\"url(#clip852)\" cx=\"986.616\" cy=\"735.212\" r=\"14.4\" fill=\"#009af9\" fill-rule=\"evenodd\" fill-opacity=\"1\" stroke=\"#000000\" stroke-opacity=\"1\" stroke-width=\"3.2\"/>\n",
       "<circle clip-path=\"url(#clip852)\" cx=\"986.616\" cy=\"735.212\" r=\"14.4\" fill=\"#009af9\" fill-rule=\"evenodd\" fill-opacity=\"1\" stroke=\"#000000\" stroke-opacity=\"1\" stroke-width=\"3.2\"/>\n",
       "<circle clip-path=\"url(#clip852)\" cx=\"986.616\" cy=\"735.212\" r=\"14.4\" fill=\"#009af9\" fill-rule=\"evenodd\" fill-opacity=\"1\" stroke=\"#000000\" stroke-opacity=\"1\" stroke-width=\"3.2\"/>\n",
       "<circle clip-path=\"url(#clip852)\" cx=\"986.616\" cy=\"735.212\" r=\"14.4\" fill=\"#009af9\" fill-rule=\"evenodd\" fill-opacity=\"1\" stroke=\"#000000\" stroke-opacity=\"1\" stroke-width=\"3.2\"/>\n",
       "<circle clip-path=\"url(#clip852)\" cx=\"986.616\" cy=\"735.212\" r=\"14.4\" fill=\"#009af9\" fill-rule=\"evenodd\" fill-opacity=\"1\" stroke=\"#000000\" stroke-opacity=\"1\" stroke-width=\"3.2\"/>\n",
       "<circle clip-path=\"url(#clip852)\" cx=\"986.616\" cy=\"735.212\" r=\"14.4\" fill=\"#009af9\" fill-rule=\"evenodd\" fill-opacity=\"1\" stroke=\"#000000\" stroke-opacity=\"1\" stroke-width=\"3.2\"/>\n",
       "<circle clip-path=\"url(#clip852)\" cx=\"986.616\" cy=\"735.212\" r=\"14.4\" fill=\"#009af9\" fill-rule=\"evenodd\" fill-opacity=\"1\" stroke=\"#000000\" stroke-opacity=\"1\" stroke-width=\"3.2\"/>\n",
       "<circle clip-path=\"url(#clip852)\" cx=\"986.616\" cy=\"735.212\" r=\"14.4\" fill=\"#009af9\" fill-rule=\"evenodd\" fill-opacity=\"1\" stroke=\"#000000\" stroke-opacity=\"1\" stroke-width=\"3.2\"/>\n",
       "<circle clip-path=\"url(#clip852)\" cx=\"986.616\" cy=\"735.212\" r=\"14.4\" fill=\"#009af9\" fill-rule=\"evenodd\" fill-opacity=\"1\" stroke=\"#000000\" stroke-opacity=\"1\" stroke-width=\"3.2\"/>\n",
       "<circle clip-path=\"url(#clip852)\" cx=\"986.616\" cy=\"735.212\" r=\"14.4\" fill=\"#009af9\" fill-rule=\"evenodd\" fill-opacity=\"1\" stroke=\"#000000\" stroke-opacity=\"1\" stroke-width=\"3.2\"/>\n",
       "<circle clip-path=\"url(#clip852)\" cx=\"986.616\" cy=\"735.212\" r=\"14.4\" fill=\"#009af9\" fill-rule=\"evenodd\" fill-opacity=\"1\" stroke=\"#000000\" stroke-opacity=\"1\" stroke-width=\"3.2\"/>\n",
       "<circle clip-path=\"url(#clip852)\" cx=\"986.616\" cy=\"735.212\" r=\"14.4\" fill=\"#009af9\" fill-rule=\"evenodd\" fill-opacity=\"1\" stroke=\"#000000\" stroke-opacity=\"1\" stroke-width=\"3.2\"/>\n",
       "<circle clip-path=\"url(#clip852)\" cx=\"986.616\" cy=\"735.212\" r=\"14.4\" fill=\"#009af9\" fill-rule=\"evenodd\" fill-opacity=\"1\" stroke=\"#000000\" stroke-opacity=\"1\" stroke-width=\"3.2\"/>\n",
       "<circle clip-path=\"url(#clip852)\" cx=\"986.616\" cy=\"735.212\" r=\"14.4\" fill=\"#009af9\" fill-rule=\"evenodd\" fill-opacity=\"1\" stroke=\"#000000\" stroke-opacity=\"1\" stroke-width=\"3.2\"/>\n",
       "<circle clip-path=\"url(#clip852)\" cx=\"986.616\" cy=\"735.212\" r=\"14.4\" fill=\"#009af9\" fill-rule=\"evenodd\" fill-opacity=\"1\" stroke=\"#000000\" stroke-opacity=\"1\" stroke-width=\"3.2\"/>\n",
       "<circle clip-path=\"url(#clip852)\" cx=\"986.616\" cy=\"735.212\" r=\"14.4\" fill=\"#009af9\" fill-rule=\"evenodd\" fill-opacity=\"1\" stroke=\"#000000\" stroke-opacity=\"1\" stroke-width=\"3.2\"/>\n",
       "<circle clip-path=\"url(#clip852)\" cx=\"986.616\" cy=\"735.212\" r=\"14.4\" fill=\"#009af9\" fill-rule=\"evenodd\" fill-opacity=\"1\" stroke=\"#000000\" stroke-opacity=\"1\" stroke-width=\"3.2\"/>\n",
       "<circle clip-path=\"url(#clip852)\" cx=\"986.616\" cy=\"735.212\" r=\"14.4\" fill=\"#009af9\" fill-rule=\"evenodd\" fill-opacity=\"1\" stroke=\"#000000\" stroke-opacity=\"1\" stroke-width=\"3.2\"/>\n",
       "<circle clip-path=\"url(#clip852)\" cx=\"986.616\" cy=\"735.212\" r=\"14.4\" fill=\"#009af9\" fill-rule=\"evenodd\" fill-opacity=\"1\" stroke=\"#000000\" stroke-opacity=\"1\" stroke-width=\"3.2\"/>\n",
       "<circle clip-path=\"url(#clip852)\" cx=\"986.616\" cy=\"735.212\" r=\"14.4\" fill=\"#009af9\" fill-rule=\"evenodd\" fill-opacity=\"1\" stroke=\"#000000\" stroke-opacity=\"1\" stroke-width=\"3.2\"/>\n",
       "<circle clip-path=\"url(#clip852)\" cx=\"986.616\" cy=\"735.212\" r=\"14.4\" fill=\"#009af9\" fill-rule=\"evenodd\" fill-opacity=\"1\" stroke=\"#000000\" stroke-opacity=\"1\" stroke-width=\"3.2\"/>\n",
       "<circle clip-path=\"url(#clip852)\" cx=\"986.616\" cy=\"735.212\" r=\"14.4\" fill=\"#009af9\" fill-rule=\"evenodd\" fill-opacity=\"1\" stroke=\"#000000\" stroke-opacity=\"1\" stroke-width=\"3.2\"/>\n",
       "<circle clip-path=\"url(#clip852)\" cx=\"986.616\" cy=\"735.212\" r=\"14.4\" fill=\"#009af9\" fill-rule=\"evenodd\" fill-opacity=\"1\" stroke=\"#000000\" stroke-opacity=\"1\" stroke-width=\"3.2\"/>\n",
       "<circle clip-path=\"url(#clip852)\" cx=\"986.616\" cy=\"735.212\" r=\"14.4\" fill=\"#009af9\" fill-rule=\"evenodd\" fill-opacity=\"1\" stroke=\"#000000\" stroke-opacity=\"1\" stroke-width=\"3.2\"/>\n",
       "<circle clip-path=\"url(#clip852)\" cx=\"986.616\" cy=\"735.212\" r=\"14.4\" fill=\"#009af9\" fill-rule=\"evenodd\" fill-opacity=\"1\" stroke=\"#000000\" stroke-opacity=\"1\" stroke-width=\"3.2\"/>\n",
       "<circle clip-path=\"url(#clip852)\" cx=\"986.616\" cy=\"735.212\" r=\"14.4\" fill=\"#009af9\" fill-rule=\"evenodd\" fill-opacity=\"1\" stroke=\"#000000\" stroke-opacity=\"1\" stroke-width=\"3.2\"/>\n",
       "<circle clip-path=\"url(#clip852)\" cx=\"986.616\" cy=\"735.212\" r=\"14.4\" fill=\"#009af9\" fill-rule=\"evenodd\" fill-opacity=\"1\" stroke=\"#000000\" stroke-opacity=\"1\" stroke-width=\"3.2\"/>\n",
       "<circle clip-path=\"url(#clip852)\" cx=\"986.616\" cy=\"735.212\" r=\"14.4\" fill=\"#009af9\" fill-rule=\"evenodd\" fill-opacity=\"1\" stroke=\"#000000\" stroke-opacity=\"1\" stroke-width=\"3.2\"/>\n",
       "<circle clip-path=\"url(#clip852)\" cx=\"986.616\" cy=\"735.212\" r=\"14.4\" fill=\"#009af9\" fill-rule=\"evenodd\" fill-opacity=\"1\" stroke=\"#000000\" stroke-opacity=\"1\" stroke-width=\"3.2\"/>\n",
       "<circle clip-path=\"url(#clip852)\" cx=\"986.616\" cy=\"735.212\" r=\"14.4\" fill=\"#009af9\" fill-rule=\"evenodd\" fill-opacity=\"1\" stroke=\"#000000\" stroke-opacity=\"1\" stroke-width=\"3.2\"/>\n",
       "<circle clip-path=\"url(#clip852)\" cx=\"986.616\" cy=\"735.212\" r=\"14.4\" fill=\"#009af9\" fill-rule=\"evenodd\" fill-opacity=\"1\" stroke=\"#000000\" stroke-opacity=\"1\" stroke-width=\"3.2\"/>\n",
       "<circle clip-path=\"url(#clip852)\" cx=\"986.616\" cy=\"735.212\" r=\"14.4\" fill=\"#009af9\" fill-rule=\"evenodd\" fill-opacity=\"1\" stroke=\"#000000\" stroke-opacity=\"1\" stroke-width=\"3.2\"/>\n",
       "<circle clip-path=\"url(#clip852)\" cx=\"986.616\" cy=\"735.212\" r=\"14.4\" fill=\"#009af9\" fill-rule=\"evenodd\" fill-opacity=\"1\" stroke=\"#000000\" stroke-opacity=\"1\" stroke-width=\"3.2\"/>\n",
       "<circle clip-path=\"url(#clip852)\" cx=\"986.616\" cy=\"735.212\" r=\"14.4\" fill=\"#009af9\" fill-rule=\"evenodd\" fill-opacity=\"1\" stroke=\"#000000\" stroke-opacity=\"1\" stroke-width=\"3.2\"/>\n",
       "<circle clip-path=\"url(#clip852)\" cx=\"986.616\" cy=\"735.212\" r=\"14.4\" fill=\"#009af9\" fill-rule=\"evenodd\" fill-opacity=\"1\" stroke=\"#000000\" stroke-opacity=\"1\" stroke-width=\"3.2\"/>\n",
       "<circle clip-path=\"url(#clip852)\" cx=\"986.616\" cy=\"735.212\" r=\"14.4\" fill=\"#009af9\" fill-rule=\"evenodd\" fill-opacity=\"1\" stroke=\"#000000\" stroke-opacity=\"1\" stroke-width=\"3.2\"/>\n",
       "<circle clip-path=\"url(#clip852)\" cx=\"986.616\" cy=\"735.212\" r=\"14.4\" fill=\"#009af9\" fill-rule=\"evenodd\" fill-opacity=\"1\" stroke=\"#000000\" stroke-opacity=\"1\" stroke-width=\"3.2\"/>\n",
       "<circle clip-path=\"url(#clip852)\" cx=\"986.616\" cy=\"735.212\" r=\"14.4\" fill=\"#009af9\" fill-rule=\"evenodd\" fill-opacity=\"1\" stroke=\"#000000\" stroke-opacity=\"1\" stroke-width=\"3.2\"/>\n",
       "<circle clip-path=\"url(#clip852)\" cx=\"986.616\" cy=\"735.212\" r=\"14.4\" fill=\"#009af9\" fill-rule=\"evenodd\" fill-opacity=\"1\" stroke=\"#000000\" stroke-opacity=\"1\" stroke-width=\"3.2\"/>\n",
       "<circle clip-path=\"url(#clip852)\" cx=\"986.616\" cy=\"735.212\" r=\"14.4\" fill=\"#009af9\" fill-rule=\"evenodd\" fill-opacity=\"1\" stroke=\"#000000\" stroke-opacity=\"1\" stroke-width=\"3.2\"/>\n",
       "<circle clip-path=\"url(#clip852)\" cx=\"986.616\" cy=\"735.212\" r=\"14.4\" fill=\"#009af9\" fill-rule=\"evenodd\" fill-opacity=\"1\" stroke=\"#000000\" stroke-opacity=\"1\" stroke-width=\"3.2\"/>\n",
       "<circle clip-path=\"url(#clip852)\" cx=\"986.616\" cy=\"735.212\" r=\"14.4\" fill=\"#009af9\" fill-rule=\"evenodd\" fill-opacity=\"1\" stroke=\"#000000\" stroke-opacity=\"1\" stroke-width=\"3.2\"/>\n",
       "<circle clip-path=\"url(#clip852)\" cx=\"986.616\" cy=\"735.212\" r=\"14.4\" fill=\"#009af9\" fill-rule=\"evenodd\" fill-opacity=\"1\" stroke=\"#000000\" stroke-opacity=\"1\" stroke-width=\"3.2\"/>\n",
       "<circle clip-path=\"url(#clip852)\" cx=\"986.616\" cy=\"735.212\" r=\"14.4\" fill=\"#009af9\" fill-rule=\"evenodd\" fill-opacity=\"1\" stroke=\"#000000\" stroke-opacity=\"1\" stroke-width=\"3.2\"/>\n",
       "<circle clip-path=\"url(#clip852)\" cx=\"986.616\" cy=\"735.212\" r=\"14.4\" fill=\"#009af9\" fill-rule=\"evenodd\" fill-opacity=\"1\" stroke=\"#000000\" stroke-opacity=\"1\" stroke-width=\"3.2\"/>\n",
       "<circle clip-path=\"url(#clip852)\" cx=\"986.616\" cy=\"735.212\" r=\"14.4\" fill=\"#009af9\" fill-rule=\"evenodd\" fill-opacity=\"1\" stroke=\"#000000\" stroke-opacity=\"1\" stroke-width=\"3.2\"/>\n",
       "<circle clip-path=\"url(#clip852)\" cx=\"986.616\" cy=\"735.212\" r=\"14.4\" fill=\"#009af9\" fill-rule=\"evenodd\" fill-opacity=\"1\" stroke=\"#000000\" stroke-opacity=\"1\" stroke-width=\"3.2\"/>\n",
       "<circle clip-path=\"url(#clip852)\" cx=\"986.616\" cy=\"735.212\" r=\"14.4\" fill=\"#009af9\" fill-rule=\"evenodd\" fill-opacity=\"1\" stroke=\"#000000\" stroke-opacity=\"1\" stroke-width=\"3.2\"/>\n",
       "<circle clip-path=\"url(#clip852)\" cx=\"986.616\" cy=\"735.212\" r=\"14.4\" fill=\"#009af9\" fill-rule=\"evenodd\" fill-opacity=\"1\" stroke=\"#000000\" stroke-opacity=\"1\" stroke-width=\"3.2\"/>\n",
       "<circle clip-path=\"url(#clip852)\" cx=\"986.616\" cy=\"735.212\" r=\"14.4\" fill=\"#009af9\" fill-rule=\"evenodd\" fill-opacity=\"1\" stroke=\"#000000\" stroke-opacity=\"1\" stroke-width=\"3.2\"/>\n",
       "<circle clip-path=\"url(#clip852)\" cx=\"986.616\" cy=\"735.212\" r=\"14.4\" fill=\"#009af9\" fill-rule=\"evenodd\" fill-opacity=\"1\" stroke=\"#000000\" stroke-opacity=\"1\" stroke-width=\"3.2\"/>\n",
       "<circle clip-path=\"url(#clip852)\" cx=\"986.616\" cy=\"735.212\" r=\"14.4\" fill=\"#009af9\" fill-rule=\"evenodd\" fill-opacity=\"1\" stroke=\"#000000\" stroke-opacity=\"1\" stroke-width=\"3.2\"/>\n",
       "<circle clip-path=\"url(#clip852)\" cx=\"986.616\" cy=\"735.212\" r=\"14.4\" fill=\"#009af9\" fill-rule=\"evenodd\" fill-opacity=\"1\" stroke=\"#000000\" stroke-opacity=\"1\" stroke-width=\"3.2\"/>\n",
       "<circle clip-path=\"url(#clip852)\" cx=\"986.616\" cy=\"735.212\" r=\"14.4\" fill=\"#009af9\" fill-rule=\"evenodd\" fill-opacity=\"1\" stroke=\"#000000\" stroke-opacity=\"1\" stroke-width=\"3.2\"/>\n",
       "<circle clip-path=\"url(#clip852)\" cx=\"986.616\" cy=\"735.212\" r=\"14.4\" fill=\"#009af9\" fill-rule=\"evenodd\" fill-opacity=\"1\" stroke=\"#000000\" stroke-opacity=\"1\" stroke-width=\"3.2\"/>\n",
       "<circle clip-path=\"url(#clip852)\" cx=\"986.616\" cy=\"735.212\" r=\"14.4\" fill=\"#009af9\" fill-rule=\"evenodd\" fill-opacity=\"1\" stroke=\"#000000\" stroke-opacity=\"1\" stroke-width=\"3.2\"/>\n",
       "<circle clip-path=\"url(#clip852)\" cx=\"986.616\" cy=\"735.212\" r=\"14.4\" fill=\"#009af9\" fill-rule=\"evenodd\" fill-opacity=\"1\" stroke=\"#000000\" stroke-opacity=\"1\" stroke-width=\"3.2\"/>\n",
       "<circle clip-path=\"url(#clip852)\" cx=\"986.616\" cy=\"735.212\" r=\"14.4\" fill=\"#009af9\" fill-rule=\"evenodd\" fill-opacity=\"1\" stroke=\"#000000\" stroke-opacity=\"1\" stroke-width=\"3.2\"/>\n",
       "<circle clip-path=\"url(#clip852)\" cx=\"986.616\" cy=\"735.212\" r=\"14.4\" fill=\"#009af9\" fill-rule=\"evenodd\" fill-opacity=\"1\" stroke=\"#000000\" stroke-opacity=\"1\" stroke-width=\"3.2\"/>\n",
       "<circle clip-path=\"url(#clip852)\" cx=\"986.616\" cy=\"735.212\" r=\"14.4\" fill=\"#009af9\" fill-rule=\"evenodd\" fill-opacity=\"1\" stroke=\"#000000\" stroke-opacity=\"1\" stroke-width=\"3.2\"/>\n",
       "<circle clip-path=\"url(#clip852)\" cx=\"986.616\" cy=\"735.212\" r=\"14.4\" fill=\"#009af9\" fill-rule=\"evenodd\" fill-opacity=\"1\" stroke=\"#000000\" stroke-opacity=\"1\" stroke-width=\"3.2\"/>\n",
       "<circle clip-path=\"url(#clip852)\" cx=\"986.616\" cy=\"735.212\" r=\"14.4\" fill=\"#009af9\" fill-rule=\"evenodd\" fill-opacity=\"1\" stroke=\"#000000\" stroke-opacity=\"1\" stroke-width=\"3.2\"/>\n",
       "<circle clip-path=\"url(#clip852)\" cx=\"986.616\" cy=\"735.212\" r=\"14.4\" fill=\"#009af9\" fill-rule=\"evenodd\" fill-opacity=\"1\" stroke=\"#000000\" stroke-opacity=\"1\" stroke-width=\"3.2\"/>\n",
       "<circle clip-path=\"url(#clip852)\" cx=\"986.616\" cy=\"735.212\" r=\"14.4\" fill=\"#009af9\" fill-rule=\"evenodd\" fill-opacity=\"1\" stroke=\"#000000\" stroke-opacity=\"1\" stroke-width=\"3.2\"/>\n",
       "<circle clip-path=\"url(#clip852)\" cx=\"986.616\" cy=\"735.212\" r=\"14.4\" fill=\"#009af9\" fill-rule=\"evenodd\" fill-opacity=\"1\" stroke=\"#000000\" stroke-opacity=\"1\" stroke-width=\"3.2\"/>\n",
       "<circle clip-path=\"url(#clip852)\" cx=\"986.616\" cy=\"735.212\" r=\"14.4\" fill=\"#009af9\" fill-rule=\"evenodd\" fill-opacity=\"1\" stroke=\"#000000\" stroke-opacity=\"1\" stroke-width=\"3.2\"/>\n",
       "<circle clip-path=\"url(#clip852)\" cx=\"986.616\" cy=\"735.212\" r=\"14.4\" fill=\"#009af9\" fill-rule=\"evenodd\" fill-opacity=\"1\" stroke=\"#000000\" stroke-opacity=\"1\" stroke-width=\"3.2\"/>\n",
       "<circle clip-path=\"url(#clip852)\" cx=\"986.616\" cy=\"735.212\" r=\"14.4\" fill=\"#009af9\" fill-rule=\"evenodd\" fill-opacity=\"1\" stroke=\"#000000\" stroke-opacity=\"1\" stroke-width=\"3.2\"/>\n",
       "<circle clip-path=\"url(#clip852)\" cx=\"986.616\" cy=\"735.212\" r=\"14.4\" fill=\"#009af9\" fill-rule=\"evenodd\" fill-opacity=\"1\" stroke=\"#000000\" stroke-opacity=\"1\" stroke-width=\"3.2\"/>\n",
       "<circle clip-path=\"url(#clip852)\" cx=\"986.616\" cy=\"735.212\" r=\"14.4\" fill=\"#009af9\" fill-rule=\"evenodd\" fill-opacity=\"1\" stroke=\"#000000\" stroke-opacity=\"1\" stroke-width=\"3.2\"/>\n",
       "<circle clip-path=\"url(#clip852)\" cx=\"986.616\" cy=\"735.212\" r=\"14.4\" fill=\"#009af9\" fill-rule=\"evenodd\" fill-opacity=\"1\" stroke=\"#000000\" stroke-opacity=\"1\" stroke-width=\"3.2\"/>\n",
       "<circle clip-path=\"url(#clip852)\" cx=\"986.616\" cy=\"735.212\" r=\"14.4\" fill=\"#009af9\" fill-rule=\"evenodd\" fill-opacity=\"1\" stroke=\"#000000\" stroke-opacity=\"1\" stroke-width=\"3.2\"/>\n",
       "<circle clip-path=\"url(#clip852)\" cx=\"986.616\" cy=\"735.212\" r=\"14.4\" fill=\"#009af9\" fill-rule=\"evenodd\" fill-opacity=\"1\" stroke=\"#000000\" stroke-opacity=\"1\" stroke-width=\"3.2\"/>\n",
       "<circle clip-path=\"url(#clip852)\" cx=\"986.616\" cy=\"735.212\" r=\"14.4\" fill=\"#009af9\" fill-rule=\"evenodd\" fill-opacity=\"1\" stroke=\"#000000\" stroke-opacity=\"1\" stroke-width=\"3.2\"/>\n",
       "<circle clip-path=\"url(#clip852)\" cx=\"986.616\" cy=\"735.212\" r=\"14.4\" fill=\"#009af9\" fill-rule=\"evenodd\" fill-opacity=\"1\" stroke=\"#000000\" stroke-opacity=\"1\" stroke-width=\"3.2\"/>\n",
       "<circle clip-path=\"url(#clip852)\" cx=\"986.616\" cy=\"735.212\" r=\"14.4\" fill=\"#009af9\" fill-rule=\"evenodd\" fill-opacity=\"1\" stroke=\"#000000\" stroke-opacity=\"1\" stroke-width=\"3.2\"/>\n",
       "<circle clip-path=\"url(#clip852)\" cx=\"986.616\" cy=\"735.212\" r=\"14.4\" fill=\"#009af9\" fill-rule=\"evenodd\" fill-opacity=\"1\" stroke=\"#000000\" stroke-opacity=\"1\" stroke-width=\"3.2\"/>\n",
       "<circle clip-path=\"url(#clip852)\" cx=\"986.616\" cy=\"735.212\" r=\"14.4\" fill=\"#009af9\" fill-rule=\"evenodd\" fill-opacity=\"1\" stroke=\"#000000\" stroke-opacity=\"1\" stroke-width=\"3.2\"/>\n",
       "<circle clip-path=\"url(#clip852)\" cx=\"986.616\" cy=\"735.212\" r=\"14.4\" fill=\"#009af9\" fill-rule=\"evenodd\" fill-opacity=\"1\" stroke=\"#000000\" stroke-opacity=\"1\" stroke-width=\"3.2\"/>\n",
       "<circle clip-path=\"url(#clip852)\" cx=\"986.616\" cy=\"735.212\" r=\"14.4\" fill=\"#009af9\" fill-rule=\"evenodd\" fill-opacity=\"1\" stroke=\"#000000\" stroke-opacity=\"1\" stroke-width=\"3.2\"/>\n",
       "<circle clip-path=\"url(#clip852)\" cx=\"986.616\" cy=\"735.212\" r=\"14.4\" fill=\"#009af9\" fill-rule=\"evenodd\" fill-opacity=\"1\" stroke=\"#000000\" stroke-opacity=\"1\" stroke-width=\"3.2\"/>\n",
       "<circle clip-path=\"url(#clip852)\" cx=\"986.616\" cy=\"735.212\" r=\"14.4\" fill=\"#009af9\" fill-rule=\"evenodd\" fill-opacity=\"1\" stroke=\"#000000\" stroke-opacity=\"1\" stroke-width=\"3.2\"/>\n",
       "<circle clip-path=\"url(#clip852)\" cx=\"986.616\" cy=\"735.212\" r=\"14.4\" fill=\"#009af9\" fill-rule=\"evenodd\" fill-opacity=\"1\" stroke=\"#000000\" stroke-opacity=\"1\" stroke-width=\"3.2\"/>\n",
       "<circle clip-path=\"url(#clip852)\" cx=\"986.616\" cy=\"735.212\" r=\"14.4\" fill=\"#009af9\" fill-rule=\"evenodd\" fill-opacity=\"1\" stroke=\"#000000\" stroke-opacity=\"1\" stroke-width=\"3.2\"/>\n",
       "<circle clip-path=\"url(#clip852)\" cx=\"986.616\" cy=\"735.212\" r=\"14.4\" fill=\"#009af9\" fill-rule=\"evenodd\" fill-opacity=\"1\" stroke=\"#000000\" stroke-opacity=\"1\" stroke-width=\"3.2\"/>\n",
       "<circle clip-path=\"url(#clip852)\" cx=\"986.616\" cy=\"735.212\" r=\"14.4\" fill=\"#009af9\" fill-rule=\"evenodd\" fill-opacity=\"1\" stroke=\"#000000\" stroke-opacity=\"1\" stroke-width=\"3.2\"/>\n",
       "<circle clip-path=\"url(#clip852)\" cx=\"986.616\" cy=\"735.212\" r=\"14.4\" fill=\"#009af9\" fill-rule=\"evenodd\" fill-opacity=\"1\" stroke=\"#000000\" stroke-opacity=\"1\" stroke-width=\"3.2\"/>\n",
       "<circle clip-path=\"url(#clip852)\" cx=\"986.616\" cy=\"735.212\" r=\"14.4\" fill=\"#009af9\" fill-rule=\"evenodd\" fill-opacity=\"1\" stroke=\"#000000\" stroke-opacity=\"1\" stroke-width=\"3.2\"/>\n",
       "<circle clip-path=\"url(#clip852)\" cx=\"986.616\" cy=\"735.212\" r=\"14.4\" fill=\"#009af9\" fill-rule=\"evenodd\" fill-opacity=\"1\" stroke=\"#000000\" stroke-opacity=\"1\" stroke-width=\"3.2\"/>\n",
       "<circle clip-path=\"url(#clip852)\" cx=\"986.616\" cy=\"735.212\" r=\"14.4\" fill=\"#009af9\" fill-rule=\"evenodd\" fill-opacity=\"1\" stroke=\"#000000\" stroke-opacity=\"1\" stroke-width=\"3.2\"/>\n",
       "<circle clip-path=\"url(#clip852)\" cx=\"986.616\" cy=\"735.212\" r=\"14.4\" fill=\"#009af9\" fill-rule=\"evenodd\" fill-opacity=\"1\" stroke=\"#000000\" stroke-opacity=\"1\" stroke-width=\"3.2\"/>\n",
       "<circle clip-path=\"url(#clip852)\" cx=\"986.616\" cy=\"735.212\" r=\"14.4\" fill=\"#009af9\" fill-rule=\"evenodd\" fill-opacity=\"1\" stroke=\"#000000\" stroke-opacity=\"1\" stroke-width=\"3.2\"/>\n",
       "<circle clip-path=\"url(#clip852)\" cx=\"986.616\" cy=\"735.212\" r=\"14.4\" fill=\"#009af9\" fill-rule=\"evenodd\" fill-opacity=\"1\" stroke=\"#000000\" stroke-opacity=\"1\" stroke-width=\"3.2\"/>\n",
       "<circle clip-path=\"url(#clip852)\" cx=\"986.616\" cy=\"735.212\" r=\"14.4\" fill=\"#009af9\" fill-rule=\"evenodd\" fill-opacity=\"1\" stroke=\"#000000\" stroke-opacity=\"1\" stroke-width=\"3.2\"/>\n",
       "<circle clip-path=\"url(#clip852)\" cx=\"986.616\" cy=\"735.212\" r=\"14.4\" fill=\"#009af9\" fill-rule=\"evenodd\" fill-opacity=\"1\" stroke=\"#000000\" stroke-opacity=\"1\" stroke-width=\"3.2\"/>\n",
       "<circle clip-path=\"url(#clip852)\" cx=\"986.616\" cy=\"735.212\" r=\"14.4\" fill=\"#009af9\" fill-rule=\"evenodd\" fill-opacity=\"1\" stroke=\"#000000\" stroke-opacity=\"1\" stroke-width=\"3.2\"/>\n",
       "<circle clip-path=\"url(#clip852)\" cx=\"986.616\" cy=\"735.212\" r=\"14.4\" fill=\"#009af9\" fill-rule=\"evenodd\" fill-opacity=\"1\" stroke=\"#000000\" stroke-opacity=\"1\" stroke-width=\"3.2\"/>\n",
       "<circle clip-path=\"url(#clip852)\" cx=\"986.616\" cy=\"735.212\" r=\"14.4\" fill=\"#009af9\" fill-rule=\"evenodd\" fill-opacity=\"1\" stroke=\"#000000\" stroke-opacity=\"1\" stroke-width=\"3.2\"/>\n",
       "<circle clip-path=\"url(#clip852)\" cx=\"986.616\" cy=\"735.212\" r=\"14.4\" fill=\"#009af9\" fill-rule=\"evenodd\" fill-opacity=\"1\" stroke=\"#000000\" stroke-opacity=\"1\" stroke-width=\"3.2\"/>\n",
       "<circle clip-path=\"url(#clip852)\" cx=\"986.616\" cy=\"735.212\" r=\"14.4\" fill=\"#009af9\" fill-rule=\"evenodd\" fill-opacity=\"1\" stroke=\"#000000\" stroke-opacity=\"1\" stroke-width=\"3.2\"/>\n",
       "<circle clip-path=\"url(#clip852)\" cx=\"986.616\" cy=\"735.212\" r=\"14.4\" fill=\"#009af9\" fill-rule=\"evenodd\" fill-opacity=\"1\" stroke=\"#000000\" stroke-opacity=\"1\" stroke-width=\"3.2\"/>\n",
       "<circle clip-path=\"url(#clip852)\" cx=\"986.616\" cy=\"735.212\" r=\"14.4\" fill=\"#009af9\" fill-rule=\"evenodd\" fill-opacity=\"1\" stroke=\"#000000\" stroke-opacity=\"1\" stroke-width=\"3.2\"/>\n",
       "<circle clip-path=\"url(#clip852)\" cx=\"986.616\" cy=\"735.212\" r=\"14.4\" fill=\"#009af9\" fill-rule=\"evenodd\" fill-opacity=\"1\" stroke=\"#000000\" stroke-opacity=\"1\" stroke-width=\"3.2\"/>\n",
       "<circle clip-path=\"url(#clip852)\" cx=\"986.616\" cy=\"735.212\" r=\"14.4\" fill=\"#009af9\" fill-rule=\"evenodd\" fill-opacity=\"1\" stroke=\"#000000\" stroke-opacity=\"1\" stroke-width=\"3.2\"/>\n",
       "<circle clip-path=\"url(#clip852)\" cx=\"986.616\" cy=\"735.212\" r=\"14.4\" fill=\"#009af9\" fill-rule=\"evenodd\" fill-opacity=\"1\" stroke=\"#000000\" stroke-opacity=\"1\" stroke-width=\"3.2\"/>\n",
       "<circle clip-path=\"url(#clip852)\" cx=\"986.616\" cy=\"735.212\" r=\"14.4\" fill=\"#009af9\" fill-rule=\"evenodd\" fill-opacity=\"1\" stroke=\"#000000\" stroke-opacity=\"1\" stroke-width=\"3.2\"/>\n",
       "<circle clip-path=\"url(#clip852)\" cx=\"986.616\" cy=\"735.212\" r=\"14.4\" fill=\"#009af9\" fill-rule=\"evenodd\" fill-opacity=\"1\" stroke=\"#000000\" stroke-opacity=\"1\" stroke-width=\"3.2\"/>\n",
       "<circle clip-path=\"url(#clip852)\" cx=\"986.616\" cy=\"735.212\" r=\"14.4\" fill=\"#009af9\" fill-rule=\"evenodd\" fill-opacity=\"1\" stroke=\"#000000\" stroke-opacity=\"1\" stroke-width=\"3.2\"/>\n",
       "<circle clip-path=\"url(#clip852)\" cx=\"986.616\" cy=\"735.212\" r=\"14.4\" fill=\"#009af9\" fill-rule=\"evenodd\" fill-opacity=\"1\" stroke=\"#000000\" stroke-opacity=\"1\" stroke-width=\"3.2\"/>\n",
       "<circle clip-path=\"url(#clip852)\" cx=\"986.616\" cy=\"735.212\" r=\"14.4\" fill=\"#009af9\" fill-rule=\"evenodd\" fill-opacity=\"1\" stroke=\"#000000\" stroke-opacity=\"1\" stroke-width=\"3.2\"/>\n",
       "<circle clip-path=\"url(#clip852)\" cx=\"986.616\" cy=\"735.212\" r=\"14.4\" fill=\"#009af9\" fill-rule=\"evenodd\" fill-opacity=\"1\" stroke=\"#000000\" stroke-opacity=\"1\" stroke-width=\"3.2\"/>\n",
       "<circle clip-path=\"url(#clip852)\" cx=\"986.616\" cy=\"735.212\" r=\"14.4\" fill=\"#009af9\" fill-rule=\"evenodd\" fill-opacity=\"1\" stroke=\"#000000\" stroke-opacity=\"1\" stroke-width=\"3.2\"/>\n",
       "<circle clip-path=\"url(#clip852)\" cx=\"986.616\" cy=\"735.212\" r=\"14.4\" fill=\"#009af9\" fill-rule=\"evenodd\" fill-opacity=\"1\" stroke=\"#000000\" stroke-opacity=\"1\" stroke-width=\"3.2\"/>\n",
       "<circle clip-path=\"url(#clip852)\" cx=\"986.616\" cy=\"735.212\" r=\"14.4\" fill=\"#009af9\" fill-rule=\"evenodd\" fill-opacity=\"1\" stroke=\"#000000\" stroke-opacity=\"1\" stroke-width=\"3.2\"/>\n",
       "<circle clip-path=\"url(#clip852)\" cx=\"986.616\" cy=\"735.212\" r=\"14.4\" fill=\"#009af9\" fill-rule=\"evenodd\" fill-opacity=\"1\" stroke=\"#000000\" stroke-opacity=\"1\" stroke-width=\"3.2\"/>\n",
       "<circle clip-path=\"url(#clip852)\" cx=\"986.616\" cy=\"735.212\" r=\"14.4\" fill=\"#009af9\" fill-rule=\"evenodd\" fill-opacity=\"1\" stroke=\"#000000\" stroke-opacity=\"1\" stroke-width=\"3.2\"/>\n",
       "<circle clip-path=\"url(#clip852)\" cx=\"986.616\" cy=\"735.212\" r=\"14.4\" fill=\"#009af9\" fill-rule=\"evenodd\" fill-opacity=\"1\" stroke=\"#000000\" stroke-opacity=\"1\" stroke-width=\"3.2\"/>\n",
       "<circle clip-path=\"url(#clip852)\" cx=\"986.616\" cy=\"735.212\" r=\"14.4\" fill=\"#009af9\" fill-rule=\"evenodd\" fill-opacity=\"1\" stroke=\"#000000\" stroke-opacity=\"1\" stroke-width=\"3.2\"/>\n",
       "<circle clip-path=\"url(#clip852)\" cx=\"986.616\" cy=\"735.212\" r=\"14.4\" fill=\"#009af9\" fill-rule=\"evenodd\" fill-opacity=\"1\" stroke=\"#000000\" stroke-opacity=\"1\" stroke-width=\"3.2\"/>\n",
       "<circle clip-path=\"url(#clip852)\" cx=\"986.616\" cy=\"735.212\" r=\"14.4\" fill=\"#009af9\" fill-rule=\"evenodd\" fill-opacity=\"1\" stroke=\"#000000\" stroke-opacity=\"1\" stroke-width=\"3.2\"/>\n",
       "<circle clip-path=\"url(#clip852)\" cx=\"986.616\" cy=\"735.212\" r=\"14.4\" fill=\"#009af9\" fill-rule=\"evenodd\" fill-opacity=\"1\" stroke=\"#000000\" stroke-opacity=\"1\" stroke-width=\"3.2\"/>\n",
       "<circle clip-path=\"url(#clip852)\" cx=\"986.616\" cy=\"735.212\" r=\"14.4\" fill=\"#009af9\" fill-rule=\"evenodd\" fill-opacity=\"1\" stroke=\"#000000\" stroke-opacity=\"1\" stroke-width=\"3.2\"/>\n",
       "<circle clip-path=\"url(#clip852)\" cx=\"986.616\" cy=\"735.212\" r=\"14.4\" fill=\"#009af9\" fill-rule=\"evenodd\" fill-opacity=\"1\" stroke=\"#000000\" stroke-opacity=\"1\" stroke-width=\"3.2\"/>\n",
       "<circle clip-path=\"url(#clip852)\" cx=\"986.616\" cy=\"735.212\" r=\"14.4\" fill=\"#009af9\" fill-rule=\"evenodd\" fill-opacity=\"1\" stroke=\"#000000\" stroke-opacity=\"1\" stroke-width=\"3.2\"/>\n",
       "<circle clip-path=\"url(#clip852)\" cx=\"986.616\" cy=\"735.212\" r=\"14.4\" fill=\"#009af9\" fill-rule=\"evenodd\" fill-opacity=\"1\" stroke=\"#000000\" stroke-opacity=\"1\" stroke-width=\"3.2\"/>\n",
       "<circle clip-path=\"url(#clip852)\" cx=\"986.616\" cy=\"735.212\" r=\"14.4\" fill=\"#009af9\" fill-rule=\"evenodd\" fill-opacity=\"1\" stroke=\"#000000\" stroke-opacity=\"1\" stroke-width=\"3.2\"/>\n",
       "<circle clip-path=\"url(#clip852)\" cx=\"986.616\" cy=\"735.212\" r=\"14.4\" fill=\"#009af9\" fill-rule=\"evenodd\" fill-opacity=\"1\" stroke=\"#000000\" stroke-opacity=\"1\" stroke-width=\"3.2\"/>\n",
       "<circle clip-path=\"url(#clip852)\" cx=\"986.616\" cy=\"735.212\" r=\"14.4\" fill=\"#009af9\" fill-rule=\"evenodd\" fill-opacity=\"1\" stroke=\"#000000\" stroke-opacity=\"1\" stroke-width=\"3.2\"/>\n",
       "<circle clip-path=\"url(#clip852)\" cx=\"986.616\" cy=\"735.212\" r=\"14.4\" fill=\"#009af9\" fill-rule=\"evenodd\" fill-opacity=\"1\" stroke=\"#000000\" stroke-opacity=\"1\" stroke-width=\"3.2\"/>\n",
       "<circle clip-path=\"url(#clip852)\" cx=\"986.616\" cy=\"735.212\" r=\"14.4\" fill=\"#009af9\" fill-rule=\"evenodd\" fill-opacity=\"1\" stroke=\"#000000\" stroke-opacity=\"1\" stroke-width=\"3.2\"/>\n",
       "<circle clip-path=\"url(#clip852)\" cx=\"986.616\" cy=\"735.212\" r=\"14.4\" fill=\"#009af9\" fill-rule=\"evenodd\" fill-opacity=\"1\" stroke=\"#000000\" stroke-opacity=\"1\" stroke-width=\"3.2\"/>\n",
       "<circle clip-path=\"url(#clip852)\" cx=\"986.616\" cy=\"735.212\" r=\"14.4\" fill=\"#009af9\" fill-rule=\"evenodd\" fill-opacity=\"1\" stroke=\"#000000\" stroke-opacity=\"1\" stroke-width=\"3.2\"/>\n",
       "<circle clip-path=\"url(#clip852)\" cx=\"986.616\" cy=\"735.212\" r=\"14.4\" fill=\"#009af9\" fill-rule=\"evenodd\" fill-opacity=\"1\" stroke=\"#000000\" stroke-opacity=\"1\" stroke-width=\"3.2\"/>\n",
       "<circle clip-path=\"url(#clip852)\" cx=\"986.616\" cy=\"735.212\" r=\"14.4\" fill=\"#009af9\" fill-rule=\"evenodd\" fill-opacity=\"1\" stroke=\"#000000\" stroke-opacity=\"1\" stroke-width=\"3.2\"/>\n",
       "<circle clip-path=\"url(#clip852)\" cx=\"986.616\" cy=\"735.212\" r=\"14.4\" fill=\"#009af9\" fill-rule=\"evenodd\" fill-opacity=\"1\" stroke=\"#000000\" stroke-opacity=\"1\" stroke-width=\"3.2\"/>\n",
       "<circle clip-path=\"url(#clip852)\" cx=\"986.616\" cy=\"735.212\" r=\"14.4\" fill=\"#009af9\" fill-rule=\"evenodd\" fill-opacity=\"1\" stroke=\"#000000\" stroke-opacity=\"1\" stroke-width=\"3.2\"/>\n",
       "<circle clip-path=\"url(#clip852)\" cx=\"986.616\" cy=\"735.212\" r=\"14.4\" fill=\"#009af9\" fill-rule=\"evenodd\" fill-opacity=\"1\" stroke=\"#000000\" stroke-opacity=\"1\" stroke-width=\"3.2\"/>\n",
       "<circle clip-path=\"url(#clip852)\" cx=\"986.616\" cy=\"735.212\" r=\"14.4\" fill=\"#009af9\" fill-rule=\"evenodd\" fill-opacity=\"1\" stroke=\"#000000\" stroke-opacity=\"1\" stroke-width=\"3.2\"/>\n",
       "<circle clip-path=\"url(#clip852)\" cx=\"986.616\" cy=\"735.212\" r=\"14.4\" fill=\"#009af9\" fill-rule=\"evenodd\" fill-opacity=\"1\" stroke=\"#000000\" stroke-opacity=\"1\" stroke-width=\"3.2\"/>\n",
       "<circle clip-path=\"url(#clip852)\" cx=\"986.616\" cy=\"735.212\" r=\"14.4\" fill=\"#009af9\" fill-rule=\"evenodd\" fill-opacity=\"1\" stroke=\"#000000\" stroke-opacity=\"1\" stroke-width=\"3.2\"/>\n",
       "<circle clip-path=\"url(#clip852)\" cx=\"986.616\" cy=\"735.212\" r=\"14.4\" fill=\"#009af9\" fill-rule=\"evenodd\" fill-opacity=\"1\" stroke=\"#000000\" stroke-opacity=\"1\" stroke-width=\"3.2\"/>\n",
       "<circle clip-path=\"url(#clip852)\" cx=\"986.616\" cy=\"735.212\" r=\"14.4\" fill=\"#009af9\" fill-rule=\"evenodd\" fill-opacity=\"1\" stroke=\"#000000\" stroke-opacity=\"1\" stroke-width=\"3.2\"/>\n",
       "<circle clip-path=\"url(#clip852)\" cx=\"986.616\" cy=\"735.212\" r=\"14.4\" fill=\"#009af9\" fill-rule=\"evenodd\" fill-opacity=\"1\" stroke=\"#000000\" stroke-opacity=\"1\" stroke-width=\"3.2\"/>\n",
       "<circle clip-path=\"url(#clip852)\" cx=\"986.616\" cy=\"735.212\" r=\"14.4\" fill=\"#009af9\" fill-rule=\"evenodd\" fill-opacity=\"1\" stroke=\"#000000\" stroke-opacity=\"1\" stroke-width=\"3.2\"/>\n",
       "<circle clip-path=\"url(#clip852)\" cx=\"986.616\" cy=\"735.212\" r=\"14.4\" fill=\"#009af9\" fill-rule=\"evenodd\" fill-opacity=\"1\" stroke=\"#000000\" stroke-opacity=\"1\" stroke-width=\"3.2\"/>\n",
       "<circle clip-path=\"url(#clip852)\" cx=\"986.616\" cy=\"735.212\" r=\"14.4\" fill=\"#009af9\" fill-rule=\"evenodd\" fill-opacity=\"1\" stroke=\"#000000\" stroke-opacity=\"1\" stroke-width=\"3.2\"/>\n",
       "<circle clip-path=\"url(#clip852)\" cx=\"986.616\" cy=\"735.212\" r=\"14.4\" fill=\"#009af9\" fill-rule=\"evenodd\" fill-opacity=\"1\" stroke=\"#000000\" stroke-opacity=\"1\" stroke-width=\"3.2\"/>\n",
       "<circle clip-path=\"url(#clip852)\" cx=\"986.616\" cy=\"735.212\" r=\"14.4\" fill=\"#009af9\" fill-rule=\"evenodd\" fill-opacity=\"1\" stroke=\"#000000\" stroke-opacity=\"1\" stroke-width=\"3.2\"/>\n",
       "<circle clip-path=\"url(#clip852)\" cx=\"986.616\" cy=\"735.212\" r=\"14.4\" fill=\"#009af9\" fill-rule=\"evenodd\" fill-opacity=\"1\" stroke=\"#000000\" stroke-opacity=\"1\" stroke-width=\"3.2\"/>\n",
       "<circle clip-path=\"url(#clip852)\" cx=\"986.616\" cy=\"735.212\" r=\"14.4\" fill=\"#009af9\" fill-rule=\"evenodd\" fill-opacity=\"1\" stroke=\"#000000\" stroke-opacity=\"1\" stroke-width=\"3.2\"/>\n",
       "<circle clip-path=\"url(#clip852)\" cx=\"986.616\" cy=\"735.212\" r=\"14.4\" fill=\"#009af9\" fill-rule=\"evenodd\" fill-opacity=\"1\" stroke=\"#000000\" stroke-opacity=\"1\" stroke-width=\"3.2\"/>\n",
       "<circle clip-path=\"url(#clip852)\" cx=\"986.616\" cy=\"735.212\" r=\"14.4\" fill=\"#009af9\" fill-rule=\"evenodd\" fill-opacity=\"1\" stroke=\"#000000\" stroke-opacity=\"1\" stroke-width=\"3.2\"/>\n",
       "<circle clip-path=\"url(#clip852)\" cx=\"986.616\" cy=\"735.212\" r=\"14.4\" fill=\"#009af9\" fill-rule=\"evenodd\" fill-opacity=\"1\" stroke=\"#000000\" stroke-opacity=\"1\" stroke-width=\"3.2\"/>\n",
       "<circle clip-path=\"url(#clip852)\" cx=\"986.616\" cy=\"735.212\" r=\"14.4\" fill=\"#009af9\" fill-rule=\"evenodd\" fill-opacity=\"1\" stroke=\"#000000\" stroke-opacity=\"1\" stroke-width=\"3.2\"/>\n",
       "<circle clip-path=\"url(#clip852)\" cx=\"986.616\" cy=\"735.212\" r=\"14.4\" fill=\"#009af9\" fill-rule=\"evenodd\" fill-opacity=\"1\" stroke=\"#000000\" stroke-opacity=\"1\" stroke-width=\"3.2\"/>\n",
       "<circle clip-path=\"url(#clip852)\" cx=\"986.616\" cy=\"735.212\" r=\"14.4\" fill=\"#009af9\" fill-rule=\"evenodd\" fill-opacity=\"1\" stroke=\"#000000\" stroke-opacity=\"1\" stroke-width=\"3.2\"/>\n",
       "<circle clip-path=\"url(#clip852)\" cx=\"986.616\" cy=\"735.212\" r=\"14.4\" fill=\"#009af9\" fill-rule=\"evenodd\" fill-opacity=\"1\" stroke=\"#000000\" stroke-opacity=\"1\" stroke-width=\"3.2\"/>\n",
       "<circle clip-path=\"url(#clip852)\" cx=\"986.616\" cy=\"735.212\" r=\"14.4\" fill=\"#009af9\" fill-rule=\"evenodd\" fill-opacity=\"1\" stroke=\"#000000\" stroke-opacity=\"1\" stroke-width=\"3.2\"/>\n",
       "<circle clip-path=\"url(#clip852)\" cx=\"986.616\" cy=\"735.212\" r=\"14.4\" fill=\"#009af9\" fill-rule=\"evenodd\" fill-opacity=\"1\" stroke=\"#000000\" stroke-opacity=\"1\" stroke-width=\"3.2\"/>\n",
       "<circle clip-path=\"url(#clip852)\" cx=\"986.616\" cy=\"735.212\" r=\"14.4\" fill=\"#009af9\" fill-rule=\"evenodd\" fill-opacity=\"1\" stroke=\"#000000\" stroke-opacity=\"1\" stroke-width=\"3.2\"/>\n",
       "<circle clip-path=\"url(#clip852)\" cx=\"986.616\" cy=\"735.212\" r=\"14.4\" fill=\"#009af9\" fill-rule=\"evenodd\" fill-opacity=\"1\" stroke=\"#000000\" stroke-opacity=\"1\" stroke-width=\"3.2\"/>\n",
       "<circle clip-path=\"url(#clip852)\" cx=\"986.616\" cy=\"735.212\" r=\"14.4\" fill=\"#009af9\" fill-rule=\"evenodd\" fill-opacity=\"1\" stroke=\"#000000\" stroke-opacity=\"1\" stroke-width=\"3.2\"/>\n",
       "<circle clip-path=\"url(#clip852)\" cx=\"986.616\" cy=\"735.212\" r=\"14.4\" fill=\"#009af9\" fill-rule=\"evenodd\" fill-opacity=\"1\" stroke=\"#000000\" stroke-opacity=\"1\" stroke-width=\"3.2\"/>\n",
       "<circle clip-path=\"url(#clip852)\" cx=\"986.616\" cy=\"735.212\" r=\"14.4\" fill=\"#009af9\" fill-rule=\"evenodd\" fill-opacity=\"1\" stroke=\"#000000\" stroke-opacity=\"1\" stroke-width=\"3.2\"/>\n",
       "<circle clip-path=\"url(#clip852)\" cx=\"986.617\" cy=\"735.212\" r=\"14.4\" fill=\"#009af9\" fill-rule=\"evenodd\" fill-opacity=\"1\" stroke=\"#000000\" stroke-opacity=\"1\" stroke-width=\"3.2\"/>\n",
       "<circle clip-path=\"url(#clip852)\" cx=\"986.617\" cy=\"735.212\" r=\"14.4\" fill=\"#009af9\" fill-rule=\"evenodd\" fill-opacity=\"1\" stroke=\"#000000\" stroke-opacity=\"1\" stroke-width=\"3.2\"/>\n",
       "<circle clip-path=\"url(#clip852)\" cx=\"986.652\" cy=\"735.212\" r=\"14.4\" fill=\"#009af9\" fill-rule=\"evenodd\" fill-opacity=\"1\" stroke=\"#000000\" stroke-opacity=\"1\" stroke-width=\"3.2\"/>\n",
       "<circle clip-path=\"url(#clip852)\" cx=\"987.205\" cy=\"735.212\" r=\"14.4\" fill=\"#009af9\" fill-rule=\"evenodd\" fill-opacity=\"1\" stroke=\"#000000\" stroke-opacity=\"1\" stroke-width=\"3.2\"/>\n",
       "<circle clip-path=\"url(#clip852)\" cx=\"987.302\" cy=\"771.482\" r=\"14.4\" fill=\"#009af9\" fill-rule=\"evenodd\" fill-opacity=\"1\" stroke=\"#000000\" stroke-opacity=\"1\" stroke-width=\"3.2\"/>\n",
       "<circle clip-path=\"url(#clip852)\" cx=\"987.302\" cy=\"698.941\" r=\"14.4\" fill=\"#009af9\" fill-rule=\"evenodd\" fill-opacity=\"1\" stroke=\"#000000\" stroke-opacity=\"1\" stroke-width=\"3.2\"/>\n",
       "<circle clip-path=\"url(#clip852)\" cx=\"999.828\" cy=\"735.212\" r=\"14.4\" fill=\"#009af9\" fill-rule=\"evenodd\" fill-opacity=\"1\" stroke=\"#000000\" stroke-opacity=\"1\" stroke-width=\"3.2\"/>\n",
       "<circle clip-path=\"url(#clip852)\" cx=\"2294.3\" cy=\"735.212\" r=\"14.4\" fill=\"#009af9\" fill-rule=\"evenodd\" fill-opacity=\"1\" stroke=\"#000000\" stroke-opacity=\"1\" stroke-width=\"3.2\"/>\n",
       "<path clip-path=\"url(#clip850)\" d=\"M2024.94 196.789 L2283.91 196.789 L2283.91 93.1086 L2024.94 93.1086  Z\" fill=\"#ffffff\" fill-rule=\"evenodd\" fill-opacity=\"1\"/>\n",
       "<polyline clip-path=\"url(#clip850)\" style=\"stroke:#000000; stroke-linecap:round; stroke-linejoin:round; stroke-width:4; stroke-opacity:1; fill:none\" points=\"2024.94,196.789 2283.91,196.789 2283.91,93.1086 2024.94,93.1086 2024.94,196.789 \"/>\n",
       "<circle clip-path=\"url(#clip850)\" cx=\"2116.74\" cy=\"144.949\" r=\"20.48\" fill=\"#009af9\" fill-rule=\"evenodd\" fill-opacity=\"1\" stroke=\"#000000\" stroke-opacity=\"1\" stroke-width=\"4.55111\"/>\n",
       "<path clip-path=\"url(#clip850)\" d=\"M2222.37 164.636 Q2220.57 169.266 2218.85 170.678 Q2217.14 172.09 2214.27 172.09 L2210.87 172.09 L2210.87 168.525 L2213.37 168.525 Q2215.13 168.525 2216.1 167.692 Q2217.07 166.858 2218.25 163.756 L2219.02 161.812 L2208.53 136.303 L2213.04 136.303 L2221.15 156.581 L2229.25 136.303 L2233.76 136.303 L2222.37 164.636 Z\" fill=\"#000000\" fill-rule=\"nonzero\" fill-opacity=\"1\" /><path clip-path=\"url(#clip850)\" d=\"M2241.05 158.293 L2248.69 158.293 L2248.69 131.928 L2240.38 133.595 L2240.38 129.335 L2248.65 127.669 L2253.32 127.669 L2253.32 158.293 L2260.96 158.293 L2260.96 162.229 L2241.05 162.229 L2241.05 158.293 Z\" fill=\"#000000\" fill-rule=\"nonzero\" fill-opacity=\"1\" /></svg>\n"
      ]
     },
     "metadata": {},
     "output_type": "display_data"
    }
   ],
   "source": [
    "using Plots\n",
    "scatter(F.values)"
   ]
  },
  {
   "cell_type": "code",
   "execution_count": 11,
   "metadata": {},
   "outputs": [
    {
     "data": {
      "text/plain": [
       "257×257 Matrix{ComplexF64}:\n",
       "         0.0+0.0im         …    0.862162+0.0im\n",
       "   -0.159681+0.542837im         0.259411+0.000287363im\n",
       "  -0.0017452+0.325432im         0.174787+0.0509537im\n",
       "  0.00513528+0.215068im         0.122907+0.0413455im\n",
       "  0.00674515+0.136196im         0.080324+0.0293197im\n",
       "  0.00543371+0.0804888im   …   0.0483626+0.0185373im\n",
       "  0.00354405+0.0438388im       0.0266803+0.0105686im\n",
       "  0.00199581+0.0218772im       0.0134412+0.00545314im\n",
       " 0.000993121+0.00997038im     0.00617095+0.0025498im\n",
       " 0.000441255+0.0041413im      0.00257838+0.00108097im\n",
       "            ⋮              ⋱  \n",
       "  0.00384845+0.00159201im     0.00257838-0.00108097im\n",
       "  0.00928487+0.00376644im     0.00617095-0.0025498im\n",
       "   0.0204248+0.00808853im  …   0.0134412-0.00545314im\n",
       "   0.0410568+0.0157715im       0.0266803-0.0105686im\n",
       "   0.0756839+0.0279271im       0.0483626-0.0185373im\n",
       "    0.128757+0.0449061im        0.080324-0.0293197im\n",
       "    0.204878+0.0656197im        0.122907-0.0413455im\n",
       "    0.312697+0.0901638im   …    0.174787-0.0509537im\n",
       "    0.565836+0.0im              0.259411-0.000287363im"
      ]
     },
     "metadata": {},
     "output_type": "display_data"
    }
   ],
   "source": [
    "F.vectors               #cada columna es un auto vector del los autovalores de arriba, como 1 es el autovalor que quiero y es el ultimo, la ultima columna es al auto vector que necesito"
   ]
  },
  {
   "cell_type": "code",
   "execution_count": 12,
   "metadata": {},
   "outputs": [
    {
     "data": {
      "text/plain": [
       "257-element Vector{ComplexF64}:\n",
       "    0.8621618559192298 + 0.0im\n",
       "    0.2594113222656273 + 0.0002873628398487522im\n",
       "    0.1747872046560136 + 0.05095373174067655im\n",
       "   0.12290673960817548 + 0.04134552726635238im\n",
       "   0.08032399031782754 + 0.02931969280076521im\n",
       "   0.04836263817291537 + 0.018537268315635905im\n",
       "   0.02668034785187105 + 0.01056856435304618im\n",
       "   0.01344119393518667 + 0.005453135414808818im\n",
       " 0.0061709526717366224 + 0.002549801279743558im\n",
       "  0.002578379746454184 + 0.0010809684527433644im\n",
       "                       ⋮\n",
       "  0.002578379746454213 - 0.001080968452743335im\n",
       "  0.006170952671736606 - 0.002549801279743532im\n",
       "  0.013441193935186715 - 0.005453135414808853im\n",
       "  0.026680347851871032 - 0.010568564353046171im\n",
       "  0.048362638172915216 - 0.01853726831563613im\n",
       "   0.08032399031782755 - 0.029319692800765393im\n",
       "   0.12290673960817552 - 0.04134552726635241im\n",
       "   0.17478720465601363 - 0.050953731740676425im\n",
       "   0.25941132226562713 - 0.0002873628398489099im"
      ]
     },
     "metadata": {},
     "output_type": "display_data"
    }
   ],
   "source": [
    "fσK = F.vectors[:, 257]              #este es el auto vector, meu ponto fixo"
   ]
  },
  {
   "cell_type": "markdown",
   "metadata": {},
   "source": [
    "$f_{\\sigma,k}$ is fixed point of $A$"
   ]
  },
  {
   "cell_type": "code",
   "execution_count": 13,
   "metadata": {},
   "outputs": [
    {
     "data": {
      "text/plain": [
       "257-element Vector{ComplexF64}:\n",
       "    0.9999999999999999 + 0.0im\n",
       "    0.3008847126379131 + 0.0003333049796576402im\n",
       "   0.20273131252096155 + 0.05909996062902841im\n",
       "   0.14255645707862283 + 0.04795564427084299im\n",
       "   0.09316578988777782 + 0.03400717927784545im\n",
       "   0.05609461592493155 + 0.021500914460976267im\n",
       "  0.030945869002085093 + 0.012258213791861696im\n",
       "  0.015590105086307466 + 0.0063249555490885526im\n",
       "  0.007157533854425981 + 0.0029574508107007135im\n",
       "  0.002990598260352329 + 0.0012537883058986003im\n",
       "                       ⋮\n",
       " 0.0029905982603523626 - 0.0012537883058985665im\n",
       "  0.007157533854425962 - 0.0029574508107006836im\n",
       "  0.015590105086307518 - 0.0063249555490885925im\n",
       "  0.030945869002085073 - 0.012258213791861686im\n",
       "   0.05609461592493137 - 0.021500914460976527im\n",
       "   0.09316578988777784 - 0.03400717927784567im\n",
       "   0.14255645707862288 - 0.047955644270843034im\n",
       "   0.20273131252096158 - 0.05909996062902827im\n",
       "    0.3008847126379129 - 0.0003333049796578231im"
      ]
     },
     "metadata": {},
     "output_type": "display_data"
    }
   ],
   "source": [
    "fσK /= fσK[1]# a primeira entrada tem que ser 1, normalizo todo"
   ]
  },
  {
   "cell_type": "markdown",
   "metadata": {},
   "source": [
    "In the computer calculations, the symmetry of the point was lost. Now let's symmetrize the fixed point"
   ]
  },
  {
   "cell_type": "code",
   "execution_count": 14,
   "metadata": {},
   "outputs": [
    {
     "data": {
      "text/plain": [
       "257-element Vector{ComplexF64}:\n",
       "   0.9999999999999999 + 0.0im\n",
       "   0.3008847126379131 + 0.0003333049796576402im\n",
       "  0.20273131252096155 + 0.05909996062902841im\n",
       "  0.14255645707862283 + 0.04795564427084299im\n",
       "  0.09316578988777782 + 0.03400717927784545im\n",
       "  0.05609461592493155 + 0.021500914460976267im\n",
       " 0.030945869002085093 + 0.012258213791861696im\n",
       " 0.015590105086307466 + 0.0063249555490885526im\n",
       " 0.007157533854425981 + 0.0029574508107007135im\n",
       " 0.002990598260352329 + 0.0012537883058986003im\n",
       "                      ⋮\n",
       " 0.002990598260352329 - 0.0012537883058986003im\n",
       " 0.007157533854425981 - 0.0029574508107007135im\n",
       " 0.015590105086307466 - 0.0063249555490885526im\n",
       " 0.030945869002085093 - 0.012258213791861696im\n",
       "  0.05609461592493155 - 0.021500914460976267im\n",
       "  0.09316578988777782 - 0.03400717927784545im\n",
       "  0.14255645707862283 - 0.04795564427084299im\n",
       "  0.20273131252096155 - 0.05909996062902841im\n",
       "   0.3008847126379131 - 0.0003333049796576402im"
      ]
     },
     "metadata": {},
     "output_type": "display_data"
    }
   ],
   "source": [
    "#aqui estamos haciendo el punto fijo simetrico, pois en teoria tiene que se simetrico pero como estoy calculando en la computadora que aproxima numero infinitos no esta saliendo simetrico\n",
    "fσKs = zeros(257) + zeros(257) * im\n",
    "for i in 1:129\n",
    "    fσKs[i] = fσK[i]\n",
    "end\n",
    "\n",
    "for i in 1:128\n",
    "    fσKs[258-i] = conj(fσK[i+1])\n",
    "end\n",
    "fσKs                                #este é o ponto fixo simetrico\n"
   ]
  },
  {
   "attachments": {},
   "cell_type": "markdown",
   "metadata": {},
   "source": [
    "\n",
    "Note that\n",
    "\\begin{align*}\n",
    "f_{\\sigma,k,s}=(\\mathcal{F}(f_{\\sigma,k,s})[0],\\mathcal{F}(f_{\\sigma,k,s})[1],\\ldots,\\mathcal{F}(f_{\\sigma,k,s})[K],\\mathcal{F}(f_{\\sigma,k,s})[-K],\\ldots,\\mathcal{F}(f_{\\sigma,k,s})[-1])\n",
    "\\end{align*}\n"
   ]
  },
  {
   "attachments": {},
   "cell_type": "markdown",
   "metadata": {},
   "source": [
    "I already have bounded $|\\lambda(\\alpha,\\beta,\\sigma)-\\lambda(\\alpha,\\beta,\\sigma,k,s)|$, it remains to find $\\lambda(\\alpha,\\beta,\\sigma,k,s)$ but \n",
    "\\begin{align*}\n",
    "\\lambda (\\alpha,\\beta,\\sigma,k,s)&=\\int_{-1}^{1}\\ln|T'_{\\alpha,\\beta}|f_{\\sigma,k,s}dm\\\\\n",
    "&=\\langle \\ln|T'_{\\alpha,\\beta}|,f_{\\sigma,k,s} \\rangle\\\\\n",
    "&=\\displaystyle \\sum_{j=-k}^{k}\\mathcal{F}(\\ln|T'_{\\alpha,\\beta}|)[j]\\mathcal{F}(f_{\\sigma,k,s})[j].\n",
    "\\end{align*}\n",
    "$\\mathcal{F}(f_{\\sigma,k})[j]$ we have already calculated it, let's calculate $\\mathcal{F}(\\ln|T'_{\\alpha,\\beta}|)[j]$.\n",
    "\n",
    "We now that\n",
    "\n",
    "\\begin{align*}\n",
    "\\mathcal{F}(ln|T'_{\\alpha,\\beta}|)[0]&=\\ln (2\\alpha \\beta)-(\\alpha-1)\\\\\n",
    "\\mathcal{F}(ln|T'_{\\alpha,\\beta}|)[j]&=-\\frac{(\\alpha-1)}{j\\pi}\\int_{0}^{1}\\frac{1}{x}sen(j\\pi x)dx\\\\\n",
    "&=-\\frac{(\\alpha-1)}{j\\pi}\\int _{0}^{j\\pi}\\frac{sen(x)}{x}dx.\n",
    "\\end{align*}"
   ]
  },
  {
   "cell_type": "code",
   "execution_count": 15,
   "metadata": {},
   "outputs": [
    {
     "data": {
      "text/plain": [
       "257-element Vector{Ball{Float64, ComplexF64}}:\n",
       "                     0.9999999999999999 + 0.0im ± 0.0\n",
       "   0.3008847126379131 + 0.0003333049796576402im ± 0.0\n",
       "    0.20273131252096155 + 0.05909996062902841im ± 0.0\n",
       "    0.14255645707862283 + 0.04795564427084299im ± 0.0\n",
       "    0.09316578988777782 + 0.03400717927784545im ± 0.0\n",
       "   0.05609461592493155 + 0.021500914460976267im ± 0.0\n",
       "  0.030945869002085093 + 0.012258213791861696im ± 0.0\n",
       " 0.015590105086307466 + 0.0063249555490885526im ± 0.0\n",
       " 0.007157533854425981 + 0.0029574508107007135im ± 0.0\n",
       " 0.002990598260352329 + 0.0012537883058986003im ± 0.0\n",
       "                                                                              ⋮\n",
       " 0.002990598260352329 - 0.0012537883058986003im ± 0.0\n",
       " 0.007157533854425981 - 0.0029574508107007135im ± 0.0\n",
       " 0.015590105086307466 - 0.0063249555490885526im ± 0.0\n",
       "  0.030945869002085093 - 0.012258213791861696im ± 0.0\n",
       "   0.05609461592493155 - 0.021500914460976267im ± 0.0\n",
       "    0.09316578988777782 - 0.03400717927784545im ± 0.0\n",
       "    0.14255645707862283 - 0.04795564427084299im ± 0.0\n",
       "    0.20273131252096155 - 0.05909996062902841im ± 0.0\n",
       "   0.3008847126379131 - 0.0003333049796576402im ± 0.0"
      ]
     },
     "metadata": {},
     "output_type": "display_data"
    }
   ],
   "source": [
    "bfσKs = BallVector(fσKs)"
   ]
  },
  {
   "cell_type": "code",
   "execution_count": 16,
   "metadata": {},
   "outputs": [
    {
     "data": {
      "text/plain": [
       "257-element Vector{Ball{Float64, ComplexF64}}:\n",
       "                                         0.0 + 0.0im ± 1.729759868381298e-13\n",
       "     -9.43689570931383e-16 - 9.168555671623668e-16im ± 1.674114746284664e-13\n",
       "   -7.771561172376096e-16 - 5.204170427930421e-16im ± 1.3303859320959936e-13\n",
       "  -5.551115123125783e-16 - 2.0816681711721685e-17im ± 1.0112910041784043e-13\n",
       "    -5.689893001203927e-16 - 6.938893903907228e-17im ± 6.982209662361391e-14\n",
       "    -3.469446951953614e-16 + 9.71445146547012e-17im ± 4.4028672652160167e-14\n",
       "   -1.2836953722228372e-16 - 2.42861286636753e-17im ± 2.6164268094836638e-14\n",
       "  -3.2959746043559335e-17 + 7.806255641895632e-17im ± 1.3739466218036232e-14\n",
       "    -4.423544863740858e-17 - 1.431146867680866e-17im ± 6.516059851168323e-15\n",
       "   -1.734723475976807e-17 - 3.469446951953614e-17im ± 2.8105417170214227e-15\n",
       "                                                                                                     ⋮\n",
       "   -1.734723475976807e-17 + 3.469446951953614e-17im ± 2.8105417170214227e-15\n",
       "    -4.423544863740858e-17 + 1.474514954580286e-17im ± 6.516059851168323e-15\n",
       "   -3.642919299551295e-17 - 7.806255641895632e-17im ± 1.3739466218036232e-14\n",
       " -1.3183898417423734e-16 + 2.6020852139652106e-17im ± 2.6164268094836638e-14\n",
       "    -3.400058012914542e-16 - 9.020562075079397e-17im ± 4.402867265216016e-14\n",
       "    -5.551115123125783e-16 + 8.326672684688674e-17im ± 6.982209662361391e-14\n",
       "  -5.551115123125783e-16 + 2.0816681711721685e-17im ± 1.0112910041784043e-13\n",
       "   -8.049116928532385e-16 + 5.134781488891349e-16im ± 1.3303859320959936e-13\n",
       "    -8.326672684688674e-16 + 8.89099991546738e-16im ± 1.6741147462846793e-13"
      ]
     },
     "metadata": {},
     "output_type": "display_data"
    }
   ],
   "source": [
    "residual = PσK * bfσKs - bfσKs"
   ]
  },
  {
   "cell_type": "code",
   "execution_count": 17,
   "metadata": {},
   "outputs": [
    {
     "data": {
      "text/plain": [
       "3.9917963488692576e-13"
      ]
     },
     "metadata": {},
     "output_type": "display_data"
    }
   ],
   "source": [
    "ϵ = norm(residual.c, 2) + norm(residual.r, 2)"
   ]
  },
  {
   "cell_type": "code",
   "execution_count": 18,
   "metadata": {},
   "outputs": [],
   "source": [
    "#fσk=[fσk[1:K+1];fσk[FFTNx-K+1:FFTNx]]          #para ver esto vi ext_z desde K+1=129 hasta FFTNx-(K+1)=895 son todos zeros, en fσk no son zeros pero igual quito lo mismo que puse"
   ]
  },
  {
   "cell_type": "code",
   "execution_count": 19,
   "metadata": {},
   "outputs": [],
   "source": [
    "import Pkg"
   ]
  },
  {
   "cell_type": "code",
   "execution_count": 20,
   "metadata": {},
   "outputs": [
    {
     "name": "stderr",
     "output_type": "stream",
     "text": [
      "\u001b[32m\u001b[1m  Activating\u001b[22m\u001b[39m project at `c:\\D\\Universidad Estudios\\Doutorado UFRJ\\Tesis\\Visual Studio Code\\2024\\InvariantMeasures2.jl\\src`\n",
      "\u001b[32m\u001b[1m   Resolving\u001b[22m\u001b[39m package versions...\n",
      "\u001b[32m\u001b[1m  No Changes\u001b[22m\u001b[39m to `C:\\D\\Universidad Estudios\\Doutorado UFRJ\\Tesis\\Visual Studio Code\\2024\\InvariantMeasures2.jl\\src\\Project.toml`\n",
      "\u001b[32m\u001b[1m  No Changes\u001b[22m\u001b[39m to `C:\\D\\Universidad Estudios\\Doutorado UFRJ\\Tesis\\Visual Studio Code\\2024\\InvariantMeasures2.jl\\src\\Manifest.toml`\n"
     ]
    }
   ],
   "source": [
    "Pkg.activate(\".\")\n",
    "Pkg.add(\"TaylorModels\")"
   ]
  },
  {
   "attachments": {},
   "cell_type": "markdown",
   "metadata": {},
   "source": [
    "We want to compute\n",
    "$$\n",
    "\\frac{1}{j\\pi}\\int_0^{j\\pi} \\frac{sin(t)}{t}dt\n",
    "$$\n",
    "for $j\\geq 1$ by using Taylor Models integration for $[\\pi, j\\pi]$.\n",
    "\n",
    "To make the computation more efficient, we will \n",
    "compute \n",
    "$$\n",
    "I_i = \\int_{i\\pi}^{(i+1)\\pi}\\frac{sin(t)}{t}dt\n",
    "$$"
   ]
  },
  {
   "cell_type": "code",
   "execution_count": 21,
   "metadata": {},
   "outputs": [
    {
     "data": {
      "text/plain": [
       "f (generic function with 1 method)"
      ]
     },
     "metadata": {},
     "output_type": "display_data"
    }
   ],
   "source": [
    "f(t) = sin(t) / t"
   ]
  },
  {
   "attachments": {},
   "cell_type": "markdown",
   "metadata": {},
   "source": [
    "The  power series for $f$ at $x=0$ is\n",
    "$$\n",
    "f(x) = \\sum_{i=0}^{+\\infty}(-1)^i\\frac{x^{2i}}{(2i+1)!}\n",
    "$$\n",
    "Then, the power series for the primitive is \n",
    "$$\n",
    "F(x) = \\sum_{i=0}^{+\\infty}(-1)^i\\frac{x^{2i+1}}{(2i+1)!(2i+1)}.\n",
    "$$\n",
    "We are going to use this Taylor series to approximate the integral only in the interval $[0, \\pi]$.\n",
    "\n",
    "We will bound the remainder of the series by using the alternating series remainder."
   ]
  },
  {
   "cell_type": "code",
   "execution_count": 22,
   "metadata": {},
   "outputs": [
    {
     "data": {
      "text/plain": [
       "coeff_eval_at_0 (generic function with 1 method)"
      ]
     },
     "metadata": {},
     "output_type": "display_data"
    }
   ],
   "source": [
    "function coeff_eval_at_0(i, x)\n",
    "    return x^(2i + 1) / (factorial(big(2i + 1)) * (2i + 1))\n",
    "end"
   ]
  },
  {
   "cell_type": "code",
   "execution_count": 23,
   "metadata": {},
   "outputs": [
    {
     "name": "stderr",
     "output_type": "stream",
     "text": [
      "┌ Info: [-1.16004e-4753, 1.16004e-4753]₂₅₆\n",
      "└ @ Main c:\\D\\Universidad Estudios\\Doutorado UFRJ\\Tesis\\Visual Studio Code\\2024\\InvariantMeasures2.jl\\src\\TaylorIntegration copy 25.ipynb:8\n"
     ]
    },
    {
     "data": {
      "text/plain": [
       "([1.85193, 1.85194]₂₅₆, 1.746233281840096703253120346658240793279655273689016096051792841668089262599443e-74)"
      ]
     },
     "metadata": {},
     "output_type": "display_data"
    }
   ],
   "source": [
    "using IntervalArithmetic                                #No usa aqui Taylor Model porque no existe su serie de taylor pues la serie de taylor lo hace sacando la derivada y evaluando a en nuestro caro a=0, pero nosotros tenemos sen(t)/t el cual al derivar siempre tendra dividido por t^n y no se va poder remprazar para t=0\n",
    "N = 1000\n",
    "\n",
    "Pi = @biginterval π                                     # @interval(1)=[1,1], @interval(0.1)=[0.1,0.100001], @interval(x)= um intervalo fechado pequeno que contega x, @interval(1,2)=[1,2],@biginterval(1,2)=[1,2]_256 creo que va aceptar por ejemplo un decimal hasta la cifra 256\n",
    "v = [(-1)^i * coeff_eval_at_0(i, Pi) for i in 0:N]        # como ja integro agora tem que valiar em \\pi e 0, em verdad seria em jπ, mas ta tomando no intervalo [0,π] de momento\n",
    "# i.e esta achando (-1)^{i}a_K, e os vota emcada coordenada de v, note que cada coordenadas é um intervalo pois Pi\n",
    "error = Interval(-1, 1) * abs(coeff_eval_at_0(N + 1, Pi))   # error=[-a_{K+1},a_{K+1}], esto se tiene de Alternating series estimation theorem\n",
    "@info error\n",
    "\n",
    "integral_with_error = sum(v) + error                      # aqui esta sumando os primeros (-1)a_K + error e vai me sair um inervalo\n",
    "integral_with_error, diam(integral_with_error)          # o diametri do intervalo que tem que ser muito pequeno"
   ]
  },
  {
   "attachments": {},
   "cell_type": "markdown",
   "metadata": {},
   "source": [
    "Therefore, we have computed $I_0$. We will now use \n",
    "Taylormodels to compute the value of the integrals\n",
    "$$\n",
    "\\int_{i\\pi}^{(i+1)\\pi}\\frac{sin(t)}{t}dt\n",
    "$$\n",
    "for $i>0$."
   ]
  },
  {
   "cell_type": "code",
   "execution_count": 24,
   "metadata": {},
   "outputs": [],
   "source": [
    "#import Pkg; Pkg.add(\"TaylorModels\")\n",
    "using TaylorModels"
   ]
  },
  {
   "cell_type": "code",
   "execution_count": 25,
   "metadata": {},
   "outputs": [
    {
     "data": {
      "text/plain": [
       "integrate_i_i_plus_1 (generic function with 1 method)"
      ]
     },
     "metadata": {},
     "output_type": "display_data"
    }
   ],
   "source": [
    "function integrate_i_i_plus_1(f, i; degree=40)            #aqui puede usar porque evalua las derivadas em m que es diferente de 0\n",
    "    I = (@interval i * π (i + 1) * π)                             #esto es el intervalo [i*π,(i+1)*π], i>0\n",
    "    m = Interval(IntervalArithmetic.mid(I))                                    #mid(I) ponto medio do intervalo I, Interval(mid(I))=un intervalo pequenho que contenga mid(I)\n",
    "    tm = TaylorModel1(degree, m, I)                         #ese m es el valor que será evaluada en la serie de Taylos i.e f(m)+f'(m)t/1!+...+f^{(400)}(m)t^{400}/400!+erro\n",
    "    prim = TaylorSeries.integrate(f(tm))                    #esto es la primitiva de f, al poner f(tm), recien esta diciendo quien va ser la función f para la cual voy hacer el polinomi de taylor i.e. para obtener la sumatoria que esta en la linea de arriba\n",
    "    return prim(I.hi - m) - prim(I.lo - m)                        #I.hi, I.lo parte superior e inferior do intervalo I respectivamente, como m é um intervalo, vai ficar o intevalo prim([I.hi-m1,I.hi-m2])-prim([I.lo-m1,I.lo-m2]) where denotamos m=[m1,m2]\n",
    "end"
   ]
  },
  {
   "attachments": {},
   "cell_type": "markdown",
   "metadata": {},
   "source": [
    "The vector `val` is containing at index $i$\n",
    "the value of the integral\n",
    "$$\n",
    "\\int_{i\\pi}^{(i+1)\\pi} \\frac{\\sin(t)}{t}dt\n",
    "$$"
   ]
  },
  {
   "cell_type": "code",
   "execution_count": 26,
   "metadata": {},
   "outputs": [
    {
     "data": {
      "text/plain": [
       "128-element Vector{Interval{BigFloat}}:\n",
       "  [1.85193, 1.85194]₂₅₆\n",
       " [-0.433786, -0.433785]₂₅₆\n",
       "  [0.25661, 0.256611]₂₅₆\n",
       " [-0.182601, -0.1826]₂₅₆\n",
       "  [0.141803, 0.141804]₂₅₆\n",
       " [-0.115931, -0.11593]₂₅₆\n",
       "  [0.0980515, 0.0980516]₂₅₆\n",
       " [-0.0849543, -0.0849542]₂₅₆\n",
       "  [0.0749456, 0.0749457]₂₅₆\n",
       " [-0.0670479, -0.0670478]₂₅₆\n",
       "   ⋮\n",
       " [-0.00532738, -0.00532737]₂₅₆\n",
       "  [0.00528316, 0.00528317]₂₅₆\n",
       " [-0.00523969, -0.00523968]₂₅₆\n",
       "  [0.00519691, 0.00519692]₂₅₆\n",
       " [-0.00515484, -0.00515483]₂₅₆\n",
       "  [0.00511342, 0.00511343]₂₅₆\n",
       " [-0.00507269, -0.00507268]₂₅₆\n",
       "  [0.00503258, 0.00503259]₂₅₆\n",
       " [-0.00499312, -0.00499311]₂₅₆"
      ]
     },
     "metadata": {},
     "output_type": "display_data"
    }
   ],
   "source": [
    "val = [integral_with_error; [integrate_i_i_plus_1(f, i) for i in 1:K-1]] #aqui junta I_0+el resultado de la integrales [π,2π],[2π,3π],...,[2000π,2001π], en un vector"
   ]
  },
  {
   "cell_type": "code",
   "execution_count": 27,
   "metadata": {},
   "outputs": [
    {
     "data": {
      "text/plain": [
       "1.609823385706476983614265918731689453125e-15"
      ]
     },
     "metadata": {},
     "output_type": "display_data"
    }
   ],
   "source": [
    "maximum(diam.(val))"
   ]
  },
  {
   "attachments": {},
   "cell_type": "markdown",
   "metadata": {},
   "source": [
    "The cumulative sum vector below contains at the $i$-th index the value of the integral\n",
    "$$\n",
    "\\int_0^{i\\pi}\\frac{\\sin(t)}{t}dt\n",
    "$$"
   ]
  },
  {
   "cell_type": "code",
   "execution_count": 28,
   "metadata": {},
   "outputs": [
    {
     "data": {
      "text/plain": [
       "128-element Vector{Interval{BigFloat}}:\n",
       " [1.85193, 1.85194]₂₅₆\n",
       " [1.41815, 1.41816]₂₅₆\n",
       " [1.67476, 1.67477]₂₅₆\n",
       " [1.49216, 1.49217]₂₅₆\n",
       " [1.63396, 1.63397]₂₅₆\n",
       " [1.51803, 1.51804]₂₅₆\n",
       " [1.61608, 1.61609]₂₅₆\n",
       " [1.53113, 1.53114]₂₅₆\n",
       " [1.60607, 1.60608]₂₅₆\n",
       " [1.53902, 1.53903]₂₅₆\n",
       "  ⋮\n",
       " [1.56814, 1.56815]₂₅₆\n",
       " [1.57342, 1.57343]₂₅₆\n",
       " [1.56818, 1.56819]₂₅₆\n",
       " [1.57338, 1.57339]₂₅₆\n",
       " [1.56822, 1.56823]₂₅₆\n",
       " [1.57334, 1.57335]₂₅₆\n",
       " [1.56827, 1.56828]₂₅₆\n",
       " [1.5733, 1.57331]₂₅₆\n",
       " [1.5683, 1.56831]₂₅₆"
      ]
     },
     "metadata": {},
     "output_type": "display_data"
    }
   ],
   "source": [
    "cum_sum = cumsum(val)               #cumsum en cada coornenada suma lo anterior y lo pone ahí ejemplo v=(v_1,v_2,v_3,v_4)=(v_1,v_1+v_2,v_1+v_2+v_3,v_1+v_2+v_3+v_4)"
   ]
  },
  {
   "attachments": {},
   "cell_type": "markdown",
   "metadata": {},
   "source": [
    "The vector `coeff` contains at the index $i$ the value of\n",
    "$$\n",
    "\\frac{1}{i\\pi}\\int_0^{i\\pi} \\frac{\\sin(t)}{t}dt.\n",
    "$$"
   ]
  },
  {
   "cell_type": "code",
   "execution_count": 29,
   "metadata": {},
   "outputs": [
    {
     "data": {
      "text/plain": [
       "128-element Vector{Interval{BigFloat}}:\n",
       " [0.589489, 0.58949]₂₅₆\n",
       " [0.225705, 0.225706]₂₅₆\n",
       " [0.177697, 0.177698]₂₅₆\n",
       " [0.118742, 0.118743]₂₅₆\n",
       " [0.104021, 0.104022]₂₅₆\n",
       " [0.0805342, 0.0805343]₂₅₆\n",
       " [0.0734879, 0.073488]₂₅₆\n",
       " [0.0609217, 0.0609218]₂₅₆\n",
       " [0.0568033, 0.0568034]₂₅₆\n",
       " [0.0489888, 0.0489889]₂₅₆\n",
       "  ⋮\n",
       " [0.00415963, 0.00415964]₂₅₆\n",
       " [0.00413915, 0.00413916]₂₅₆\n",
       " [0.00409155, 0.00409156]₂₅₆\n",
       " [0.00407173, 0.00407174]₂₅₆\n",
       " [0.00402566, 0.00402567]₂₅₆\n",
       " [0.00400648, 0.00400649]₂₅₆\n",
       " [0.00396187, 0.00396188]₂₅₆\n",
       " [0.00394328, 0.00394329]₂₅₆\n",
       " [0.00390006, 0.00390007]₂₅₆"
      ]
     },
     "metadata": {},
     "output_type": "display_data"
    }
   ],
   "source": [
    "coeff = cum_sum ./ ([i * @interval π for i in 1:K])         #aqui solo le esta dividiendo por iπ a cada integral"
   ]
  },
  {
   "attachments": {},
   "cell_type": "markdown",
   "metadata": {},
   "source": [
    "I want\n",
    "\\begin{align*}\n",
    "\\mathcal{F}(ln|T'_{\\alpha,\\beta}|)[0]&=\\ln ((1+\\beta)\\alpha)-(\\alpha-1)\\\\\n",
    "\\mathcal{F}(ln|T'_{\\alpha,\\beta}|)[j]&=-\\frac{(\\alpha-1)}{j\\pi}\\int_{0}^{1}\\frac{1}{x}sen(j\\pi x)dx\\\\\n",
    "&=-\\frac{(\\alpha-1)}{j\\pi}\\int _{0}^{j\\pi}\\frac{sen(x)}{x}dx.\n",
    "\\end{align*}\n",
    "then"
   ]
  },
  {
   "attachments": {},
   "cell_type": "markdown",
   "metadata": {},
   "source": [
    "We would like to have a nonrigorous, visual check that everything worked fine."
   ]
  },
  {
   "cell_type": "code",
   "execution_count": 30,
   "metadata": {},
   "outputs": [
    {
     "name": "stderr",
     "output_type": "stream",
     "text": [
      "\u001b[32m\u001b[1m   Resolving\u001b[22m\u001b[39m package versions...\n",
      "\u001b[32m\u001b[1m  No Changes\u001b[22m\u001b[39m to `C:\\D\\Universidad Estudios\\Doutorado UFRJ\\Tesis\\Visual Studio Code\\2024\\InvariantMeasures2.jl\\src\\Project.toml`\n",
      "\u001b[32m\u001b[1m  No Changes\u001b[22m\u001b[39m to `C:\\D\\Universidad Estudios\\Doutorado UFRJ\\Tesis\\Visual Studio Code\\2024\\InvariantMeasures2.jl\\src\\Manifest.toml`\n"
     ]
    }
   ],
   "source": [
    "Pkg.add(\"FFTW\")\n",
    "using FFTW"
   ]
  },
  {
   "cell_type": "code",
   "execution_count": 31,
   "metadata": {},
   "outputs": [
    {
     "data": {
      "text/plain": [
       "128-element Vector{Float64}:\n",
       " 0.5894898722360836\n",
       " 0.22570583339507017\n",
       " 0.17769774587275733\n",
       " 0.11874241747091377\n",
       " 0.1040214328382617\n",
       " 0.08053420291629118\n",
       " 0.0734879995890436\n",
       " 0.060921778132227496\n",
       " 0.05680335029299971\n",
       " 0.04898881711538786\n",
       " ⋮\n",
       " 0.004159630572365845\n",
       " 0.004139151682357624\n",
       " 0.004091553359023817\n",
       " 0.004071737710795494\n",
       " 0.004025668584259727\n",
       " 0.0040064844716607255\n",
       " 0.003961872014961531\n",
       " 0.003943289721046186\n",
       " 0.003900065922206808"
      ]
     },
     "metadata": {},
     "output_type": "display_data"
    }
   ],
   "source": [
    "coeff_float = Float64.(IntervalArithmetic.mid.(coeff), RoundNearest)"
   ]
  },
  {
   "attachments": {},
   "cell_type": "markdown",
   "metadata": {},
   "source": [
    "These are only the positive frequencies, so, we need to \n",
    "think about how to complete the vectore before taking the IFFT. Please check if it is right. "
   ]
  },
  {
   "cell_type": "code",
   "execution_count": 32,
   "metadata": {},
   "outputs": [
    {
     "data": {
      "text/plain": [
       "256-element Vector{Interval{BigFloat}}:\n",
       " [0.589489, 0.58949]₂₅₆\n",
       " [0.225705, 0.225706]₂₅₆\n",
       " [0.177697, 0.177698]₂₅₆\n",
       " [0.118742, 0.118743]₂₅₆\n",
       " [0.104021, 0.104022]₂₅₆\n",
       " [0.0805342, 0.0805343]₂₅₆\n",
       " [0.0734879, 0.073488]₂₅₆\n",
       " [0.0609217, 0.0609218]₂₅₆\n",
       " [0.0568033, 0.0568034]₂₅₆\n",
       " [0.0489888, 0.0489889]₂₅₆\n",
       "  ⋮\n",
       " [0.0568033, 0.0568034]₂₅₆\n",
       " [0.0609217, 0.0609218]₂₅₆\n",
       " [0.0734879, 0.073488]₂₅₆\n",
       " [0.0805342, 0.0805343]₂₅₆\n",
       " [0.104021, 0.104022]₂₅₆\n",
       " [0.118742, 0.118743]₂₅₆\n",
       " [0.177697, 0.177698]₂₅₆\n",
       " [0.225705, 0.225706]₂₅₆\n",
       " [0.589489, 0.58949]₂₅₆"
      ]
     },
     "metadata": {},
     "output_type": "display_data"
    }
   ],
   "source": [
    "coeff_fft = [coeff; reverse(coeff[1:end])] #hallamos la mitad, ahora como es simetrico tamos escribiendo la otra mitad que falta ussando lo que ya tenemos"
   ]
  },
  {
   "cell_type": "code",
   "execution_count": 33,
   "metadata": {},
   "outputs": [
    {
     "data": {
      "text/plain": [
       "257-element Vector{Interval{BigFloat}}:\n",
       " [-0.55409, -0.554089]₂₅₆\n",
       " [-1.47373, -1.47372]₂₅₆\n",
       " [-0.564265, -0.564264]₂₅₆\n",
       " [-0.444245, -0.444244]₂₅₆\n",
       " [-0.296857, -0.296856]₂₅₆\n",
       " [-0.260054, -0.260053]₂₅₆\n",
       " [-0.201336, -0.201335]₂₅₆\n",
       " [-0.18372, -0.183719]₂₅₆\n",
       " [-0.152305, -0.152304]₂₅₆\n",
       " [-0.142009, -0.142008]₂₅₆\n",
       "   ⋮\n",
       " [-0.142009, -0.142008]₂₅₆\n",
       " [-0.152305, -0.152304]₂₅₆\n",
       " [-0.18372, -0.183719]₂₅₆\n",
       " [-0.201336, -0.201335]₂₅₆\n",
       " [-0.260054, -0.260053]₂₅₆\n",
       " [-0.296857, -0.296856]₂₅₆\n",
       " [-0.444245, -0.444244]₂₅₆\n",
       " [-0.564265, -0.564264]₂₅₆\n",
       " [-1.47373, -1.47372]₂₅₆"
      ]
     },
     "metadata": {},
     "output_type": "display_data"
    }
   ],
   "source": [
    "ln = [log((1 + β) * α) - (α - 1); -(α - 1) * coeff_fft]  #lo junte con j=0 y ademas faltava multiplicar los otros por -(α-1)"
   ]
  },
  {
   "cell_type": "code",
   "execution_count": 34,
   "metadata": {},
   "outputs": [
    {
     "data": {
      "text/plain": [
       "257-element Vector{Interval}:\n",
       " [-0.55409, -0.554089]₂₅₆\n",
       "  [1.47372, 1.47373]₂₅₆\n",
       " [-0.564265, -0.564264]₂₅₆\n",
       "  [0.444244, 0.444245]₂₅₆\n",
       " [-0.296857, -0.296856]₂₅₆\n",
       "  [0.260053, 0.260054]₂₅₆\n",
       " [-0.201336, -0.201335]₂₅₆\n",
       "  [0.183719, 0.18372]₂₅₆\n",
       " [-0.152305, -0.152304]₂₅₆\n",
       "  [0.142008, 0.142009]₂₅₆\n",
       "   ⋮\n",
       "  [0.142008, 0.142009]₂₅₆\n",
       " [-0.152305, -0.152304]₂₅₆\n",
       "  [0.183719, 0.18372]₂₅₆\n",
       " [-0.201336, -0.201335]₂₅₆\n",
       "  [0.260053, 0.260054]₂₅₆\n",
       " [-0.296857, -0.296856]₂₅₆\n",
       "  [0.444244, 0.444245]₂₅₆\n",
       " [-0.564265, -0.564264]₂₅₆\n",
       "  [1.47372, 1.47373]₂₅₆"
      ]
     },
     "metadata": {},
     "output_type": "display_data"
    }
   ],
   "source": [
    "lnn = zeros(Interval, 257) #2*K+1\n",
    "lnn[1] = ln[1]\n",
    "for i in 2:129\n",
    "    lnn[i] = (-1)^(i + 1) * ln[i]\n",
    "end\n",
    "for i in 130:257\n",
    "    lnn[i] = (-1)^(i) * ln[i]\n",
    "end\n",
    "lnn"
   ]
  },
  {
   "attachments": {},
   "cell_type": "markdown",
   "metadata": {},
   "source": [
    "\\begin{align*}\n",
    "ln=(\\mathcal{F}(\\ln|T'_{\\alpha,\\beta}|)[0],\\mathcal{F}(\\ln|T'_{\\alpha,\\beta}|)[1],\\ldots,\\mathcal{F}(\\ln|T'_{\\alpha,\\beta}|)[K],\\mathcal{F}(\\ln|T'_{\\alpha,\\beta}|)[-K],\\ldots,\\mathcal{F}(\\ln|T'_{\\alpha,\\beta}|)[-1])\n",
    "\\end{align*}"
   ]
  },
  {
   "attachments": {},
   "cell_type": "markdown",
   "metadata": {},
   "source": [
    "Finally\n",
    "\\begin{align*}\n",
    "\\lambda (\\alpha,\\beta,\\sigma,k)=\\displaystyle \\sum_{j=-k}^{k}\\mathcal{F}(\\ln|T'_{\\alpha,\\beta}|)[j]\\mathcal{F}(f_{\\sigma,k})[j].\n",
    "\\end{align*}\n"
   ]
  },
  {
   "cell_type": "code",
   "execution_count": 35,
   "metadata": {},
   "outputs": [
    {
     "data": {
      "text/plain": [
       "[0.196215, 0.196216]₂₅₆ + [-1.35729e-16, 1.35729e-16]₂₅₆im"
      ]
     },
     "metadata": {},
     "output_type": "display_data"
    }
   ],
   "source": [
    "λ_k = 0 + im * 0\n",
    "for i in 1:2*K+1\n",
    "    λ_k = lnn[i] * fσKs[i] + λ_k\n",
    "end\n",
    "λ_k   #esto creo que deberia salir un intervalo, tengo que modificar"
   ]
  },
  {
   "attachments": {},
   "cell_type": "markdown",
   "metadata": {},
   "source": [
    "This looks like the periodic extension of $-\\log(x)$ as we expected."
   ]
  },
  {
   "attachments": {},
   "cell_type": "markdown",
   "metadata": {},
   "source": [
    "Now to limit $\\|f_{\\sigma}-f_{\\sigma,k,s}\\|$ we use the following result\n",
    "\n",
    "Let $f_{\\sigma}$ be the unique fixed point of $L_{\\sigma}$ and $f_{\\sigma,k}$ be the unique fixed point of $L_{\\sigma,k}$ and $f_{\\sigma,k,s}$ symmetrization of $f_{k,s}$. Suppose that there exists $n \\in \\mathbb{N}$ and $\\eta>0$ such that \n",
    "\\begin{align*}\n",
    "\\|L_{\\sigma,k }^{n}|_{V}\\|_{L^{2}\\rightarrow L^{2}}\\leq \\eta <1,\t\n",
    "\\end{align*}\n",
    "where $V$ be the zero average subspace of $L^{2}$, then if $1\\leq C_i $ are such that $\\|L^i_{\\sigma,k}|_V\\|_{L^{2}\\rightarrow L^{2}}\\leq C_i$ for $1\\leq i \\leq n-1$, we have\n",
    "\\begin{align*}\n",
    "\\|f_{\\sigma}-f_{\\sigma,k,s}\\|_{L^{2}}\\leq \\frac{1}{1-\\eta}\\displaystyle \\sum _{i=0}^{n-1}C_i((1+\\Gamma_{\\sigma,k}+\\|\\rho_{\\sigma}\\|_{L^{2}})\\Gamma_{\\sigma,k}\\|f_{\\sigma}\\|_{L^1}+\\epsilon).\n",
    "\\end{align*}"
   ]
  },
  {
   "cell_type": "markdown",
   "metadata": {},
   "source": [
    "$\\epsilon$"
   ]
  },
  {
   "cell_type": "code",
   "execution_count": 36,
   "metadata": {},
   "outputs": [],
   "source": [
    "#vou achar o epsilon do teorema 3.4, note que ϵ tem que sair pequeno porque mi ponto é casi o ponto fixo\n",
    "#ϵ=norm(A*fσKs -fσKs) #como sé que fσKs no es exactamento o ponto fixo de A, tomo com o ϵ esa diferencia\n",
    "#ϵ=h.sqrt((PσK*fσKs -fσKs)*(PσK*fσKs -fσKs)) \n",
    "#observa que es PσK e no A, estou multiplicando una matriz de intervalos con un vetor complexo fσKs y despues resto fσKs y me va salir un vetor de invarvalos y saco la norma de eso que es lo que dice arriba"
   ]
  },
  {
   "cell_type": "markdown",
   "metadata": {},
   "source": [
    "$\\Gamma$"
   ]
  },
  {
   "cell_type": "code",
   "execution_count": 37,
   "metadata": {},
   "outputs": [
    {
     "data": {
      "text/plain": [
       "2.92420211846059055203973220654264785884019158383471494858639948160770075597898e-351"
      ]
     },
     "metadata": {},
     "output_type": "display_data"
    }
   ],
   "source": [
    "σ = interva(σ)\n",
    "Γ = ((1 / (sqrt(σ^2 * 2 * π)))exp((-σ^2 * K^2 * π^2) / 2))   #para σ=0,1 e K=128, Γ=3.03*10^(-702)"
   ]
  },
  {
   "cell_type": "code",
   "execution_count": 38,
   "metadata": {},
   "outputs": [
    {
     "data": {
      "text/plain": [
       "(0.9192775043173673, [1.1899603133947598, 0.0, 0.0, 0.0, 0.0, 0.0, 0.0, 0.0, 0.0, 0.0])"
      ]
     },
     "metadata": {},
     "output_type": "display_data"
    }
   ],
   "source": [
    "A = PσK[2:end, 2:end]\n",
    "\n",
    "Aiter = A\n",
    "\n",
    "C = zeros(10)\n",
    "η = 0\n",
    "n_0 = 0\n",
    "for n in 1:10\n",
    "    θ = BallArithmetic.svd_bound_L2_opnorm(Aiter)\n",
    "    if θ > 1\n",
    "        C[n] = θ\n",
    "    else\n",
    "        global η = θ\n",
    "        global n_1 = n                                    #usso n_1 porque mas adelante usso n_0\n",
    "        break                                           #para que pare y no siga corriendo n, sino el η me va salir más chico\n",
    "    end\n",
    "    Aiter *= A \n",
    "end\n",
    "η, C"
   ]
  },
  {
   "cell_type": "code",
   "execution_count": 40,
   "metadata": {},
   "outputs": [],
   "source": [
    "#ρ=zeros(2*K+1)\n",
    "#ρ[1]=1\n",
    "#for i in 2:K+1\n",
    "#    ρ[i]=exp((-σ^2*(i-1)^2*π^2)/2)\n",
    "#end\n",
    "#for i in 1:K\n",
    "#    ρ[i+1+K]=exp((-σ^2*(-K-1+i)^2*π^2)/2)\n",
    "#end\n",
    "#ρn=norm(ρ)"
   ]
  },
  {
   "cell_type": "code",
   "execution_count": 41,
   "metadata": {},
   "outputs": [
    {
     "data": {
      "text/plain": [
       "1.997353950609237050241104791889639739132279195363824871650881996298477616709035"
      ]
     },
     "metadata": {},
     "output_type": "display_data"
    }
   ],
   "source": [
    "ρ1 = 1 / (sqrt(σ^2 * 2 * π))\n",
    "ρn = sqrt(ρ1)\n"
   ]
  },
  {
   "cell_type": "code",
   "execution_count": 42,
   "metadata": {},
   "outputs": [
    {
     "data": {
      "text/plain": [
       "5.884455372866391431906258235201521486002615446602753011080866499766224812879056e-12"
      ]
     },
     "metadata": {},
     "output_type": "display_data"
    }
   ],
   "source": [
    "#ya tenho ϵ, os C_i, η,h, n_1 é dizer ate onde vai asumatoria, |u|=1, e usei PK o operador de tranferencia finito, pero creo que tiene que ser el operador de transferencia infinito, só me falta K\n",
    "R_1 = 0                                             #ja tenho todos os valos que preciso ahora só resta fazer a sumatoria\n",
    "for i in 1:n_1-1\n",
    "    global R_1 = R_1 + C[i] * ((1 + Γ + ρn)Γ + ϵ)\n",
    "end\n",
    "R_1 = (1 / (1 - η)) * R_1"
   ]
  },
  {
   "cell_type": "code",
   "execution_count": 43,
   "metadata": {},
   "outputs": [
    {
     "data": {
      "text/plain": [
       "[0.196215, 0.196216]₂₅₆ + [-2.09615e-11, 2.09615e-11]₂₅₆im"
      ]
     },
     "metadata": {},
     "output_type": "display_data"
    }
   ],
   "source": [
    "#el intervalo donde estaria λ seria\n",
    "@biginterval(real.(λ_k) - Υ * R_1, real.(λ_k) + Υ * R_1) + im * @biginterval(imag.(λ_k) - Υ * R_1, imag.(λ_k) + Υ * R_1)"
   ]
  },
  {
   "cell_type": "code",
   "execution_count": 39,
   "metadata": {},
   "outputs": [
    {
     "ename": "LoadError",
     "evalue": "LoadError: UndefVarError: `@biginterval` not defined\nin expression starting at /home/isaia/Dropbox/Lavoro/Students/Charles_Julia/TaylorIntegration copy 24.ipynb:1",
     "output_type": "error",
     "traceback": [
      "LoadError: UndefVarError: `@biginterval` not defined\n",
      "in expression starting at /home/isaia/Dropbox/Lavoro/Students/Charles_Julia/TaylorIntegration copy 24.ipynb:1\n"
     ]
    }
   ],
   "source": [
    "@biginterval(real.(λ_k) - Υ * R_1, real.(λ_k) + Υ * R_1)"
   ]
  },
  {
   "cell_type": "code",
   "execution_count": 40,
   "metadata": {},
   "outputs": [
    {
     "name": "stdout",
     "output_type": "stream",
     "text": [
      "Generating forwards to /home/isaia/.julia/artifacts/7e6d3d1a151a3d510c0e5a4c8f2c792f53e39777/lib/libopenblas64_.so (clear: 0, verbose: 1, suffix_hint: '(null)')\n",
      " -> Autodetected symbol suffix \"64_\"\n",
      " -> Autodetected interface ILP64 (64-bit)\n",
      " -> Autodetected normal complex return style\n",
      " -> Autodetected gfortran calling convention\n",
      " -> CBLAS detected\n",
      "Processed 4949 symbols; forwarded 4860 symbols with 64-bit interface and mangling to a suffix of \"64_\"\n"
     ]
    },
    {
     "name": "stderr",
     "output_type": "stream",
     "text": [
      "┌ Info: Switching to OpenBLAS with ConsistentFPCSR = 1 flag enabled, guarantees\n",
      "│         correct floating point rounding mode over all threads.\n",
      "└ @ BallArithmetic /home/isaia/.julia/packages/BallArithmetic/aiclr/src/BallArithmetic.jl:20\n",
      "┌ Info: OpenBLAS is giving correct rounding on a (1024,1024) test matrix on 6 threads\n",
      "└ @ BallArithmetic /home/isaia/.julia/packages/BallArithmetic/aiclr/src/BallArithmetic.jl:27\n"
     ]
    }
   ],
   "source": [
    "using BallArithmetic"
   ]
  },
  {
   "cell_type": "code",
   "execution_count": 41,
   "metadata": {},
   "outputs": [
    {
     "ename": "UndefVarError",
     "evalue": "UndefVarError: `IntervalArithmetic` not defined",
     "output_type": "error",
     "traceback": [
      "UndefVarError: `IntervalArithmetic` not defined\n",
      "\n",
      "Stacktrace:\n",
      " [1] top-level scope\n",
      "   @ ~/Dropbox/Lavoro/Students/Charles_Julia/TaylorIntegration copy 24.ipynb:7"
     ]
    }
   ],
   "source": [
    "# tengo la matriz de intervalos PσK, ahora tengo q crear una matriz de bolas de esa matriz\n",
    "#Calculo primero el punto medio de la matriz com hice antes que era mi A \n",
    "#A = IntervalArithmetic.mid.(real.(Q.L)) + im * IntervalArithmetic.mid.(imag.(Q.L)) esto hizo ultimo\n",
    "#A=Float64.(mid.(real.(PσK)), RoundNearest)+im*Float64.(mid.(imag.(PσK)), RoundNearest) #este era el antarior\n",
    "#luego necesito el radio\n",
    "#rA = [sqrt(radius(real(x))^2 + radius(imag(x))^2) for x in Q.L]\n",
    "cA = IntervalArithmetic.mid.(real.(PσK)) + im * IntervalArithmetic.mid.(imag.(PσK))\n",
    "rA = [sqrt(radius(real(x))^2 + radius(imag(x))^2) for x in PσK]\n",
    "#ahora crea la bola\n",
    "bA = BallMatrix(cA, rA)\n",
    "#ahora si halla la matriz de la bola\n",
    "upper_bound_L2_opnorm(bA)\n",
    "# de esa va hallar los c_i pues como contiene la otra los c_i que obtengan van a valer"
   ]
  },
  {
   "cell_type": "code",
   "execution_count": 42,
   "metadata": {},
   "outputs": [
    {
     "ename": "UndefVarError",
     "evalue": "UndefVarError: `bA` not defined",
     "output_type": "error",
     "traceback": [
      "UndefVarError: `bA` not defined\n",
      "\n",
      "Stacktrace:\n",
      " [1] top-level scope\n",
      "   @ ~/Dropbox/Lavoro/Students/Charles_Julia/TaylorIntegration copy 24.ipynb:5"
     ]
    }
   ],
   "source": [
    "#Agora vamos calcular quanto é |fσ-fσk| ussando o lema 0.30 do relatorio\n",
    "#tenemos que hacer esto para la Bola de intervalos base\n",
    "\n",
    "#A = mid.(real.(PσK))+im*mid.(imag(PσK))\t        #PσK é uma matriz de intervalos agora é matriz de numeros complexos\n",
    "bA = bA[2:end, 2:end]                    #quitar la primera columna y primera fila, falta ser definido\n",
    "using LinearAlgebra\n",
    "C = zeros(10)\n",
    "η = 0\n",
    "n_0 = 0\n",
    "for n in 1:10\n",
    "    upper_bound_L2_opnorm(bA^n)\n",
    "    if upper_bound_L2_opnorm(bA^n, 2) > 1\n",
    "        C[n] = upper_bound_L2_opnorm(bA^n, 2)\n",
    "    else\n",
    "        global η = upper_bound_L2_opnorm(A^n, 2)\n",
    "        global n_1 = n                                    #usso n_1 porque mas adelante usso n_0\n",
    "        break                                           #para que pare y no siga corriendo n, sino el η me va salir más chico\n",
    "    end\n",
    "end\n",
    "η"
   ]
  },
  {
   "cell_type": "code",
   "execution_count": 43,
   "metadata": {},
   "outputs": [
    {
     "ename": "UndefVarError",
     "evalue": "UndefVarError: `PσK` not defined",
     "output_type": "error",
     "traceback": [
      "UndefVarError: `PσK` not defined\n",
      "\n",
      "Stacktrace:\n",
      " [1] top-level scope\n",
      "   @ ~/Dropbox/Lavoro/Students/Charles_Julia/TaylorIntegration copy 24.ipynb:2"
     ]
    }
   ],
   "source": [
    "#aqui estaba intetando una forma e retirar la primera fila e columna de bA\n",
    "PσK = PσK[2:end, 2:end]\n",
    "cA = IntervalArithmetic.mid.(real.(PσK)) + im * IntervalArithmetic.mid.(imag.(PσK))\n",
    "rA = [sqrt(radius(real(x))^2 + radius(imag(x))^2) for x in PσK]\n",
    "\n",
    "bA = BallMatrix(cA, rA)\n",
    "#ahora si halla la matriz de la bola\n",
    "upper_bound_L2_opnorm(bA)\n",
    "# de esa va hallar los c_i pues como contiene la otra los c_i que obtengan van a valer"
   ]
  },
  {
   "cell_type": "code",
   "execution_count": 44,
   "metadata": {},
   "outputs": [
    {
     "ename": "UndefVarError",
     "evalue": "UndefVarError: `bA` not defined",
     "output_type": "error",
     "traceback": [
      "UndefVarError: `bA` not defined\n",
      "\n",
      "Stacktrace:\n",
      " [1] top-level scope\n",
      "   @ ~/Dropbox/Lavoro/Students/Charles_Julia/TaylorIntegration copy 24.ipynb:12"
     ]
    }
   ],
   "source": [
    "#Agora vamos calcular quanto é |fσ-fσk| ussando o lema 0.30 do relatorio\n",
    "\n",
    "#A = mid.(real.(PσK))+im*mid.(imag(PσK))\t        #PσK é uma matriz de intervalos agora é matriz de numeros complexos\n",
    "#cA=cA[2:end,2:end]\t\n",
    "#rA=rA[2:end,2:end]\t\n",
    "#bA=BallMatrix(cA, rA)\t\t                    #como no sale tengo que tirar la primera fila y columna de la matriz de radios y de matriz de centros\n",
    "using LinearAlgebra\n",
    "C = zeros(10)\n",
    "η = 0\n",
    "n_0 = 0\n",
    "for n in 1:10\n",
    "    upper_bound_L2_opnorm(bA^n)\n",
    "    if upper_bound_L2_opnorm(bA^n, 2) > 1\n",
    "        C[n] = upper_bound_L2_opnorm(bA^n, 2)\n",
    "    else\n",
    "        global η = upper_bound_L2_opnorm(bA^n, 2)\n",
    "        global n_1 = n                                    #usso n_1 porque mas adelante usso n_0\n",
    "        break                                           #para que pare y no siga corriendo n, sino el η me va salir más chico\n",
    "    end\n",
    "end\n",
    "η"
   ]
  },
  {
   "cell_type": "code",
   "execution_count": 45,
   "metadata": {},
   "outputs": [
    {
     "ename": "UndefVarError",
     "evalue": "UndefVarError: `bA` not defined",
     "output_type": "error",
     "traceback": [
      "UndefVarError: `bA` not defined\n",
      "\n",
      "Stacktrace:\n",
      " [1] top-level scope\n",
      "   @ ~/Dropbox/Lavoro/Students/Charles_Julia/TaylorIntegration copy 24.ipynb:1"
     ]
    }
   ],
   "source": [
    "ϵ = sqrt((bA * fσKs - fσKs) * (bA * fσKs - fσKs)).hi  #esto tambien no sale porque falta definir la producto de una bola de matrizes por un vector\n",
    "#ejemplo using IntervalArithmetic\n",
    "#x=@interval 0.1\n",
    "#x.lo es la parte inferior del intervalo\n",
    "#x.hi es la parte superior del intervalo"
   ]
  },
  {
   "cell_type": "code",
   "execution_count": 46,
   "metadata": {},
   "outputs": [
    {
     "ename": "UndefVarError",
     "evalue": "UndefVarError: `n_1` not defined",
     "output_type": "error",
     "traceback": [
      "UndefVarError: `n_1` not defined\n",
      "\n",
      "Stacktrace:\n",
      " [1] top-level scope\n",
      "   @ ~/Dropbox/Lavoro/Students/Charles_Julia/TaylorIntegration copy 24.ipynb:3"
     ]
    }
   ],
   "source": [
    "#ya tenho ϵ, os C_i, η,h, n_1 é dizer ate onde vai asumatoria, |u|=1, e usei PK o operador de tranferencia finito, pero creo que tiene que ser el operador de transferencia infinito, só me falta K\n",
    "R_1 = 0                                             #ja tenho todos os valos que preciso ahora só resta fazer a sumatoria\n",
    "for i in 1:n_1-1\n",
    "    global R_1 = R_1 + C[i] * ((1 + Γ + ρn)Γ + ϵ)\n",
    "end\n",
    "R_1 = (1 / (1 - η)) * R_1"
   ]
  },
  {
   "cell_type": "code",
   "execution_count": 47,
   "metadata": {},
   "outputs": [],
   "source": []
  },
  {
   "cell_type": "code",
   "execution_count": 48,
   "metadata": {},
   "outputs": [],
   "source": []
  },
  {
   "cell_type": "code",
   "execution_count": 49,
   "metadata": {},
   "outputs": [],
   "source": []
  },
  {
   "cell_type": "code",
   "execution_count": 50,
   "metadata": {},
   "outputs": [],
   "source": []
  }
 ],
 "metadata": {
  "kernelspec": {
   "display_name": "Julia 1.10.2",
   "language": "julia",
   "name": "julia-1.10"
  },
  "language_info": {
   "file_extension": ".jl",
   "mimetype": "application/julia",
   "name": "julia",
   "version": "1.10.2"
  },
  "orig_nbformat": 4,
  "vscode": {
   "interpreter": {
    "hash": "916dbcbb3f70747c44a77c7bcd40155683ae19c65e1c03b4aa3499c5328201f1"
   }
  }
 },
 "nbformat": 4,
 "nbformat_minor": 2
}
